{
 "cells": [
  {
   "cell_type": "markdown",
   "metadata": {
    "id": "mjuppesVBFPJ"
   },
   "source": [
    "# Запрос страниц из интернета, поиск по странице\n",
    "1. Запросим главную страницу сайта\n",
    "2. Извлечём список ссылок\n",
    "3. Пройдём по всем страницам, вычислим их длину\n",
    "4. На основе этих данных попробуем узнать, кто был главным героем книг о \"Гарри Поттере\"\n",
    "\n",
    "Попробуем запросить из интернета главную страницу нашего учебного сайта с помощью модуля ``requests``:"
   ]
  },
  {
   "cell_type": "code",
   "execution_count": 1,
   "metadata": {
    "colab": {
     "base_uri": "https://localhost:8080/",
     "height": 34
    },
    "executionInfo": {
     "elapsed": 2025,
     "status": "ok",
     "timestamp": 1602498154552,
     "user": {
      "displayName": "Tatiana Rogovich",
      "photoUrl": "https://lh3.googleusercontent.com/a-/AOh14Gjj1YqMwkiGsMOcK4XoZPpJp6kCbYZ6EqgvdL3EXA=s64",
      "userId": "08185984249235601298"
     },
     "user_tz": -180
    },
    "id": "WnLKQMQHDlln",
    "outputId": "b1eec8dc-3f41-438f-ce4f-cf95489976b3"
   },
   "outputs": [
    {
     "name": "stdout",
     "output_type": "stream",
     "text": [
      "<Response [200]>\n"
     ]
    }
   ],
   "source": [
    "import requests   # Импортируем модуль requests\n",
    "\n",
    "# С помощью функции get из модуля requests запросим страницу сайта и сохраним результат в переменную site\n",
    "site = requests.get('https://online.hse.ru/python-as-foreign/1/')  \n",
    "\n",
    "print(site)"
   ]
  },
  {
   "cell_type": "markdown",
   "metadata": {
    "id": "f14AzzFzBVzt"
   },
   "source": [
    "Число 200 означает, что компьютер \"успешно нашел и получил из интернета страницу\". Посмотрим, что будет, если запросить несуществующую страницу:"
   ]
  },
  {
   "cell_type": "code",
   "execution_count": 2,
   "metadata": {
    "colab": {
     "base_uri": "https://localhost:8080/",
     "height": 34
    },
    "executionInfo": {
     "elapsed": 3146,
     "status": "ok",
     "timestamp": 1602439959183,
     "user": {
      "displayName": "Tatiana Rogovich",
      "photoUrl": "https://lh3.googleusercontent.com/a-/AOh14Gjj1YqMwkiGsMOcK4XoZPpJp6kCbYZ6EqgvdL3EXA=s64",
      "userId": "08185984249235601298"
     },
     "user_tz": -180
    },
    "id": "w2Lnb6f9sIlc",
    "outputId": "bee2c712-b97b-43ff-ee40-6a9220520352"
   },
   "outputs": [
    {
     "name": "stdout",
     "output_type": "stream",
     "text": [
      "<Response [404]>\n"
     ]
    }
   ],
   "source": [
    "print(requests.get('https://online.hse.ru/python-as-foreign/1/11.html'))"
   ]
  },
  {
   "cell_type": "markdown",
   "metadata": {
    "id": "HzkQNA_XsNTk"
   },
   "source": [
    "Число 404 означает, что \"страницу найти не удалось\". Вы могли видеть это число и сами во время попытки посмотреть на несуществующую страницу. Мы можем узнать, получилось ли найти страницу, обратившись к переменной `site.status_code`"
   ]
  },
  {
   "cell_type": "code",
   "execution_count": 3,
   "metadata": {
    "colab": {
     "base_uri": "https://localhost:8080/"
    },
    "executionInfo": {
     "elapsed": 1495,
     "status": "ok",
     "timestamp": 1602063391282,
     "user": {
      "displayName": "Дмитрий Широков",
      "photoUrl": "https://lh3.googleusercontent.com/a-/AOh14Gj5ZAs-5dMegnzmhLzTxoLXJmKnF6n7i3ZxETt9Vw=s64",
      "userId": "13642431705883450455"
     },
     "user_tz": -180
    },
    "id": "3xvbHmFKXeNy",
    "outputId": "abe863a0-40d8-48ce-a807-5017d785fb8d"
   },
   "outputs": [
    {
     "name": "stdout",
     "output_type": "stream",
     "text": [
      "200\n"
     ]
    }
   ],
   "source": [
    "print(site.status_code)"
   ]
  },
  {
   "cell_type": "markdown",
   "metadata": {
    "id": "UFeeMSCdXjyl"
   },
   "source": [
    "Чтобы получить текст html-кода страницы, нужно обратиться к переменной `site.text`"
   ]
  },
  {
   "cell_type": "code",
   "execution_count": 4,
   "metadata": {
    "colab": {
     "base_uri": "https://localhost:8080/",
     "height": 367
    },
    "executionInfo": {
     "elapsed": 1096,
     "status": "ok",
     "timestamp": 1602439963712,
     "user": {
      "displayName": "Tatiana Rogovich",
      "photoUrl": "https://lh3.googleusercontent.com/a-/AOh14Gjj1YqMwkiGsMOcK4XoZPpJp6kCbYZ6EqgvdL3EXA=s64",
      "userId": "08185984249235601298"
     },
     "user_tz": -180
    },
    "id": "s1WuJ3WPBfix",
    "outputId": "fbd5bc61-c0e3-48eb-b97a-b6c446502dcf"
   },
   "outputs": [
    {
     "name": "stdout",
     "output_type": "stream",
     "text": [
      "<html>\n",
      "<head>\n",
      "    <meta charset=\"UTF-8\">\n",
      "    <title>ÐÐ³Ð»Ð°Ð²Ð»ÐµÐ½Ð¸Ðµ</title>\n",
      "</head>\n",
      "<body>\n",
      "    Ð¡ÑÐ°ÑÑÐ¸ Ð¾ Ð¿ÐµÑÑÐ¾Ð½Ð°Ð¶Ð°Ñ",
      ": <a href=\"1.html\">ÐÐ°ÑÑÐ¸ ÐÐ¾ÑÑÐµÑ</a>,\n",
      "    <a href=\"2.html\">ÐÐ¶Ð¸Ð½Ð½Ð¸ Ð£Ð¸Ð·Ð»Ð¸</a>,\n",
      "    <a href=\"3.html\">ÐÐ¸Ð»Ð¸ ÐÐ¾ÑÑÐµÑ</a>,\n",
      "    <a href=\"4.html\">ÐÐµÑÐ¼Ð¸Ð¾Ð½Ð° ÐÑÐµÐ¹Ð½Ð´Ð¶ÐµÑ</a>,\n",
      "    <a href=\"5.html\">Ð¡Ð¸ÑÐ¸ÑÑ ÐÐ»ÑÐº</a>,\n",
      "    <a href=\"6.html\">Ð ÑÐ±ÐµÑÑ Ð¥Ð°Ð³ÑÐ¸Ð´</a>,\n",
      "    <a href=\"7.html\">Ð Ð¾Ð½ Ð£Ð¸Ð·Ð»Ð¸</a>,\n",
      "    <a href=\"8.html\">ÐÑÑÐ¾ÑÐ¸Ñ ÐÑÐ¸Ð½Ð³ÑÐ°ÑÑ</a>,\n",
      "    <a href=\"9.html\">ÐÑÑÐ¸ÑÑ ÐÐ°Ð»ÑÐ¾Ð¹</a>,\n",
      "    <a href=\"10.html\">ÐÑÐ°ÐºÐ¾ ÐÐ°Ð»ÑÐ¾Ð¹</a>,\n",
      "    <a href=\"11.html\">ÐÐµÐ»Ð»Ð°ÑÑÐ¸ÑÐ° ÐÐµÑÑÑÐµÐ¹Ð½Ð´Ð¶</a>.<br>\n",
      "    ÐÐ¾ Ð¼Ð°ÑÐµÑÐ¸Ð°Ð»Ð°Ð¼ <a href=\"https://harrypotter.fandom.com\">ÐÐ°ÑÑÐ¸ ÐÐ¾ÑÑÐµÑ Ð²Ð¸ÐºÐ¸</a>. <br>Ð Ð°ÑÐ¿ÑÐ¾ÑÑÑÐ°Ð½ÑÐµÑÑÑ Ð½Ð° ÑÑÐ»Ð¾Ð²Ð¸ÑÑ",
      " CC-BY-SA\n",
      "</body>\n",
      "</html>\n"
     ]
    }
   ],
   "source": [
    "print(site.text)"
   ]
  },
  {
   "cell_type": "markdown",
   "metadata": {
    "id": "v8fc_my-HKlB"
   },
   "source": [
    "Такие переменные — относящиеся к другим переменным, мы будем называть **атрибутами**. Атрибуты по синтаксису похожи на методы — тоже пишутся через точку после названия переменной, к которой они относятся, но при этом у них нет скобок, так как они не являются командами.\n",
    "\n",
    "Кажется, вместо страницы загрузилось что-то странное: страница загрузилась в неправильной кодировке, и компьютер не может прочитать русские буквы. Мы можем посмотреть на кодировку, обратившись к атрибуту `encoding`:"
   ]
  },
  {
   "cell_type": "code",
   "execution_count": 5,
   "metadata": {
    "colab": {
     "base_uri": "https://localhost:8080/",
     "height": 34
    },
    "executionInfo": {
     "elapsed": 1483,
     "status": "ok",
     "timestamp": 1602439981636,
     "user": {
      "displayName": "Tatiana Rogovich",
      "photoUrl": "https://lh3.googleusercontent.com/a-/AOh14Gjj1YqMwkiGsMOcK4XoZPpJp6kCbYZ6EqgvdL3EXA=s64",
      "userId": "08185984249235601298"
     },
     "user_tz": -180
    },
    "id": "AgqKCR8JbQRZ",
    "outputId": "c79acaed-e72f-4e5d-9793-677f81fbdc9c"
   },
   "outputs": [
    {
     "name": "stdout",
     "output_type": "stream",
     "text": [
      "Страница загрузилась в кодировке ISO-8859-1\n"
     ]
    }
   ],
   "source": [
    "import requests   \n",
    "site = requests.get('https://online.hse.ru/python-as-foreign/1/')\n",
    "print(f'Страница загрузилась в кодировке {site.encoding}')"
   ]
  },
  {
   "cell_type": "markdown",
   "metadata": {
    "id": "LFXkiYT0bwMd"
   },
   "source": [
    "Исправим кодировку, указав [универсальную](https://ru.wikipedia.org/wiki/Юникод), которая поддерживает все языки мира:"
   ]
  },
  {
   "cell_type": "code",
   "execution_count": 6,
   "metadata": {
    "colab": {
     "base_uri": "https://localhost:8080/",
     "height": 397
    },
    "executionInfo": {
     "elapsed": 1145,
     "status": "ok",
     "timestamp": 1602445956646,
     "user": {
      "displayName": "Дмитрий Широков",
      "photoUrl": "https://lh3.googleusercontent.com/a-/AOh14Gj5ZAs-5dMegnzmhLzTxoLXJmKnF6n7i3ZxETt9Vw=s64",
      "userId": "13642431705883450455"
     },
     "user_tz": -180
    },
    "id": "qMazMdNGb7S5",
    "outputId": "67b1e801-b8d5-414c-f8b3-de5444ce5880"
   },
   "outputs": [
    {
     "name": "stdout",
     "output_type": "stream",
     "text": [
      "<html>\n",
      "<head>\n",
      "    <meta charset=\"UTF-8\">\n",
      "    <title>Оглавление</title>\n",
      "</head>\n",
      "<body>\n",
      "    Статьи о персонажах: <a href=\"1.html\">Гарри Поттер</a>,\n",
      "    <a href=\"2.html\">Джинни Уизли</a>,\n",
      "    <a href=\"3.html\">Лили Поттер</a>,\n",
      "    <a href=\"4.html\">Гермиона Грейнджер</a>,\n",
      "    <a href=\"5.html\">Сириус Блэк</a>,\n",
      "    <a href=\"6.html\">Рубеус Хагрид</a>,\n",
      "    <a href=\"7.html\">Рон Уизли</a>,\n",
      "    <a href=\"8.html\">Астория Гринграсс</a>,\n",
      "    <a href=\"9.html\">Люциус Малфой</a>,\n",
      "    <a href=\"10.html\">Драко Малфой</a>,\n",
      "    <a href=\"11.html\">Беллатриса Лестрейндж</a>.<br>\n",
      "    По материалам <a href=\"https://harrypotter.fandom.com\">Гарри Поттер вики</a>. <br>Распространяется на условиях CC-BY-SA\n",
      "</body>\n",
      "</html>\n"
     ]
    }
   ],
   "source": [
    "site.encoding = 'utf-8'\n",
    "print(site.text)"
   ]
  },
  {
   "cell_type": "markdown",
   "metadata": {
    "id": "ELdOcLiULlRW"
   },
   "source": [
    "Иногда простого указания правильной кодировки недостаточно, и тогда нужно в явном виде заставить компьютер перевести полученную из Сети страницу в правильную кодировку с помощью команды `.content.decode()`:"
   ]
  },
  {
   "cell_type": "code",
   "execution_count": 7,
   "metadata": {
    "colab": {
     "base_uri": "https://localhost:8080/",
     "height": 397
    },
    "executionInfo": {
     "elapsed": 2811,
     "status": "ok",
     "timestamp": 1602445962119,
     "user": {
      "displayName": "Дмитрий Широков",
      "photoUrl": "https://lh3.googleusercontent.com/a-/AOh14Gj5ZAs-5dMegnzmhLzTxoLXJmKnF6n7i3ZxETt9Vw=s64",
      "userId": "13642431705883450455"
     },
     "user_tz": -180
    },
    "id": "IuCnnxscLxA7",
    "outputId": "600979ca-9112-42ae-e2a2-aa54b3bf8f11"
   },
   "outputs": [
    {
     "name": "stdout",
     "output_type": "stream",
     "text": [
      "<html>\n",
      "<head>\n",
      "    <meta charset=\"UTF-8\">\n",
      "    <title>Оглавление</title>\n",
      "</head>\n",
      "<body>\n",
      "    Статьи о персонажах: <a href=\"1.html\">Гарри Поттер</a>,\n",
      "    <a href=\"2.html\">Джинни Уизли</a>,\n",
      "    <a href=\"3.html\">Лили Поттер</a>,\n",
      "    <a href=\"4.html\">Гермиона Грейнджер</a>,\n",
      "    <a href=\"5.html\">Сириус Блэк</a>,\n",
      "    <a href=\"6.html\">Рубеус Хагрид</a>,\n",
      "    <a href=\"7.html\">Рон Уизли</a>,\n",
      "    <a href=\"8.html\">Астория Гринграсс</a>,\n",
      "    <a href=\"9.html\">Люциус Малфой</a>,\n",
      "    <a href=\"10.html\">Драко Малфой</a>,\n",
      "    <a href=\"11.html\">Беллатриса Лестрейндж</a>.<br>\n",
      "    По материалам <a href=\"https://harrypotter.fandom.com\">Гарри Поттер вики</a>. <br>Распространяется на условиях CC-BY-SA\n",
      "</body>\n",
      "</html>\n"
     ]
    }
   ],
   "source": [
    "import requests   \n",
    "site2 = requests.get('https://online.hse.ru/python-as-foreign/1/')\n",
    "site_text = site2.content.decode('utf-8')\n",
    "print(site_text)"
   ]
  },
  {
   "cell_type": "markdown",
   "metadata": {
    "id": "Mjs-DZXsXum7"
   },
   "source": [
    "Отлично, мы умеем понимать, загрузилась ли страница, и если да — смотреть на её текст. Чтобы научить компьютер работать с этим текстом, воспользуемся модулем ``BeautifulSoup``:"
   ]
  },
  {
   "cell_type": "code",
   "execution_count": 8,
   "metadata": {
    "colab": {
     "base_uri": "https://localhost:8080/",
     "height": 397
    },
    "executionInfo": {
     "elapsed": 1069,
     "status": "ok",
     "timestamp": 1602445965500,
     "user": {
      "displayName": "Дмитрий Широков",
      "photoUrl": "https://lh3.googleusercontent.com/a-/AOh14Gj5ZAs-5dMegnzmhLzTxoLXJmKnF6n7i3ZxETt9Vw=s64",
      "userId": "13642431705883450455"
     },
     "user_tz": -180
    },
    "id": "N1KzHYOsXvFw",
    "outputId": "9d660314-1b9e-444e-e763-bbd5b84315e3"
   },
   "outputs": [
    {
     "name": "stdout",
     "output_type": "stream",
     "text": [
      "<html>\n",
      "<head>\n",
      "<meta charset=\"utf-8\"/>\n",
      "<title>Оглавление</title>\n",
      "</head>\n",
      "<body>\n",
      "    Статьи о персонажах: <a href=\"1.html\">Гарри Поттер</a>,\n",
      "    <a href=\"2.html\">Джинни Уизли</a>,\n",
      "    <a href=\"3.html\">Лили Поттер</a>,\n",
      "    <a href=\"4.html\">Гермиона Грейнджер</a>,\n",
      "    <a href=\"5.html\">Сириус Блэк</a>,\n",
      "    <a href=\"6.html\">Рубеус Хагрид</a>,\n",
      "    <a href=\"7.html\">Рон Уизли</a>,\n",
      "    <a href=\"8.html\">Астория Гринграсс</a>,\n",
      "    <a href=\"9.html\">Люциус Малфой</a>,\n",
      "    <a href=\"10.html\">Драко Малфой</a>,\n",
      "    <a href=\"11.html\">Беллатриса Лестрейндж</a>.<br/>\n",
      "    По материалам <a href=\"https://harrypotter.fandom.com\">Гарри Поттер вики</a>. <br/>Распространяется на условиях CC-BY-SA\n",
      "</body>\n",
      "</html>\n"
     ]
    }
   ],
   "source": [
    "from bs4 import BeautifulSoup\n",
    "\n",
    "# Попросим компьютер распознать html-код сайта с помощью BeautifulSoup\n",
    "soup = BeautifulSoup(site.text)\n",
    "\n",
    "print(soup)"
   ]
  },
  {
   "cell_type": "markdown",
   "metadata": {
    "id": "HVvkRVvVZ9E6"
   },
   "source": [
    "Кажется, что ничего не поменялось. Но теперь мы можем искать по нашей странице. Например, мы можем найти ссылки на другие страницы. Попросим компьютер найти какую-нибудь ссылку (т.е. какой-нибудь тег \\<a\\>...\\</a\\>) "
   ]
  },
  {
   "cell_type": "code",
   "execution_count": 9,
   "metadata": {
    "colab": {
     "base_uri": "https://localhost:8080/",
     "height": 35
    },
    "executionInfo": {
     "elapsed": 1116,
     "status": "ok",
     "timestamp": 1598038825313,
     "user": {
      "displayName": "Дмитрий Широков",
      "photoUrl": "https://lh3.googleusercontent.com/a-/AOh14Gj5ZAs-5dMegnzmhLzTxoLXJmKnF6n7i3ZxETt9Vw=s64",
      "userId": "13642431705883450455"
     },
     "user_tz": -180
    },
    "id": "rRI2tvAJhU6S",
    "outputId": "1f4529d3-0ed3-4edb-d101-7cdd9071180b"
   },
   "outputs": [
    {
     "name": "stdout",
     "output_type": "stream",
     "text": [
      "<a href=\"1.html\">Гарри Поттер</a>\n"
     ]
    }
   ],
   "source": [
    "# Попросим компьютер найти первую ссылку на странице\n",
    "print(soup.find('a'))"
   ]
  },
  {
   "cell_type": "markdown",
   "metadata": {
    "id": "nsCyqlL1iWKF"
   },
   "source": [
    "Попросим компьютер отдельно написать адрес страницы (в нашем случае, 1.html) и текст ссылки (Гарри Поттер):"
   ]
  },
  {
   "cell_type": "code",
   "execution_count": 10,
   "metadata": {
    "colab": {
     "base_uri": "https://localhost:8080/",
     "height": 34
    },
    "executionInfo": {
     "elapsed": 541,
     "status": "ok",
     "timestamp": 1602440023550,
     "user": {
      "displayName": "Tatiana Rogovich",
      "photoUrl": "https://lh3.googleusercontent.com/a-/AOh14Gjj1YqMwkiGsMOcK4XoZPpJp6kCbYZ6EqgvdL3EXA=s64",
      "userId": "08185984249235601298"
     },
     "user_tz": -180
    },
    "id": "o9CoP4m8oOUq",
    "outputId": "447b3e94-208a-4d9b-ff20-6d6a92b78365"
   },
   "outputs": [
    {
     "name": "stdout",
     "output_type": "stream",
     "text": [
      "Адрес файла: 1.html, текст ссылки: Гарри Поттер\n"
     ]
    }
   ],
   "source": [
    "link = soup.find('a')\n",
    "\n",
    "# C помощью метода link.get() мы можем узнать значение любого интересующего нас атрибута.\n",
    "# Адрес страницы лежит в атрибуте href, значит, мы можем его узнать через link.get('href') \n",
    "href = link.get('href')\n",
    "\n",
    "# Текст ссылки лежит в переменной link.text\n",
    "print(f'Адрес файла: {href}, текст ссылки: {link.text}')"
   ]
  },
  {
   "cell_type": "markdown",
   "metadata": {
    "id": "RamMFcUIoejd"
   },
   "source": [
    "Упростим код, избавившись от переменной ``href``:"
   ]
  },
  {
   "cell_type": "code",
   "execution_count": 11,
   "metadata": {
    "colab": {
     "base_uri": "https://localhost:8080/",
     "height": 34
    },
    "executionInfo": {
     "elapsed": 573,
     "status": "ok",
     "timestamp": 1602440037655,
     "user": {
      "displayName": "Tatiana Rogovich",
      "photoUrl": "https://lh3.googleusercontent.com/a-/AOh14Gjj1YqMwkiGsMOcK4XoZPpJp6kCbYZ6EqgvdL3EXA=s64",
      "userId": "08185984249235601298"
     },
     "user_tz": -180
    },
    "id": "dIKzltjRicgJ",
    "outputId": "07810049-fa55-40d4-e470-112b03372f4c"
   },
   "outputs": [
    {
     "name": "stdout",
     "output_type": "stream",
     "text": [
      "Адрес файла: 1.html, текст ссылки: Гарри Поттер\n"
     ]
    }
   ],
   "source": [
    "link = soup.find('a')\n",
    "\n",
    "# Мы используем двойные кавычки внутри f-строки, чтобы компьютер не перепутал\n",
    "# кавычки строки и кавычки вокруг названия атрибута href\n",
    "print(f'Адрес файла: {link.get(\"href\")}, текст ссылки: {link.text}')"
   ]
  },
  {
   "cell_type": "markdown",
   "metadata": {
    "id": "c8KF-zXBiqee"
   },
   "source": [
    "Хорошо, работать с одной ссылкой мы научились. Попросим компьютер найти их все:"
   ]
  },
  {
   "cell_type": "code",
   "execution_count": 12,
   "metadata": {
    "colab": {
     "base_uri": "https://localhost:8080/"
    },
    "executionInfo": {
     "elapsed": 772,
     "status": "ok",
     "timestamp": 1602064170478,
     "user": {
      "displayName": "Дмитрий Широков",
      "photoUrl": "https://lh3.googleusercontent.com/a-/AOh14Gj5ZAs-5dMegnzmhLzTxoLXJmKnF6n7i3ZxETt9Vw=s64",
      "userId": "13642431705883450455"
     },
     "user_tz": -180
    },
    "id": "cJgua0BXaDRo",
    "outputId": "7634435a-778e-4a61-c0d0-d21ca400ffc7"
   },
   "outputs": [
    {
     "name": "stdout",
     "output_type": "stream",
     "text": [
      "[<a href=\"1.html\">Гарри Поттер</a>, <a href=\"2.html\">Джинни Уизли</a>, <a href=\"3.html\">Лили Поттер</a>, <a href=\"4.html\">Гермиона Грейнджер</a>, <a href=\"5.html\">Сириус Блэк</a>, <a href=\"6.html\">Рубеус Хагрид</a>, <a href=\"7.html\">Рон Уизли</a>, <a href=\"8.html\">Астория Гринграсс</a>, <a href=\"9.html\">Люциус Малфой</a>, <a href=\"10.html\">Драко Малфой</a>, <a href=\"11.html\">Беллатриса Лестрейндж</a>, <a href=\"https://harrypotter.fandom.com\">Гарри Поттер вики</a>]\n"
     ]
    }
   ],
   "source": [
    "# Попросим компьютер найти все ссылки на странице, и вывести их список\n",
    "print(soup.find_all('a'))"
   ]
  },
  {
   "cell_type": "markdown",
   "metadata": {
    "id": "85dupX-oIPQo"
   },
   "source": [
    "BeautifulSoup умеет искать информацию в коде страниц сайтов огромным количеством методов, но в этом курсе мы будем использовать именно метод find и find_all."
   ]
  },
  {
   "cell_type": "markdown",
   "metadata": {
    "id": "cATWMBc6hai1"
   },
   "source": [
    "Сделаем вывод более красивым, перебрав все ссылки циклом for:"
   ]
  },
  {
   "cell_type": "code",
   "execution_count": 13,
   "metadata": {
    "colab": {
     "base_uri": "https://localhost:8080/",
     "height": 236
    },
    "executionInfo": {
     "elapsed": 1002,
     "status": "ok",
     "timestamp": 1598039475854,
     "user": {
      "displayName": "Дмитрий Широков",
      "photoUrl": "https://lh3.googleusercontent.com/a-/AOh14Gj5ZAs-5dMegnzmhLzTxoLXJmKnF6n7i3ZxETt9Vw=s64",
      "userId": "13642431705883450455"
     },
     "user_tz": -180
    },
    "id": "8a4IJrK1hfKM",
    "outputId": "a6d6aaa9-18ac-4d77-8603-b3cbf6eedc07"
   },
   "outputs": [
    {
     "name": "stdout",
     "output_type": "stream",
     "text": [
      "Ссылка с адресом 1.html и текстом \"Гарри Поттер\"\n",
      "Ссылка с адресом 2.html и текстом \"Джинни Уизли\"\n",
      "Ссылка с адресом 3.html и текстом \"Лили Поттер\"\n",
      "Ссылка с адресом 4.html и текстом \"Гермиона Грейнджер\"\n",
      "Ссылка с адресом 5.html и текстом \"Сириус Блэк\"\n",
      "Ссылка с адресом 6.html и текстом \"Рубеус Хагрид\"\n",
      "Ссылка с адресом 7.html и текстом \"Рон Уизли\"\n",
      "Ссылка с адресом 8.html и текстом \"Астория Гринграсс\"\n",
      "Ссылка с адресом 9.html и текстом \"Люциус Малфой\"\n",
      "Ссылка с адресом 10.html и текстом \"Драко Малфой\"\n",
      "Ссылка с адресом 11.html и текстом \"Беллатриса Лестрейндж\"\n",
      "Ссылка с адресом https://harrypotter.fandom.com и текстом \"Гарри Поттер вики\"\n"
     ]
    }
   ],
   "source": [
    "for link in soup.find_all('a'):\n",
    "    print(f'Ссылка с адресом {link.get(\"href\")} и текстом \"{link.text}\"')"
   ]
  },
  {
   "cell_type": "markdown",
   "metadata": {
    "id": "jEbXsADRmCO8"
   },
   "source": [
    "В следующий раз мы научимся анализировать связи между героями с помощью анализа конкретных страниц."
   ]
  },
  {
   "cell_type": "markdown",
   "metadata": {
    "id": "LdH2ixRKlSzQ"
   },
   "source": [
    "Итоговая программа блокнота:"
   ]
  },
  {
   "cell_type": "code",
   "execution_count": 14,
   "metadata": {
    "colab": {
     "base_uri": "https://localhost:8080/",
     "height": 227
    },
    "executionInfo": {
     "elapsed": 2399,
     "status": "ok",
     "timestamp": 1602440053216,
     "user": {
      "displayName": "Tatiana Rogovich",
      "photoUrl": "https://lh3.googleusercontent.com/a-/AOh14Gjj1YqMwkiGsMOcK4XoZPpJp6kCbYZ6EqgvdL3EXA=s64",
      "userId": "08185984249235601298"
     },
     "user_tz": -180
    },
    "id": "7RquRdHflVNX",
    "outputId": "37807feb-d1d9-4c12-8684-8afbf9e2d7ac"
   },
   "outputs": [
    {
     "name": "stdout",
     "output_type": "stream",
     "text": [
      "Ссылка с адресом 1.html и текстом \"Гарри Поттер\"\n",
      "Ссылка с адресом 2.html и текстом \"Джинни Уизли\"\n",
      "Ссылка с адресом 3.html и текстом \"Лили Поттер\"\n",
      "Ссылка с адресом 4.html и текстом \"Гермиона Грейнджер\"\n",
      "Ссылка с адресом 5.html и текстом \"Сириус Блэк\"\n",
      "Ссылка с адресом 6.html и текстом \"Рубеус Хагрид\"\n",
      "Ссылка с адресом 7.html и текстом \"Рон Уизли\"\n",
      "Ссылка с адресом 8.html и текстом \"Астория Гринграсс\"\n",
      "Ссылка с адресом 9.html и текстом \"Люциус Малфой\"\n",
      "Ссылка с адресом 10.html и текстом \"Драко Малфой\"\n",
      "Ссылка с адресом 11.html и текстом \"Беллатриса Лестрейндж\"\n",
      "Ссылка с адресом https://harrypotter.fandom.com и текстом \"Гарри Поттер вики\"\n"
     ]
    }
   ],
   "source": [
    "# Импортируем модули requests и BeautifulSoup\n",
    "import requests   \n",
    "from bs4 import BeautifulSoup\n",
    "\n",
    "# С помощью функции get из модуля requests запросим страницу сайта и сохраним её в переменную site\n",
    "site = requests.get('https://online.hse.ru/python-as-foreign/1/')  \n",
    "\n",
    "# Укажем универсальную кодировку символов\n",
    "site.encoding = 'utf-8'\n",
    "\n",
    "# Попросим компьютер распознать html-код сайта с помощью BeautifulSoup\n",
    "soup = BeautifulSoup(site.text)\n",
    "\n",
    "# Переберём все найденные ссылки на странице и, сохраняя каждую ссылку под именем link, сделаем следующее:\n",
    "for link in soup.find_all('a'): \n",
    "    # Распечатаем адрес страницы из атрибута href и текст ссылки\n",
    "    print(f'Ссылка с адресом {link.get(\"href\")} и текстом \"{link.text}\"')"
   ]
  }
 ],
 "metadata": {
  "colab": {
   "collapsed_sections": [],
   "name": "9.13.2 Запрос страницы из интернета.ipynb",
   "provenance": []
  },
  "kernelspec": {
   "display_name": "Python 3",
   "language": "python",
   "name": "python3"
  },
  "language_info": {
   "codemirror_mode": {
    "name": "ipython",
    "version": 3
   },
   "file_extension": ".py",
   "mimetype": "text/x-python",
   "name": "python",
   "nbconvert_exporter": "python",
   "pygments_lexer": "ipython3",
   "version": "3.8.5"
  },
  "toc": {
   "base_numbering": 1,
   "nav_menu": {},
   "number_sections": true,
   "sideBar": true,
   "skip_h1_title": false,
   "title_cell": "Table of Contents",
   "title_sidebar": "Contents",
   "toc_cell": false,
   "toc_position": {},
   "toc_section_display": true,
   "toc_window_display": false
  }
 },
 "nbformat": 4,
 "nbformat_minor": 1
}
