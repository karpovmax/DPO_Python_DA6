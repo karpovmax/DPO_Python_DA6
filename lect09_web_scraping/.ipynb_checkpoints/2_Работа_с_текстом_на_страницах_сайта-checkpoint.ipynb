{
 "cells": [
  {
   "cell_type": "markdown",
   "metadata": {
    "id": "yGjQIwz30jsP"
   },
   "source": [
    "# Подсчёт статистики употребления слов на странице сайта\n",
    "\n",
    "В прошлый раз мы научились подключаться к сайтам, получать страницы из интернета и искать в коде полученных страниц теги. Сегодня мы научимся искать по содержимому страниц.\n",
    "\n",
    "Предположим, что мы с вами не читали Гарри Поттера, но нам жизненно необходимо для исследования понять, кто в этой серии книг относится к главным героям и как герои взаимодействуют друг с другом.\n",
    "\n",
    "Попробуем предположить, что главным — или, как минимум, достаточно полюбившимся публике — героям на фанатских сайтах посвящено больше слов, и что фанаты бы не забыли упомянуть о взаимодействиях между героями в их биографиях."
   ]
  },
  {
   "cell_type": "markdown",
   "metadata": {
    "id": "vDB3d9Qy_Tk_"
   },
   "source": [
    "Пройдём по страницам и посчитаем длину текстов, которые на них содержатся, для этого:\n",
    "1. скачаем главную страницу;\n",
    "2. извлечём из неё перечень ссылок\n",
    "3. пройдём по ссылкам и для каждой из них проверим:\n",
    "    * что ссылка указывает на наш сайт и\n",
    "    * что ссылку получается скачать (она возвращает код ответа 200):\n",
    "        1. для каждой из отобранных ссылок посчитаем длину текста на странице и\n",
    "        2. выведем название ссылки и длину текста.\n"
   ]
  },
  {
   "cell_type": "markdown",
   "metadata": {
    "id": "jqtT4iPuAOYN"
   },
   "source": [
    "Скачаем главную страницу учебного сайта и построим адреса остальных ссылок:"
   ]
  },
  {
   "cell_type": "code",
   "execution_count": 1,
   "metadata": {
    "colab": {
     "base_uri": "https://localhost:8080/",
     "height": 209
    },
    "executionInfo": {
     "elapsed": 2700,
     "status": "ok",
     "timestamp": 1602624367097,
     "user": {
      "displayName": "Tatiana Rogovich",
      "photoUrl": "https://lh3.googleusercontent.com/a-/AOh14Gjj1YqMwkiGsMOcK4XoZPpJp6kCbYZ6EqgvdL3EXA=s64",
      "userId": "08185984249235601298"
     },
     "user_tz": -180
    },
    "id": "qt_V_vSbAS7y",
    "outputId": "f4572ae6-4262-49cf-ec7a-6d1662315b30"
   },
   "outputs": [
    {
     "name": "stdout",
     "output_type": "stream",
     "text": [
      "https://online.hse.ru/python-as-foreign/1/1.html Гарри Поттер\n",
      "https://online.hse.ru/python-as-foreign/1/2.html Джинни Уизли\n",
      "https://online.hse.ru/python-as-foreign/1/3.html Лили Поттер\n",
      "https://online.hse.ru/python-as-foreign/1/4.html Гермиона Грейнджер\n",
      "https://online.hse.ru/python-as-foreign/1/5.html Сириус Блэк\n",
      "https://online.hse.ru/python-as-foreign/1/6.html Рубеус Хагрид\n",
      "https://online.hse.ru/python-as-foreign/1/7.html Рон Уизли\n",
      "https://online.hse.ru/python-as-foreign/1/8.html Астория Гринграсс\n",
      "https://online.hse.ru/python-as-foreign/1/9.html Люциус Малфой\n",
      "https://online.hse.ru/python-as-foreign/1/10.html Драко Малфой\n",
      "https://online.hse.ru/python-as-foreign/1/11.html Беллатриса Лестрейндж\n"
     ]
    }
   ],
   "source": [
    "import requests   \n",
    "from bs4 import BeautifulSoup\n",
    "\n",
    "base_url = 'https://online.hse.ru/python-as-foreign/1/'\n",
    "\n",
    "page = requests.get(base_url)\n",
    "page.encoding = 'utf-8'\n",
    "soup = BeautifulSoup(page.text)\n",
    "\n",
    "for link in soup.find_all('a'):\n",
    "    if link.get('href').endswith('html'):   # Все ссылки на наш сайт заканчиваются на .html\n",
    "        print(base_url+link.get('href'), link.text)"
   ]
  },
  {
   "cell_type": "markdown",
   "metadata": {
    "id": "CbmOjgd7Agae"
   },
   "source": [
    "Попробуем скачать каждую из них и проверить, что они корректно скачались:"
   ]
  },
  {
   "cell_type": "code",
   "execution_count": 2,
   "metadata": {
    "colab": {
     "base_uri": "https://localhost:8080/",
     "height": 192
    },
    "executionInfo": {
     "elapsed": 18697,
     "status": "ok",
     "timestamp": 1602624424977,
     "user": {
      "displayName": "Tatiana Rogovich",
      "photoUrl": "https://lh3.googleusercontent.com/a-/AOh14Gjj1YqMwkiGsMOcK4XoZPpJp6kCbYZ6EqgvdL3EXA=s64",
      "userId": "08185984249235601298"
     },
     "user_tz": -180
    },
    "id": "4ceY4oSbAkzL",
    "outputId": "730f2581-2a76-43ac-9109-c74732658220"
   },
   "outputs": [
    {
     "name": "stdout",
     "output_type": "stream",
     "text": [
      "https://online.hse.ru/python-as-foreign/1/1.html Гарри Поттер\n",
      "https://online.hse.ru/python-as-foreign/1/2.html Джинни Уизли\n",
      "https://online.hse.ru/python-as-foreign/1/3.html Лили Поттер\n",
      "https://online.hse.ru/python-as-foreign/1/4.html Гермиона Грейнджер\n",
      "https://online.hse.ru/python-as-foreign/1/5.html Сириус Блэк\n",
      "https://online.hse.ru/python-as-foreign/1/6.html Рубеус Хагрид\n",
      "https://online.hse.ru/python-as-foreign/1/7.html Рон Уизли\n",
      "https://online.hse.ru/python-as-foreign/1/8.html Астория Гринграсс\n",
      "https://online.hse.ru/python-as-foreign/1/9.html Люциус Малфой\n",
      "https://online.hse.ru/python-as-foreign/1/10.html Драко Малфой\n"
     ]
    }
   ],
   "source": [
    "import requests   \n",
    "from bs4 import BeautifulSoup\n",
    "\n",
    "base_url = 'https://online.hse.ru/python-as-foreign/1/'\n",
    "\n",
    "page = requests.get(base_url)\n",
    "page.encoding = 'utf-8'\n",
    "soup = BeautifulSoup(page.text)\n",
    "\n",
    "for link in soup.find_all('a'):\n",
    "    if link.get('href').endswith('html'):   # Все ссылки на наш сайт заканчиваются на .html\n",
    "        page = requests.get(base_url+link.get('href'))\n",
    "        if page.status_code == 200:\n",
    "            print(base_url+link.get('href'), link.text)"
   ]
  },
  {
   "cell_type": "markdown",
   "metadata": {
    "id": "MkarlgeHBErF"
   },
   "source": [
    "Заметим, что страницу о Беллатрисе Лестрейндж загрузить не удалось, так как она отсутствует на сайте и код ответа был 404, а не 200.\n",
    "\n",
    "Установим для каждой из загруженных страниц корректную кодировку и посчитаем длину текстов, обратившись к тегу `body`, внутри которого на страницах находится всё видимое содержимое:"
   ]
  },
  {
   "cell_type": "code",
   "execution_count": 3,
   "metadata": {
    "colab": {
     "base_uri": "https://localhost:8080/",
     "height": 377
    },
    "executionInfo": {
     "elapsed": 10157,
     "status": "ok",
     "timestamp": 1602610401897,
     "user": {
      "displayName": "Дмитрий Широков",
      "photoUrl": "https://lh3.googleusercontent.com/a-/AOh14Gj5ZAs-5dMegnzmhLzTxoLXJmKnF6n7i3ZxETt9Vw=s64",
      "userId": "13642431705883450455"
     },
     "user_tz": -180
    },
    "id": "Ypaqh61vmZTB",
    "outputId": "d0e7abb8-449d-4a73-e894-35b18c53217e"
   },
   "outputs": [
    {
     "name": "stdout",
     "output_type": "stream",
     "text": [
      "Ссылка с адресом 1.html и текстом \"Гарри Поттер\"\n",
      "Статья длиной 58609 символов\n",
      "Ссылка с адресом 2.html и текстом \"Джинни Уизли\"\n",
      "Статья длиной 19644 символов\n",
      "Ссылка с адресом 3.html и текстом \"Лили Поттер\"\n",
      "Статья длиной 23711 символов\n",
      "Ссылка с адресом 4.html и текстом \"Гермиона Грейнджер\"\n",
      "Статья длиной 55545 символов\n",
      "Ссылка с адресом 5.html и текстом \"Сириус Блэк\"\n",
      "Статья длиной 22983 символов\n",
      "Ссылка с адресом 6.html и текстом \"Рубеус Хагрид\"\n",
      "Статья длиной 13522 символов\n",
      "Ссылка с адресом 7.html и текстом \"Рон Уизли\"\n",
      "Статья длиной 46000 символов\n",
      "Ссылка с адресом 8.html и текстом \"Астория Гринграсс\"\n",
      "Статья длиной 2318 символов\n",
      "Ссылка с адресом 9.html и текстом \"Люциус Малфой\"\n",
      "Статья длиной 18883 символов\n",
      "Ссылка с адресом 10.html и текстом \"Драко Малфой\"\n",
      "Статья длиной 56944 символов\n"
     ]
    }
   ],
   "source": [
    "import requests   \n",
    "from bs4 import BeautifulSoup\n",
    "\n",
    "base_url = 'https://online.hse.ru/python-as-foreign/1/'\n",
    "\n",
    "page = requests.get(base_url)\n",
    "page.encoding = 'utf-8'\n",
    "soup = BeautifulSoup(page.text)\n",
    "\n",
    "for link in soup.find_all('a'):\n",
    "    if link.get('href').endswith('html'):\n",
    "        page = requests.get(base_url+link.get('href'))\n",
    "        if page.status_code == 200:\n",
    "            print(f'Ссылка с адресом {link.get(\"href\")} и текстом \"{link.text}\"')\n",
    "            page.encoding = 'utf-8'\n",
    "            s = BeautifulSoup(page.text)\n",
    "            print(f'Статья длиной {len(s.find(\"body\").text)} символов')"
   ]
  },
  {
   "cell_type": "markdown",
   "metadata": {
    "id": "rurE3zrIGN8G"
   },
   "source": [
    "Заметим, что наша гипотеза подтвердилась: в список главных героев попал Гарри, Гермиона, Драко и Рон, в список второстепенных — Лили, Джинни, Сириус, Хагрид и Люциус. Эпизодическим героем оказалась Астория Гринграсс."
   ]
  },
  {
   "cell_type": "markdown",
   "metadata": {
    "id": "kHTwpqdHCKen"
   },
   "source": [
    "Переработаем теперь нашу программу так, чтобы она пыталась найти на страницах одних героев упоминания про других, для этого доработаем уже существующую программу:\n",
    "1. создадим список из имён героев, по которым их можно найти,\n",
    "2. создадим словарь вида Герой: Множество имён героев, которые упоминаются на странице его биографии,\n",
    "3. пройдём по всем страницам биографий и на каждой странице:\n",
    "    1. попробуем найти в тексте страницы упоминание каждого имени из списка героев,\n",
    "    2. найденные имена добавим в наш словарь множеств\n",
    "4. в конце выведем статистику на экран и сравним её с содержимым книг (без спойлеров)."
   ]
  },
  {
   "cell_type": "markdown",
   "metadata": {
    "id": "GzayVos5Do-E"
   },
   "source": [
    "Составим словарь имён, взяв от каждого имени только неизменяемую часть (от имени Гарри Поттера возьмём имя Гарри, а вот от имени Гермионы Грейджер возьмём только строчку \"Гермион\"):"
   ]
  },
  {
   "cell_type": "code",
   "execution_count": 5,
   "metadata": {
    "id": "AHyAkLN0D2LJ"
   },
   "outputs": [],
   "source": [
    "import requests   \n",
    "from bs4 import BeautifulSoup\n",
    "\n",
    "base_url = 'https://online.hse.ru/python-as-foreign/1/'\n",
    "\n",
    "page = requests.get(base_url)\n",
    "page.encoding = 'utf-8'\n",
    "soup = BeautifulSoup(page.text)\n",
    "\n",
    "chars = ['Гарри', 'Рон', 'Гермион', 'Сириус', 'Хагрид', 'Джинн', 'Лили', 'Астори', 'Люциус', 'Драко']\n",
    "char_to_char = {} # Словарь вида герой => множество героев, с которыми он общается"
   ]
  },
  {
   "cell_type": "markdown",
   "metadata": {
    "id": "XtlEV7X6EHcg"
   },
   "source": [
    "Добавим в уже написанный код просмотра текстов всех биографий поиск упоминаний героев:"
   ]
  },
  {
   "cell_type": "code",
   "execution_count": 5,
   "metadata": {
    "colab": {
     "base_uri": "https://localhost:8080/",
     "height": 197
    },
    "executionInfo": {
     "elapsed": 8784,
     "status": "ok",
     "timestamp": 1602611762344,
     "user": {
      "displayName": "Дмитрий Широков",
      "photoUrl": "https://lh3.googleusercontent.com/a-/AOh14Gj5ZAs-5dMegnzmhLzTxoLXJmKnF6n7i3ZxETt9Vw=s64",
      "userId": "13642431705883450455"
     },
     "user_tz": -180
    },
    "id": "45yF3BNmslQw",
    "outputId": "2dc7cfc1-8256-4710-b794-581c2ecdbd3b"
   },
   "outputs": [
    {
     "name": "stdout",
     "output_type": "stream",
     "text": [
      "Гарри Поттер взаимодействовал(а) с: Рон, Гермион, Сириус, Хагрид, Джинн, Лили, Люциус, Драко.\n",
      "Джинни Уизли взаимодействовал(а) с: Гарри, Рон, Гермион, Сириус, Лили, Люциус, Драко.\n",
      "Лили Поттер взаимодействовал(а) с: Гарри, Сириус, Хагрид, Джинн, Драко.\n",
      "Гермиона Грейнджер взаимодействовал(а) с: Гарри, Рон, Сириус, Хагрид, Джинн, Лили, Драко.\n",
      "Сириус Блэк взаимодействовал(а) с: Гарри, Рон, Гермион, Хагрид, Лили.\n",
      "Рубеус Хагрид взаимодействовал(а) с: Гарри, Рон, Гермион, Драко.\n",
      "Рон Уизли взаимодействовал(а) с: Гарри, Гермион, Сириус, Хагрид, Джинн, Лили, Люциус, Драко.\n",
      "Астория Гринграсс взаимодействовал(а) с: Люциус, Драко.\n",
      "Люциус Малфой взаимодействовал(а) с: Гарри, Рон, Гермион, Сириус, Хагрид, Джинн, Астори, Драко.\n",
      "Драко Малфой взаимодействовал(а) с: Гарри, Рон, Гермион, Сириус, Хагрид, Джинн, Астори, Люциус.\n"
     ]
    }
   ],
   "source": [
    "import requests   \n",
    "from bs4 import BeautifulSoup\n",
    "\n",
    "base_url = 'https://online.hse.ru/python-as-foreign/1/'\n",
    "\n",
    "page = requests.get(base_url)\n",
    "page.encoding = 'utf-8'\n",
    "soup = BeautifulSoup(page.text)\n",
    "\n",
    "chars = ['Гарри', 'Рон', 'Гермион', 'Сириус', 'Хагрид', 'Джинн', 'Лили', 'Астори', 'Люциус', 'Драко']\n",
    "char_to_char = {} # Словарь вида герой => множество героев, с которыми он общается\n",
    "\n",
    "for link in soup.find_all('a'):\n",
    "    if link.get('href').endswith('html'):\n",
    "        page = requests.get(base_url+link.get('href'))\n",
    "        if page.status_code == 200:\n",
    "            page.encoding = 'utf-8'\n",
    "            s = BeautifulSoup(page.text)\n",
    "            \n",
    "            if link.text not in char_to_char:               # Если в нашем словаре множеств \n",
    "                                                            # нет ключа для изучаемого сейчас героя —\n",
    "                char_to_char[link.text] = []             # создадим этот ключ\n",
    "            for char in chars:                              # Просмотрим список имён героев\n",
    "                if char not in link.text:                   # Если мы не смотрим на страницу биографии героя\n",
    "                    if char in s.find('body').text:         # и если герой упоминается на странице,\n",
    "                        char_to_char[link.text].append(char)   # добавим его в множество взаимодействий\n",
    "\n",
    "for hero in char_to_char:\n",
    "    print(f'{hero} взаимодействовал(а) с: {\", \".join(char_to_char[hero])}.')"
   ]
  },
  {
   "cell_type": "markdown",
   "metadata": {
    "id": "pWG3KBBOFqRO"
   },
   "source": [
    "Можно заметить, что Астория Гринграсс взаимодействовала только с членами своей семьи (Малфои), что соответствует тексту книги:\n",
    "\n",
    "`Астория Гринграсс взаимодействовал(а) с: Драко, Люциус.`"
   ]
  },
  {
   "cell_type": "code",
   "execution_count": 6,
   "metadata": {},
   "outputs": [
    {
     "data": {
      "text/plain": [
       "{'Гарри Поттер': ['Рон',\n",
       "  'Гермион',\n",
       "  'Сириус',\n",
       "  'Хагрид',\n",
       "  'Джинн',\n",
       "  'Лили',\n",
       "  'Люциус',\n",
       "  'Драко'],\n",
       " 'Джинни Уизли': ['Гарри',\n",
       "  'Рон',\n",
       "  'Гермион',\n",
       "  'Сириус',\n",
       "  'Лили',\n",
       "  'Люциус',\n",
       "  'Драко'],\n",
       " 'Лили Поттер': ['Гарри', 'Сириус', 'Хагрид', 'Джинн', 'Драко'],\n",
       " 'Гермиона Грейнджер': ['Гарри',\n",
       "  'Рон',\n",
       "  'Сириус',\n",
       "  'Хагрид',\n",
       "  'Джинн',\n",
       "  'Лили',\n",
       "  'Драко'],\n",
       " 'Сириус Блэк': ['Гарри', 'Рон', 'Гермион', 'Хагрид', 'Лили'],\n",
       " 'Рубеус Хагрид': ['Гарри', 'Рон', 'Гермион', 'Драко'],\n",
       " 'Рон Уизли': ['Гарри',\n",
       "  'Гермион',\n",
       "  'Сириус',\n",
       "  'Хагрид',\n",
       "  'Джинн',\n",
       "  'Лили',\n",
       "  'Люциус',\n",
       "  'Драко'],\n",
       " 'Астория Гринграсс': ['Люциус', 'Драко'],\n",
       " 'Люциус Малфой': ['Гарри',\n",
       "  'Рон',\n",
       "  'Гермион',\n",
       "  'Сириус',\n",
       "  'Хагрид',\n",
       "  'Джинн',\n",
       "  'Астори',\n",
       "  'Драко'],\n",
       " 'Драко Малфой': ['Гарри',\n",
       "  'Рон',\n",
       "  'Гермион',\n",
       "  'Сириус',\n",
       "  'Хагрид',\n",
       "  'Джинн',\n",
       "  'Астори',\n",
       "  'Люциус']}"
      ]
     },
     "execution_count": 6,
     "metadata": {},
     "output_type": "execute_result"
    }
   ],
   "source": [
    "char_to_char"
   ]
  },
  {
   "cell_type": "code",
   "execution_count": null,
   "metadata": {},
   "outputs": [],
   "source": []
  }
 ],
 "metadata": {
  "colab": {
   "collapsed_sections": [],
   "name": "9.12.3 Подсчёт статистики употребления слов на странице сайта.ipynb",
   "provenance": []
  },
  "kernelspec": {
   "display_name": "Python 3",
   "language": "python",
   "name": "python3"
  },
  "language_info": {
   "codemirror_mode": {
    "name": "ipython",
    "version": 3
   },
   "file_extension": ".py",
   "mimetype": "text/x-python",
   "name": "python",
   "nbconvert_exporter": "python",
   "pygments_lexer": "ipython3",
   "version": "3.8.5"
  },
  "toc": {
   "base_numbering": 1,
   "nav_menu": {},
   "number_sections": true,
   "sideBar": true,
   "skip_h1_title": false,
   "title_cell": "Table of Contents",
   "title_sidebar": "Contents",
   "toc_cell": false,
   "toc_position": {},
   "toc_section_display": true,
   "toc_window_display": false
  }
 },
 "nbformat": 4,
 "nbformat_minor": 1
}
