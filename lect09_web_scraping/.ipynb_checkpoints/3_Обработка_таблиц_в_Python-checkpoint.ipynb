{
 "cells": [
  {
   "cell_type": "markdown",
   "metadata": {
    "id": "zUUXaM_EbEfu"
   },
   "source": [
    "# Обработка таблиц на сайтах\n",
    "1. Соберём множество страниц сайта;\n",
    "2. считаем таблицу с информацией с каждой страницы;\n",
    "3. найдём минимум и максимум зарплат для каждого города за каждый год."
   ]
  },
  {
   "cell_type": "markdown",
   "metadata": {
    "id": "zOHd-5PIJDH6"
   },
   "source": [
    "Для начала обратим внимание на то, что мы постоянно скачиваем страницу, настраиваем кодировку и обращаемся к ``BeautifulSoup``. Вынесем эти обращения в отдельную функцию:"
   ]
  },
  {
   "cell_type": "code",
   "execution_count": 2,
   "metadata": {
    "id": "09vrzgwHJLsF"
   },
   "outputs": [],
   "source": [
    "def get_soup_by_url(current_url):\n",
    "    page = requests.get(current_url)      # Загрузим страницу\n",
    "    page.encoding = 'utf-8'               # Поставим верную кодировку\n",
    "    soup = BeautifulSoup(page.text)       # Распознаем HTML-код\n",
    "    return soup"
   ]
  },
  {
   "cell_type": "markdown",
   "metadata": {
    "id": "6HMGPhCXRurs"
   },
   "source": [
    "Узнаем адреса всех страниц сайта, для этого:\n",
    "1. создадим множество, где мы будем сохранять адреса страниц,\n",
    "2. пока у нас есть адрес очередной страницы:\n",
    "    1. будем скачивать очередную страницу,\n",
    "    2. добавлять её адрес в множество,\n",
    "    3. искать в коде очередной страницы ссылку на новую страницу, и если такой нет:\n",
    "        * остановим цикл, так как мы дошли до конца сайта,\n",
    "    4. (если нашли новую ссылку) обновим адрес очередной страницы и вернёмся к началу цикла,\n",
    "\n",
    "3. в конце программы выведем список найденных адресов."
   ]
  },
  {
   "cell_type": "code",
   "execution_count": 12,
   "metadata": {},
   "outputs": [],
   "source": [
    "soup.find('a', text='предыдущий')"
   ]
  },
  {
   "cell_type": "code",
   "execution_count": 14,
   "metadata": {
    "colab": {
     "base_uri": "https://localhost:8080/",
     "height": 269
    },
    "executionInfo": {
     "elapsed": 12692,
     "status": "ok",
     "timestamp": 1602659013050,
     "user": {
      "displayName": "Дмитрий Широков",
      "photoUrl": "https://lh3.googleusercontent.com/a-/AOh14Gj5ZAs-5dMegnzmhLzTxoLXJmKnF6n7i3ZxETt9Vw=s64",
      "userId": "13642431705883450455"
     },
     "user_tz": -180
    },
    "id": "CKwoN3xEbySF",
    "outputId": "d5683420-71ec-4488-8510-5f5f42aac953"
   },
   "outputs": [
    {
     "name": "stdout",
     "output_type": "stream",
     "text": [
      "Ищем новую ссылку на странице https://online.hse.ru/python-as-foreign/2/\n",
      "Ищем новую ссылку на странице https://online.hse.ru/python-as-foreign/2/2018.html\n",
      "Ищем новую ссылку на странице https://online.hse.ru/python-as-foreign/2/2017.html\n",
      "Ищем новую ссылку на странице https://online.hse.ru/python-as-foreign/2/2016.html\n",
      "Ищем новую ссылку на странице https://online.hse.ru/python-as-foreign/2/2015.html\n",
      "Ищем новую ссылку на странице https://online.hse.ru/python-as-foreign/2/2014.html\n",
      "Ищем новую ссылку на странице https://online.hse.ru/python-as-foreign/2/2013.html\n",
      "https://online.hse.ru/python-as-foreign/2/2016.html\n",
      "https://online.hse.ru/python-as-foreign/2/2013.html\n",
      "https://online.hse.ru/python-as-foreign/2/\n",
      "https://online.hse.ru/python-as-foreign/2/2015.html\n",
      "https://online.hse.ru/python-as-foreign/2/2014.html\n",
      "https://online.hse.ru/python-as-foreign/2/2018.html\n",
      "https://online.hse.ru/python-as-foreign/2/2017.html\n"
     ]
    }
   ],
   "source": [
    "from bs4 import BeautifulSoup\n",
    "import requests\n",
    "\n",
    "base_url = 'https://online.hse.ru/python-as-foreign/2/'\n",
    "current_page = ''\n",
    "current_url = base_url + current_page\n",
    "\n",
    "urls = set()\n",
    "while True:\n",
    "    print(f'Ищем новую ссылку на странице {current_url}')\n",
    "    soup = get_soup_by_url(current_url)\n",
    "\n",
    "    urls.add(current_url)   # Добавим адрес открытой страницы в множество адресов\n",
    "    \n",
    "    next_link = soup.find('a', text='предыдущий')   # Найдём тег с адресом новой страницы\n",
    "    if next_link == None:                 # Если ссылки на новую страницу нет\n",
    "        break                         # — закончим поиск страниц, выйдя из цикла\n",
    "    new_page = next_link.get('href')  # Узнаем из этого тега адрес\n",
    "    current_url = base_url + new_page # Подготовимся загружать новую страницу\n",
    "\n",
    "for link in urls:   # Выведем адреса всех страниц сайта\n",
    "    print(link)\n",
    "    \n",
    "#None, NoneType, NaN = not a number    "
   ]
  },
  {
   "cell_type": "code",
   "execution_count": 6,
   "metadata": {},
   "outputs": [
    {
     "data": {
      "text/plain": [
       "NoneType"
      ]
     },
     "execution_count": 6,
     "metadata": {},
     "output_type": "execute_result"
    }
   ],
   "source": [
    "type(soup.find('a', text='предыдущий'))"
   ]
  },
  {
   "cell_type": "markdown",
   "metadata": {
    "id": "GiJfx253cSva"
   },
   "source": [
    "Научимся разбирать HTML-код таблицы и создавать на её основе словарь. Попробуем найти таблицу и вывести HTML-код всех её строк:"
   ]
  },
  {
   "cell_type": "code",
   "execution_count": 15,
   "metadata": {
    "colab": {
     "base_uri": "https://localhost:8080/",
     "height": 1000
    },
    "executionInfo": {
     "elapsed": 1941,
     "status": "ok",
     "timestamp": 1602612473267,
     "user": {
      "displayName": "Дмитрий Широков",
      "photoUrl": "https://lh3.googleusercontent.com/a-/AOh14Gj5ZAs-5dMegnzmhLzTxoLXJmKnF6n7i3ZxETt9Vw=s64",
      "userId": "13642431705883450455"
     },
     "user_tz": -180
    },
    "id": "z2udIoGgIccs",
    "outputId": "78aa78f8-3087-4521-c7c5-2211a41b51ab"
   },
   "outputs": [
    {
     "name": "stdout",
     "output_type": "stream",
     "text": [
      "Распознаём таблицу на странице https://online.hse.ru/python-as-foreign/2/:\n",
      "<tr>\n",
      "<th>Субъект федерации</th>\n",
      "<th>Январь</th>\n",
      "<th>Февраль</th>\n",
      "<th>Март</th>\n",
      "<th>Апрель</th>\n",
      "<th>Май</th>\n",
      "<th>Июнь</th>\n",
      "<th>Июль</th>\n",
      "<th>Август</th>\n",
      "<th>Сентябрь</th>\n",
      "<th>Октябрь</th>\n",
      "<th>Ноябрь</th>\n",
      "<th>Декабрь</th>\n",
      "</tr>\n",
      "<tr>\n",
      "<td>Москва</td>\n",
      "<td>79680</td>\n",
      "<td>85370</td>\n",
      "<td>95179</td>\n",
      "<td>102907</td>\n",
      "<td>89045</td>\n",
      "<td>96030</td>\n",
      "<td>91607</td>\n",
      "<td>86733</td>\n",
      "<td>86684</td>\n",
      "<td>89129</td>\n",
      "<td>88657</td>\n",
      "<td>135375</td>\n",
      "</tr>\n",
      "<tr>\n",
      "<td>Санкт-Петербург</td>\n",
      "<td>56586</td>\n",
      "<td>58625</td>\n",
      "<td>64413</td>\n",
      "<td>63555</td>\n",
      "<td>60752</td>\n",
      "<td>65286</td>\n",
      "<td>63207</td>\n",
      "<td>59249</td>\n",
      "<td>60205</td>\n",
      "<td>62224</td>\n",
      "<td>61141</td>\n",
      "<td>83582</td>\n",
      "</tr>\n",
      "<tr>\n",
      "<td>Нижний Новгород</td>\n",
      "<td>32998</td>\n",
      "<td>32041</td>\n",
      "<td>34735</td>\n",
      "<td>35952</td>\n",
      "<td>35355</td>\n",
      "<td>36656</td>\n",
      "<td>34646</td>\n",
      "<td>33909</td>\n",
      "<td>34012</td>\n",
      "<td>34867</td>\n",
      "<td>35876</td>\n",
      "<td>48768</td>\n",
      "</tr>\n",
      "<tr>\n",
      "<td>Пермь</td>\n",
      "<td>34035</td>\n",
      "<td>33932</td>\n",
      "<td>36919</td>\n",
      "<td>37721</td>\n",
      "<td>38887</td>\n",
      "<td>40614</td>\n",
      "<td>37150</td>\n",
      "<td>37067</td>\n",
      "<td>36948</td>\n",
      "<td>37773</td>\n",
      "<td>37986</td>\n",
      "<td>52684</td>\n",
      "</tr>\n"
     ]
    }
   ],
   "source": [
    "from bs4 import BeautifulSoup\n",
    "import requests\n",
    "\n",
    "url = 'https://online.hse.ru/python-as-foreign/2/'\n",
    "\n",
    "print(f'Распознаём таблицу на странице {url}:')\n",
    "soup = get_soup_by_url(url)      \n",
    "\n",
    "s = soup.find('table')      # Найдём таблицу на странице\n",
    "for tr in s.find_all('tr'): # Для каждой из найденных строк таблицы\n",
    "    print(tr)               # выведем код строки"
   ]
  },
  {
   "cell_type": "markdown",
   "metadata": {
    "id": "qIfj8QpqJc6S"
   },
   "source": [
    "Обратим внимание, что нас интересуют только строки таблицы с данными, т.е. строки с тегами `td`, а не `th`. Извлечём код всех ячеек с данными (тегов `td`):"
   ]
  },
  {
   "cell_type": "code",
   "execution_count": 16,
   "metadata": {
    "colab": {
     "base_uri": "https://localhost:8080/",
     "height": 971
    },
    "executionInfo": {
     "elapsed": 2505,
     "status": "ok",
     "timestamp": 1602612622259,
     "user": {
      "displayName": "Дмитрий Широков",
      "photoUrl": "https://lh3.googleusercontent.com/a-/AOh14Gj5ZAs-5dMegnzmhLzTxoLXJmKnF6n7i3ZxETt9Vw=s64",
      "userId": "13642431705883450455"
     },
     "user_tz": -180
    },
    "id": "zu0b0_sjJyrz",
    "outputId": "b28325cb-15f2-4a57-adc0-a2eaa126f755"
   },
   "outputs": [
    {
     "name": "stdout",
     "output_type": "stream",
     "text": [
      "Распознаём таблицу на странице https://online.hse.ru/python-as-foreign/2/:\n",
      "<td>Москва</td>\n",
      "<td>79680</td>\n",
      "<td>85370</td>\n",
      "<td>95179</td>\n",
      "<td>102907</td>\n",
      "<td>89045</td>\n",
      "<td>96030</td>\n",
      "<td>91607</td>\n",
      "<td>86733</td>\n",
      "<td>86684</td>\n",
      "<td>89129</td>\n",
      "<td>88657</td>\n",
      "<td>135375</td>\n",
      "<td>Санкт-Петербург</td>\n",
      "<td>56586</td>\n",
      "<td>58625</td>\n",
      "<td>64413</td>\n",
      "<td>63555</td>\n",
      "<td>60752</td>\n",
      "<td>65286</td>\n",
      "<td>63207</td>\n",
      "<td>59249</td>\n",
      "<td>60205</td>\n",
      "<td>62224</td>\n",
      "<td>61141</td>\n",
      "<td>83582</td>\n",
      "<td>Нижний Новгород</td>\n",
      "<td>32998</td>\n",
      "<td>32041</td>\n",
      "<td>34735</td>\n",
      "<td>35952</td>\n",
      "<td>35355</td>\n",
      "<td>36656</td>\n",
      "<td>34646</td>\n",
      "<td>33909</td>\n",
      "<td>34012</td>\n",
      "<td>34867</td>\n",
      "<td>35876</td>\n",
      "<td>48768</td>\n",
      "<td>Пермь</td>\n",
      "<td>34035</td>\n",
      "<td>33932</td>\n",
      "<td>36919</td>\n",
      "<td>37721</td>\n",
      "<td>38887</td>\n",
      "<td>40614</td>\n",
      "<td>37150</td>\n",
      "<td>37067</td>\n",
      "<td>36948</td>\n",
      "<td>37773</td>\n",
      "<td>37986</td>\n",
      "<td>52684</td>\n"
     ]
    }
   ],
   "source": [
    "from bs4 import BeautifulSoup\n",
    "import requests\n",
    "\n",
    "url = 'https://online.hse.ru/python-as-foreign/2/'\n",
    "\n",
    "print(f'Распознаём таблицу на странице {url}:')\n",
    "soup = get_soup_by_url(url)      \n",
    "\n",
    "s = soup.find('table')      \n",
    "for tr in s.find_all('tr'):         # Внутри каждой строки таблицы\n",
    "    for td in tr.find_all('td'):    # Для каждой из найденных ячеек с данными\n",
    "        print(td)                   # выведем HTML-код ячейки"
   ]
  },
  {
   "cell_type": "markdown",
   "metadata": {
    "id": "J8-fRGuMKTa7"
   },
   "source": [
    "Можно заметить, что все ячейки с данными можно разделить на два типа:\n",
    "1. ячейки с названием города, к которому относится строка таблицы;\n",
    "2. многих ячеек с числами.\n",
    "\n",
    "Научимся превращать таблицу в словарь, где ключами будут названия городов, а значениями — списки чисел, для этого:\n",
    "1. найдём на странице таблицу\n",
    "2. для каждой её строки\n",
    "    * переберём все ячейки с данными, и для каждой ячейки:\n",
    "        1. если она состоит не только из цифр:\n",
    "            * создадим ключ в словаре, так как мы нашли ячейку с названием города,\n",
    "        2. иначе (если она состоит только из цифр):\n",
    "            * добавим число из ячейки в список данных соответствующего города."
   ]
  },
  {
   "cell_type": "code",
   "execution_count": 17,
   "metadata": {
    "colab": {
     "base_uri": "https://localhost:8080/",
     "height": 107
    },
    "executionInfo": {
     "elapsed": 2723,
     "status": "ok",
     "timestamp": 1602659070031,
     "user": {
      "displayName": "Дмитрий Широков",
      "photoUrl": "https://lh3.googleusercontent.com/a-/AOh14Gj5ZAs-5dMegnzmhLzTxoLXJmKnF6n7i3ZxETt9Vw=s64",
      "userId": "13642431705883450455"
     },
     "user_tz": -180
    },
    "id": "NO7xh-Qrcd80",
    "outputId": "81ab8472-21f8-4610-84c6-4534df5ccdb6"
   },
   "outputs": [
    {
     "name": "stdout",
     "output_type": "stream",
     "text": [
      "Распознаём таблицу на странице https://online.hse.ru/python-as-foreign/2/\n",
      "Москва: [79680, 85370, 95179, 102907, 89045, 96030, 91607, 86733, 86684, 89129, 88657, 135375]\n",
      "Санкт-Петербург: [56586, 58625, 64413, 63555, 60752, 65286, 63207, 59249, 60205, 62224, 61141, 83582]\n",
      "Нижний Новгород: [32998, 32041, 34735, 35952, 35355, 36656, 34646, 33909, 34012, 34867, 35876, 48768]\n",
      "Пермь: [34035, 33932, 36919, 37721, 38887, 40614, 37150, 37067, 36948, 37773, 37986, 52684]\n"
     ]
    }
   ],
   "source": [
    "from bs4 import BeautifulSoup\n",
    "import requests\n",
    "\n",
    "url = 'https://online.hse.ru/python-as-foreign/2/'\n",
    "\n",
    "print(f'Распознаём таблицу на странице {url}')\n",
    "soup = get_soup_by_url(url)      \n",
    "\n",
    "table = {}                  # Создадим пустой словарь для хранения таблицы\n",
    "s = soup.find('table')      \n",
    "for tr in s.find_all('tr'): \n",
    "    for td in tr.find_all('td'):  \n",
    "        if not td.text.isdigit():   # Если в ячейке есть не только цифры — \n",
    "            city = td.text          # это название города\n",
    "            table[city] = []        # Создадим новый город в таблице\n",
    "        else:                       # Если в ячейке только цифры — \n",
    "            table[city].append(int(td.text))\n",
    "            # Добавим число из ячейки в список со статистикой города\n",
    "\n",
    "for city in table:\n",
    "    print(f'{city}: {table[city]}')"
   ]
  },
  {
   "cell_type": "markdown",
   "metadata": {
    "id": "D8ui6wT5MdHm"
   },
   "source": [
    "Таблица распознана. Выделим код таблицы в функцию, которая будет принимать ``soup`` с найденной таблицей, а возвращать словарь списков:"
   ]
  },
  {
   "cell_type": "code",
   "execution_count": 19,
   "metadata": {
    "id": "TcAgVDlydjgy"
   },
   "outputs": [],
   "source": [
    "# Эта функция принимает только один параметр — BeautifulSoup для таблицы\n",
    "def parse_table_to_dict(s):\n",
    "    table = {}    \n",
    "    for tr in s.find_all('tr'): \n",
    "        for td in tr.find_all('td'): \n",
    "            if not td.text.isdigit(): \n",
    "                city = td.text\n",
    "                table[city] = [] \n",
    "            else:\n",
    "                table[city].append(int(td.text))\n",
    "    return table      # Вернём полученную таблицу в основную программу"
   ]
  },
  {
   "cell_type": "markdown",
   "metadata": {
    "id": "PVpqdKlvMtEp"
   },
   "source": [
    "Проверим, что функция работает, заменив в уже написанной программе распознание таблицы на вызов функции `parse_table_to_dict()`: "
   ]
  },
  {
   "cell_type": "code",
   "execution_count": 20,
   "metadata": {
    "colab": {
     "base_uri": "https://localhost:8080/",
     "height": 107
    },
    "executionInfo": {
     "elapsed": 2976,
     "status": "ok",
     "timestamp": 1602659080259,
     "user": {
      "displayName": "Дмитрий Широков",
      "photoUrl": "https://lh3.googleusercontent.com/a-/AOh14Gj5ZAs-5dMegnzmhLzTxoLXJmKnF6n7i3ZxETt9Vw=s64",
      "userId": "13642431705883450455"
     },
     "user_tz": -180
    },
    "id": "jt1eCwaXM8yD",
    "outputId": "507ba0a3-bba4-4d9c-aff1-e9683df08261"
   },
   "outputs": [
    {
     "name": "stdout",
     "output_type": "stream",
     "text": [
      "Распознаём таблицу на странице https://online.hse.ru/python-as-foreign/2/\n",
      "Москва: [79680, 85370, 95179, 102907, 89045, 96030, 91607, 86733, 86684, 89129, 88657, 135375]\n",
      "Санкт-Петербург: [56586, 58625, 64413, 63555, 60752, 65286, 63207, 59249, 60205, 62224, 61141, 83582]\n",
      "Нижний Новгород: [32998, 32041, 34735, 35952, 35355, 36656, 34646, 33909, 34012, 34867, 35876, 48768]\n",
      "Пермь: [34035, 33932, 36919, 37721, 38887, 40614, 37150, 37067, 36948, 37773, 37986, 52684]\n"
     ]
    }
   ],
   "source": [
    "from bs4 import BeautifulSoup\n",
    "import requests\n",
    "\n",
    "url = 'https://online.hse.ru/python-as-foreign/2/'\n",
    "\n",
    "print(f'Распознаём таблицу на странице {url}')\n",
    "soup = get_soup_by_url(url)      \n",
    "table_soup = soup.find('table') \n",
    "\n",
    "table = parse_table_to_dict(table_soup)     \n",
    "\n",
    "for city in table:\n",
    "    print(f'{city}: {table[city]}')"
   ]
  },
  {
   "cell_type": "markdown",
   "metadata": {
    "id": "O-tKhvztNUUH"
   },
   "source": [
    "Распознаем таблицы на всех страницах сайта, для чего пройдём по всем адресам из уже найденного нами множества `urls`:"
   ]
  },
  {
   "cell_type": "code",
   "execution_count": 21,
   "metadata": {
    "colab": {
     "base_uri": "https://localhost:8080/",
     "height": 647
    },
    "executionInfo": {
     "elapsed": 13672,
     "status": "ok",
     "timestamp": 1602659108221,
     "user": {
      "displayName": "Дмитрий Широков",
      "photoUrl": "https://lh3.googleusercontent.com/a-/AOh14Gj5ZAs-5dMegnzmhLzTxoLXJmKnF6n7i3ZxETt9Vw=s64",
      "userId": "13642431705883450455"
     },
     "user_tz": -180
    },
    "id": "9IVVVl7tNXFG",
    "outputId": "ffc52bc6-3a7f-461e-b53d-b451581757eb"
   },
   "outputs": [
    {
     "name": "stdout",
     "output_type": "stream",
     "text": [
      "Распознаём таблицу на странице https://online.hse.ru/python-as-foreign/2/2016.html\n",
      "Москва: [60162, 67092, 70551, 74733, 69772, 73215, 69015, 68728, 66920, 67025, 67899, 98436]\n",
      "Санкт-Петербург: [42104, 45919, 48407, 46919, 47370, 50521, 48483, 46084, 47192, 47908, 48591, 65086]\n",
      "Нижний Новгород: [24959, 26241, 26731, 27673, 28570, 29323, 26889, 27163, 28040, 27481, 28717, 37262]\n",
      "Пермь: [27347, 27883, 29344, 29732, 30391, 31992, 30433, 30025, 30168, 29914, 30389, 40244]\n",
      "Распознаём таблицу на странице https://online.hse.ru/python-as-foreign/2/2013.html\n",
      "Москва: [48817, 49587, 55049, 59134, 54223, 58548, 58039, 53349, 52893, 54355, 54882, 76238]\n",
      "Санкт-Петербург: [32618, 33117, 36375, 36296, 36320, 38745, 37333, 35861, 37068, 37367, 38720, 51019]\n",
      "Нижний Новгород: [20429, 21122, 22179, 23228, 23740, 24356, 23421, 23096, 23118, 23888, 24376, 32455]\n",
      "Пермь: [21780, 21474, 22901, 24140, 24240, 25733, 24501, 24127, 24174, 24606, 24684, 34898]\n",
      "Распознаём таблицу на странице https://online.hse.ru/python-as-foreign/2/\n",
      "Москва: [79680, 85370, 95179, 102907, 89045, 96030, 91607, 86733, 86684, 89129, 88657, 135375]\n",
      "Санкт-Петербург: [56586, 58625, 64413, 63555, 60752, 65286, 63207, 59249, 60205, 62224, 61141, 83582]\n",
      "Нижний Новгород: [32998, 32041, 34735, 35952, 35355, 36656, 34646, 33909, 34012, 34867, 35876, 48768]\n",
      "Пермь: [34035, 33932, 36919, 37721, 38887, 40614, 37150, 37067, 36948, 37773, 37986, 52684]\n",
      "Распознаём таблицу на странице https://online.hse.ru/python-as-foreign/2/2015.html\n",
      "Москва: [56095, 60322, 61040, 66127, 64908, 66562, 64927, 59912, 60424, 61527, 62452, 88624]\n",
      "Санкт-Петербург: [39647, 40550, 42598, 44144, 42656, 44813, 43407, 40520, 41709, 43215, 43479, 57603]\n",
      "Нижний Новгород: [24447, 25657, 25838, 26674, 26834, 27629, 26533, 24755, 26199, 26269, 26386, 34263]\n",
      "Пермь: [25826, 25446, 27417, 28248, 27984, 29541, 27997, 27112, 27444, 27535, 27276, 37321]\n",
      "Распознаём таблицу на странице https://online.hse.ru/python-as-foreign/2/2014.html\n",
      "Москва: [53584, 54673, 59754, 64338, 58422, 62608, 61610, 56683, 59658, 61132, 61235, 82593]\n",
      "Санкт-Петербург: [36000, 36196, 40475, 40196, 39000, 41758, 40976, 37705, 39615, 40509, 41235, 54444]\n",
      "Нижний Новгород: [23538, 23747, 24684, 25591, 25913, 26544, 25219, 24751, 24971, 25900, 25629, 34899]\n",
      "Пермь: [25656, 24280, 25415, 27408, 26780, 27970, 26963, 25874, 26276, 26469, 26593, 36869]\n",
      "Распознаём таблицу на странице https://online.hse.ru/python-as-foreign/2/2018.html\n",
      "Москва: [70251, 80183, 84081, 89318, 81064, 90094, 80999, 77618, 77274, 79151, 78946, 113988]\n",
      "Санкт-Петербург: [58598, 57409, 60343, 59576, 57190, 62619, 59604, 56100, 57331, 57951, 58310, 77666]\n",
      "Нижний Новгород: [28980, 30999, 32399, 32936, 33395, 33900, 31529, 31692, 31170, 32514, 32973, 42519]\n",
      "Пермь: [32009, 32754, 34480, 35247, 36134, 37067, 34319, 34257, 33714, 34439, 34809, 47484]\n",
      "Распознаём таблицу на странице https://online.hse.ru/python-as-foreign/2/2017.html\n",
      "Москва: [61277, 67219, 72129, 77694, 69460, 77565, 70820, 67655, 69122, 69847, 70993, 104052]\n",
      "Санкт-Петербург: [47436, 49864, 53271, 53261, 52269, 57421, 53586, 51571, 52605, 53874, 54353, 72342]\n",
      "Нижний Новгород: [26727, 28530, 29290, 30301, 30865, 31479, 29063, 29199, 29303, 29402, 29883, 43005]\n",
      "Пермь: [29522, 29841, 31884, 32565, 32767, 33877, 31185, 31027, 31420, 31347, 31983, 42193]\n"
     ]
    }
   ],
   "source": [
    "from bs4 import BeautifulSoup\n",
    "import requests\n",
    "\n",
    "for url in urls:\n",
    "    print(f'Распознаём таблицу на странице {url}')\n",
    "    soup = get_soup_by_url(url)      \n",
    "    table_soup = soup.find('table') \n",
    "\n",
    "    table = parse_table_to_dict(table_soup)     \n",
    "\n",
    "    for city in table:\n",
    "        print(f'{city}: {table[city]}')"
   ]
  },
  {
   "cell_type": "markdown",
   "metadata": {
    "id": "gKuzDSa_Nzes"
   },
   "source": [
    "Наконец, посчитаем минимальную и максимальную зарплату для каждого города во всех таблицах:"
   ]
  },
  {
   "cell_type": "code",
   "execution_count": 22,
   "metadata": {
    "colab": {
     "base_uri": "https://localhost:8080/",
     "height": 1000
    },
    "executionInfo": {
     "elapsed": 11211,
     "status": "ok",
     "timestamp": 1602659137401,
     "user": {
      "displayName": "Дмитрий Широков",
      "photoUrl": "https://lh3.googleusercontent.com/a-/AOh14Gj5ZAs-5dMegnzmhLzTxoLXJmKnF6n7i3ZxETt9Vw=s64",
      "userId": "13642431705883450455"
     },
     "user_tz": -180
    },
    "id": "y7BDDaR7OB7P",
    "outputId": "8d594fd7-13a2-4d65-e5b5-6d74e8e9919f"
   },
   "outputs": [
    {
     "name": "stdout",
     "output_type": "stream",
     "text": [
      "Распознаём таблицу на странице https://online.hse.ru/python-as-foreign/2/2016.html\n",
      "В 2016 году:\n",
      "Москва: максимальная зарплата 98436\n",
      "Москва: минимальная зарплата 60162\n",
      "Санкт-Петербург: максимальная зарплата 65086\n",
      "Санкт-Петербург: минимальная зарплата 42104\n",
      "Нижний Новгород: максимальная зарплата 37262\n",
      "Нижний Новгород: минимальная зарплата 24959\n",
      "Пермь: максимальная зарплата 40244\n",
      "Пермь: минимальная зарплата 27347\n",
      "Распознаём таблицу на странице https://online.hse.ru/python-as-foreign/2/2013.html\n",
      "В 2013 году:\n",
      "Москва: максимальная зарплата 76238\n",
      "Москва: минимальная зарплата 48817\n",
      "Санкт-Петербург: максимальная зарплата 51019\n",
      "Санкт-Петербург: минимальная зарплата 32618\n",
      "Нижний Новгород: максимальная зарплата 32455\n",
      "Нижний Новгород: минимальная зарплата 20429\n",
      "Пермь: максимальная зарплата 34898\n",
      "Пермь: минимальная зарплата 21474\n",
      "Распознаём таблицу на странице https://online.hse.ru/python-as-foreign/2/\n",
      "В 2019 году:\n",
      "Москва: максимальная зарплата 135375\n",
      "Москва: минимальная зарплата 79680\n",
      "Санкт-Петербург: максимальная зарплата 83582\n",
      "Санкт-Петербург: минимальная зарплата 56586\n",
      "Нижний Новгород: максимальная зарплата 48768\n",
      "Нижний Новгород: минимальная зарплата 32041\n",
      "Пермь: максимальная зарплата 52684\n",
      "Пермь: минимальная зарплата 33932\n",
      "Распознаём таблицу на странице https://online.hse.ru/python-as-foreign/2/2015.html\n",
      "В 2015 году:\n",
      "Москва: максимальная зарплата 88624\n",
      "Москва: минимальная зарплата 56095\n",
      "Санкт-Петербург: максимальная зарплата 57603\n",
      "Санкт-Петербург: минимальная зарплата 39647\n",
      "Нижний Новгород: максимальная зарплата 34263\n",
      "Нижний Новгород: минимальная зарплата 24447\n",
      "Пермь: максимальная зарплата 37321\n",
      "Пермь: минимальная зарплата 25446\n",
      "Распознаём таблицу на странице https://online.hse.ru/python-as-foreign/2/2014.html\n",
      "В 2014 году:\n",
      "Москва: максимальная зарплата 82593\n",
      "Москва: минимальная зарплата 53584\n",
      "Санкт-Петербург: максимальная зарплата 54444\n",
      "Санкт-Петербург: минимальная зарплата 36000\n",
      "Нижний Новгород: максимальная зарплата 34899\n",
      "Нижний Новгород: минимальная зарплата 23538\n",
      "Пермь: максимальная зарплата 36869\n",
      "Пермь: минимальная зарплата 24280\n",
      "Распознаём таблицу на странице https://online.hse.ru/python-as-foreign/2/2018.html\n",
      "В 2018 году:\n",
      "Москва: максимальная зарплата 113988\n",
      "Москва: минимальная зарплата 70251\n",
      "Санкт-Петербург: максимальная зарплата 77666\n",
      "Санкт-Петербург: минимальная зарплата 56100\n",
      "Нижний Новгород: максимальная зарплата 42519\n",
      "Нижний Новгород: минимальная зарплата 28980\n",
      "Пермь: максимальная зарплата 47484\n",
      "Пермь: минимальная зарплата 32009\n",
      "Распознаём таблицу на странице https://online.hse.ru/python-as-foreign/2/2017.html\n",
      "В 2017 году:\n",
      "Москва: максимальная зарплата 104052\n",
      "Москва: минимальная зарплата 61277\n",
      "Санкт-Петербург: максимальная зарплата 72342\n",
      "Санкт-Петербург: минимальная зарплата 47436\n",
      "Нижний Новгород: максимальная зарплата 43005\n",
      "Нижний Новгород: минимальная зарплата 26727\n",
      "Пермь: максимальная зарплата 42193\n",
      "Пермь: минимальная зарплата 29522\n"
     ]
    }
   ],
   "source": [
    "from bs4 import BeautifulSoup\n",
    "import requests\n",
    "\n",
    "for url in urls:\n",
    "    print(f'Распознаём таблицу на странице {url}')\n",
    "    soup = get_soup_by_url(url)      \n",
    "    table_soup = soup.find('table') \n",
    "\n",
    "    year = soup.find('b').text    # Найдём год на странице. Он единственный выделен тегом b\n",
    "    print(f'В {year} году:')\n",
    "\n",
    "    table = parse_table_to_dict(table_soup)     \n",
    "\n",
    "    for city in table:\n",
    "        print(f'{city}: максимальная зарплата {max(table[city])}')\n",
    "        print(f'{city}: минимальная зарплата {min(table[city])}')"
   ]
  },
  {
   "cell_type": "markdown",
   "metadata": {
    "id": "gpqNE5hXwh0i"
   },
   "source": [
    "Итоговая программа этого блокнота:"
   ]
  },
  {
   "cell_type": "code",
   "execution_count": 23,
   "metadata": {
    "colab": {
     "base_uri": "https://localhost:8080/",
     "height": 1000
    },
    "executionInfo": {
     "elapsed": 21072,
     "status": "ok",
     "timestamp": 1602659180190,
     "user": {
      "displayName": "Дмитрий Широков",
      "photoUrl": "https://lh3.googleusercontent.com/a-/AOh14Gj5ZAs-5dMegnzmhLzTxoLXJmKnF6n7i3ZxETt9Vw=s64",
      "userId": "13642431705883450455"
     },
     "user_tz": -180
    },
    "id": "_1q_CkQjXDj-",
    "outputId": "3718edaf-30b9-4654-a32e-e10f43751aca"
   },
   "outputs": [
    {
     "name": "stdout",
     "output_type": "stream",
     "text": [
      "Ищем новую ссылку на странице https://online.hse.ru/python-as-foreign/2/\n",
      "Ищем новую ссылку на странице https://online.hse.ru/python-as-foreign/2/2018.html\n",
      "Ищем новую ссылку на странице https://online.hse.ru/python-as-foreign/2/2017.html\n",
      "Ищем новую ссылку на странице https://online.hse.ru/python-as-foreign/2/2016.html\n",
      "Ищем новую ссылку на странице https://online.hse.ru/python-as-foreign/2/2015.html\n",
      "Ищем новую ссылку на странице https://online.hse.ru/python-as-foreign/2/2014.html\n",
      "Ищем новую ссылку на странице https://online.hse.ru/python-as-foreign/2/2013.html\n",
      "Распознаём таблицу на странице https://online.hse.ru/python-as-foreign/2/2016.html\n",
      "В 2016 году:\n",
      "Москва: максимальная зарплата 98436\n",
      "Москва: минимальная зарплата 60162\n",
      "Санкт-Петербург: максимальная зарплата 65086\n",
      "Санкт-Петербург: минимальная зарплата 42104\n",
      "Нижний Новгород: максимальная зарплата 37262\n",
      "Нижний Новгород: минимальная зарплата 24959\n",
      "Пермь: максимальная зарплата 40244\n",
      "Пермь: минимальная зарплата 27347\n",
      "Распознаём таблицу на странице https://online.hse.ru/python-as-foreign/2/2013.html\n",
      "В 2013 году:\n",
      "Москва: максимальная зарплата 76238\n",
      "Москва: минимальная зарплата 48817\n",
      "Санкт-Петербург: максимальная зарплата 51019\n",
      "Санкт-Петербург: минимальная зарплата 32618\n",
      "Нижний Новгород: максимальная зарплата 32455\n",
      "Нижний Новгород: минимальная зарплата 20429\n",
      "Пермь: максимальная зарплата 34898\n",
      "Пермь: минимальная зарплата 21474\n",
      "Распознаём таблицу на странице https://online.hse.ru/python-as-foreign/2/\n",
      "В 2019 году:\n",
      "Москва: максимальная зарплата 135375\n",
      "Москва: минимальная зарплата 79680\n",
      "Санкт-Петербург: максимальная зарплата 83582\n",
      "Санкт-Петербург: минимальная зарплата 56586\n",
      "Нижний Новгород: максимальная зарплата 48768\n",
      "Нижний Новгород: минимальная зарплата 32041\n",
      "Пермь: максимальная зарплата 52684\n",
      "Пермь: минимальная зарплата 33932\n",
      "Распознаём таблицу на странице https://online.hse.ru/python-as-foreign/2/2015.html\n",
      "В 2015 году:\n",
      "Москва: максимальная зарплата 88624\n",
      "Москва: минимальная зарплата 56095\n",
      "Санкт-Петербург: максимальная зарплата 57603\n",
      "Санкт-Петербург: минимальная зарплата 39647\n",
      "Нижний Новгород: максимальная зарплата 34263\n",
      "Нижний Новгород: минимальная зарплата 24447\n",
      "Пермь: максимальная зарплата 37321\n",
      "Пермь: минимальная зарплата 25446\n",
      "Распознаём таблицу на странице https://online.hse.ru/python-as-foreign/2/2014.html\n",
      "В 2014 году:\n",
      "Москва: максимальная зарплата 82593\n",
      "Москва: минимальная зарплата 53584\n",
      "Санкт-Петербург: максимальная зарплата 54444\n",
      "Санкт-Петербург: минимальная зарплата 36000\n",
      "Нижний Новгород: максимальная зарплата 34899\n",
      "Нижний Новгород: минимальная зарплата 23538\n",
      "Пермь: максимальная зарплата 36869\n",
      "Пермь: минимальная зарплата 24280\n",
      "Распознаём таблицу на странице https://online.hse.ru/python-as-foreign/2/2018.html\n",
      "В 2018 году:\n",
      "Москва: максимальная зарплата 113988\n",
      "Москва: минимальная зарплата 70251\n",
      "Санкт-Петербург: максимальная зарплата 77666\n",
      "Санкт-Петербург: минимальная зарплата 56100\n",
      "Нижний Новгород: максимальная зарплата 42519\n",
      "Нижний Новгород: минимальная зарплата 28980\n",
      "Пермь: максимальная зарплата 47484\n",
      "Пермь: минимальная зарплата 32009\n",
      "Распознаём таблицу на странице https://online.hse.ru/python-as-foreign/2/2017.html\n",
      "В 2017 году:\n",
      "Москва: максимальная зарплата 104052\n",
      "Москва: минимальная зарплата 61277\n",
      "Санкт-Петербург: максимальная зарплата 72342\n",
      "Санкт-Петербург: минимальная зарплата 47436\n",
      "Нижний Новгород: максимальная зарплата 43005\n",
      "Нижний Новгород: минимальная зарплата 26727\n",
      "Пермь: максимальная зарплата 42193\n",
      "Пермь: минимальная зарплата 29522\n"
     ]
    }
   ],
   "source": [
    "def get_soup_by_url(current_url):\n",
    "    page = requests.get(current_url)      # Загрузим страницу\n",
    "    page.encoding = 'utf-8'               # Поставим верную кодировку\n",
    "    soup = BeautifulSoup(page.text)       # Распознаем HTML-код\n",
    "    return soup                           # Вернём готовый к использованию код\n",
    "\n",
    "# Эта функция принимает только один параметр — BeautifulSoup для таблицы\n",
    "def parse_table_to_dict(s):\n",
    "    table = {}                          # Создадим пустой словарь для хранения таблицы\n",
    "    for tr in s.find_all('tr'):         # Внутри каждой строки таблицы\n",
    "        for td in tr.find_all('td'):    # Для каждой из найденных ячеек с данными\n",
    "            if not td.text.isdigit():   # Если в ячейке есть не только цифры — \n",
    "                city = td.text          # это название города\n",
    "                table[city] = []        # Создадим новый город в таблице\n",
    "            else:                       # Если в ячейке только цифры — \n",
    "                table[city].append(int(td.text))\n",
    "                      # Добавим число из ячейки в список со статистикой города\n",
    "    return table      # Вернём полученный словарь списков в основную программу\n",
    "\n",
    "from bs4 import BeautifulSoup\n",
    "import requests\n",
    "\n",
    "base_url = 'https://online.hse.ru/python-as-foreign/2/' # Сохраним общий для всех страниц адрес\n",
    "current_page = ''\n",
    "current_url = base_url + current_page\n",
    "\n",
    "urls = set()    # Создадим множество, где будем хранить адреса всех страниц сайта\n",
    "while True:\n",
    "    print(f'Ищем новую ссылку на странице {current_url}')\n",
    "    soup = get_soup_by_url(current_url)\n",
    "\n",
    "    urls.add(current_url)   # Добавим адрес открытой страницы в множество адресов\n",
    "    \n",
    "    next_link = soup.find('a', text='предыдущий')   # Найдём тег с адресом новой страницы\n",
    "    if not next_link:                 # Если ссылки на новую страницу нет\n",
    "        break                         # — закончим поиск страниц, выйдя из цикла\n",
    "    new_page = next_link.get('href')  # Узнаем из этого тега адрес\n",
    "    current_url = base_url + new_page # Подготовимся загружать новую страницу\n",
    "\n",
    "for url in urls:\n",
    "    print(f'Распознаём таблицу на странице {url}')\n",
    "    soup = get_soup_by_url(url)      \n",
    "    table_soup = soup.find('table') \n",
    "\n",
    "    year = soup.find('b').text    # Найдём год на странице. Он единственный выделен тегом b\n",
    "    print(f'В {year} году:')\n",
    "\n",
    "    table = parse_table_to_dict(table_soup)     \n",
    "\n",
    "    for city in table:\n",
    "        print(f'{city}: максимальная зарплата {max(table[city])}')\n",
    "        print(f'{city}: минимальная зарплата {min(table[city])}')"
   ]
  },
  {
   "cell_type": "code",
   "execution_count": null,
   "metadata": {},
   "outputs": [],
   "source": []
  }
 ],
 "metadata": {
  "colab": {
   "collapsed_sections": [],
   "name": "9.12.4-9.12.5 Извлечение данных из таблиц.ipynb",
   "provenance": []
  },
  "kernelspec": {
   "display_name": "Python 3",
   "language": "python",
   "name": "python3"
  },
  "language_info": {
   "codemirror_mode": {
    "name": "ipython",
    "version": 3
   },
   "file_extension": ".py",
   "mimetype": "text/x-python",
   "name": "python",
   "nbconvert_exporter": "python",
   "pygments_lexer": "ipython3",
   "version": "3.8.5"
  },
  "toc": {
   "base_numbering": 1,
   "nav_menu": {},
   "number_sections": true,
   "sideBar": true,
   "skip_h1_title": false,
   "title_cell": "Table of Contents",
   "title_sidebar": "Contents",
   "toc_cell": false,
   "toc_position": {},
   "toc_section_display": true,
   "toc_window_display": false
  }
 },
 "nbformat": 4,
 "nbformat_minor": 1
}
