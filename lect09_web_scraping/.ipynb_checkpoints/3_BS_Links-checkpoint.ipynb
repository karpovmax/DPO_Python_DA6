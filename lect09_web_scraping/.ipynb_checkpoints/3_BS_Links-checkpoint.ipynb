{
 "cells": [
  {
   "cell_type": "markdown",
   "metadata": {},
   "source": [
    "# Python для анализа данных\n",
    "\n",
    "## Веб-скрэйпинг: переход по ссылкам, скачивание файлов\n",
    "\n",
    "*Автор: Татьяна Рогович, НИУ ВШЭ*"
   ]
  },
  {
   "cell_type": "markdown",
   "metadata": {},
   "source": [
    "На прошлом занятии мы с вами работали с табличными данными. Второй очень частой задачей для скрэйпинга является автоматический переход по ссылкам. Обычно мы встречаемся с двумя сценариями: переход по нумерованным страницам (обычно это выдача поиска или некоторый упорядоченный архив документов) и переход по определенным ссылкам на странице. Сегодня будем учиться делать и то, и то.\n",
    "\n",
    "Давайте начнем с учебного примера."
   ]
  },
  {
   "cell_type": "markdown",
   "metadata": {},
   "source": [
    "# Задача\n",
    "\n",
    "По ссылке http://py4e-data.dr-chuck.net/known_by_Lilian.html список людей, которых знает Лилиан. Нужно найти ее 18-го друга (считаем с одного) и перейти по ссылке (там будет список людей, которых знает этот друг). Какой имя вы извлечете, если эту операцию повторить 7 раз? То есть нам нужно найти 18-го друга 6-го человека.\n",
    "\n",
    "Прежде всего изучите исходный код страницы. В каком теге лежат ссылки?"
   ]
  },
  {
   "cell_type": "code",
   "execution_count": 5,
   "metadata": {},
   "outputs": [
    {
     "name": "stdout",
     "output_type": "stream",
     "text": [
      "<a href=\"http://py4e-data.dr-chuck.net/known_by_Tigan.html\">Tigan</a>\n"
     ]
    }
   ],
   "source": [
    "# решение\n",
    "import requests \n",
    "from bs4 import BeautifulSoup\n",
    "\n",
    "friends = requests.get('http://py4e-data.dr-chuck.net/known_by_Lilian.html').text\n",
    "soup = BeautifulSoup(friends, 'lxml')\n",
    "print(soup.find_all('a')[17]) # ссылки лежат в тэге 'a', находим 18-го друга"
   ]
  },
  {
   "cell_type": "markdown",
   "metadata": {},
   "source": [
    "Обратите внимание, что нужная нам информация лежит в атрибуте href, достать текст, как мы делали раньше не поможет."
   ]
  },
  {
   "cell_type": "code",
   "execution_count": 7,
   "metadata": {},
   "outputs": [
    {
     "name": "stdout",
     "output_type": "stream",
     "text": [
      "http://py4e-data.dr-chuck.net/known_by_Tigan.html\n"
     ]
    }
   ],
   "source": [
    "print(soup.find_all('a')[17].get('href')) # с помощью метода get достаем информацию из атрибут href"
   ]
  },
  {
   "cell_type": "markdown",
   "metadata": {},
   "source": [
    "Теперь осталось упаковать все в цикл."
   ]
  },
  {
   "cell_type": "code",
   "execution_count": 8,
   "metadata": {},
   "outputs": [
    {
     "name": "stdout",
     "output_type": "stream",
     "text": [
      "http://py4e-data.dr-chuck.net/known_by_Tigan.html\n",
      "http://py4e-data.dr-chuck.net/known_by_Mickey.html\n",
      "http://py4e-data.dr-chuck.net/known_by_Marvin.html\n",
      "http://py4e-data.dr-chuck.net/known_by_Yago.html\n",
      "http://py4e-data.dr-chuck.net/known_by_Daood.html\n",
      "http://py4e-data.dr-chuck.net/known_by_Jillian.html\n",
      "Ответ: Bradly\n"
     ]
    }
   ],
   "source": [
    "friends = requests.get('http://py4e-data.dr-chuck.net/known_by_Lilian.html').text\n",
    "soup = BeautifulSoup(friends, 'lxml')\n",
    "\n",
    "for ix in range(6):\n",
    "    link = soup.find_all('a')[17].get('href')\n",
    "    print(link)\n",
    "    soup = BeautifulSoup(requests.get(link).text, 'lxml')\n",
    "    \n",
    "print('Ответ: '+soup.find_all('a')[17].text)"
   ]
  },
  {
   "cell_type": "code",
   "execution_count": null,
   "metadata": {},
   "outputs": [],
   "source": []
  }
 ],
 "metadata": {
  "kernelspec": {
   "display_name": "Python 3",
   "language": "python",
   "name": "python3"
  },
  "language_info": {
   "codemirror_mode": {
    "name": "ipython",
    "version": 3
   },
   "file_extension": ".py",
   "mimetype": "text/x-python",
   "name": "python",
   "nbconvert_exporter": "python",
   "pygments_lexer": "ipython3",
   "version": "3.8.5"
  },
  "toc": {
   "base_numbering": 1,
   "nav_menu": {},
   "number_sections": true,
   "sideBar": true,
   "skip_h1_title": false,
   "title_cell": "Table of Contents",
   "title_sidebar": "Contents",
   "toc_cell": false,
   "toc_position": {},
   "toc_section_display": true,
   "toc_window_display": false
  },
  "varInspector": {
   "cols": {
    "lenName": 16,
    "lenType": 16,
    "lenVar": 40
   },
   "kernels_config": {
    "python": {
     "delete_cmd_postfix": "",
     "delete_cmd_prefix": "del ",
     "library": "var_list.py",
     "varRefreshCmd": "print(var_dic_list())"
    },
    "r": {
     "delete_cmd_postfix": ") ",
     "delete_cmd_prefix": "rm(",
     "library": "var_list.r",
     "varRefreshCmd": "cat(var_dic_list()) "
    }
   },
   "types_to_exclude": [
    "module",
    "function",
    "builtin_function_or_method",
    "instance",
    "_Feature"
   ],
   "window_display": false
  }
 },
 "nbformat": 4,
 "nbformat_minor": 2
}
