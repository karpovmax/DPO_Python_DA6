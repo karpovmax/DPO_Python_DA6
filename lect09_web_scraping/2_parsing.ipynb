{
 "cells": [
  {
   "cell_type": "markdown",
   "metadata": {},
   "source": [
    "## Парсинг – продолжение"
   ]
  },
  {
   "cell_type": "code",
   "execution_count": 1,
   "metadata": {},
   "outputs": [],
   "source": [
    "import numpy as np\n",
    "import pandas as pd\n",
    "import matplotlib.pyplot as plt\n",
    "import seaborn as sns"
   ]
  },
  {
   "cell_type": "code",
   "execution_count": 2,
   "metadata": {},
   "outputs": [
    {
     "data": {
      "text/plain": [
       "<Response [200]>"
      ]
     },
     "execution_count": 2,
     "metadata": {},
     "output_type": "execute_result"
    }
   ],
   "source": [
    "import requests  \n",
    "\n",
    "url = 'http://books.toscrape.com/catalogue/page-1.html'\n",
    "response = requests.get(url)\n",
    "response"
   ]
  },
  {
   "cell_type": "code",
   "execution_count": 3,
   "metadata": {},
   "outputs": [
    {
     "data": {
      "text/plain": [
       "b'\\n\\n<!DOCTYPE html>\\n<!--[if lt IE 7]>      <html lang=\"en-us\" class=\"no-js lt-ie9 lt-ie8 lt-ie7\"> <![endif]-->\\n<!--[if IE 7]>         <html lang=\"en-us\" class=\"no-js lt-ie9 lt-ie8\"> <![endif]-->\\n<!--[if IE 8]>         <html lang=\"en-us\" class=\"no-js lt-ie9\"> <![endif]-->\\n<!--[if gt IE 8]><!--> <html lang=\"en-us\" class=\"no-js\"> <!--<![endif]-->\\n    <head>\\n        <title>\\n    All products | Books to Scrape - Sandbox\\n</title>\\n\\n        <meta http-equiv=\"content-type\" content=\"text/html; charset=UTF-8\" />\\n        <meta name=\"created\" content=\"24th Jun 2016 09:30\" />\\n        <meta name=\"description\" content=\"\" />\\n        <meta name=\"viewport\" content=\"width=device-width\" />\\n        <meta name=\"robots\" content=\"NOARCHIVE,NOCACHE\" />\\n\\n        <!-- Le HTML5 shim, for IE6-8 support of HTML elements -->\\n        <!--[if lt IE 9]>\\n        <script src=\"//html5shim.googlecode.com/svn/trunk/html5.js\"></script>\\n        <![endif]-->\\n\\n        \\n            <link rel=\"shortcut icon\" href=\"../static/oscar/fav'"
      ]
     },
     "execution_count": 3,
     "metadata": {},
     "output_type": "execute_result"
    }
   ],
   "source": [
    "response.content[:1000]"
   ]
  },
  {
   "cell_type": "code",
   "execution_count": 4,
   "metadata": {},
   "outputs": [],
   "source": [
    "from bs4 import BeautifulSoup"
   ]
  },
  {
   "cell_type": "code",
   "execution_count": 5,
   "metadata": {},
   "outputs": [],
   "source": [
    "tree = BeautifulSoup(response.content, 'html.parser')"
   ]
  },
  {
   "cell_type": "code",
   "execution_count": 7,
   "metadata": {},
   "outputs": [
    {
     "data": {
      "text/plain": [
       "'All products | Books to Scrape - Sandbox'"
      ]
     },
     "execution_count": 7,
     "metadata": {},
     "output_type": "execute_result"
    }
   ],
   "source": [
    "tree.html.head.title.text.strip()"
   ]
  },
  {
   "cell_type": "code",
   "execution_count": 8,
   "metadata": {},
   "outputs": [
    {
     "data": {
      "text/plain": [
       "<article class=\"product_pod\">\n",
       "<div class=\"image_container\">\n",
       "<a href=\"a-light-in-the-attic_1000/index.html\"><img alt=\"A Light in the Attic\" class=\"thumbnail\" src=\"../media/cache/2c/da/2cdad67c44b002e7ead0cc35693c0e8b.jpg\"/></a>\n",
       "</div>\n",
       "<p class=\"star-rating Three\">\n",
       "<i class=\"icon-star\"></i>\n",
       "<i class=\"icon-star\"></i>\n",
       "<i class=\"icon-star\"></i>\n",
       "<i class=\"icon-star\"></i>\n",
       "<i class=\"icon-star\"></i>\n",
       "</p>\n",
       "<h3><a href=\"a-light-in-the-attic_1000/index.html\" title=\"A Light in the Attic\">A Light in the ...</a></h3>\n",
       "<div class=\"product_price\">\n",
       "<p class=\"price_color\">£51.77</p>\n",
       "<p class=\"instock availability\">\n",
       "<i class=\"icon-ok\"></i>\n",
       "    \n",
       "        In stock\n",
       "    \n",
       "</p>\n",
       "<form>\n",
       "<button class=\"btn btn-primary btn-block\" data-loading-text=\"Adding...\" type=\"submit\">Add to basket</button>\n",
       "</form>\n",
       "</div>\n",
       "</article>"
      ]
     },
     "execution_count": 8,
     "metadata": {},
     "output_type": "execute_result"
    }
   ],
   "source": [
    "books = tree.find_all('article', {'class' : 'product_pod'})\n",
    "books[0]"
   ]
  },
  {
   "cell_type": "code",
   "execution_count": 9,
   "metadata": {},
   "outputs": [
    {
     "data": {
      "text/plain": [
       "'£51.77'"
      ]
     },
     "execution_count": 9,
     "metadata": {},
     "output_type": "execute_result"
    }
   ],
   "source": [
    "books[0].find('p', {'class': 'price_color'}).text"
   ]
  },
  {
   "cell_type": "code",
   "execution_count": 10,
   "metadata": {},
   "outputs": [
    {
     "data": {
      "text/plain": [
       "'Three'"
      ]
     },
     "execution_count": 10,
     "metadata": {},
     "output_type": "execute_result"
    }
   ],
   "source": [
    "books[0].p.get('class')[1]"
   ]
  },
  {
   "cell_type": "code",
   "execution_count": 11,
   "metadata": {},
   "outputs": [
    {
     "data": {
      "text/plain": [
       "'a-light-in-the-attic_1000/index.html'"
      ]
     },
     "execution_count": 11,
     "metadata": {},
     "output_type": "execute_result"
    }
   ],
   "source": [
    "books[0].a.get('href')"
   ]
  },
  {
   "cell_type": "code",
   "execution_count": 12,
   "metadata": {},
   "outputs": [
    {
     "data": {
      "text/plain": [
       "'A Light in the Attic'"
      ]
     },
     "execution_count": 12,
     "metadata": {},
     "output_type": "execute_result"
    }
   ],
   "source": [
    "books[0].h3.a.get('title')"
   ]
  },
  {
   "cell_type": "code",
   "execution_count": 13,
   "metadata": {},
   "outputs": [],
   "source": [
    "def get_page(p):\n",
    "    url = 'http://books.toscrape.com/catalogue/page-{}.html'.format(p)\n",
    "    response = requests.get(url)\n",
    "    tree = BeautifulSoup(response.content, 'html.parser')\n",
    "    books = tree.find_all('article', {'class' : 'product_pod'})\n",
    "    \n",
    "    info = []\n",
    "    \n",
    "    for book in books:\n",
    "        info.append({'price': book.find('p', {'class': 'price_color'}).text,\n",
    "                     'href': book.h3.a.get('href'),\n",
    "                     'title': book.h3.a.get('title'),\n",
    "                    'rating': book.p.get('class')[1]})\n",
    "                     \n",
    "    return info"
   ]
  },
  {
   "cell_type": "code",
   "execution_count": 14,
   "metadata": {},
   "outputs": [],
   "source": [
    "import time\n",
    "infa = []\n",
    "\n",
    "for p in range(1,51):\n",
    "    try:\n",
    "        infa.extend(get_page(p))\n",
    "        time.sleep(5)\n",
    "    except:\n",
    "        print(p)"
   ]
  },
  {
   "cell_type": "code",
   "execution_count": 16,
   "metadata": {},
   "outputs": [
    {
     "name": "stdout",
     "output_type": "stream",
     "text": [
      "(1000, 4)\n"
     ]
    },
    {
     "data": {
      "text/html": [
       "<div>\n",
       "<style scoped>\n",
       "    .dataframe tbody tr th:only-of-type {\n",
       "        vertical-align: middle;\n",
       "    }\n",
       "\n",
       "    .dataframe tbody tr th {\n",
       "        vertical-align: top;\n",
       "    }\n",
       "\n",
       "    .dataframe thead th {\n",
       "        text-align: right;\n",
       "    }\n",
       "</style>\n",
       "<table border=\"1\" class=\"dataframe\">\n",
       "  <thead>\n",
       "    <tr style=\"text-align: right;\">\n",
       "      <th></th>\n",
       "      <th>price</th>\n",
       "      <th>href</th>\n",
       "      <th>title</th>\n",
       "      <th>rating</th>\n",
       "    </tr>\n",
       "  </thead>\n",
       "  <tbody>\n",
       "    <tr>\n",
       "      <th>0</th>\n",
       "      <td>£51.77</td>\n",
       "      <td>a-light-in-the-attic_1000/index.html</td>\n",
       "      <td>A Light in the Attic</td>\n",
       "      <td>Three</td>\n",
       "    </tr>\n",
       "    <tr>\n",
       "      <th>1</th>\n",
       "      <td>£53.74</td>\n",
       "      <td>tipping-the-velvet_999/index.html</td>\n",
       "      <td>Tipping the Velvet</td>\n",
       "      <td>One</td>\n",
       "    </tr>\n",
       "    <tr>\n",
       "      <th>2</th>\n",
       "      <td>£50.10</td>\n",
       "      <td>soumission_998/index.html</td>\n",
       "      <td>Soumission</td>\n",
       "      <td>One</td>\n",
       "    </tr>\n",
       "    <tr>\n",
       "      <th>3</th>\n",
       "      <td>£47.82</td>\n",
       "      <td>sharp-objects_997/index.html</td>\n",
       "      <td>Sharp Objects</td>\n",
       "      <td>Four</td>\n",
       "    </tr>\n",
       "    <tr>\n",
       "      <th>4</th>\n",
       "      <td>£54.23</td>\n",
       "      <td>sapiens-a-brief-history-of-humankind_996/index...</td>\n",
       "      <td>Sapiens: A Brief History of Humankind</td>\n",
       "      <td>Five</td>\n",
       "    </tr>\n",
       "  </tbody>\n",
       "</table>\n",
       "</div>"
      ],
      "text/plain": [
       "    price                                               href  \\\n",
       "0  £51.77               a-light-in-the-attic_1000/index.html   \n",
       "1  £53.74                  tipping-the-velvet_999/index.html   \n",
       "2  £50.10                          soumission_998/index.html   \n",
       "3  £47.82                       sharp-objects_997/index.html   \n",
       "4  £54.23  sapiens-a-brief-history-of-humankind_996/index...   \n",
       "\n",
       "                                   title rating  \n",
       "0                   A Light in the Attic  Three  \n",
       "1                     Tipping the Velvet    One  \n",
       "2                             Soumission    One  \n",
       "3                          Sharp Objects   Four  \n",
       "4  Sapiens: A Brief History of Humankind   Five  "
      ]
     },
     "execution_count": 16,
     "metadata": {},
     "output_type": "execute_result"
    }
   ],
   "source": [
    "import pandas as pd\n",
    "\n",
    "df = pd.DataFrame(infa)\n",
    "print(df.shape)\n",
    "df.head()"
   ]
  },
  {
   "cell_type": "code",
   "execution_count": 19,
   "metadata": {},
   "outputs": [],
   "source": [
    "df.to_csv('books_parsed.csv', index=False)"
   ]
  },
  {
   "cell_type": "code",
   "execution_count": 21,
   "metadata": {},
   "outputs": [],
   "source": [
    "df.to_excel('books_parsed.xlsx', index=False)"
   ]
  },
  {
   "cell_type": "code",
   "execution_count": 30,
   "metadata": {},
   "outputs": [
    {
     "name": "stdout",
     "output_type": "stream",
     "text": [
      "<class 'pandas.core.frame.DataFrame'>\n",
      "RangeIndex: 1000 entries, 0 to 999\n",
      "Data columns (total 4 columns):\n",
      " #   Column  Non-Null Count  Dtype  \n",
      "---  ------  --------------  -----  \n",
      " 0   price   1000 non-null   float64\n",
      " 1   href    1000 non-null   object \n",
      " 2   title   1000 non-null   object \n",
      " 3   rating  1000 non-null   object \n",
      "dtypes: float64(1), object(3)\n",
      "memory usage: 31.4+ KB\n"
     ]
    }
   ],
   "source": [
    "df.info()"
   ]
  },
  {
   "cell_type": "code",
   "execution_count": 25,
   "metadata": {},
   "outputs": [
    {
     "data": {
      "text/plain": [
       "51.77"
      ]
     },
     "execution_count": 25,
     "metadata": {},
     "output_type": "execute_result"
    }
   ],
   "source": [
    "float(df.loc[0, 'price'][1:])"
   ]
  },
  {
   "cell_type": "code",
   "execution_count": 26,
   "metadata": {},
   "outputs": [],
   "source": [
    "def get_price(price):\n",
    "    return float(price[1:])"
   ]
  },
  {
   "cell_type": "code",
   "execution_count": 29,
   "metadata": {},
   "outputs": [],
   "source": [
    "df['price'] = df['price'].apply(get_price)"
   ]
  },
  {
   "cell_type": "code",
   "execution_count": 34,
   "metadata": {},
   "outputs": [
    {
     "data": {
      "image/png": "[encoded data removed]",
      "text/plain": [
       "<Figure size 432x288 with 1 Axes>"
      ]
     },
     "metadata": {
      "needs_background": "light"
     },
     "output_type": "display_data"
    }
   ],
   "source": [
    "sns.histplot(data=df, x='price', bins=30);"
   ]
  },
  {
   "cell_type": "code",
   "execution_count": 35,
   "metadata": {},
   "outputs": [],
   "source": [
    "def get_rating(r):\n",
    "    if r == \"One\":\n",
    "        return 1\n",
    "    elif r == \"Two\":\n",
    "        return 2\n",
    "    elif r == 'Three':\n",
    "        return 3\n",
    "    elif r == 'Four':\n",
    "        return 4\n",
    "    else:\n",
    "        return 5"
   ]
  },
  {
   "cell_type": "code",
   "execution_count": 37,
   "metadata": {},
   "outputs": [],
   "source": [
    "df['rating'] = df['rating'].apply(get_rating)"
   ]
  },
  {
   "cell_type": "code",
   "execution_count": 38,
   "metadata": {},
   "outputs": [
    {
     "data": {
      "text/plain": [
       "1    226\n",
       "3    203\n",
       "5    196\n",
       "2    196\n",
       "4    179\n",
       "Name: rating, dtype: int64"
      ]
     },
     "execution_count": 38,
     "metadata": {},
     "output_type": "execute_result"
    }
   ],
   "source": [
    "df.rating.value_counts()"
   ]
  },
  {
   "cell_type": "markdown",
   "metadata": {},
   "source": [
    "## Парсинг – задание"
   ]
  },
  {
   "cell_type": "markdown",
   "metadata": {},
   "source": [
    "По аналогии с работой на семинаре Вам предстоит собрать данные с сайта https://quotes.toscrape.com/. \n",
    "\n",
    "Нужно получить pandas dataframe, где есть колонки:\n",
    "* `quote` – цитата\n",
    "* `author` – автор\n",
    "* `название_тега` – 1, если этот тег стоит у цитаты, и 0, если нет. Количество таких колонок равно количеству тегов на сайте.\n",
    "\n",
    "Выведите все цитаты, у которых есть тег \"truth\"."
   ]
  },
  {
   "cell_type": "code",
   "execution_count": 39,
   "metadata": {},
   "outputs": [],
   "source": [
    "url = 'https://quotes.toscrape.com/page/1/'"
   ]
  },
  {
   "cell_type": "code",
   "execution_count": 40,
   "metadata": {},
   "outputs": [
    {
     "data": {
      "text/plain": [
       "<Response [200]>"
      ]
     },
     "execution_count": 40,
     "metadata": {},
     "output_type": "execute_result"
    }
   ],
   "source": [
    "response = requests.get(url)\n",
    "response"
   ]
  },
  {
   "cell_type": "code",
   "execution_count": 41,
   "metadata": {},
   "outputs": [],
   "source": [
    "tree = BeautifulSoup(response.content, 'html.parser')"
   ]
  },
  {
   "cell_type": "code",
   "execution_count": 43,
   "metadata": {},
   "outputs": [
    {
     "data": {
      "text/plain": [
       "<div class=\"quote\" itemscope=\"\" itemtype=\"http://schema.org/CreativeWork\">\n",
       "<span class=\"text\" itemprop=\"text\">“The world as we have created it is a process of our thinking. It cannot be changed without changing our thinking.”</span>\n",
       "<span>by <small class=\"author\" itemprop=\"author\">Albert Einstein</small>\n",
       "<a href=\"/author/Albert-Einstein\">(about)</a>\n",
       "</span>\n",
       "<div class=\"tags\">\n",
       "            Tags:\n",
       "            <meta class=\"keywords\" content=\"change,deep-thoughts,thinking,world\" itemprop=\"keywords\"/>\n",
       "<a class=\"tag\" href=\"/tag/change/page/1/\">change</a>\n",
       "<a class=\"tag\" href=\"/tag/deep-thoughts/page/1/\">deep-thoughts</a>\n",
       "<a class=\"tag\" href=\"/tag/thinking/page/1/\">thinking</a>\n",
       "<a class=\"tag\" href=\"/tag/world/page/1/\">world</a>\n",
       "</div>\n",
       "</div>"
      ]
     },
     "execution_count": 43,
     "metadata": {},
     "output_type": "execute_result"
    }
   ],
   "source": [
    "quotes = tree.find_all('div', {'class' : 'quote'})\n",
    "quotes[0]"
   ]
  },
  {
   "cell_type": "code",
   "execution_count": 45,
   "metadata": {},
   "outputs": [
    {
     "data": {
      "text/plain": [
       "'“The world as we have created it is a process of our thinking. It cannot be changed without changing our thinking.”'"
      ]
     },
     "execution_count": 45,
     "metadata": {},
     "output_type": "execute_result"
    }
   ],
   "source": [
    "quotes[0].span.text"
   ]
  },
  {
   "cell_type": "code",
   "execution_count": 51,
   "metadata": {},
   "outputs": [
    {
     "data": {
      "text/plain": [
       "'Albert Einstein'"
      ]
     },
     "execution_count": 51,
     "metadata": {},
     "output_type": "execute_result"
    }
   ],
   "source": [
    "quotes[0].find('small', {'class':'author'}).text"
   ]
  },
  {
   "cell_type": "code",
   "execution_count": 75,
   "metadata": {},
   "outputs": [
    {
     "data": {
      "text/plain": [
       "[<a class=\"tag\" href=\"/tag/change/page/1/\">change</a>,\n",
       " <a class=\"tag\" href=\"/tag/deep-thoughts/page/1/\">deep-thoughts</a>,\n",
       " <a class=\"tag\" href=\"/tag/thinking/page/1/\">thinking</a>,\n",
       " <a class=\"tag\" href=\"/tag/world/page/1/\">world</a>]"
      ]
     },
     "execution_count": 75,
     "metadata": {},
     "output_type": "execute_result"
    }
   ],
   "source": [
    "quotes[0].find_all('a', {'class': 'tag'})"
   ]
  },
  {
   "cell_type": "code",
   "execution_count": 77,
   "metadata": {},
   "outputs": [
    {
     "data": {
      "text/plain": [
       "'change'"
      ]
     },
     "execution_count": 77,
     "metadata": {},
     "output_type": "execute_result"
    }
   ],
   "source": [
    "quotes[0].find_all('a', {'class': 'tag'})[0].text"
   ]
  },
  {
   "cell_type": "code",
   "execution_count": 53,
   "metadata": {},
   "outputs": [
    {
     "data": {
      "text/plain": [
       "['change', 'deep-thoughts', 'thinking', 'world']"
      ]
     },
     "execution_count": 53,
     "metadata": {},
     "output_type": "execute_result"
    }
   ],
   "source": [
    "tags = []\n",
    "for tag in quotes[0].find_all('a', {'class': 'tag'}):\n",
    "    tags.append(tag.text)\n",
    "tags"
   ]
  },
  {
   "cell_type": "code",
   "execution_count": 78,
   "metadata": {},
   "outputs": [],
   "source": [
    "info = []\n",
    "for q in quotes:\n",
    "    \n",
    "    tags = []\n",
    "    for tag in q.find_all('a', {'class': 'tag'}):\n",
    "        tags.append(tag.text)\n",
    "        \n",
    "    info.append({'quote': q.span.text,\n",
    "                'author': q.find('small', {'class':'author'}).text,\n",
    "                'tags': tags})"
   ]
  },
  {
   "cell_type": "code",
   "execution_count": 79,
   "metadata": {},
   "outputs": [
    {
     "data": {
      "text/plain": [
       "[{'quote': '“The world as we have created it is a process of our thinking. It cannot be changed without changing our thinking.”',\n",
       "  'author': 'Albert Einstein',\n",
       "  'tags': ['change', 'deep-thoughts', 'thinking', 'world']},\n",
       " {'quote': '“It is our choices, Harry, that show what we truly are, far more than our abilities.”',\n",
       "  'author': 'J.K. Rowling',\n",
       "  'tags': ['abilities', 'choices']},\n",
       " {'quote': '“There are only two ways to live your life. One is as though nothing is a miracle. The other is as though everything is a miracle.”',\n",
       "  'author': 'Albert Einstein',\n",
       "  'tags': ['inspirational', 'life', 'live', 'miracle', 'miracles']},\n",
       " {'quote': '“The person, be it gentleman or lady, who has not pleasure in a good novel, must be intolerably stupid.”',\n",
       "  'author': 'Jane Austen',\n",
       "  'tags': ['aliteracy', 'books', 'classic', 'humor']},\n",
       " {'quote': \"“Imperfection is beauty, madness is genius and it's better to be absolutely ridiculous than absolutely boring.”\",\n",
       "  'author': 'Marilyn Monroe',\n",
       "  'tags': ['be-yourself', 'inspirational']},\n",
       " {'quote': '“Try not to become a man of success. Rather become a man of value.”',\n",
       "  'author': 'Albert Einstein',\n",
       "  'tags': ['adulthood', 'success', 'value']},\n",
       " {'quote': '“It is better to be hated for what you are than to be loved for what you are not.”',\n",
       "  'author': 'André Gide',\n",
       "  'tags': ['life', 'love']},\n",
       " {'quote': \"“I have not failed. I've just found 10,000 ways that won't work.”\",\n",
       "  'author': 'Thomas A. Edison',\n",
       "  'tags': ['edison', 'failure', 'inspirational', 'paraphrased']},\n",
       " {'quote': \"“A woman is like a tea bag; you never know how strong it is until it's in hot water.”\",\n",
       "  'author': 'Eleanor Roosevelt',\n",
       "  'tags': ['misattributed-eleanor-roosevelt']},\n",
       " {'quote': '“A day without sunshine is like, you know, night.”',\n",
       "  'author': 'Steve Martin',\n",
       "  'tags': ['humor', 'obvious', 'simile']}]"
      ]
     },
     "execution_count": 79,
     "metadata": {},
     "output_type": "execute_result"
    }
   ],
   "source": [
    "info"
   ]
  },
  {
   "cell_type": "code",
   "execution_count": 80,
   "metadata": {},
   "outputs": [
    {
     "data": {
      "text/plain": [
       "b'<!DOCTYPE html>\\n<html lang=\"en\">\\n<head>\\n\\t<meta charset=\"UTF-8\">\\n\\t<title>Quotes to Scrape</title>\\n    <link rel=\"stylesheet\" href=\"/static/bootstrap.min.css\">\\n    <link rel=\"stylesheet\" href=\"/static/main.css\">\\n</head>\\n<body>\\n    <div class=\"container\">\\n        <div class=\"row header-box\">\\n            <div class=\"col-md-8\">\\n                <h1>\\n                    <a href=\"/\" style=\"text-decoration: none\">Quotes to Scrape</a>\\n                </h1>\\n            </div>\\n            <div class=\"col-md-4\">\\n                <p>\\n                \\n                    <a href=\"/login\">Login</a>\\n                \\n                </p>\\n            </div>\\n        </div>\\n    \\n\\n<div class=\"row\">\\n    <div class=\"col-md-8\">\\n\\n    <div class=\"quote\" itemscope itemtype=\"http://schema.org/CreativeWork\">\\n        <span class=\"text\" itemprop=\"text\">\\xe2\\x80\\x9cThe world as we have created it is a process of our thinking. It cannot be changed without changing our thinking.\\xe2\\x80\\x9d</span>\\n        <span>by <small class=\"author\" it'"
      ]
     },
     "execution_count": 80,
     "metadata": {},
     "output_type": "execute_result"
    }
   ],
   "source": [
    "response.content[:1000]"
   ]
  },
  {
   "cell_type": "code",
   "execution_count": 81,
   "metadata": {},
   "outputs": [],
   "source": [
    "def get_page(p):\n",
    "    url = 'https://quotes.toscrape.com/page/{}/'.format(p)\n",
    "    response = requests.get(url)\n",
    "    tree = BeautifulSoup(response.content, 'html.parser')\n",
    "    quotes = tree.find_all('div', {'class' : 'quote'})\n",
    "    \n",
    "    info = []\n",
    "    for q in quotes:\n",
    "\n",
    "        tags = []\n",
    "        for tag in q.find_all('a', {'class': 'tag'}):\n",
    "            tags.append(tag.text)\n",
    "\n",
    "        info.append({'quote': q.span.text,\n",
    "                    'author': q.find('small', {'class':'author'}).text,\n",
    "                    'tags': tags})\n",
    "    return info"
   ]
  },
  {
   "cell_type": "code",
   "execution_count": 82,
   "metadata": {},
   "outputs": [],
   "source": [
    "info = []\n",
    "\n",
    "for p in range(1,11):\n",
    "    info.extend(get_page(p))"
   ]
  },
  {
   "cell_type": "code",
   "execution_count": 84,
   "metadata": {},
   "outputs": [
    {
     "data": {
      "text/plain": [
       "100"
      ]
     },
     "execution_count": 84,
     "metadata": {},
     "output_type": "execute_result"
    }
   ],
   "source": [
    "len(info)"
   ]
  },
  {
   "cell_type": "code",
   "execution_count": 85,
   "metadata": {},
   "outputs": [],
   "source": [
    "df = pd.DataFrame(info)"
   ]
  },
  {
   "cell_type": "code",
   "execution_count": 86,
   "metadata": {},
   "outputs": [
    {
     "data": {
      "text/html": [
       "<div>\n",
       "<style scoped>\n",
       "    .dataframe tbody tr th:only-of-type {\n",
       "        vertical-align: middle;\n",
       "    }\n",
       "\n",
       "    .dataframe tbody tr th {\n",
       "        vertical-align: top;\n",
       "    }\n",
       "\n",
       "    .dataframe thead th {\n",
       "        text-align: right;\n",
       "    }\n",
       "</style>\n",
       "<table border=\"1\" class=\"dataframe\">\n",
       "  <thead>\n",
       "    <tr style=\"text-align: right;\">\n",
       "      <th></th>\n",
       "      <th>quote</th>\n",
       "      <th>author</th>\n",
       "      <th>tags</th>\n",
       "    </tr>\n",
       "  </thead>\n",
       "  <tbody>\n",
       "    <tr>\n",
       "      <th>0</th>\n",
       "      <td>“The world as we have created it is a process ...</td>\n",
       "      <td>Albert Einstein</td>\n",
       "      <td>[change, deep-thoughts, thinking, world]</td>\n",
       "    </tr>\n",
       "    <tr>\n",
       "      <th>1</th>\n",
       "      <td>“It is our choices, Harry, that show what we t...</td>\n",
       "      <td>J.K. Rowling</td>\n",
       "      <td>[abilities, choices]</td>\n",
       "    </tr>\n",
       "    <tr>\n",
       "      <th>2</th>\n",
       "      <td>“There are only two ways to live your life. On...</td>\n",
       "      <td>Albert Einstein</td>\n",
       "      <td>[inspirational, life, live, miracle, miracles]</td>\n",
       "    </tr>\n",
       "    <tr>\n",
       "      <th>3</th>\n",
       "      <td>“The person, be it gentleman or lady, who has ...</td>\n",
       "      <td>Jane Austen</td>\n",
       "      <td>[aliteracy, books, classic, humor]</td>\n",
       "    </tr>\n",
       "    <tr>\n",
       "      <th>4</th>\n",
       "      <td>“Imperfection is beauty, madness is genius and...</td>\n",
       "      <td>Marilyn Monroe</td>\n",
       "      <td>[be-yourself, inspirational]</td>\n",
       "    </tr>\n",
       "  </tbody>\n",
       "</table>\n",
       "</div>"
      ],
      "text/plain": [
       "                                               quote           author  \\\n",
       "0  “The world as we have created it is a process ...  Albert Einstein   \n",
       "1  “It is our choices, Harry, that show what we t...     J.K. Rowling   \n",
       "2  “There are only two ways to live your life. On...  Albert Einstein   \n",
       "3  “The person, be it gentleman or lady, who has ...      Jane Austen   \n",
       "4  “Imperfection is beauty, madness is genius and...   Marilyn Monroe   \n",
       "\n",
       "                                             tags  \n",
       "0        [change, deep-thoughts, thinking, world]  \n",
       "1                            [abilities, choices]  \n",
       "2  [inspirational, life, live, miracle, miracles]  \n",
       "3              [aliteracy, books, classic, humor]  \n",
       "4                    [be-yourself, inspirational]  "
      ]
     },
     "execution_count": 86,
     "metadata": {},
     "output_type": "execute_result"
    }
   ],
   "source": [
    "df.head()"
   ]
  },
  {
   "cell_type": "code",
   "execution_count": 65,
   "metadata": {},
   "outputs": [],
   "source": [
    "tags_set = set(df['tags'].explode().values)"
   ]
  },
  {
   "cell_type": "code",
   "execution_count": 91,
   "metadata": {},
   "outputs": [
    {
     "data": {
      "text/plain": [
       "{'',\n",
       " 'abilities',\n",
       " 'activism',\n",
       " 'adulthood',\n",
       " 'adventure',\n",
       " 'age',\n",
       " 'alcohol',\n",
       " 'aliteracy',\n",
       " 'apathy',\n",
       " 'attributed',\n",
       " 'attributed-no-source',\n",
       " 'authors',\n",
       " 'be-yourself',\n",
       " 'beatles',\n",
       " 'better-life-empathy',\n",
       " 'bilbo',\n",
       " 'books',\n",
       " 'change',\n",
       " 'children',\n",
       " 'chocolate',\n",
       " 'choices',\n",
       " 'christianity',\n",
       " 'classic',\n",
       " 'comedy',\n",
       " 'connection',\n",
       " 'contentment',\n",
       " 'courage',\n",
       " 'death',\n",
       " 'deep-thoughts',\n",
       " 'difficult',\n",
       " 'dreamers',\n",
       " 'dreaming',\n",
       " 'dreams',\n",
       " 'drug',\n",
       " 'dumbledore',\n",
       " 'edison',\n",
       " 'education',\n",
       " 'elizabeth-bennet',\n",
       " 'failure',\n",
       " 'fairy-tales',\n",
       " 'fairytales',\n",
       " 'faith',\n",
       " 'fantasy',\n",
       " 'fate',\n",
       " 'fear',\n",
       " 'food',\n",
       " 'friends',\n",
       " 'friendship',\n",
       " 'girls',\n",
       " 'god',\n",
       " 'good',\n",
       " 'growing-up',\n",
       " 'grown-ups',\n",
       " 'happiness',\n",
       " 'hate',\n",
       " 'heartbreak',\n",
       " 'hope',\n",
       " 'humor',\n",
       " 'imagination',\n",
       " 'indifference',\n",
       " 'insanity',\n",
       " 'inspiration',\n",
       " 'inspirational',\n",
       " 'integrity',\n",
       " 'jane-austen',\n",
       " 'journey',\n",
       " 'knowledge',\n",
       " 'lack-of-friendship',\n",
       " 'lack-of-love',\n",
       " 'learning',\n",
       " 'library',\n",
       " 'lies',\n",
       " 'life',\n",
       " 'literature',\n",
       " 'live',\n",
       " 'live-death-love',\n",
       " 'lost',\n",
       " 'love',\n",
       " 'lying',\n",
       " 'marriage',\n",
       " 'mind',\n",
       " 'miracle',\n",
       " 'miracles',\n",
       " 'misattributed-eleanor-roosevelt',\n",
       " 'misattributed-john-lennon',\n",
       " 'misattributed-mark-twain',\n",
       " 'misattributed-to-c-s-lewis',\n",
       " 'misattributed-to-einstein',\n",
       " 'misattributed-to-mother-teresa',\n",
       " 'mistakes',\n",
       " 'music',\n",
       " 'navigation',\n",
       " 'novelist-quotes',\n",
       " 'obvious',\n",
       " 'open-mind',\n",
       " 'opposite',\n",
       " 'paraphrased',\n",
       " 'peace',\n",
       " 'philosophy',\n",
       " 'planning',\n",
       " 'plans',\n",
       " 'poetry',\n",
       " 'quest',\n",
       " 'read',\n",
       " 'readers',\n",
       " 'reading',\n",
       " 'reading-books',\n",
       " 'regrets',\n",
       " 'religion',\n",
       " 'romance',\n",
       " 'romantic',\n",
       " 'self-indulgence',\n",
       " 'seuss',\n",
       " 'simile',\n",
       " 'simplicity',\n",
       " 'sinister',\n",
       " 'sisters',\n",
       " 'success',\n",
       " 'sun',\n",
       " 'tea',\n",
       " 'the-hunger-games',\n",
       " 'thinking',\n",
       " 'thought',\n",
       " 'travel',\n",
       " 'troubles',\n",
       " 'truth',\n",
       " 'understand',\n",
       " 'understanding',\n",
       " 'unhappy-marriage',\n",
       " 'value',\n",
       " 'wander',\n",
       " 'wisdom',\n",
       " 'women',\n",
       " 'world',\n",
       " 'write',\n",
       " 'writers',\n",
       " 'writing',\n",
       " 'yourself'}"
      ]
     },
     "execution_count": 91,
     "metadata": {},
     "output_type": "execute_result"
    }
   ],
   "source": [
    "tags_set"
   ]
  },
  {
   "cell_type": "code",
   "execution_count": 98,
   "metadata": {},
   "outputs": [],
   "source": [
    "for tag in tags_set:\n",
    "    df[tag] = [tag in df['tags'].loc[i] for i in df.index]"
   ]
  },
  {
   "cell_type": "code",
   "execution_count": 99,
   "metadata": {},
   "outputs": [],
   "source": [
    "pd.set_option('display.max_columns', 500)"
   ]
  },
  {
   "cell_type": "code",
   "execution_count": 100,
   "metadata": {},
   "outputs": [
    {
     "data": {
      "text/html": [
       "<div>\n",
       "<style scoped>\n",
       "    .dataframe tbody tr th:only-of-type {\n",
       "        vertical-align: middle;\n",
       "    }\n",
       "\n",
       "    .dataframe tbody tr th {\n",
       "        vertical-align: top;\n",
       "    }\n",
       "\n",
       "    .dataframe thead th {\n",
       "        text-align: right;\n",
       "    }\n",
       "</style>\n",
       "<table border=\"1\" class=\"dataframe\">\n",
       "  <thead>\n",
       "    <tr style=\"text-align: right;\">\n",
       "      <th></th>\n",
       "      <th>quote</th>\n",
       "      <th>author</th>\n",
       "      <th>tags</th>\n",
       "      <th></th>\n",
       "      <th>fantasy</th>\n",
       "      <th>education</th>\n",
       "      <th>unhappy-marriage</th>\n",
       "      <th>value</th>\n",
       "      <th>misattributed-to-einstein</th>\n",
       "      <th>paraphrased</th>\n",
       "      <th>lack-of-love</th>\n",
       "      <th>be-yourself</th>\n",
       "      <th>library</th>\n",
       "      <th>heartbreak</th>\n",
       "      <th>alcohol</th>\n",
       "      <th>open-mind</th>\n",
       "      <th>simile</th>\n",
       "      <th>attributed-no-source</th>\n",
       "      <th>navigation</th>\n",
       "      <th>edison</th>\n",
       "      <th>fate</th>\n",
       "      <th>christianity</th>\n",
       "      <th>humor</th>\n",
       "      <th>success</th>\n",
       "      <th>activism</th>\n",
       "      <th>women</th>\n",
       "      <th>indifference</th>\n",
       "      <th>sinister</th>\n",
       "      <th>adulthood</th>\n",
       "      <th>inspirational</th>\n",
       "      <th>simplicity</th>\n",
       "      <th>dreams</th>\n",
       "      <th>quest</th>\n",
       "      <th>religion</th>\n",
       "      <th>adventure</th>\n",
       "      <th>understanding</th>\n",
       "      <th>authors</th>\n",
       "      <th>misattributed-john-lennon</th>\n",
       "      <th>comedy</th>\n",
       "      <th>romantic</th>\n",
       "      <th>miracles</th>\n",
       "      <th>growing-up</th>\n",
       "      <th>thought</th>\n",
       "      <th>food</th>\n",
       "      <th>grown-ups</th>\n",
       "      <th>lost</th>\n",
       "      <th>tea</th>\n",
       "      <th>plans</th>\n",
       "      <th>change</th>\n",
       "      <th>failure</th>\n",
       "      <th>obvious</th>\n",
       "      <th>fairytales</th>\n",
       "      <th>lies</th>\n",
       "      <th>seuss</th>\n",
       "      <th>god</th>\n",
       "      <th>journey</th>\n",
       "      <th>sun</th>\n",
       "      <th>happiness</th>\n",
       "      <th>sisters</th>\n",
       "      <th>hope</th>\n",
       "      <th>write</th>\n",
       "      <th>girls</th>\n",
       "      <th>literature</th>\n",
       "      <th>beatles</th>\n",
       "      <th>contentment</th>\n",
       "      <th>romance</th>\n",
       "      <th>life</th>\n",
       "      <th>friendship</th>\n",
       "      <th>mistakes</th>\n",
       "      <th>misattributed-to-mother-teresa</th>\n",
       "      <th>world</th>\n",
       "      <th>fear</th>\n",
       "      <th>readers</th>\n",
       "      <th>poetry</th>\n",
       "      <th>inspiration</th>\n",
       "      <th>truth</th>\n",
       "      <th>misattributed-to-c-s-lewis</th>\n",
       "      <th>lying</th>\n",
       "      <th>reading</th>\n",
       "      <th>misattributed-mark-twain</th>\n",
       "      <th>mind</th>\n",
       "      <th>wisdom</th>\n",
       "      <th>writing</th>\n",
       "      <th>classic</th>\n",
       "      <th>love</th>\n",
       "      <th>the-hunger-games</th>\n",
       "      <th>live</th>\n",
       "      <th>chocolate</th>\n",
       "      <th>troubles</th>\n",
       "      <th>integrity</th>\n",
       "      <th>marriage</th>\n",
       "      <th>misattributed-eleanor-roosevelt</th>\n",
       "      <th>hate</th>\n",
       "      <th>lack-of-friendship</th>\n",
       "      <th>jane-austen</th>\n",
       "      <th>faith</th>\n",
       "      <th>death</th>\n",
       "      <th>peace</th>\n",
       "      <th>apathy</th>\n",
       "      <th>children</th>\n",
       "      <th>planning</th>\n",
       "      <th>books</th>\n",
       "      <th>dreaming</th>\n",
       "      <th>age</th>\n",
       "      <th>writers</th>\n",
       "      <th>miracle</th>\n",
       "      <th>thinking</th>\n",
       "      <th>reading-books</th>\n",
       "      <th>connection</th>\n",
       "      <th>friends</th>\n",
       "      <th>regrets</th>\n",
       "      <th>learning</th>\n",
       "      <th>better-life-empathy</th>\n",
       "      <th>elizabeth-bennet</th>\n",
       "      <th>deep-thoughts</th>\n",
       "      <th>music</th>\n",
       "      <th>read</th>\n",
       "      <th>imagination</th>\n",
       "      <th>aliteracy</th>\n",
       "      <th>dumbledore</th>\n",
       "      <th>choices</th>\n",
       "      <th>abilities</th>\n",
       "      <th>difficult</th>\n",
       "      <th>insanity</th>\n",
       "      <th>understand</th>\n",
       "      <th>travel</th>\n",
       "      <th>fairy-tales</th>\n",
       "      <th>self-indulgence</th>\n",
       "      <th>attributed</th>\n",
       "      <th>opposite</th>\n",
       "      <th>bilbo</th>\n",
       "      <th>philosophy</th>\n",
       "      <th>novelist-quotes</th>\n",
       "      <th>drug</th>\n",
       "      <th>knowledge</th>\n",
       "      <th>good</th>\n",
       "      <th>yourself</th>\n",
       "      <th>courage</th>\n",
       "      <th>live-death-love</th>\n",
       "      <th>wander</th>\n",
       "      <th>dreamers</th>\n",
       "    </tr>\n",
       "  </thead>\n",
       "  <tbody>\n",
       "    <tr>\n",
       "      <th>0</th>\n",
       "      <td>“The world as we have created it is a process ...</td>\n",
       "      <td>Albert Einstein</td>\n",
       "      <td>[change, deep-thoughts, thinking, world]</td>\n",
       "      <td>False</td>\n",
       "      <td>False</td>\n",
       "      <td>False</td>\n",
       "      <td>False</td>\n",
       "      <td>False</td>\n",
       "      <td>False</td>\n",
       "      <td>False</td>\n",
       "      <td>False</td>\n",
       "      <td>False</td>\n",
       "      <td>False</td>\n",
       "      <td>False</td>\n",
       "      <td>False</td>\n",
       "      <td>False</td>\n",
       "      <td>False</td>\n",
       "      <td>False</td>\n",
       "      <td>False</td>\n",
       "      <td>False</td>\n",
       "      <td>False</td>\n",
       "      <td>False</td>\n",
       "      <td>False</td>\n",
       "      <td>False</td>\n",
       "      <td>False</td>\n",
       "      <td>False</td>\n",
       "      <td>False</td>\n",
       "      <td>False</td>\n",
       "      <td>False</td>\n",
       "      <td>False</td>\n",
       "      <td>False</td>\n",
       "      <td>False</td>\n",
       "      <td>False</td>\n",
       "      <td>False</td>\n",
       "      <td>False</td>\n",
       "      <td>False</td>\n",
       "      <td>False</td>\n",
       "      <td>False</td>\n",
       "      <td>False</td>\n",
       "      <td>False</td>\n",
       "      <td>False</td>\n",
       "      <td>False</td>\n",
       "      <td>False</td>\n",
       "      <td>False</td>\n",
       "      <td>False</td>\n",
       "      <td>False</td>\n",
       "      <td>False</td>\n",
       "      <td>False</td>\n",
       "      <td>True</td>\n",
       "      <td>False</td>\n",
       "      <td>False</td>\n",
       "      <td>False</td>\n",
       "      <td>False</td>\n",
       "      <td>False</td>\n",
       "      <td>False</td>\n",
       "      <td>False</td>\n",
       "      <td>False</td>\n",
       "      <td>False</td>\n",
       "      <td>False</td>\n",
       "      <td>False</td>\n",
       "      <td>False</td>\n",
       "      <td>False</td>\n",
       "      <td>False</td>\n",
       "      <td>False</td>\n",
       "      <td>False</td>\n",
       "      <td>False</td>\n",
       "      <td>False</td>\n",
       "      <td>False</td>\n",
       "      <td>False</td>\n",
       "      <td>False</td>\n",
       "      <td>True</td>\n",
       "      <td>False</td>\n",
       "      <td>False</td>\n",
       "      <td>False</td>\n",
       "      <td>False</td>\n",
       "      <td>False</td>\n",
       "      <td>False</td>\n",
       "      <td>False</td>\n",
       "      <td>False</td>\n",
       "      <td>False</td>\n",
       "      <td>False</td>\n",
       "      <td>False</td>\n",
       "      <td>False</td>\n",
       "      <td>False</td>\n",
       "      <td>False</td>\n",
       "      <td>False</td>\n",
       "      <td>False</td>\n",
       "      <td>False</td>\n",
       "      <td>False</td>\n",
       "      <td>False</td>\n",
       "      <td>False</td>\n",
       "      <td>False</td>\n",
       "      <td>False</td>\n",
       "      <td>False</td>\n",
       "      <td>False</td>\n",
       "      <td>False</td>\n",
       "      <td>False</td>\n",
       "      <td>False</td>\n",
       "      <td>False</td>\n",
       "      <td>False</td>\n",
       "      <td>False</td>\n",
       "      <td>False</td>\n",
       "      <td>False</td>\n",
       "      <td>False</td>\n",
       "      <td>False</td>\n",
       "      <td>False</td>\n",
       "      <td>True</td>\n",
       "      <td>False</td>\n",
       "      <td>False</td>\n",
       "      <td>False</td>\n",
       "      <td>False</td>\n",
       "      <td>False</td>\n",
       "      <td>False</td>\n",
       "      <td>False</td>\n",
       "      <td>True</td>\n",
       "      <td>False</td>\n",
       "      <td>False</td>\n",
       "      <td>False</td>\n",
       "      <td>False</td>\n",
       "      <td>False</td>\n",
       "      <td>False</td>\n",
       "      <td>False</td>\n",
       "      <td>False</td>\n",
       "      <td>False</td>\n",
       "      <td>False</td>\n",
       "      <td>False</td>\n",
       "      <td>False</td>\n",
       "      <td>False</td>\n",
       "      <td>False</td>\n",
       "      <td>False</td>\n",
       "      <td>False</td>\n",
       "      <td>False</td>\n",
       "      <td>False</td>\n",
       "      <td>False</td>\n",
       "      <td>False</td>\n",
       "      <td>False</td>\n",
       "      <td>False</td>\n",
       "      <td>False</td>\n",
       "      <td>False</td>\n",
       "      <td>False</td>\n",
       "      <td>False</td>\n",
       "    </tr>\n",
       "    <tr>\n",
       "      <th>1</th>\n",
       "      <td>“It is our choices, Harry, that show what we t...</td>\n",
       "      <td>J.K. Rowling</td>\n",
       "      <td>[abilities, choices]</td>\n",
       "      <td>False</td>\n",
       "      <td>False</td>\n",
       "      <td>False</td>\n",
       "      <td>False</td>\n",
       "      <td>False</td>\n",
       "      <td>False</td>\n",
       "      <td>False</td>\n",
       "      <td>False</td>\n",
       "      <td>False</td>\n",
       "      <td>False</td>\n",
       "      <td>False</td>\n",
       "      <td>False</td>\n",
       "      <td>False</td>\n",
       "      <td>False</td>\n",
       "      <td>False</td>\n",
       "      <td>False</td>\n",
       "      <td>False</td>\n",
       "      <td>False</td>\n",
       "      <td>False</td>\n",
       "      <td>False</td>\n",
       "      <td>False</td>\n",
       "      <td>False</td>\n",
       "      <td>False</td>\n",
       "      <td>False</td>\n",
       "      <td>False</td>\n",
       "      <td>False</td>\n",
       "      <td>False</td>\n",
       "      <td>False</td>\n",
       "      <td>False</td>\n",
       "      <td>False</td>\n",
       "      <td>False</td>\n",
       "      <td>False</td>\n",
       "      <td>False</td>\n",
       "      <td>False</td>\n",
       "      <td>False</td>\n",
       "      <td>False</td>\n",
       "      <td>False</td>\n",
       "      <td>False</td>\n",
       "      <td>False</td>\n",
       "      <td>False</td>\n",
       "      <td>False</td>\n",
       "      <td>False</td>\n",
       "      <td>False</td>\n",
       "      <td>False</td>\n",
       "      <td>False</td>\n",
       "      <td>False</td>\n",
       "      <td>False</td>\n",
       "      <td>False</td>\n",
       "      <td>False</td>\n",
       "      <td>False</td>\n",
       "      <td>False</td>\n",
       "      <td>False</td>\n",
       "      <td>False</td>\n",
       "      <td>False</td>\n",
       "      <td>False</td>\n",
       "      <td>False</td>\n",
       "      <td>False</td>\n",
       "      <td>False</td>\n",
       "      <td>False</td>\n",
       "      <td>False</td>\n",
       "      <td>False</td>\n",
       "      <td>False</td>\n",
       "      <td>False</td>\n",
       "      <td>False</td>\n",
       "      <td>False</td>\n",
       "      <td>False</td>\n",
       "      <td>False</td>\n",
       "      <td>False</td>\n",
       "      <td>False</td>\n",
       "      <td>False</td>\n",
       "      <td>False</td>\n",
       "      <td>False</td>\n",
       "      <td>False</td>\n",
       "      <td>False</td>\n",
       "      <td>False</td>\n",
       "      <td>False</td>\n",
       "      <td>False</td>\n",
       "      <td>False</td>\n",
       "      <td>False</td>\n",
       "      <td>False</td>\n",
       "      <td>False</td>\n",
       "      <td>False</td>\n",
       "      <td>False</td>\n",
       "      <td>False</td>\n",
       "      <td>False</td>\n",
       "      <td>False</td>\n",
       "      <td>False</td>\n",
       "      <td>False</td>\n",
       "      <td>False</td>\n",
       "      <td>False</td>\n",
       "      <td>False</td>\n",
       "      <td>False</td>\n",
       "      <td>False</td>\n",
       "      <td>False</td>\n",
       "      <td>False</td>\n",
       "      <td>False</td>\n",
       "      <td>False</td>\n",
       "      <td>False</td>\n",
       "      <td>False</td>\n",
       "      <td>False</td>\n",
       "      <td>False</td>\n",
       "      <td>False</td>\n",
       "      <td>False</td>\n",
       "      <td>False</td>\n",
       "      <td>False</td>\n",
       "      <td>False</td>\n",
       "      <td>False</td>\n",
       "      <td>False</td>\n",
       "      <td>False</td>\n",
       "      <td>False</td>\n",
       "      <td>False</td>\n",
       "      <td>False</td>\n",
       "      <td>False</td>\n",
       "      <td>False</td>\n",
       "      <td>False</td>\n",
       "      <td>False</td>\n",
       "      <td>False</td>\n",
       "      <td>True</td>\n",
       "      <td>True</td>\n",
       "      <td>False</td>\n",
       "      <td>False</td>\n",
       "      <td>False</td>\n",
       "      <td>False</td>\n",
       "      <td>False</td>\n",
       "      <td>False</td>\n",
       "      <td>False</td>\n",
       "      <td>False</td>\n",
       "      <td>False</td>\n",
       "      <td>False</td>\n",
       "      <td>False</td>\n",
       "      <td>False</td>\n",
       "      <td>False</td>\n",
       "      <td>False</td>\n",
       "      <td>False</td>\n",
       "      <td>False</td>\n",
       "      <td>False</td>\n",
       "      <td>False</td>\n",
       "      <td>False</td>\n",
       "    </tr>\n",
       "    <tr>\n",
       "      <th>2</th>\n",
       "      <td>“There are only two ways to live your life. On...</td>\n",
       "      <td>Albert Einstein</td>\n",
       "      <td>[inspirational, life, live, miracle, miracles]</td>\n",
       "      <td>False</td>\n",
       "      <td>False</td>\n",
       "      <td>False</td>\n",
       "      <td>False</td>\n",
       "      <td>False</td>\n",
       "      <td>False</td>\n",
       "      <td>False</td>\n",
       "      <td>False</td>\n",
       "      <td>False</td>\n",
       "      <td>False</td>\n",
       "      <td>False</td>\n",
       "      <td>False</td>\n",
       "      <td>False</td>\n",
       "      <td>False</td>\n",
       "      <td>False</td>\n",
       "      <td>False</td>\n",
       "      <td>False</td>\n",
       "      <td>False</td>\n",
       "      <td>False</td>\n",
       "      <td>False</td>\n",
       "      <td>False</td>\n",
       "      <td>False</td>\n",
       "      <td>False</td>\n",
       "      <td>False</td>\n",
       "      <td>False</td>\n",
       "      <td>False</td>\n",
       "      <td>True</td>\n",
       "      <td>False</td>\n",
       "      <td>False</td>\n",
       "      <td>False</td>\n",
       "      <td>False</td>\n",
       "      <td>False</td>\n",
       "      <td>False</td>\n",
       "      <td>False</td>\n",
       "      <td>False</td>\n",
       "      <td>False</td>\n",
       "      <td>False</td>\n",
       "      <td>True</td>\n",
       "      <td>False</td>\n",
       "      <td>False</td>\n",
       "      <td>False</td>\n",
       "      <td>False</td>\n",
       "      <td>False</td>\n",
       "      <td>False</td>\n",
       "      <td>False</td>\n",
       "      <td>False</td>\n",
       "      <td>False</td>\n",
       "      <td>False</td>\n",
       "      <td>False</td>\n",
       "      <td>False</td>\n",
       "      <td>False</td>\n",
       "      <td>False</td>\n",
       "      <td>False</td>\n",
       "      <td>False</td>\n",
       "      <td>False</td>\n",
       "      <td>False</td>\n",
       "      <td>False</td>\n",
       "      <td>False</td>\n",
       "      <td>False</td>\n",
       "      <td>False</td>\n",
       "      <td>False</td>\n",
       "      <td>False</td>\n",
       "      <td>False</td>\n",
       "      <td>True</td>\n",
       "      <td>False</td>\n",
       "      <td>False</td>\n",
       "      <td>False</td>\n",
       "      <td>False</td>\n",
       "      <td>False</td>\n",
       "      <td>False</td>\n",
       "      <td>False</td>\n",
       "      <td>False</td>\n",
       "      <td>False</td>\n",
       "      <td>False</td>\n",
       "      <td>False</td>\n",
       "      <td>False</td>\n",
       "      <td>False</td>\n",
       "      <td>False</td>\n",
       "      <td>False</td>\n",
       "      <td>False</td>\n",
       "      <td>False</td>\n",
       "      <td>False</td>\n",
       "      <td>False</td>\n",
       "      <td>True</td>\n",
       "      <td>False</td>\n",
       "      <td>False</td>\n",
       "      <td>False</td>\n",
       "      <td>False</td>\n",
       "      <td>False</td>\n",
       "      <td>False</td>\n",
       "      <td>False</td>\n",
       "      <td>False</td>\n",
       "      <td>False</td>\n",
       "      <td>False</td>\n",
       "      <td>False</td>\n",
       "      <td>False</td>\n",
       "      <td>False</td>\n",
       "      <td>False</td>\n",
       "      <td>False</td>\n",
       "      <td>False</td>\n",
       "      <td>False</td>\n",
       "      <td>False</td>\n",
       "      <td>True</td>\n",
       "      <td>False</td>\n",
       "      <td>False</td>\n",
       "      <td>False</td>\n",
       "      <td>False</td>\n",
       "      <td>False</td>\n",
       "      <td>False</td>\n",
       "      <td>False</td>\n",
       "      <td>False</td>\n",
       "      <td>False</td>\n",
       "      <td>False</td>\n",
       "      <td>False</td>\n",
       "      <td>False</td>\n",
       "      <td>False</td>\n",
       "      <td>False</td>\n",
       "      <td>False</td>\n",
       "      <td>False</td>\n",
       "      <td>False</td>\n",
       "      <td>False</td>\n",
       "      <td>False</td>\n",
       "      <td>False</td>\n",
       "      <td>False</td>\n",
       "      <td>False</td>\n",
       "      <td>False</td>\n",
       "      <td>False</td>\n",
       "      <td>False</td>\n",
       "      <td>False</td>\n",
       "      <td>False</td>\n",
       "      <td>False</td>\n",
       "      <td>False</td>\n",
       "      <td>False</td>\n",
       "      <td>False</td>\n",
       "      <td>False</td>\n",
       "      <td>False</td>\n",
       "      <td>False</td>\n",
       "      <td>False</td>\n",
       "    </tr>\n",
       "    <tr>\n",
       "      <th>3</th>\n",
       "      <td>“The person, be it gentleman or lady, who has ...</td>\n",
       "      <td>Jane Austen</td>\n",
       "      <td>[aliteracy, books, classic, humor]</td>\n",
       "      <td>False</td>\n",
       "      <td>False</td>\n",
       "      <td>False</td>\n",
       "      <td>False</td>\n",
       "      <td>False</td>\n",
       "      <td>False</td>\n",
       "      <td>False</td>\n",
       "      <td>False</td>\n",
       "      <td>False</td>\n",
       "      <td>False</td>\n",
       "      <td>False</td>\n",
       "      <td>False</td>\n",
       "      <td>False</td>\n",
       "      <td>False</td>\n",
       "      <td>False</td>\n",
       "      <td>False</td>\n",
       "      <td>False</td>\n",
       "      <td>False</td>\n",
       "      <td>False</td>\n",
       "      <td>True</td>\n",
       "      <td>False</td>\n",
       "      <td>False</td>\n",
       "      <td>False</td>\n",
       "      <td>False</td>\n",
       "      <td>False</td>\n",
       "      <td>False</td>\n",
       "      <td>False</td>\n",
       "      <td>False</td>\n",
       "      <td>False</td>\n",
       "      <td>False</td>\n",
       "      <td>False</td>\n",
       "      <td>False</td>\n",
       "      <td>False</td>\n",
       "      <td>False</td>\n",
       "      <td>False</td>\n",
       "      <td>False</td>\n",
       "      <td>False</td>\n",
       "      <td>False</td>\n",
       "      <td>False</td>\n",
       "      <td>False</td>\n",
       "      <td>False</td>\n",
       "      <td>False</td>\n",
       "      <td>False</td>\n",
       "      <td>False</td>\n",
       "      <td>False</td>\n",
       "      <td>False</td>\n",
       "      <td>False</td>\n",
       "      <td>False</td>\n",
       "      <td>False</td>\n",
       "      <td>False</td>\n",
       "      <td>False</td>\n",
       "      <td>False</td>\n",
       "      <td>False</td>\n",
       "      <td>False</td>\n",
       "      <td>False</td>\n",
       "      <td>False</td>\n",
       "      <td>False</td>\n",
       "      <td>False</td>\n",
       "      <td>False</td>\n",
       "      <td>False</td>\n",
       "      <td>False</td>\n",
       "      <td>False</td>\n",
       "      <td>False</td>\n",
       "      <td>False</td>\n",
       "      <td>False</td>\n",
       "      <td>False</td>\n",
       "      <td>False</td>\n",
       "      <td>False</td>\n",
       "      <td>False</td>\n",
       "      <td>False</td>\n",
       "      <td>False</td>\n",
       "      <td>False</td>\n",
       "      <td>False</td>\n",
       "      <td>False</td>\n",
       "      <td>False</td>\n",
       "      <td>False</td>\n",
       "      <td>False</td>\n",
       "      <td>False</td>\n",
       "      <td>False</td>\n",
       "      <td>False</td>\n",
       "      <td>True</td>\n",
       "      <td>False</td>\n",
       "      <td>False</td>\n",
       "      <td>False</td>\n",
       "      <td>False</td>\n",
       "      <td>False</td>\n",
       "      <td>False</td>\n",
       "      <td>False</td>\n",
       "      <td>False</td>\n",
       "      <td>False</td>\n",
       "      <td>False</td>\n",
       "      <td>False</td>\n",
       "      <td>False</td>\n",
       "      <td>False</td>\n",
       "      <td>False</td>\n",
       "      <td>False</td>\n",
       "      <td>False</td>\n",
       "      <td>False</td>\n",
       "      <td>True</td>\n",
       "      <td>False</td>\n",
       "      <td>False</td>\n",
       "      <td>False</td>\n",
       "      <td>False</td>\n",
       "      <td>False</td>\n",
       "      <td>False</td>\n",
       "      <td>False</td>\n",
       "      <td>False</td>\n",
       "      <td>False</td>\n",
       "      <td>False</td>\n",
       "      <td>False</td>\n",
       "      <td>False</td>\n",
       "      <td>False</td>\n",
       "      <td>False</td>\n",
       "      <td>False</td>\n",
       "      <td>False</td>\n",
       "      <td>True</td>\n",
       "      <td>False</td>\n",
       "      <td>False</td>\n",
       "      <td>False</td>\n",
       "      <td>False</td>\n",
       "      <td>False</td>\n",
       "      <td>False</td>\n",
       "      <td>False</td>\n",
       "      <td>False</td>\n",
       "      <td>False</td>\n",
       "      <td>False</td>\n",
       "      <td>False</td>\n",
       "      <td>False</td>\n",
       "      <td>False</td>\n",
       "      <td>False</td>\n",
       "      <td>False</td>\n",
       "      <td>False</td>\n",
       "      <td>False</td>\n",
       "      <td>False</td>\n",
       "      <td>False</td>\n",
       "      <td>False</td>\n",
       "      <td>False</td>\n",
       "      <td>False</td>\n",
       "    </tr>\n",
       "    <tr>\n",
       "      <th>4</th>\n",
       "      <td>“Imperfection is beauty, madness is genius and...</td>\n",
       "      <td>Marilyn Monroe</td>\n",
       "      <td>[be-yourself, inspirational]</td>\n",
       "      <td>False</td>\n",
       "      <td>False</td>\n",
       "      <td>False</td>\n",
       "      <td>False</td>\n",
       "      <td>False</td>\n",
       "      <td>False</td>\n",
       "      <td>False</td>\n",
       "      <td>False</td>\n",
       "      <td>True</td>\n",
       "      <td>False</td>\n",
       "      <td>False</td>\n",
       "      <td>False</td>\n",
       "      <td>False</td>\n",
       "      <td>False</td>\n",
       "      <td>False</td>\n",
       "      <td>False</td>\n",
       "      <td>False</td>\n",
       "      <td>False</td>\n",
       "      <td>False</td>\n",
       "      <td>False</td>\n",
       "      <td>False</td>\n",
       "      <td>False</td>\n",
       "      <td>False</td>\n",
       "      <td>False</td>\n",
       "      <td>False</td>\n",
       "      <td>False</td>\n",
       "      <td>True</td>\n",
       "      <td>False</td>\n",
       "      <td>False</td>\n",
       "      <td>False</td>\n",
       "      <td>False</td>\n",
       "      <td>False</td>\n",
       "      <td>False</td>\n",
       "      <td>False</td>\n",
       "      <td>False</td>\n",
       "      <td>False</td>\n",
       "      <td>False</td>\n",
       "      <td>False</td>\n",
       "      <td>False</td>\n",
       "      <td>False</td>\n",
       "      <td>False</td>\n",
       "      <td>False</td>\n",
       "      <td>False</td>\n",
       "      <td>False</td>\n",
       "      <td>False</td>\n",
       "      <td>False</td>\n",
       "      <td>False</td>\n",
       "      <td>False</td>\n",
       "      <td>False</td>\n",
       "      <td>False</td>\n",
       "      <td>False</td>\n",
       "      <td>False</td>\n",
       "      <td>False</td>\n",
       "      <td>False</td>\n",
       "      <td>False</td>\n",
       "      <td>False</td>\n",
       "      <td>False</td>\n",
       "      <td>False</td>\n",
       "      <td>False</td>\n",
       "      <td>False</td>\n",
       "      <td>False</td>\n",
       "      <td>False</td>\n",
       "      <td>False</td>\n",
       "      <td>False</td>\n",
       "      <td>False</td>\n",
       "      <td>False</td>\n",
       "      <td>False</td>\n",
       "      <td>False</td>\n",
       "      <td>False</td>\n",
       "      <td>False</td>\n",
       "      <td>False</td>\n",
       "      <td>False</td>\n",
       "      <td>False</td>\n",
       "      <td>False</td>\n",
       "      <td>False</td>\n",
       "      <td>False</td>\n",
       "      <td>False</td>\n",
       "      <td>False</td>\n",
       "      <td>False</td>\n",
       "      <td>False</td>\n",
       "      <td>False</td>\n",
       "      <td>False</td>\n",
       "      <td>False</td>\n",
       "      <td>False</td>\n",
       "      <td>False</td>\n",
       "      <td>False</td>\n",
       "      <td>False</td>\n",
       "      <td>False</td>\n",
       "      <td>False</td>\n",
       "      <td>False</td>\n",
       "      <td>False</td>\n",
       "      <td>False</td>\n",
       "      <td>False</td>\n",
       "      <td>False</td>\n",
       "      <td>False</td>\n",
       "      <td>False</td>\n",
       "      <td>False</td>\n",
       "      <td>False</td>\n",
       "      <td>False</td>\n",
       "      <td>False</td>\n",
       "      <td>False</td>\n",
       "      <td>False</td>\n",
       "      <td>False</td>\n",
       "      <td>False</td>\n",
       "      <td>False</td>\n",
       "      <td>False</td>\n",
       "      <td>False</td>\n",
       "      <td>False</td>\n",
       "      <td>False</td>\n",
       "      <td>False</td>\n",
       "      <td>False</td>\n",
       "      <td>False</td>\n",
       "      <td>False</td>\n",
       "      <td>False</td>\n",
       "      <td>False</td>\n",
       "      <td>False</td>\n",
       "      <td>False</td>\n",
       "      <td>False</td>\n",
       "      <td>False</td>\n",
       "      <td>False</td>\n",
       "      <td>False</td>\n",
       "      <td>False</td>\n",
       "      <td>False</td>\n",
       "      <td>False</td>\n",
       "      <td>False</td>\n",
       "      <td>False</td>\n",
       "      <td>False</td>\n",
       "      <td>False</td>\n",
       "      <td>False</td>\n",
       "      <td>False</td>\n",
       "      <td>False</td>\n",
       "      <td>False</td>\n",
       "      <td>False</td>\n",
       "      <td>False</td>\n",
       "      <td>False</td>\n",
       "      <td>False</td>\n",
       "      <td>False</td>\n",
       "      <td>False</td>\n",
       "    </tr>\n",
       "  </tbody>\n",
       "</table>\n",
       "</div>"
      ],
      "text/plain": [
       "                                               quote           author  \\\n",
       "0  “The world as we have created it is a process ...  Albert Einstein   \n",
       "1  “It is our choices, Harry, that show what we t...     J.K. Rowling   \n",
       "2  “There are only two ways to live your life. On...  Albert Einstein   \n",
       "3  “The person, be it gentleman or lady, who has ...      Jane Austen   \n",
       "4  “Imperfection is beauty, madness is genius and...   Marilyn Monroe   \n",
       "\n",
       "                                             tags         fantasy  education  \\\n",
       "0        [change, deep-thoughts, thinking, world]  False    False      False   \n",
       "1                            [abilities, choices]  False    False      False   \n",
       "2  [inspirational, life, live, miracle, miracles]  False    False      False   \n",
       "3              [aliteracy, books, classic, humor]  False    False      False   \n",
       "4                    [be-yourself, inspirational]  False    False      False   \n",
       "\n",
       "   unhappy-marriage  value  misattributed-to-einstein  paraphrased  \\\n",
       "0             False  False                      False        False   \n",
       "1             False  False                      False        False   \n",
       "2             False  False                      False        False   \n",
       "3             False  False                      False        False   \n",
       "4             False  False                      False        False   \n",
       "\n",
       "   lack-of-love  be-yourself  library  heartbreak  alcohol  open-mind  simile  \\\n",
       "0         False        False    False       False    False      False   False   \n",
       "1         False        False    False       False    False      False   False   \n",
       "2         False        False    False       False    False      False   False   \n",
       "3         False        False    False       False    False      False   False   \n",
       "4         False         True    False       False    False      False   False   \n",
       "\n",
       "   attributed-no-source  navigation  edison   fate  christianity  humor  \\\n",
       "0                 False       False   False  False         False  False   \n",
       "1                 False       False   False  False         False  False   \n",
       "2                 False       False   False  False         False  False   \n",
       "3                 False       False   False  False         False   True   \n",
       "4                 False       False   False  False         False  False   \n",
       "\n",
       "   success  activism  women  indifference  sinister  adulthood  inspirational  \\\n",
       "0    False     False  False         False     False      False          False   \n",
       "1    False     False  False         False     False      False          False   \n",
       "2    False     False  False         False     False      False           True   \n",
       "3    False     False  False         False     False      False          False   \n",
       "4    False     False  False         False     False      False           True   \n",
       "\n",
       "   simplicity  dreams  quest  religion  adventure  understanding  authors  \\\n",
       "0       False   False  False     False      False          False    False   \n",
       "1       False   False  False     False      False          False    False   \n",
       "2       False   False  False     False      False          False    False   \n",
       "3       False   False  False     False      False          False    False   \n",
       "4       False   False  False     False      False          False    False   \n",
       "\n",
       "   misattributed-john-lennon  comedy  romantic  miracles  growing-up  thought  \\\n",
       "0                      False   False     False     False       False    False   \n",
       "1                      False   False     False     False       False    False   \n",
       "2                      False   False     False      True       False    False   \n",
       "3                      False   False     False     False       False    False   \n",
       "4                      False   False     False     False       False    False   \n",
       "\n",
       "    food  grown-ups   lost    tea  plans  change  failure  obvious  \\\n",
       "0  False      False  False  False  False    True    False    False   \n",
       "1  False      False  False  False  False   False    False    False   \n",
       "2  False      False  False  False  False   False    False    False   \n",
       "3  False      False  False  False  False   False    False    False   \n",
       "4  False      False  False  False  False   False    False    False   \n",
       "\n",
       "   fairytales   lies  seuss    god  journey    sun  happiness  sisters   hope  \\\n",
       "0       False  False  False  False    False  False      False    False  False   \n",
       "1       False  False  False  False    False  False      False    False  False   \n",
       "2       False  False  False  False    False  False      False    False  False   \n",
       "3       False  False  False  False    False  False      False    False  False   \n",
       "4       False  False  False  False    False  False      False    False  False   \n",
       "\n",
       "   write  girls  literature  beatles  contentment  romance   life  friendship  \\\n",
       "0  False  False       False    False        False    False  False       False   \n",
       "1  False  False       False    False        False    False  False       False   \n",
       "2  False  False       False    False        False    False   True       False   \n",
       "3  False  False       False    False        False    False  False       False   \n",
       "4  False  False       False    False        False    False  False       False   \n",
       "\n",
       "   mistakes  misattributed-to-mother-teresa  world   fear  readers  poetry  \\\n",
       "0     False                           False   True  False    False   False   \n",
       "1     False                           False  False  False    False   False   \n",
       "2     False                           False  False  False    False   False   \n",
       "3     False                           False  False  False    False   False   \n",
       "4     False                           False  False  False    False   False   \n",
       "\n",
       "   inspiration  truth  misattributed-to-c-s-lewis  lying  reading  \\\n",
       "0        False  False                       False  False    False   \n",
       "1        False  False                       False  False    False   \n",
       "2        False  False                       False  False    False   \n",
       "3        False  False                       False  False    False   \n",
       "4        False  False                       False  False    False   \n",
       "\n",
       "   misattributed-mark-twain   mind  wisdom  writing  classic   love  \\\n",
       "0                     False  False   False    False    False  False   \n",
       "1                     False  False   False    False    False  False   \n",
       "2                     False  False   False    False    False  False   \n",
       "3                     False  False   False    False     True  False   \n",
       "4                     False  False   False    False    False  False   \n",
       "\n",
       "   the-hunger-games   live  chocolate  troubles  integrity  marriage  \\\n",
       "0             False  False      False     False      False     False   \n",
       "1             False  False      False     False      False     False   \n",
       "2             False   True      False     False      False     False   \n",
       "3             False  False      False     False      False     False   \n",
       "4             False  False      False     False      False     False   \n",
       "\n",
       "   misattributed-eleanor-roosevelt   hate  lack-of-friendship  jane-austen  \\\n",
       "0                            False  False               False        False   \n",
       "1                            False  False               False        False   \n",
       "2                            False  False               False        False   \n",
       "3                            False  False               False        False   \n",
       "4                            False  False               False        False   \n",
       "\n",
       "   faith  death  peace  apathy  children  planning  books  dreaming    age  \\\n",
       "0  False  False  False   False     False     False  False     False  False   \n",
       "1  False  False  False   False     False     False  False     False  False   \n",
       "2  False  False  False   False     False     False  False     False  False   \n",
       "3  False  False  False   False     False     False   True     False  False   \n",
       "4  False  False  False   False     False     False  False     False  False   \n",
       "\n",
       "   writers  miracle  thinking  reading-books  connection  friends  regrets  \\\n",
       "0    False    False      True          False       False    False    False   \n",
       "1    False    False     False          False       False    False    False   \n",
       "2    False     True     False          False       False    False    False   \n",
       "3    False    False     False          False       False    False    False   \n",
       "4    False    False     False          False       False    False    False   \n",
       "\n",
       "   learning  better-life-empathy  elizabeth-bennet  deep-thoughts  music  \\\n",
       "0     False                False             False           True  False   \n",
       "1     False                False             False          False  False   \n",
       "2     False                False             False          False  False   \n",
       "3     False                False             False          False  False   \n",
       "4     False                False             False          False  False   \n",
       "\n",
       "    read  imagination  aliteracy  dumbledore  choices  abilities  difficult  \\\n",
       "0  False        False      False       False    False      False      False   \n",
       "1  False        False      False       False     True       True      False   \n",
       "2  False        False      False       False    False      False      False   \n",
       "3  False        False       True       False    False      False      False   \n",
       "4  False        False      False       False    False      False      False   \n",
       "\n",
       "   insanity  understand  travel  fairy-tales  self-indulgence  attributed  \\\n",
       "0     False       False   False        False            False       False   \n",
       "1     False       False   False        False            False       False   \n",
       "2     False       False   False        False            False       False   \n",
       "3     False       False   False        False            False       False   \n",
       "4     False       False   False        False            False       False   \n",
       "\n",
       "   opposite  bilbo  philosophy  novelist-quotes   drug  knowledge   good  \\\n",
       "0     False  False       False            False  False      False  False   \n",
       "1     False  False       False            False  False      False  False   \n",
       "2     False  False       False            False  False      False  False   \n",
       "3     False  False       False            False  False      False  False   \n",
       "4     False  False       False            False  False      False  False   \n",
       "\n",
       "   yourself  courage  live-death-love  wander  dreamers  \n",
       "0     False    False            False   False     False  \n",
       "1     False    False            False   False     False  \n",
       "2     False    False            False   False     False  \n",
       "3     False    False            False   False     False  \n",
       "4     False    False            False   False     False  "
      ]
     },
     "execution_count": 100,
     "metadata": {},
     "output_type": "execute_result"
    }
   ],
   "source": [
    "df.head()"
   ]
  },
  {
   "cell_type": "code",
   "execution_count": 70,
   "metadata": {},
   "outputs": [
    {
     "data": {
      "text/plain": [
       "Index(['quote', 'author', 'tags', 'tags_', 'humor', 'obvious', 'simile'], dtype='object')"
      ]
     },
     "execution_count": 70,
     "metadata": {},
     "output_type": "execute_result"
    }
   ],
   "source": [
    "df.columns"
   ]
  },
  {
   "cell_type": "code",
   "execution_count": 105,
   "metadata": {},
   "outputs": [
    {
     "name": "stdout",
     "output_type": "stream",
     "text": [
      "“The reason I talk to myself is because I’m the only one whose answers I accept.”\n",
      "“A lie can travel half way around the world while the truth is putting on its shoes.”\n",
      "“The truth.\" Dumbledore sighed. \"It is a beautiful and terrible thing, and should therefore be treated with great caution.”\n",
      "“Never tell the truth to people who are not worthy of it.”\n"
     ]
    }
   ],
   "source": [
    "for q in df[df['truth']]['quote'].values:\n",
    "    print(q)"
   ]
  },
  {
   "cell_type": "markdown",
   "metadata": {},
   "source": [
    "## Работа с json файлами"
   ]
  },
  {
   "cell_type": "markdown",
   "metadata": {},
   "source": [
    "Создать pandas dataframe с такими колонками:\n",
    "\n",
    "* `username`\n",
    "* `changed_lines` – количество измененных строчек\n",
    "* `commits` – количество коммитов\n",
    "* `new_files` – количество новых файлов, которые сделал этот разработчик\n",
    "\n",
    "Отсортировать по `username`"
   ]
  },
  {
   "cell_type": "markdown",
   "metadata": {},
   "source": [
    "### pandas"
   ]
  },
  {
   "cell_type": "code",
   "execution_count": 1,
   "metadata": {},
   "outputs": [],
   "source": [
    "from pandas import json_normalize\n",
    "import json"
   ]
  },
  {
   "cell_type": "code",
   "execution_count": 8,
   "metadata": {},
   "outputs": [],
   "source": [
    "with open('commits.json', 'r') as f:\n",
    "    data = json.load(f)"
   ]
  },
  {
   "cell_type": "code",
   "execution_count": 4,
   "metadata": {},
   "outputs": [
    {
     "data": {
      "text/plain": [
       "{'username': 'bober38',\n",
       " 'commit_time': '2021/03/12 05:45:02',\n",
       " 'files': [{'name': 'utils/net.py', 'changed_lines': 85}]}"
      ]
     },
     "execution_count": 4,
     "metadata": {},
     "output_type": "execute_result"
    }
   ],
   "source": [
    "data[0]"
   ]
  },
  {
   "cell_type": "code",
   "execution_count": 5,
   "metadata": {},
   "outputs": [
    {
     "data": {
      "text/plain": [
       "'bober38'"
      ]
     },
     "execution_count": 5,
     "metadata": {},
     "output_type": "execute_result"
    }
   ],
   "source": [
    "data[0]['username']"
   ]
  },
  {
   "cell_type": "code",
   "execution_count": 9,
   "metadata": {},
   "outputs": [
    {
     "data": {
      "text/html": [
       "<div>\n",
       "<style scoped>\n",
       "    .dataframe tbody tr th:only-of-type {\n",
       "        vertical-align: middle;\n",
       "    }\n",
       "\n",
       "    .dataframe tbody tr th {\n",
       "        vertical-align: top;\n",
       "    }\n",
       "\n",
       "    .dataframe thead th {\n",
       "        text-align: right;\n",
       "    }\n",
       "</style>\n",
       "<table border=\"1\" class=\"dataframe\">\n",
       "  <thead>\n",
       "    <tr style=\"text-align: right;\">\n",
       "      <th></th>\n",
       "      <th>name</th>\n",
       "      <th>changed_lines</th>\n",
       "      <th>username</th>\n",
       "      <th>commit_time</th>\n",
       "    </tr>\n",
       "  </thead>\n",
       "  <tbody>\n",
       "    <tr>\n",
       "      <th>0</th>\n",
       "      <td>utils/net.py</td>\n",
       "      <td>85</td>\n",
       "      <td>bober38</td>\n",
       "      <td>2021/03/12 05:45:02</td>\n",
       "    </tr>\n",
       "    <tr>\n",
       "      <th>1</th>\n",
       "      <td>library/utils.py</td>\n",
       "      <td>36</td>\n",
       "      <td>coder007</td>\n",
       "      <td>2021/03/02 15:01:24</td>\n",
       "    </tr>\n",
       "    <tr>\n",
       "      <th>2</th>\n",
       "      <td>quality/utils.py</td>\n",
       "      <td>38</td>\n",
       "      <td>vanessic</td>\n",
       "      <td>2021/01/22 10:14:08</td>\n",
       "    </tr>\n",
       "    <tr>\n",
       "      <th>3</th>\n",
       "      <td>core/library.py</td>\n",
       "      <td>17</td>\n",
       "      <td>john_snow</td>\n",
       "      <td>2021/01/16 15:21:07</td>\n",
       "    </tr>\n",
       "    <tr>\n",
       "      <th>4</th>\n",
       "      <td>frontend/tools.py</td>\n",
       "      <td>6</td>\n",
       "      <td>john_snow</td>\n",
       "      <td>2021/01/16 15:21:07</td>\n",
       "    </tr>\n",
       "    <tr>\n",
       "      <th>...</th>\n",
       "      <td>...</td>\n",
       "      <td>...</td>\n",
       "      <td>...</td>\n",
       "      <td>...</td>\n",
       "    </tr>\n",
       "    <tr>\n",
       "      <th>197</th>\n",
       "      <td>balancer/library.py</td>\n",
       "      <td>96</td>\n",
       "      <td>zeno</td>\n",
       "      <td>2021/02/07 21:37:49</td>\n",
       "    </tr>\n",
       "    <tr>\n",
       "      <th>198</th>\n",
       "      <td>frontend/net.py</td>\n",
       "      <td>28</td>\n",
       "      <td>zeno</td>\n",
       "      <td>2021/02/07 21:37:49</td>\n",
       "    </tr>\n",
       "    <tr>\n",
       "      <th>199</th>\n",
       "      <td>backend/utils.py</td>\n",
       "      <td>23</td>\n",
       "      <td>ivan_ivanov</td>\n",
       "      <td>2021/03/14 03:24:59</td>\n",
       "    </tr>\n",
       "    <tr>\n",
       "      <th>200</th>\n",
       "      <td>library/tools.py</td>\n",
       "      <td>53</td>\n",
       "      <td>ivan_ivanov</td>\n",
       "      <td>2021/03/14 03:24:59</td>\n",
       "    </tr>\n",
       "    <tr>\n",
       "      <th>201</th>\n",
       "      <td>backend/library.py</td>\n",
       "      <td>71</td>\n",
       "      <td>ivan_ivanov</td>\n",
       "      <td>2021/03/14 03:24:59</td>\n",
       "    </tr>\n",
       "  </tbody>\n",
       "</table>\n",
       "<p>202 rows × 4 columns</p>\n",
       "</div>"
      ],
      "text/plain": [
       "                    name  changed_lines     username          commit_time\n",
       "0           utils/net.py             85      bober38  2021/03/12 05:45:02\n",
       "1       library/utils.py             36     coder007  2021/03/02 15:01:24\n",
       "2       quality/utils.py             38     vanessic  2021/01/22 10:14:08\n",
       "3        core/library.py             17    john_snow  2021/01/16 15:21:07\n",
       "4      frontend/tools.py              6    john_snow  2021/01/16 15:21:07\n",
       "..                   ...            ...          ...                  ...\n",
       "197  balancer/library.py             96         zeno  2021/02/07 21:37:49\n",
       "198      frontend/net.py             28         zeno  2021/02/07 21:37:49\n",
       "199     backend/utils.py             23  ivan_ivanov  2021/03/14 03:24:59\n",
       "200     library/tools.py             53  ivan_ivanov  2021/03/14 03:24:59\n",
       "201   backend/library.py             71  ivan_ivanov  2021/03/14 03:24:59\n",
       "\n",
       "[202 rows x 4 columns]"
      ]
     },
     "execution_count": 9,
     "metadata": {},
     "output_type": "execute_result"
    }
   ],
   "source": [
    "data = json_normalize(data, 'files', ['username', 'commit_time'])\n",
    "data"
   ]
  },
  {
   "cell_type": "code",
   "execution_count": 11,
   "metadata": {},
   "outputs": [],
   "source": [
    "import pandas as pd"
   ]
  },
  {
   "cell_type": "code",
   "execution_count": 12,
   "metadata": {},
   "outputs": [],
   "source": [
    "data['commit_time'] = pd.to_datetime(data['commit_time'])"
   ]
  },
  {
   "cell_type": "code",
   "execution_count": 14,
   "metadata": {},
   "outputs": [
    {
     "data": {
      "text/plain": [
       "(202, 4)"
      ]
     },
     "execution_count": 14,
     "metadata": {},
     "output_type": "execute_result"
    }
   ],
   "source": [
    "data.shape"
   ]
  },
  {
   "cell_type": "code",
   "execution_count": 13,
   "metadata": {},
   "outputs": [
    {
     "name": "stdout",
     "output_type": "stream",
     "text": [
      "<class 'pandas.core.frame.DataFrame'>\n",
      "RangeIndex: 202 entries, 0 to 201\n",
      "Data columns (total 4 columns):\n",
      " #   Column         Non-Null Count  Dtype         \n",
      "---  ------         --------------  -----         \n",
      " 0   name           202 non-null    object        \n",
      " 1   changed_lines  202 non-null    int64         \n",
      " 2   username       202 non-null    object        \n",
      " 3   commit_time    202 non-null    datetime64[ns]\n",
      "dtypes: datetime64[ns](1), int64(1), object(2)\n",
      "memory usage: 6.4+ KB\n"
     ]
    }
   ],
   "source": [
    "data.info()"
   ]
  },
  {
   "cell_type": "code",
   "execution_count": 162,
   "metadata": {},
   "outputs": [
    {
     "data": {
      "text/html": [
       "<div>\n",
       "<style scoped>\n",
       "    .dataframe tbody tr th:only-of-type {\n",
       "        vertical-align: middle;\n",
       "    }\n",
       "\n",
       "    .dataframe tbody tr th {\n",
       "        vertical-align: top;\n",
       "    }\n",
       "\n",
       "    .dataframe thead th {\n",
       "        text-align: right;\n",
       "    }\n",
       "</style>\n",
       "<table border=\"1\" class=\"dataframe\">\n",
       "  <thead>\n",
       "    <tr style=\"text-align: right;\">\n",
       "      <th></th>\n",
       "      <th>username</th>\n",
       "      <th>commit_time</th>\n",
       "    </tr>\n",
       "  </thead>\n",
       "  <tbody>\n",
       "    <tr>\n",
       "      <th>0</th>\n",
       "      <td>bober38</td>\n",
       "      <td>12</td>\n",
       "    </tr>\n",
       "    <tr>\n",
       "      <th>1</th>\n",
       "      <td>coder007</td>\n",
       "      <td>7</td>\n",
       "    </tr>\n",
       "    <tr>\n",
       "      <th>2</th>\n",
       "      <td>ivan_ivanov</td>\n",
       "      <td>15</td>\n",
       "    </tr>\n",
       "    <tr>\n",
       "      <th>3</th>\n",
       "      <td>john_snow</td>\n",
       "      <td>12</td>\n",
       "    </tr>\n",
       "    <tr>\n",
       "      <th>4</th>\n",
       "      <td>pet</td>\n",
       "      <td>14</td>\n",
       "    </tr>\n",
       "    <tr>\n",
       "      <th>5</th>\n",
       "      <td>vanessic</td>\n",
       "      <td>14</td>\n",
       "    </tr>\n",
       "    <tr>\n",
       "      <th>6</th>\n",
       "      <td>yegor</td>\n",
       "      <td>14</td>\n",
       "    </tr>\n",
       "    <tr>\n",
       "      <th>7</th>\n",
       "      <td>zeno</td>\n",
       "      <td>12</td>\n",
       "    </tr>\n",
       "  </tbody>\n",
       "</table>\n",
       "</div>"
      ],
      "text/plain": [
       "      username  commit_time\n",
       "0      bober38           12\n",
       "1     coder007            7\n",
       "2  ivan_ivanov           15\n",
       "3    john_snow           12\n",
       "4          pet           14\n",
       "5     vanessic           14\n",
       "6        yegor           14\n",
       "7         zeno           12"
      ]
     },
     "execution_count": 162,
     "metadata": {},
     "output_type": "execute_result"
    }
   ],
   "source": [
    "# commits\n",
    "res = data.groupby('username')[['commit_time']].nunique().reset_index()\n",
    "res"
   ]
  },
  {
   "cell_type": "code",
   "execution_count": 132,
   "metadata": {},
   "outputs": [
    {
     "data": {
      "text/plain": [
       "array([ 885,  396, 1473, 1211, 1896, 1622, 1341, 1211])"
      ]
     },
     "execution_count": 132,
     "metadata": {},
     "output_type": "execute_result"
    }
   ],
   "source": [
    "# changed_lines\n",
    "data.groupby('username')['changed_lines'].sum().values"
   ]
  },
  {
   "cell_type": "code",
   "execution_count": 163,
   "metadata": {},
   "outputs": [],
   "source": [
    "res['changed_lines'] = data.groupby('username')['changed_lines'].sum().values"
   ]
  },
  {
   "cell_type": "code",
   "execution_count": 138,
   "metadata": {},
   "outputs": [
    {
     "data": {
      "text/html": [
       "<div>\n",
       "<style scoped>\n",
       "    .dataframe tbody tr th:only-of-type {\n",
       "        vertical-align: middle;\n",
       "    }\n",
       "\n",
       "    .dataframe tbody tr th {\n",
       "        vertical-align: top;\n",
       "    }\n",
       "\n",
       "    .dataframe thead th {\n",
       "        text-align: right;\n",
       "    }\n",
       "</style>\n",
       "<table border=\"1\" class=\"dataframe\">\n",
       "  <thead>\n",
       "    <tr style=\"text-align: right;\">\n",
       "      <th></th>\n",
       "      <th></th>\n",
       "      <th>commit_time</th>\n",
       "    </tr>\n",
       "    <tr>\n",
       "      <th>name</th>\n",
       "      <th>username</th>\n",
       "      <th></th>\n",
       "    </tr>\n",
       "  </thead>\n",
       "  <tbody>\n",
       "    <tr>\n",
       "      <th rowspan=\"5\" valign=\"top\">backend/library.py</th>\n",
       "      <th>vanessic</th>\n",
       "      <td>2021-01-16 05:58:01</td>\n",
       "    </tr>\n",
       "    <tr>\n",
       "      <th>john_snow</th>\n",
       "      <td>2021-01-18 00:13:13</td>\n",
       "    </tr>\n",
       "    <tr>\n",
       "      <th>yegor</th>\n",
       "      <td>2021-03-13 15:34:49</td>\n",
       "    </tr>\n",
       "    <tr>\n",
       "      <th>ivan_ivanov</th>\n",
       "      <td>2021-03-14 03:24:59</td>\n",
       "    </tr>\n",
       "    <tr>\n",
       "      <th>coder007</th>\n",
       "      <td>2021-03-17 05:24:34</td>\n",
       "    </tr>\n",
       "    <tr>\n",
       "      <th>...</th>\n",
       "      <th>...</th>\n",
       "      <td>...</td>\n",
       "    </tr>\n",
       "    <tr>\n",
       "      <th>utils/tools.py</th>\n",
       "      <th>vanessic</th>\n",
       "      <td>2021-03-15 07:39:18</td>\n",
       "    </tr>\n",
       "    <tr>\n",
       "      <th rowspan=\"4\" valign=\"top\">utils/utils.py</th>\n",
       "      <th>john_snow</th>\n",
       "      <td>2021-01-03 06:01:48</td>\n",
       "    </tr>\n",
       "    <tr>\n",
       "      <th>coder007</th>\n",
       "      <td>2021-01-16 20:52:16</td>\n",
       "    </tr>\n",
       "    <tr>\n",
       "      <th>yegor</th>\n",
       "      <td>2021-02-27 10:56:31</td>\n",
       "    </tr>\n",
       "    <tr>\n",
       "      <th>ivan_ivanov</th>\n",
       "      <td>2021-03-01 11:29:35</td>\n",
       "    </tr>\n",
       "  </tbody>\n",
       "</table>\n",
       "<p>125 rows × 1 columns</p>\n",
       "</div>"
      ],
      "text/plain": [
       "                                       commit_time\n",
       "name               username                       \n",
       "backend/library.py vanessic    2021-01-16 05:58:01\n",
       "                   john_snow   2021-01-18 00:13:13\n",
       "                   yegor       2021-03-13 15:34:49\n",
       "                   ivan_ivanov 2021-03-14 03:24:59\n",
       "                   coder007    2021-03-17 05:24:34\n",
       "...                                            ...\n",
       "utils/tools.py     vanessic    2021-03-15 07:39:18\n",
       "utils/utils.py     john_snow   2021-01-03 06:01:48\n",
       "                   coder007    2021-01-16 20:52:16\n",
       "                   yegor       2021-02-27 10:56:31\n",
       "                   ivan_ivanov 2021-03-01 11:29:35\n",
       "\n",
       "[125 rows x 1 columns]"
      ]
     },
     "execution_count": 138,
     "metadata": {},
     "output_type": "execute_result"
    }
   ],
   "source": [
    "agg = data.groupby(['name', 'username'])[['commit_time']].min().sort_values(['name', 'commit_time'])\n",
    "agg"
   ]
  },
  {
   "cell_type": "code",
   "execution_count": 149,
   "metadata": {},
   "outputs": [
    {
     "data": {
      "text/plain": [
       "{'backend/library.py': 'vanessic',\n",
       " 'backend/net.py': 'vanessic',\n",
       " 'backend/tools.py': 'yegor',\n",
       " 'backend/utils.py': 'ivan_ivanov',\n",
       " 'balancer/library.py': 'bober38',\n",
       " 'balancer/net.py': 'john_snow',\n",
       " 'balancer/tools.py': 'yegor',\n",
       " 'balancer/utils.py': 'zeno',\n",
       " 'core/library.py': 'vanessic',\n",
       " 'core/net.py': 'pet',\n",
       " 'core/tools.py': 'ivan_ivanov',\n",
       " 'core/utils.py': 'john_snow',\n",
       " 'frontend/library.py': 'bober38',\n",
       " 'frontend/net.py': 'vanessic',\n",
       " 'frontend/tools.py': 'vanessic',\n",
       " 'frontend/utils.py': 'yegor',\n",
       " 'library/library.py': 'pet',\n",
       " 'library/net.py': 'vanessic',\n",
       " 'library/tools.py': 'coder007',\n",
       " 'library/utils.py': 'yegor',\n",
       " 'quality/library.py': 'ivan_ivanov',\n",
       " 'quality/net.py': 'yegor',\n",
       " 'quality/tools.py': 'ivan_ivanov',\n",
       " 'quality/utils.py': 'vanessic',\n",
       " 'utils/library.py': 'john_snow',\n",
       " 'utils/net.py': 'yegor',\n",
       " 'utils/tools.py': 'yegor',\n",
       " 'utils/utils.py': 'john_snow'}"
      ]
     },
     "execution_count": 149,
     "metadata": {},
     "output_type": "execute_result"
    }
   ],
   "source": [
    "d = {}\n",
    "for file in agg.reset_index()['name'].unique():\n",
    "    d[file] = agg.loc[file].iloc[0].name\n",
    "d"
   ]
  },
  {
   "cell_type": "code",
   "execution_count": 158,
   "metadata": {},
   "outputs": [
    {
     "data": {
      "text/plain": [
       "array([2, 1, 4, 4, 2, 7, 7, 1])"
      ]
     },
     "execution_count": 158,
     "metadata": {},
     "output_type": "execute_result"
    }
   ],
   "source": [
    "pd.DataFrame([d]).T.reset_index().groupby(0).count()['index'].values"
   ]
  },
  {
   "cell_type": "code",
   "execution_count": 164,
   "metadata": {},
   "outputs": [],
   "source": [
    "res['new_files'] = pd.DataFrame([d]).T.reset_index().groupby(0).count()['index'].values"
   ]
  },
  {
   "cell_type": "code",
   "execution_count": 166,
   "metadata": {},
   "outputs": [],
   "source": [
    "res.sort_values('username', inplace=True)"
   ]
  },
  {
   "cell_type": "code",
   "execution_count": 167,
   "metadata": {},
   "outputs": [
    {
     "data": {
      "text/html": [
       "<div>\n",
       "<style scoped>\n",
       "    .dataframe tbody tr th:only-of-type {\n",
       "        vertical-align: middle;\n",
       "    }\n",
       "\n",
       "    .dataframe tbody tr th {\n",
       "        vertical-align: top;\n",
       "    }\n",
       "\n",
       "    .dataframe thead th {\n",
       "        text-align: right;\n",
       "    }\n",
       "</style>\n",
       "<table border=\"1\" class=\"dataframe\">\n",
       "  <thead>\n",
       "    <tr style=\"text-align: right;\">\n",
       "      <th></th>\n",
       "      <th>username</th>\n",
       "      <th>commit_time</th>\n",
       "      <th>changed_lines</th>\n",
       "      <th>new_files</th>\n",
       "    </tr>\n",
       "  </thead>\n",
       "  <tbody>\n",
       "    <tr>\n",
       "      <th>0</th>\n",
       "      <td>bober38</td>\n",
       "      <td>12</td>\n",
       "      <td>885</td>\n",
       "      <td>2</td>\n",
       "    </tr>\n",
       "    <tr>\n",
       "      <th>1</th>\n",
       "      <td>coder007</td>\n",
       "      <td>7</td>\n",
       "      <td>396</td>\n",
       "      <td>1</td>\n",
       "    </tr>\n",
       "    <tr>\n",
       "      <th>2</th>\n",
       "      <td>ivan_ivanov</td>\n",
       "      <td>15</td>\n",
       "      <td>1473</td>\n",
       "      <td>4</td>\n",
       "    </tr>\n",
       "    <tr>\n",
       "      <th>3</th>\n",
       "      <td>john_snow</td>\n",
       "      <td>12</td>\n",
       "      <td>1211</td>\n",
       "      <td>4</td>\n",
       "    </tr>\n",
       "    <tr>\n",
       "      <th>4</th>\n",
       "      <td>pet</td>\n",
       "      <td>14</td>\n",
       "      <td>1896</td>\n",
       "      <td>2</td>\n",
       "    </tr>\n",
       "    <tr>\n",
       "      <th>5</th>\n",
       "      <td>vanessic</td>\n",
       "      <td>14</td>\n",
       "      <td>1622</td>\n",
       "      <td>7</td>\n",
       "    </tr>\n",
       "    <tr>\n",
       "      <th>6</th>\n",
       "      <td>yegor</td>\n",
       "      <td>14</td>\n",
       "      <td>1341</td>\n",
       "      <td>7</td>\n",
       "    </tr>\n",
       "    <tr>\n",
       "      <th>7</th>\n",
       "      <td>zeno</td>\n",
       "      <td>12</td>\n",
       "      <td>1211</td>\n",
       "      <td>1</td>\n",
       "    </tr>\n",
       "  </tbody>\n",
       "</table>\n",
       "</div>"
      ],
      "text/plain": [
       "      username  commit_time  changed_lines  new_files\n",
       "0      bober38           12            885          2\n",
       "1     coder007            7            396          1\n",
       "2  ivan_ivanov           15           1473          4\n",
       "3    john_snow           12           1211          4\n",
       "4          pet           14           1896          2\n",
       "5     vanessic           14           1622          7\n",
       "6        yegor           14           1341          7\n",
       "7         zeno           12           1211          1"
      ]
     },
     "execution_count": 167,
     "metadata": {},
     "output_type": "execute_result"
    }
   ],
   "source": [
    "res"
   ]
  },
  {
   "cell_type": "markdown",
   "metadata": {},
   "source": [
    "### словари"
   ]
  },
  {
   "cell_type": "code",
   "execution_count": 15,
   "metadata": {},
   "outputs": [],
   "source": [
    "from collections import defaultdict"
   ]
  },
  {
   "cell_type": "code",
   "execution_count": 17,
   "metadata": {},
   "outputs": [],
   "source": [
    "d = defaultdict()\n",
    "for k in [1, 2, 3]:\n",
    "    d[k] = 1"
   ]
  },
  {
   "cell_type": "code",
   "execution_count": null,
   "metadata": {},
   "outputs": [],
   "source": []
  },
  {
   "cell_type": "code",
   "execution_count": null,
   "metadata": {},
   "outputs": [],
   "source": []
  },
  {
   "cell_type": "code",
   "execution_count": 18,
   "metadata": {},
   "outputs": [],
   "source": [
    "with open('commits.json', 'r') as f:\n",
    "    data = json.load(f)"
   ]
  },
  {
   "cell_type": "code",
   "execution_count": 19,
   "metadata": {},
   "outputs": [],
   "source": [
    "data = sorted(data, key=lambda x: pd.to_datetime(x['commit_time']))"
   ]
  },
  {
   "cell_type": "code",
   "execution_count": 20,
   "metadata": {},
   "outputs": [
    {
     "data": {
      "text/plain": [
       "{'username': 'yegor',\n",
       " 'commit_time': '2021/01/01 03:14:55',\n",
       " 'files': [{'name': 'utils/tools.py', 'changed_lines': 51},\n",
       "  {'name': 'balancer/tools.py', 'changed_lines': 22},\n",
       "  {'name': 'library/utils.py', 'changed_lines': 75}]}"
      ]
     },
     "execution_count": 20,
     "metadata": {},
     "output_type": "execute_result"
    }
   ],
   "source": [
    "data[0]"
   ]
  },
  {
   "cell_type": "code",
   "execution_count": 22,
   "metadata": {},
   "outputs": [
    {
     "ename": "KeyError",
     "evalue": "3",
     "output_type": "error",
     "traceback": [
      "\u001b[0;31m---------------------------------------------------------------------------\u001b[0m",
      "\u001b[0;31mKeyError\u001b[0m                                  Traceback (most recent call last)",
      "\u001b[0;32m<ipython-input-22-198267351810>\u001b[0m in \u001b[0;36m<module>\u001b[0;34m\u001b[0m\n\u001b[1;32m      1\u001b[0m \u001b[0msomedict\u001b[0m \u001b[0;34m=\u001b[0m \u001b[0;34m{\u001b[0m\u001b[0;34m}\u001b[0m\u001b[0;34m\u001b[0m\u001b[0;34m\u001b[0m\u001b[0m\n\u001b[0;32m----> 2\u001b[0;31m \u001b[0mprint\u001b[0m\u001b[0;34m(\u001b[0m\u001b[0msomedict\u001b[0m\u001b[0;34m[\u001b[0m\u001b[0;36m3\u001b[0m\u001b[0;34m]\u001b[0m\u001b[0;34m)\u001b[0m \u001b[0;31m# KeyError\u001b[0m\u001b[0;34m\u001b[0m\u001b[0;34m\u001b[0m\u001b[0m\n\u001b[0m",
      "\u001b[0;31mKeyError\u001b[0m: 3"
     ]
    }
   ],
   "source": [
    "somedict = {}\n",
    "print(somedict[3]) # KeyError"
   ]
  },
  {
   "cell_type": "code",
   "execution_count": 23,
   "metadata": {},
   "outputs": [
    {
     "name": "stdout",
     "output_type": "stream",
     "text": [
      "0\n"
     ]
    }
   ],
   "source": [
    "someddict = defaultdict(int)\n",
    "print(someddict[3]) # print int(), thus 0"
   ]
  },
  {
   "cell_type": "code",
   "execution_count": 24,
   "metadata": {},
   "outputs": [
    {
     "data": {
      "text/plain": [
       "defaultdict(int, {3: 0})"
      ]
     },
     "execution_count": 24,
     "metadata": {},
     "output_type": "execute_result"
    }
   ],
   "source": [
    "someddict"
   ]
  },
  {
   "cell_type": "code",
   "execution_count": 187,
   "metadata": {},
   "outputs": [],
   "source": [
    "table = defaultdict(lambda: {'commits': 0, 'changed_lines':0, 'new_files':0})\n",
    "new_files = set()\n",
    "\n",
    "for commit in data:\n",
    "    user = commit['username']\n",
    "    table[user]['commits'] += 1\n",
    "    for file in commit['files']:\n",
    "        table[user]['changed_lines'] += file['changed_lines']\n",
    "        if file['name'] not in new_files:\n",
    "            new_files.add(file['name'])\n",
    "            table[user]['new_files'] += 1"
   ]
  },
  {
   "cell_type": "code",
   "execution_count": 188,
   "metadata": {},
   "outputs": [
    {
     "data": {
      "text/plain": [
       "defaultdict(<function __main__.<lambda>()>,\n",
       "            {'yegor': {'commits': 14, 'changed_lines': 1341, 'new_files': 7},\n",
       "             'coder007': {'commits': 7, 'changed_lines': 396, 'new_files': 1},\n",
       "             'bober38': {'commits': 12, 'changed_lines': 885, 'new_files': 2},\n",
       "             'ivan_ivanov': {'commits': 15,\n",
       "              'changed_lines': 1473,\n",
       "              'new_files': 4},\n",
       "             'john_snow': {'commits': 12,\n",
       "              'changed_lines': 1211,\n",
       "              'new_files': 4},\n",
       "             'vanessic': {'commits': 14,\n",
       "              'changed_lines': 1622,\n",
       "              'new_files': 7},\n",
       "             'zeno': {'commits': 12, 'changed_lines': 1211, 'new_files': 1},\n",
       "             'pet': {'commits': 14, 'changed_lines': 1896, 'new_files': 2}})"
      ]
     },
     "execution_count": 188,
     "metadata": {},
     "output_type": "execute_result"
    }
   ],
   "source": [
    "table"
   ]
  },
  {
   "cell_type": "code",
   "execution_count": 194,
   "metadata": {},
   "outputs": [],
   "source": [
    "fin = pd.DataFrame(table).T.reset_index().rename(columns={'index': 'username'}).sort_values('username')"
   ]
  },
  {
   "cell_type": "code",
   "execution_count": 195,
   "metadata": {},
   "outputs": [
    {
     "data": {
      "text/html": [
       "<div>\n",
       "<style scoped>\n",
       "    .dataframe tbody tr th:only-of-type {\n",
       "        vertical-align: middle;\n",
       "    }\n",
       "\n",
       "    .dataframe tbody tr th {\n",
       "        vertical-align: top;\n",
       "    }\n",
       "\n",
       "    .dataframe thead th {\n",
       "        text-align: right;\n",
       "    }\n",
       "</style>\n",
       "<table border=\"1\" class=\"dataframe\">\n",
       "  <thead>\n",
       "    <tr style=\"text-align: right;\">\n",
       "      <th></th>\n",
       "      <th>username</th>\n",
       "      <th>commits</th>\n",
       "      <th>changed_lines</th>\n",
       "      <th>new_files</th>\n",
       "    </tr>\n",
       "  </thead>\n",
       "  <tbody>\n",
       "    <tr>\n",
       "      <th>2</th>\n",
       "      <td>bober38</td>\n",
       "      <td>12</td>\n",
       "      <td>885</td>\n",
       "      <td>2</td>\n",
       "    </tr>\n",
       "    <tr>\n",
       "      <th>1</th>\n",
       "      <td>coder007</td>\n",
       "      <td>7</td>\n",
       "      <td>396</td>\n",
       "      <td>1</td>\n",
       "    </tr>\n",
       "    <tr>\n",
       "      <th>3</th>\n",
       "      <td>ivan_ivanov</td>\n",
       "      <td>15</td>\n",
       "      <td>1473</td>\n",
       "      <td>4</td>\n",
       "    </tr>\n",
       "    <tr>\n",
       "      <th>4</th>\n",
       "      <td>john_snow</td>\n",
       "      <td>12</td>\n",
       "      <td>1211</td>\n",
       "      <td>4</td>\n",
       "    </tr>\n",
       "    <tr>\n",
       "      <th>7</th>\n",
       "      <td>pet</td>\n",
       "      <td>14</td>\n",
       "      <td>1896</td>\n",
       "      <td>2</td>\n",
       "    </tr>\n",
       "    <tr>\n",
       "      <th>5</th>\n",
       "      <td>vanessic</td>\n",
       "      <td>14</td>\n",
       "      <td>1622</td>\n",
       "      <td>7</td>\n",
       "    </tr>\n",
       "    <tr>\n",
       "      <th>0</th>\n",
       "      <td>yegor</td>\n",
       "      <td>14</td>\n",
       "      <td>1341</td>\n",
       "      <td>7</td>\n",
       "    </tr>\n",
       "    <tr>\n",
       "      <th>6</th>\n",
       "      <td>zeno</td>\n",
       "      <td>12</td>\n",
       "      <td>1211</td>\n",
       "      <td>1</td>\n",
       "    </tr>\n",
       "  </tbody>\n",
       "</table>\n",
       "</div>"
      ],
      "text/plain": [
       "      username  commits  changed_lines  new_files\n",
       "2      bober38       12            885          2\n",
       "1     coder007        7            396          1\n",
       "3  ivan_ivanov       15           1473          4\n",
       "4    john_snow       12           1211          4\n",
       "7          pet       14           1896          2\n",
       "5     vanessic       14           1622          7\n",
       "0        yegor       14           1341          7\n",
       "6         zeno       12           1211          1"
      ]
     },
     "execution_count": 195,
     "metadata": {},
     "output_type": "execute_result"
    }
   ],
   "source": [
    "fin"
   ]
  }
 ],
 "metadata": {
  "kernelspec": {
   "display_name": "Python 3",
   "language": "python",
   "name": "python3"
  },
  "language_info": {
   "codemirror_mode": {
    "name": "ipython",
    "version": 3
   },
   "file_extension": ".py",
   "mimetype": "text/x-python",
   "name": "python",
   "nbconvert_exporter": "python",
   "pygments_lexer": "ipython3",
   "version": "3.8.5"
  },
  "toc": {
   "base_numbering": 1,
   "nav_menu": {},
   "number_sections": true,
   "sideBar": true,
   "skip_h1_title": false,
   "title_cell": "Table of Contents",
   "title_sidebar": "Contents",
   "toc_cell": false,
   "toc_position": {},
   "toc_section_display": true,
   "toc_window_display": true
  },
  "varInspector": {
   "cols": {
    "lenName": 16,
    "lenType": 16,
    "lenVar": 40
   },
   "kernels_config": {
    "python": {
     "delete_cmd_postfix": "",
     "delete_cmd_prefix": "del ",
     "library": "var_list.py",
     "varRefreshCmd": "print(var_dic_list())"
    },
    "r": {
     "delete_cmd_postfix": ") ",
     "delete_cmd_prefix": "rm(",
     "library": "var_list.r",
     "varRefreshCmd": "cat(var_dic_list()) "
    }
   },
   "types_to_exclude": [
    "module",
    "function",
    "builtin_function_or_method",
    "instance",
    "_Feature"
   ],
   "window_display": false
  }
 },
 "nbformat": 4,
 "nbformat_minor": 4
}
