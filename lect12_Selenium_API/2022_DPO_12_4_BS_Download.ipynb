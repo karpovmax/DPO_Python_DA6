{
 "cells": [
  {
   "cell_type": "markdown",
   "metadata": {},
   "source": [
    "# Python для анализа данных\n",
    "\n",
    "## Веб-скрэйпинг: скачивание файлов\n",
    "\n",
    "*На основе блокнота Татьяны Рогович, НИУ ВШЭ*\n",
    "*Автор: Ян Пиле, НИУ ВШЭ*"
   ]
  },
  {
   "cell_type": "markdown",
   "metadata": {},
   "source": [
    "## Скачивание файлов"
   ]
  },
  {
   "cell_type": "markdown",
   "metadata": {},
   "source": [
    "Кстати, еще одно применение скрэйпинга, о котором мы пока не поговорили - это автоматизированное скачивание файлов. Например, вы хотите скачать научные статьи по определенному ключевому слову или прайс-листы поставщика, которые он загружает на сайт в эскеле.\n",
    "\n",
    "Давайте посмотрим, как скачивать файлы на примере pdf и заодно попробуем походить по ссылкам. Кстати, этот процесс еще часто называется spidering или crawling, потому что ваш скрипт как паучок ползет по ссылкам (отсюда и название первых поисковых роботов - spider).\n",
    "\n",
    "Давайте попробуем сохранить англоязычные summary дисертаций, защищенных в 2019 году\n",
    "\n",
    "Мы уже отредактировали фильтры и ссылка их запомнила. Позже сегодня посмотрим как можно самим заполнять такие поля с помощью Selenium.\n",
    "\n",
    "https://www.hse.ru/sci/diss/?author=&chief=&year=2019&type=1&degree_type=&council=&spec=&fulltext=yes"
   ]
  },
  {
   "cell_type": "code",
   "execution_count": 1,
   "metadata": {},
   "outputs": [
    {
     "name": "stderr",
     "output_type": "stream",
     "text": [
      "\n",
      "\n",
      "====== WebDriver manager ======\n",
      "Current google-chrome version is 95.0.4638\n",
      "Get LATEST driver version for 95.0.4638\n",
      "Driver [/Users/a18509896/.wdm/drivers/chromedriver/mac64/95.0.4638.17/chromedriver] found in cache\n"
     ]
    }
   ],
   "source": [
    "import requests \n",
    "from bs4 import BeautifulSoup\n",
    "from selenium import webdriver as wb\n",
    "from selenium import webdriver\n",
    "from selenium.webdriver.common.keys import Keys\n",
    "from selenium.webdriver.support.ui import Select\n",
    "from time import sleep\n",
    "import pandas as pd\n",
    "from selenium import webdriver\n",
    "from webdriver_manager.chrome import ChromeDriverManager\n",
    "\n",
    "driver = webdriver.Chrome(ChromeDriverManager().install())\n",
    "\n",
    "driver.implicitly_wait(2)"
   ]
  },
  {
   "cell_type": "code",
   "execution_count": 2,
   "metadata": {},
   "outputs": [],
   "source": [
    "link = 'https://www.hse.ru/sci/diss/?fulltext=yes'\n",
    "driver.get(link)"
   ]
  },
  {
   "cell_type": "code",
   "execution_count": 3,
   "metadata": {},
   "outputs": [],
   "source": [
    "soup = BeautifulSoup(driver.page_source)\n",
    "# soup.find_all('a')"
   ]
  },
  {
   "cell_type": "code",
   "execution_count": 38,
   "metadata": {},
   "outputs": [],
   "source": [
    "# soup.find_all('a', {'class':'link'})"
   ]
  },
  {
   "cell_type": "markdown",
   "metadata": {},
   "source": [
    "Давайте для начала поэкспериментируем с первым кандидатом."
   ]
  },
  {
   "cell_type": "code",
   "execution_count": 4,
   "metadata": {},
   "outputs": [
    {
     "name": "stdout",
     "output_type": "stream",
     "text": [
      "203\n"
     ]
    },
    {
     "data": {
      "text/plain": [
       "[<a class=\"link\" href=\"/sci/diss/513900624\">Славяно-еврейские языковые контакты в средневековой Восточной Европе: лингвотекстологические аспекты</a>,\n",
       " <a class=\"link\" href=\"/org/persons/409751502\" target=\"_blank\">Грищенко Александр Игоревич</a>,\n",
       " <a class=\"link\" href=\"/sci/diss/?keyword=%C2%AB%D0%BF%D1%80%D0%BE%D1%81%D1%82%D0%B0%20%D0%BC%D0%BE%D0%B2%D0%B0%C2%BB\">«проста мова»</a>,\n",
       " <a class=\"link\" href=\"/sci/diss/?keyword=%D0%B1%D0%B8%D0%B1%D0%BB%D0%B5%D0%B9%D1%81%D0%BA%D0%B8%D0%B5%20%D0%BF%D0%B5%D1%80%D0%B5%D0%B2%D0%BE%D0%B4%D1%8B\">библейские переводы</a>,\n",
       " <a class=\"link\" href=\"/sci/diss/?keyword=%D0%B4%D1%80%D0%B5%D0%B2%D0%BD%D0%B5%D0%B5%D0%B2%D1%80%D0%B5%D0%B9%D1%81%D0%BA%D0%B8%D0%B9%20%D1%8F%D0%B7%D1%8B%D0%BA\">древнееврейский язык</a>,\n",
       " <a class=\"link\" href=\"/sci/diss/?keyword=%D0%B8%D1%83%D0%B4%D0%B5%D0%BE-%D1%82%D1%8E%D1%80%D0%BA%D1%81%D0%BA%D0%B8%D0%B9%20%D1%8F%D0%B7%D1%8B%D0%BA\">иудео-тюркский язык</a>,\n",
       " <a class=\"link\" href=\"/sci/diss/?keyword=%D0%B8%D1%83%D0%B4%D0%B5%D0%BE-%D1%85%D1%80%D0%B8%D1%81%D1%82%D0%B8%D0%B0%D0%BD%D1%81%D0%BA%D0%B8%D0%B5%20%D0%BE%D1%82%D0%BD%D0%BE%D1%88%D0%B5%D0%BD%D0%B8%D1%8F\">иудео-христианские отношения</a>,\n",
       " <a class=\"link\" href=\"/sci/diss/?keyword=%D1%80%D1%83%D0%BA%D0%BE%D0%BF%D0%B8%D1%81%D0%B8\">рукописи</a>,\n",
       " <a class=\"link\" href=\"/sci/diss/?keyword=%D1%81%D0%BB%D0%B0%D0%B2%D1%8F%D0%BD%D0%BE-%D0%B5%D0%B2%D1%80%D0%B5%D0%B9%D1%81%D0%BA%D0%B8%D0%B5%20%D0%BA%D0%BE%D0%BD%D1%82%D0%B0%D0%BA%D1%82%D1%8B\">славяно-еврейские контакты</a>,\n",
       " <a class=\"link\" href=\"/sci/diss/?keyword=%D0%A1%D1%80%D0%B5%D0%B4%D0%BD%D0%B5%D0%B2%D0%B5%D0%BA%D0%BE%D0%B2%D0%B0%D1%8F%20%D0%A0%D1%83%D1%81%D1%8C\">Средневековая Русь</a>]"
      ]
     },
     "execution_count": 4,
     "metadata": {},
     "output_type": "execute_result"
    }
   ],
   "source": [
    "print(len(soup.find_all('a')))\n",
    "soup.find_all('a', {'class':'link'})[:10]"
   ]
  },
  {
   "cell_type": "markdown",
   "metadata": {},
   "source": [
    "Видим, что ссылок очень много, а нам нужны только те, которые ведут на summary. Можно поискать их по тексту ссылки."
   ]
  },
  {
   "cell_type": "code",
   "execution_count": 5,
   "metadata": {},
   "outputs": [
    {
     "name": "stdout",
     "output_type": "stream",
     "text": [
      "http://www.hse.ru/data/2021/10/06/1463255682/Grishchenko_Summary.pdf\n",
      "http://www.hse.ru/data/2021/10/05/1460526894/Прохоренкова_summary.pdf\n",
      "http://www.hse.ru/data/2021/09/22/1474088053/Кузнецов_summary.pdf\n",
      "http://www.hse.ru/data/2021/09/21/1471955431/Новиков_summary.pdf\n",
      "http://www.hse.ru/data/2021/10/13/1414208136/Summary_GORIN.pdf\n",
      "http://www.hse.ru/data/2021/10/21/1410648343/Summary Ишанов С.А.pdf\n",
      "http://www.hse.ru/data/2021/10/26/1420929683/Summary.pdf\n",
      "http://www.hse.ru/data/2021/09/16/1432966097/Sopova A._Summary.pdf\n",
      "http://www.hse.ru/data/2021/10/14/1431602917/Summary_Osavoliuk.pdf\n",
      "http://www.hse.ru/data/2021/10/22/1440290987/Сидорова_резюме_ENG.pdf\n"
     ]
    }
   ],
   "source": [
    "for link in soup.find_all('a', text='Summary'):\n",
    "    print(link.get('href'))"
   ]
  },
  {
   "cell_type": "markdown",
   "metadata": {},
   "source": [
    "И соберем ссылки в список."
   ]
  },
  {
   "cell_type": "code",
   "execution_count": 6,
   "metadata": {},
   "outputs": [
    {
     "name": "stdout",
     "output_type": "stream",
     "text": [
      "<a class=\"link\" data-hse-file=\"PDF\" href=\"http://www.hse.ru/data/2021/10/06/1463255682/Grishchenko_Summary.pdf\">Summary</a>\n",
      "<a class=\"link\" data-hse-file=\"PDF\" href=\"http://www.hse.ru/data/2021/10/05/1460526894/Прохоренкова_summary.pdf\">Summary</a>\n",
      "<a class=\"link\" data-hse-file=\"PDF\" href=\"http://www.hse.ru/data/2021/09/22/1474088053/Кузнецов_summary.pdf\">Summary</a>\n",
      "<a class=\"link\" data-hse-file=\"PDF\" href=\"http://www.hse.ru/data/2021/09/21/1471955431/Новиков_summary.pdf\">Summary</a>\n",
      "<a class=\"link\" data-hse-file=\"PDF\" href=\"http://www.hse.ru/data/2021/10/13/1414208136/Summary_GORIN.pdf\">Summary</a>\n",
      "<a class=\"link\" data-hse-file=\"PDF\" href=\"http://www.hse.ru/data/2021/10/21/1410648343/Summary Ишанов С.А.pdf\">Summary</a>\n",
      "<a class=\"link\" data-hse-file=\"PDF\" href=\"http://www.hse.ru/data/2021/10/26/1420929683/Summary.pdf\">Summary</a>\n",
      "<a class=\"link\" data-hse-file=\"PDF\" href=\"http://www.hse.ru/data/2021/09/16/1432966097/Sopova A._Summary.pdf\">Summary</a>\n",
      "<a class=\"link\" data-hse-file=\"PDF\" href=\"http://www.hse.ru/data/2021/10/14/1431602917/Summary_Osavoliuk.pdf\">Summary</a>\n",
      "<a class=\"link\" data-hse-file=\"PDF\" href=\"http://www.hse.ru/data/2021/10/22/1440290987/Сидорова_резюме_ENG.pdf\">Summary</a>\n",
      "['http://www.hse.ru/data/2021/10/06/1463255682/Grishchenko_Summary.pdf', 'http://www.hse.ru/data/2021/10/05/1460526894/Прохоренкова_summary.pdf', 'http://www.hse.ru/data/2021/09/22/1474088053/Кузнецов_summary.pdf', 'http://www.hse.ru/data/2021/09/21/1471955431/Новиков_summary.pdf', 'http://www.hse.ru/data/2021/10/13/1414208136/Summary_GORIN.pdf', 'http://www.hse.ru/data/2021/10/21/1410648343/Summary Ишанов С.А.pdf', 'http://www.hse.ru/data/2021/10/26/1420929683/Summary.pdf', 'http://www.hse.ru/data/2021/09/16/1432966097/Sopova A._Summary.pdf', 'http://www.hse.ru/data/2021/10/14/1431602917/Summary_Osavoliuk.pdf', 'http://www.hse.ru/data/2021/10/22/1440290987/Сидорова_резюме_ENG.pdf']\n"
     ]
    }
   ],
   "source": [
    "links = []\n",
    "for link in soup.find_all('a', text='Summary'):\n",
    "    print(link)\n",
    "    links.append(link.get('href'))\n",
    "    \n",
    "print(links)"
   ]
  },
  {
   "cell_type": "markdown",
   "metadata": {},
   "source": [
    "Отлично. Теперь нужно придумать, откуда взять название для каждого файла. Пусть это будут фамилии авторов, давайте доберемся до них. Такую задачу мы пока не решали: будем искать тэг по тексту, а потом искать его родителя (потому что ни ячейку таблицы с именем автора, ни саму таблицу не получится уникально отсечь)."
   ]
  },
  {
   "cell_type": "code",
   "execution_count": 7,
   "metadata": {},
   "outputs": [
    {
     "name": "stdout",
     "output_type": "stream",
     "text": [
      "«проста мова», \n",
      "анализ графов, \n",
      "квантовые ямы, \n",
      "Новиков Александр Витальевич\n",
      "Оселедец Иван Валерьевич\n",
      "марковские случайные поля, \n",
      "EEG, \n",
      "aloneness, \n",
      "казахская литература, \n",
      "Государственная дума Российской империи, \n",
      "Осаволюк Екатерина Юрьевна\n",
      "когнитивная флексибильность, \n",
      "анализ поведения судей, \n"
     ]
    }
   ],
   "source": [
    "for author in soup.find_all('div', {'class':'p1 v'}):\n",
    "    try:\n",
    "        print(author.span.text)\n",
    "    except:\n",
    "        pass\n"
   ]
  },
  {
   "cell_type": "markdown",
   "metadata": {},
   "source": [
    "Достанем фамилии."
   ]
  },
  {
   "cell_type": "code",
   "execution_count": 8,
   "metadata": {},
   "outputs": [
    {
     "name": "stdout",
     "output_type": "stream",
     "text": [
      "[]\n"
     ]
    }
   ],
   "source": [
    "authors = []\n",
    "for author in soup.find_all('td', text='Соискатель:'):\n",
    "    print(author.parent()[1].get_text().split()[0])\n",
    "    authors.append(author.parent()[1].get_text().split()[0])\n",
    "    \n",
    "print(authors)"
   ]
  },
  {
   "cell_type": "markdown",
   "metadata": {},
   "source": [
    "Проверим, что списки действительно одинаковой длины."
   ]
  },
  {
   "cell_type": "code",
   "execution_count": 9,
   "metadata": {},
   "outputs": [
    {
     "data": {
      "text/plain": [
       "False"
      ]
     },
     "execution_count": 9,
     "metadata": {},
     "output_type": "execute_result"
    }
   ],
   "source": [
    "len(links) == len(authors)"
   ]
  },
  {
   "cell_type": "code",
   "execution_count": 10,
   "metadata": {},
   "outputs": [
    {
     "name": "stdout",
     "output_type": "stream",
     "text": [
      "['http://www.hse.ru/data/2021/10/06/1463255682/Grishchenko_Summary.pdf', 'http://www.hse.ru/data/2021/10/05/1460526894/Прохоренкова_summary.pdf', 'http://www.hse.ru/data/2021/09/22/1474088053/Кузнецов_summary.pdf', 'http://www.hse.ru/data/2021/09/21/1471955431/Новиков_summary.pdf', 'http://www.hse.ru/data/2021/10/13/1414208136/Summary_GORIN.pdf', 'http://www.hse.ru/data/2021/10/21/1410648343/Summary Ишанов С.А.pdf', 'http://www.hse.ru/data/2021/10/26/1420929683/Summary.pdf', 'http://www.hse.ru/data/2021/09/16/1432966097/Sopova A._Summary.pdf', 'http://www.hse.ru/data/2021/10/14/1431602917/Summary_Osavoliuk.pdf', 'http://www.hse.ru/data/2021/10/22/1440290987/Сидорова_резюме_ENG.pdf']\n"
     ]
    }
   ],
   "source": [
    "print(links)"
   ]
  },
  {
   "cell_type": "markdown",
   "metadata": {},
   "source": [
    "Теперь попробуем сохранить файл. У нас все файлы pdf, будем переименовывать их фамилиями автора. Кстати, если файлы разного формата, то расширение можно узнать через атрибут headers"
   ]
  },
  {
   "cell_type": "code",
   "execution_count": 11,
   "metadata": {},
   "outputs": [
    {
     "data": {
      "text/plain": [
       "'application/pdf'"
      ]
     },
     "execution_count": 11,
     "metadata": {},
     "output_type": "execute_result"
    }
   ],
   "source": [
    "requests.get(links[0]).headers['content-type']"
   ]
  },
  {
   "cell_type": "code",
   "execution_count": 12,
   "metadata": {},
   "outputs": [],
   "source": [
    "# потоковое чтение файла, потому pdf может быть большим и не уместиться в памяти\n",
    "summary = requests.get(links[0], stream=True) \n",
    "\n",
    "# на всякий случай делаем проверку, иначе получим битый файл\n",
    "if summary.headers['content-type'] == 'application/pdf': \n",
    "\n",
    "    # wb - запись байтовой информации\n",
    "    fh = open('test.pdf', 'wb') \n",
    "    \n",
    "    # считываем туда \"содержание\" файла по ссылке\n",
    "    fh.write(summary.content) \n",
    "    fh.close()"
   ]
  },
  {
   "cell_type": "code",
   "execution_count": 13,
   "metadata": {},
   "outputs": [
    {
     "data": {
      "text/plain": [
       "'/Users/a18509896/Python_DPO_2021_fall/lect11_Selenium_API'"
      ]
     },
     "execution_count": 13,
     "metadata": {},
     "output_type": "execute_result"
    }
   ],
   "source": [
    "import os\n",
    "os.getcwd()"
   ]
  },
  {
   "cell_type": "markdown",
   "metadata": {},
   "source": [
    "Давайте теперь еще добавим имя файла по фамилии."
   ]
  },
  {
   "cell_type": "code",
   "execution_count": 14,
   "metadata": {},
   "outputs": [
    {
     "ename": "IndexError",
     "evalue": "list index out of range",
     "output_type": "error",
     "traceback": [
      "\u001b[0;31m---------------------------------------------------------------------------\u001b[0m",
      "\u001b[0;31mIndexError\u001b[0m                                Traceback (most recent call last)",
      "\u001b[0;32m<ipython-input-14-c353f3985ed8>\u001b[0m in \u001b[0;36m<module>\u001b[0;34m\u001b[0m\n\u001b[1;32m      6\u001b[0m \u001b[0;34m\u001b[0m\u001b[0m\n\u001b[1;32m      7\u001b[0m     \u001b[0;31m# wb - запись байтовой информации\u001b[0m\u001b[0;34m\u001b[0m\u001b[0;34m\u001b[0m\u001b[0;34m\u001b[0m\u001b[0m\n\u001b[0;32m----> 8\u001b[0;31m     \u001b[0mfh\u001b[0m \u001b[0;34m=\u001b[0m \u001b[0mopen\u001b[0m\u001b[0;34m(\u001b[0m\u001b[0;34mf'{authors[0]}.pdf'\u001b[0m\u001b[0;34m,\u001b[0m \u001b[0;34m'wb'\u001b[0m\u001b[0;34m)\u001b[0m\u001b[0;34m\u001b[0m\u001b[0;34m\u001b[0m\u001b[0m\n\u001b[0m\u001b[1;32m      9\u001b[0m \u001b[0;34m\u001b[0m\u001b[0m\n\u001b[1;32m     10\u001b[0m     \u001b[0;31m# считываем туда \"содержание\" файла по ссылке\u001b[0m\u001b[0;34m\u001b[0m\u001b[0;34m\u001b[0m\u001b[0;34m\u001b[0m\u001b[0m\n",
      "\u001b[0;31mIndexError\u001b[0m: list index out of range"
     ]
    }
   ],
   "source": [
    "# потоковое чтение файла, потому pdf может быть большим и не уместиться в памяти\n",
    "summary = requests.get(links[0], stream=True) \n",
    "\n",
    "# на всякий случай делаем проверку, иначе получим битый файл\n",
    "if summary.headers['content-type'] == 'application/pdf': \n",
    "\n",
    "    # wb - запись байтовой информации\n",
    "    fh = open(f'{authors[0]}.pdf', 'wb') \n",
    "    \n",
    "    # считываем туда \"содержание\" файла по ссылке\n",
    "    fh.write(summary.content) \n",
    "    fh.close()"
   ]
  },
  {
   "cell_type": "markdown",
   "metadata": {},
   "source": [
    "Давайте сохраним обработку файла в функцию и соберем уже все в цикл."
   ]
  },
  {
   "cell_type": "code",
   "execution_count": 15,
   "metadata": {},
   "outputs": [],
   "source": [
    "def get_pdf(idx):\n",
    "    summary = requests.get(links[idx], stream=True) # потоковое чтение файла, потому pdf может быть большим и не уместиться в памяти\n",
    "    if summary.headers['content-type'] == 'application/pdf': # на всякий случай делаем проверку, иначе получим битый файл\n",
    "        s = re.findall(r'\\w+',links[idx].split('/')[-1])[0]\n",
    "        fh = open(f'{s}.pdf', 'wb') # wb - запись байтовой информации\n",
    "        fh.write(summary.content) # считываем туда \"содержание\" файла по ссылке\n",
    "        fh.close()"
   ]
  },
  {
   "cell_type": "code",
   "execution_count": 16,
   "metadata": {},
   "outputs": [],
   "source": [
    "import re\n",
    "s = re.findall(r'\\w+',links[0].split('/')[-1])[0]"
   ]
  },
  {
   "cell_type": "code",
   "execution_count": 17,
   "metadata": {},
   "outputs": [
    {
     "data": {
      "text/plain": [
       "'Grishchenko_Summary.pdf'"
      ]
     },
     "execution_count": 17,
     "metadata": {},
     "output_type": "execute_result"
    }
   ],
   "source": [
    "f'{s}.pdf'"
   ]
  },
  {
   "cell_type": "code",
   "execution_count": 18,
   "metadata": {},
   "outputs": [],
   "source": [
    "link = 'https://www.hse.ru/sci/diss/?fulltext=yes'\n",
    "driver.get(link)\n",
    "\n",
    "soup = BeautifulSoup(driver.page_source)\n",
    "\n",
    "links = []\n",
    "for link in soup.find_all('a', text='Summary'):\n",
    "    links.append(link.get('href'))\n",
    "\n",
    "authors = []\n",
    "for author in soup.find_all('td', text='Соискатель:'):\n",
    "    authors.append(author.parent()[1].get_text().split()[0])"
   ]
  },
  {
   "cell_type": "code",
   "execution_count": 19,
   "metadata": {},
   "outputs": [
    {
     "data": {
      "text/plain": [
       "['http://www.hse.ru/data/2021/10/06/1463255682/Grishchenko_Summary.pdf',\n",
       " 'http://www.hse.ru/data/2021/10/05/1460526894/Прохоренкова_summary.pdf',\n",
       " 'http://www.hse.ru/data/2021/09/22/1474088053/Кузнецов_summary.pdf',\n",
       " 'http://www.hse.ru/data/2021/09/21/1471955431/Новиков_summary.pdf',\n",
       " 'http://www.hse.ru/data/2021/10/13/1414208136/Summary_GORIN.pdf',\n",
       " 'http://www.hse.ru/data/2021/10/21/1410648343/Summary Ишанов С.А.pdf',\n",
       " 'http://www.hse.ru/data/2021/10/26/1420929683/Summary.pdf',\n",
       " 'http://www.hse.ru/data/2021/09/16/1432966097/Sopova A._Summary.pdf',\n",
       " 'http://www.hse.ru/data/2021/10/14/1431602917/Summary_Osavoliuk.pdf',\n",
       " 'http://www.hse.ru/data/2021/10/22/1440290987/Сидорова_резюме_ENG.pdf']"
      ]
     },
     "execution_count": 19,
     "metadata": {},
     "output_type": "execute_result"
    }
   ],
   "source": [
    "links\n"
   ]
  },
  {
   "cell_type": "code",
   "execution_count": 20,
   "metadata": {},
   "outputs": [],
   "source": [
    "for idx in range(len(links)):\n",
    "    get_pdf(idx)"
   ]
  },
  {
   "cell_type": "markdown",
   "metadata": {},
   "source": [
    "Готово!"
   ]
  },
  {
   "cell_type": "code",
   "execution_count": 21,
   "metadata": {},
   "outputs": [],
   "source": [
    "driver.close()"
   ]
  }
 ],
 "metadata": {
  "kernelspec": {
   "display_name": "Python 3",
   "language": "python",
   "name": "python3"
  },
  "language_info": {
   "codemirror_mode": {
    "name": "ipython",
    "version": 3
   },
   "file_extension": ".py",
   "mimetype": "text/x-python",
   "name": "python",
   "nbconvert_exporter": "python",
   "pygments_lexer": "ipython3",
   "version": "3.8.5"
  },
  "toc": {
   "base_numbering": 1,
   "nav_menu": {},
   "number_sections": true,
   "sideBar": true,
   "skip_h1_title": false,
   "title_cell": "Table of Contents",
   "title_sidebar": "Contents",
   "toc_cell": false,
   "toc_position": {},
   "toc_section_display": true,
   "toc_window_display": false
  },
  "varInspector": {
   "cols": {
    "lenName": 16,
    "lenType": 16,
    "lenVar": 40
   },
   "kernels_config": {
    "python": {
     "delete_cmd_postfix": "",
     "delete_cmd_prefix": "del ",
     "library": "var_list.py",
     "varRefreshCmd": "print(var_dic_list())"
    },
    "r": {
     "delete_cmd_postfix": ") ",
     "delete_cmd_prefix": "rm(",
     "library": "var_list.r",
     "varRefreshCmd": "cat(var_dic_list()) "
    }
   },
   "types_to_exclude": [
    "module",
    "function",
    "builtin_function_or_method",
    "instance",
    "_Feature"
   ],
   "window_display": false
  }
 },
 "nbformat": 4,
 "nbformat_minor": 4
}
