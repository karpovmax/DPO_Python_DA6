{
 "cells": [
  {
   "cell_type": "markdown",
   "metadata": {},
   "source": [
    "# Python для анализа данных\n",
    "\n",
    "*Алла Тамбовцева, НИУ ВШЭ*\n",
    "\n",
    "дополнения: *Ян Пиле, НИУ ВШЭ*"
   ]
  },
  {
   "cell_type": "markdown",
   "metadata": {},
   "source": [
    "Посмотрим на другие примеры использования `selenium`. \n",
    "\n",
    "**Пример.** Зайдем на сайт книжного магазина и найдем все книги про Python. Загрузим библиотеку, веб-драйвер и откроем страницу в браузере через Python."
   ]
  },
  {
   "cell_type": "code",
   "execution_count": 6,
   "metadata": {},
   "outputs": [
    {
     "ename": "ImportError",
     "evalue": "cannot import name 'By' from 'webdriver_manager.chrome' (/Users/maksimkarpov/opt/anaconda3/lib/python3.8/site-packages/webdriver_manager/chrome.py)",
     "output_type": "error",
     "traceback": [
      "\u001b[0;31m---------------------------------------------------------------------------\u001b[0m",
      "\u001b[0;31mImportError\u001b[0m                               Traceback (most recent call last)",
      "\u001b[0;32m<ipython-input-6-f662dcc542e2>\u001b[0m in \u001b[0;36m<module>\u001b[0;34m\u001b[0m\n\u001b[0;32m----> 1\u001b[0;31m \u001b[0;32mfrom\u001b[0m \u001b[0mwebdriver_manager\u001b[0m\u001b[0;34m.\u001b[0m\u001b[0mchrome\u001b[0m \u001b[0;32mimport\u001b[0m \u001b[0mBy\u001b[0m\u001b[0;34m\u001b[0m\u001b[0;34m\u001b[0m\u001b[0m\n\u001b[0m",
      "\u001b[0;31mImportError\u001b[0m: cannot import name 'By' from 'webdriver_manager.chrome' (/Users/maksimkarpov/opt/anaconda3/lib/python3.8/site-packages/webdriver_manager/chrome.py)"
     ]
    }
   ],
   "source": [
    "from webdriver_manager.chrome import By"
   ]
  },
  {
   "cell_type": "code",
   "execution_count": 1,
   "metadata": {},
   "outputs": [
    {
     "name": "stderr",
     "output_type": "stream",
     "text": [
      "\n",
      "\n",
      "====== WebDriver manager ======\n",
      "Current google-chrome version is 103.0.5060\n",
      "Get LATEST chromedriver version for 103.0.5060 google-chrome\n",
      "Driver [/Users/maksimkarpov/.wdm/drivers/chromedriver/mac64/103.0.5060.53/chromedriver] found in cache\n"
     ]
    }
   ],
   "source": [
    "from selenium import webdriver\n",
    "from webdriver_manager.chrome import ChromeDriverManager\n",
    "\n",
    "br = webdriver.Chrome(ChromeDriverManager().install())\n",
    "\n",
    "# открываем страницу в Chrome в автоматическом режиме\n",
    "br.get(\"http://www.biblio-globus.ru/\")"
   ]
  },
  {
   "cell_type": "markdown",
   "metadata": {},
   "source": [
    "Найдем с помощью CSS Selector'а (*SelectorGadget*) поле для ввода названия книги или автора. "
   ]
  },
  {
   "cell_type": "code",
   "execution_count": 8,
   "metadata": {},
   "outputs": [],
   "source": [
    "from selenium.webdriver.common.by import By"
   ]
  },
  {
   "cell_type": "code",
   "execution_count": 9,
   "metadata": {},
   "outputs": [],
   "source": [
    "field = br.find_element(By.CSS_SELECTOR, \"input\")"
   ]
  },
  {
   "cell_type": "markdown",
   "metadata": {},
   "source": [
    "Сохраним запрос:"
   ]
  },
  {
   "cell_type": "code",
   "execution_count": 10,
   "metadata": {},
   "outputs": [],
   "source": [
    "author = \"Python\"  # переменная author - условность"
   ]
  },
  {
   "cell_type": "markdown",
   "metadata": {},
   "source": [
    "Введем запрос в поле для поиска (`.send_keys`) и подождем чуть-чуть:"
   ]
  },
  {
   "cell_type": "code",
   "execution_count": 11,
   "metadata": {},
   "outputs": [],
   "source": [
    "field.send_keys(author)\n",
    "br.implicitly_wait(2)  # подождем пару секунд"
   ]
  },
  {
   "cell_type": "markdown",
   "metadata": {},
   "source": [
    "Теперь найдем кнопку для поиска (значок *лупа* рядом со строкой поиска) через CSS Selector:"
   ]
  },
  {
   "cell_type": "code",
   "execution_count": 12,
   "metadata": {},
   "outputs": [],
   "source": [
    "submit = br.find_element(By.CSS_SELECTOR, \"#search_submit\")"
   ]
  },
  {
   "cell_type": "markdown",
   "metadata": {},
   "source": [
    "Кликнем на нее:"
   ]
  },
  {
   "cell_type": "code",
   "execution_count": 13,
   "metadata": {},
   "outputs": [],
   "source": [
    "submit.click()"
   ]
  },
  {
   "cell_type": "code",
   "execution_count": 14,
   "metadata": {},
   "outputs": [
    {
     "data": {
      "text/plain": [
       "selenium.webdriver.chrome.webdriver.WebDriver"
      ]
     },
     "execution_count": 14,
     "metadata": {},
     "output_type": "execute_result"
    }
   ],
   "source": [
    "type(br)"
   ]
  },
  {
   "cell_type": "markdown",
   "metadata": {},
   "source": [
    "Сохраним первую страницу с результатами в переменную `page1`."
   ]
  },
  {
   "cell_type": "code",
   "execution_count": 15,
   "metadata": {},
   "outputs": [],
   "source": [
    "page1 = br.page_source #разметка сайта"
   ]
  },
  {
   "cell_type": "code",
   "execution_count": 16,
   "metadata": {},
   "outputs": [
    {
     "data": {
      "text/plain": [
       "'<html xmlns=\"http://www.w3.org/1999/xhtml\"><head><title>\\n\\t\\n\\tРезультаты поиска по запросу: «Python»\\n\\n</title><meta http-equiv=\"Content-Type\" content=\"application/xhtml+xml; charset=utf-8\"><meta name=\"description\"><meta name=\"keywords\"><meta name=\"robots\">\\n\\t<link rel=\"stylesheet\" type=\"text/css\" href=\"/search/Content/Site.css?v=77\" media=\"screen\">\\n    <link rel=\"stylesheet\" type=\"text/css\" href=\"/search/Content/jquery-ui-1.8.16.custom.css\" media=\"screen\">\\n    <link rel=\"stylesheet\" href=\"https://use.fontawesome.com/releases/v5.7.0/css/all.css\" integrity=\"sha384-lZN37f5QGtY3VHgisS14W3ExzMWZxybE1SJSEsQp9S+oqd12jhcu+A56Ebc1zFSJ\" crossorigin=\"anonymous\">\\n    <link rel=\"stylesheet\" type=\"text/css\" href=\"/search/Content/eventCalendar_theme_responsive.css\" media=\"screen\">\\n    <link rel=\"stylesheet\" type=\"text/css\" href=\"/search/Content/eventCalendar.css\" media=\"screen\">\\n    <link rel=\"stylesheet\" href=\"/search/Content/owl/assets/owl.carousel.css\">\\n    <link rel=\"stylesheet\" href=\"/search/Content/owl/assets/owl.theme.default.css\">\\n\\n    <link rel=\"stylesheet\" type=\"text/css\" href=\"/search/Content/jstree.css\" media=\"screen\">\\n    \\n    <iframe id=\"pxcelframe\" title=\"pxcelframe\" src=\"//t.sharethis.com/a/t_.htm?ver=1.991.23340&amp;cid=c010&amp;cls=B#cid=c010&amp;cls=B&amp;dmn=www.biblio-globus.ru&amp;rnd=1656355688608&amp;tt=t.dhj&amp;dhjLcy=87&amp;lbl=pxcel&amp;flbl=pxcel&amp;ll=d&amp;ver=1.991.23340&amp;ell=d&amp;cck=__stid&amp;pn=%2Fsearch%2Fcatalog%2Fproducts&amp;qs=query%3DPython%26page%3D1&amp;rdn=www.biblio-globus.ru&amp;rpn=%2F&amp;rqs=na&amp;cc=RU&amp;cont=EU&amp;ipaddr=\" style=\"display: none;\"></iframe><script async=\"\" src=\"https://buttons-config.sharethis.com/js/5bfbed37a0286b00115a8f0d.js\"></script><script src=\"https://code.jquery.com/jquery-1.11.2.min.js\" type=\"text/javascript\"></script>\\n    <script src=\"/search/Scripts/jquery-ui-1.8.16.custom.min.js\" type=\"text/javascript\"></script> \\n    <script src=\"/search/Scripts/jquery.eventCalendar.min.js\" type=\"text/javascript\"></script>\\n\\t<script src=\"//platform-api.sharethis.com/js/sharethis.js#property=5bfbed37a0286b00115a8f0d&amp;product=inline-follow-buttons\"></script>\\n    \\n    <script src=\"/search/Scripts/jstree.js\" type=\"text/javascript\"></script> \\n    \\n\\n\\n    <!-- Include js plugin -->\\n    <script src=\"/search/Content/owl/owl.carousel.js\"></script>\\n\\n    <script type=\"text/javascript\">\\n        $(document).ready(function () {\\n\\n\\n            $(\"#html_1\").jstree().bind(\"select_node.jstree\", function (e, data) {\\n                data.instance.toggle_node(data.node);\\n                var href = data.node.a_attr.href;\\n                document.location.href = href;\\n            });\\n\\n            $(\"#html_2\").jstree().bind(\"select_node.jstree\", function (e, data) {\\n                data.instance.toggle_node(data.node);\\n                var href = data.node.a_attr.href;\\n                document.location.href = href;\\n            });\\n\\n            $(\"#html_3\").jstree().bind(\"select_node.jstree\", function (e, data) {\\n                data.instance.toggle_node(data.node);\\n                var href = data.node.a_attr.href;\\n                document.location.href = href;\\n            });\\n\\n            $(\"#html_4\").jstree().bind(\"select_node.jstree\", function (e, data) {\\n                data.instance.toggle_node(data.node);\\n                var href = data.node.a_attr.href;\\n                document.location.href = href;\\n            });\\n\\n            $(\"#html_5\").jstree().bind(\"select_node.jstree\", function (e, data) {\\n                data.instance.toggle_node(data.node);\\n                var href = data.node.a_attr.href;\\n                document.location.href = href;\\n            });\\n\\n\\n            $(\"#html_6\").jstree().bind(\"select_node.jstree\", function (e, data) {\\n                data.instance.toggle_node(data.node);\\n                var href = data.node.a_attr.href;\\n                document.location.href = href;\\n            });\\n\\n            $(\"#html_7\").jstree().bind(\"select_node.jstree\", function (e, data) {\\n                data.instance.toggle_node(data.node);\\n                var href = data.node.a_attr.href;\\n                document.location.href = href;\\n            });\\n\\n            $(\"#html_8\").jstree().bind(\"select_node.jstree\", function (e, data) {\\n                data.instance.toggle_node(data.node);\\n                var href = data.node.a_attr.href;\\n                document.location.href = href;\\n            });\\n\\n            $(\"#html_9\").jstree().bind(\"select_node.jstree\", function (e, data) {\\n                data.instance.toggle_node(data.node);\\n                var href = data.node.a_attr.href;\\n                document.location.href = href;\\n            });\\n\\n            $(\"#html_10\").jstree().bind(\"select_node.jstree\", function (e, data) {\\n                data.instance.toggle_node(data.node);\\n                var href = data.node.a_attr.href;\\n                document.location.href = href;\\n            });\\n\\n            $(\"#html_11\").jstree().bind(\"select_node.jstree\", function (e, data) {\\n                data.instance.toggle_node(data.node);\\n                var href = data.node.a_attr.href;\\n                document.location.href = href;\\n            });\\n        \\n            $(\"#owl-example\").owlCarousel({\\n                items: 1,\\n                thumbs: true,\\n                nav: false,\\n                dots: false,\\n                loop: true,\\n                autoplay: true,\\n                thumbsPrerendered: true\\n            });\\n\\n            $(\"#events\").on(\\'click\\', \\'.switch_btn\\', function () {\\n                var currentId = this.id.replace(\"event_\", \"\");\\n                var full_desrc = \\'#full_description_\\' + currentId;\\n                var desrc = \\'#description_\\' + currentId;\\n                $(full_desrc).slideToggle(\"slow\");\\n                //$(desrc).slideToggle(\"slow\");\\n                var btn_text_id = \\'#event_\\' + currentId;\\n                var btn_text = $(btn_text_id).html();\\n                if (btn_text == \\'<div class=\"event_less\">Свернуть</div>\\') {\\n                    $(btn_text_id).html(\\'<div class=\"event_more\">Подробнее</div>\\');\\n                }\\n                else {\\n                    $(btn_text_id).html(\\'<div class=\"event_less\">Свернуть</div>\\');\\n                }\\n            });\\n        });\\n    </script>\\n    \\n    <style>\\n        .ui-autocomplete-loading {\\n            background: white url(\"images/ui-anim_basic_16x16.gif\") right center no-repeat;\\n        }\\n    </style>\\n\\n<!--\\n  <script type=\"text/javascript\">\\n      $(function () {\\n          $(\"#search_field\").autocomplete({\\n              source: function (request, response) {\\n                  $.ajax({\\n                      url: \"/search/Catalog/GetSearchString\",\\n                      type: \"POST\",\\n                      dataType: \"json\",\\n                      data: {query: request.term, maxResult: 10},\\n \\t                  success: function (data) {\\n \\t                        response($.map(data, function (item) {\\n \\t                            return { label: item.Value, value: item.Value, id: item.TypeId }\\n \\t                        }))\\n \\t                  }\\n                  });\\n              },\\n              minLength: 3,\\n              select: function( event, ui ) {\\n                if(ui.item)\\n                {\\n                    window.location = \\'http://www.biblio-globus.ru/service/catalog/products?query=\\' + encodeURIComponent(ui.item.value) + \\'&page=1\\';\\n                }\\n              }\\n          });\\n      });\\n  </script>\\n -->\\n \\n</head>\\n\\n<body>\\n<table class=\"wrapper\">\\n<tbody><tr>\\n    <td class=\"left_column\"><div align=\"center\"><a href=\"http://www.biblio-globus.ru/\" id=\"logo\">\\n    <img src=\"/search/Content/Images/logo.jpg\" alt=\"\"></a></div>\\n        <div class=\"column_top_wrapper\">\\n            <div class=\"column_top\"></div>\\n        </div>\\n    </td>\\n    <td class=\"top_bg\">\\n        <div id=\"header_photo\">\\n        \\n        </div>\\n        <div class=\"top_nav\">\\n            <table width=\"100%\">\\n                <tbody><tr>\\n\\t\\t\\t\\t<td><a href=\"http://www.biblio-globus.ru/content.aspx?page_id=40\" id=\"shops_button\"></a></td>\\n                    <td><a href=\"http://www.bgshop.ru/\" target=\"_blank\" id=\"ecommerce_button\"></a></td>\\n                    <!-- <td><a href=\"http://www.biblio-globus.ru/content.aspx?page_id=5\" id=\"departments_button\"></a></td> \\n\\t\\t\\t\\t\\t<td><a href=\"http://digest.biblio-globus.ru/\" id=\"digest_button\"></a></td>-->\\n                    \\n                    <td><a href=\"http://www.biblio-globus.ru/content.aspx?page_id=14\" id=\"vendors_button\"></a></td>\\n                    <!-- <td><a href=\"http://www.biblio-globus.ru/content.aspx?page_id=306\" id=\"services_button\"></a></td> -->\\n                    <td><a href=\"http://www.biblio-globus.ru/content.aspx?page_id=15\" id=\"company_button\"></a></td>\\n                </tr>\\n            </tbody></table>\\n        </div>\\n    </td>\\n</tr>\\n<tr>\\n\\n\\n    <td class=\"left_column\" valign=\"top\">\\n\\n \\n\\n    <table width=\"100%\" border=\"0\" cellspacing=\"0\" cellpadding=\"0\" id=\"Table2\">\\n  <tbody><tr>\\n    <td valign=\"top\" align=\"center\" width=\"18%\">\\n\\n<br></td></tr>\\n  <tr>\\n    <td valign=\"top\" align=\"center\" width=\"18%\">\\n      \\n<div class=\"left_nav_divider\"></div>\\n          \\n          </td></tr>\\n\\t\\t\\t<tr>\\n\\t\\t\\t\\t<td width=\"18%\" align=\"center\" valign=\"top\"><img src=\"http://www.biblio-globus.ru/img/1px.gif\" width=\"195\" height=\"1\"><br>\\n\\n<table width=\"80%\" border=\"0\" cellspacing=\"3\" cellpadding=\"3\" id=\"Table3\">\\n<tbody>\\t\\t\\n\\n\\t\\t<tr>\\n\\t\\t<td colspan=\"3\" class=\"zag1\" style=\"color:#3a83bf;\">ИНФОРМАЦИЯ</td></tr>\\n\\t\\t<tr align=\"left\">\\n\\t\\t<td width=\"5%\"><img alt=\"\" src=\"http://www.biblio-globus.ru/img/strl.gif\" width=\"5\" height=\"5\"></td>\\n\\t\\t<td><a class=\"menu\" href=\"http://www.biblio-globus.ru/content.aspx?page_id=527\">Литературная афиша</a></td></tr>\\n\\t\\t<tr align=\"left\">\\n\\t\\t<td width=\"5%\"><img alt=\"\" src=\"http://www.biblio-globus.ru/img/strl.gif\" width=\"5\" height=\"5\"></td>\\n\\t\\t<td><a class=\"menu\" href=\"http://www.biblio-globus.ru/content.aspx?page_id=214\">Литературная гостиная им. И.Д. Сытина (клубные встречи)</a></td></tr>\\n\\t\\t\\n\\n\\t\\t<tr align=\"left\">\\n\\t\\t<td width=\"5%\"><img alt=\"\" src=\"http://www.biblio-globus.ru/img/strl.gif\" width=\"5\" height=\"5\"></td>\\n\\t\\t<td><a class=\"menu\" href=\"http://www.biblio-globus.ru/content.aspx?page_id=552\">Гильдия книжников представляет</a></td></tr>\\n\\n\\n\\t\\t<tr align=\"left\">\\n\\t\\t<td width=\"5%\"><img alt=\"\" src=\"http://www.biblio-globus.ru/img/strl.gif\" width=\"5\" height=\"5\"></td>\\n\\t\\t<td><a class=\"menu\" href=\"http://www.biblio-globus.ru/content.aspx?page_id=29\">Библио-новости</a></td></tr>\\n\\t\\t\\n\\t\\t<tr align=\"left\">\\n\\t\\t<td width=\"5%\"><img alt=\"\" src=\"http://www.biblio-globus.ru/img/strl.gif\" width=\"5\" height=\"5\"></td>\\n\\t\\t<td><a class=\"menu\" href=\"http://digest.biblio-globus.ru/\">Книжный дайджест </a></td></tr>\\n\\t\\t\\n\\t\\t<tr align=\"left\">\\n\\t\\t<td width=\"5%\"><img alt=\"\" src=\"http://www.biblio-globus.ru/img/strl.gif\" width=\"5\" height=\"5\"></td>\\n\\t\\t<td><a class=\"menu\" href=\"http://www.biblio-globus.ru/content.aspx?page_id=513\">Наши гости о нас</a></td></tr>\\n\\t\\t<tr align=\"left\">\\n\\t\\t<td width=\"5%\"><img alt=\"\" src=\"http://www.biblio-globus.ru/img/strl.gif\" width=\"5\" height=\"5\"></td>\\n\\t\\t<td><a class=\"menu\" href=\"http://www.biblio-globus.ru/content.aspx?page_id=528\">Активация клубной (дисконтной) карты</a> <sup style=\"color:red\">new</sup></td></tr>\\n\\t\\t<tr align=\"left\">\\n\\t\\t<td width=\"5%\"><img alt=\"\" src=\"http://www.biblio-globus.ru/img/strl.gif\" width=\"5\" height=\"5\"></td>\\n\\t\\t<td><a class=\"menu\" href=\"http://www.biblio-globus.ru/content.aspx?page_id=104\">Подарочная карта</a></td></tr>\\n\\t\\t<tr align=\"left\">\\n\\t\\t<td width=\"5%\"><img alt=\"\" src=\"http://www.biblio-globus.ru/img/strl.gif\" width=\"5\" height=\"5\"></td>\\n\\t\\t<td><a class=\"menu\" href=\"http://www.biblio-globus.ru/content.aspx?page_id=46\">Личный кабинет</a></td></tr>\\n\\t\\t<tr align=\"left\">\\n\\t\\t<td width=\"5%\"><img alt=\"\" src=\"http://www.biblio-globus.ru/img/strl.gif\" width=\"5\" height=\"5\"></td>\\n\\t\\t<td><a class=\"menu\" href=\"http://service.biblio-globus.ru/librariancabinet/\" target=\"_blank\">Кабинет юридического лица</a></td></tr>\\n\\t\\t<tr align=\"left\">\\n\\t\\t<td width=\"5%\"><img alt=\"\" src=\"http://www.biblio-globus.ru/img/strl.gif\" width=\"5\" height=\"5\"></td>\\n\\t\\t<td><a class=\"menu\" href=\"http://www.biblio-globus.ru/content.aspx?page_id=31\">Персональное и корпоративное обслуживание</a></td></tr>\\n\\t\\t<tr>\\n\\t\\t<td width=\"5%\"><img alt=\"\" src=\"/img/strl.gif\"></td>\\n\\t\\t<td><a class=\"menu\" href=\"/content.aspx?page_id=554\">Ваши мероприятия у нас</a></td></tr>\\n\\t\\t<tr>\\n\\t\\t<td width=\"5%\"><img alt=\"\" src=\"/img/strl.gif\"></td>\\n\\t\\t<td><a class=\"menu\" href=\"http://www.biblio-globus.ru/career/\">Вакансии</a></td></tr>\\n</tbody>\\n</table>\\n\\t\\t\\t\\t\\t\\n<table width=\"100%\" border=\"0\" cellspacing=\"0\" cellpadding=\"0\" id=\"Table4\">\\n<tbody>\\n\\n<tr align=\"center\">\\n<td>\\n<div class=\"left_nav_divider\"></div>\\n</td>\\n</tr>\\n\\n\\n\\n\\n\\n\\n\\t\\t\\t\\t\\t\\t<tr align=\"center\">\\n\\t\\t<td>\\n\\t\\t\\n\\t\\t\\n\\t\\t\\n\\t\\t\\n\\t\\t\\n\\t\\t\\n\\t\\t<div align=\"left\" style=\"width:170px; margin-left:10px; margin-top:40px;\">\\n\\t\\t<div style=\"width:170px; padding:0; font-family:Tahoma; font-size:11px; text-align:left; height:24px; margin-left:0px; margin-right:0; margin-top:0; margin-bottom:20px\"><img alt=\"\" src=\"http://www.biblio-globus.ru/images/social/social_title.jpg\"></div>\\n\\t\\t\\n\\t\\t<img style=\"vertical-align:middle; margin:0 10px 0 0;\" src=\"http://www.biblio-globus.ru/images/_today/vk_bgbg.jpg\" alt=\"Библио Глобус\" border=\"0\"><a href=\"http://vk.com/biblioglobus_msk\" target=\"_blank\" class=\"social_vkontakte\"> \\n\\t\\tмы в Вконтакте</a>\\t\\n\\t\\t<a href=\"http://www.facebook.com/biblio.globus/\" target=\"_blank\" class=\"social_facebook\"> \\n\\t\\tмы в Facebook</a>\\t\\t\\n\\t\\t<a href=\"http://twitter.com/Biblio_Globus/\" target=\"_blank\" class=\"social_twitter\"> \\n\\t\\tмы в Twitter</a>\\n\\t\\t\\n<a href=\"https://instagram.com/biblio.globus/\" target=\"_blank\" class=\"social_inst\"> \\n\\t\\tмы в Instagram</a>\\n\\n<a href=\"https://ok.ru/group/55673286951161\" target=\"_blank\" class=\"social_ok\">мы в Одноклассниках</a>\\n\\n       \\n\\t\\t<a href=\"http://www.youtube.com/user/BiblioGlobusStore/\" target=\"_blank\" class=\"social_you\"> \\n\\t\\tмы в YouTube</a>\\n\\n\\n\\n\\t\\t</div>\\t\\n\\t\\t\\n\\t\\t\\n\\t\\t<br><br><a href=\"http://www.biblio-globus.ru/content.aspx?page_id=328\" style=\"width:170px; text-align:left; height:24px;  margin-top:30px;\"><img src=\"http://www.biblio-globus.ru/images/nashi_nagr.jpg\" alt=\"\" border=\"0\"></a>\\n\\t\\t\\n\\t\\t\\n\\t\\t<div style=\"width:170px; padding:0; margin:15px 0 20px 0px; font-family:Tahoma; font-size:11px; text-align:left;\">\\n\\t\\t  <img style=\"border:2px solid #ccc; margin-bottom:3px;\" src=\"http://www.biblio-globus.ru/images/1_16042010.jpg\" alt=\"\"><br>\\n\\t\\t  <b>Благодарность Президента РФ</b> за большой вклад в развитие \\n\\t\\t\\tотечественной книжной торговли и активную культурно-просветительскую \\n\\t\\t\\tдеятельность.\\n\\t\\t</div>\\t\\n\\t\\t\\n\\t\\t<div style=\"width:174px; padding:0; font-family:Tahoma; font-size:11px; text-align:left; height:316px; margin-left:0px; margin-right:0; margin-top:0; margin-bottom:20px\">\\n\\t\\t  <img style=\"border:2px solid #ccc; margin-bottom:3px;\" src=\"http://www.biblio-globus.ru/images/_today/Record28122011.jpg\" alt=\"\"><br>\\n          Внесен в Российскую <b>«Книгу рекордов и достижений»</b> в номинации \\n\\t\\t\\t«Самое большое количество издательской продукции, проданное в \\n\\t\\t\\tрозницу за один день»<br><br>\\n\\t\\t\\t<a href=\"http://www.biblio-globus.ru/content.aspx?page_id=328\">Посмотреть все награды &gt;&gt;</a>\\n        </div>\\n\\t\\t</td>\\n\\t\\t</tr></tbody></table><br>\\n\\t\\t\\t\\t</td>\\n\\t\\t\\t</tr></tbody></table>\\n    \\n  \\n    <div class=\"decor2_wrapper\">\\n        <div class=\"decor2\"></div>\\n    </div>\\n\\n    </td>\\n    <td class=\"column_right\" valign=\"top\">\\n        <div class=\"content\">\\n            \\n\\n<div id=\"main_wrapper\">\\n    <!-- Поиск по сайту -->\\n<div class=\"header_1\">Поиск в книжном магазине «Библио-Глобус»</div>\\n\\n<form action=\"/search/Catalog/Products\" name=\"\" method=\"post\">\\n    <table cellpadding=\"0\" cellspacing=\"0\" width=\"100%\">\\n        <tbody><tr>\\n            <td><input type=\"text\" name=\"query\" id=\"search_field\" value=\"Python\"></td>\\n            <td align=\"right\" width=\"63\"><input type=\"submit\" id=\"search_button\" value=\"\"></td>\\n        </tr>\\n    </tbody></table>\\n</form>\\n\\n    <div class=\"header_1_2\">Результаты поиска</div>\\n    <div class=\"info\">Вы искали: «<b>Python</b>»<br> \\n    Найдено наименований: <b>155</b></div>\\n\\n    <table cellpadding=\"0\" cellspacing=\"0\" width=\"100%\">\\n        \\n        <tbody><tr>\\n        <td width=\"100\" valign=\"top\">\\n        <div class=\"type\">Книга</div>\\n            <a href=\"/search/catalog/details/10852290\" class=\"preview_image\">\\n                \\n                    <div class=\"new\">Новинка</div>\\n                \\n\\n                <img src=\"http://static.biblio-globus.ru/images/ImageHandler.ashx?fileName=10852290.jpg&amp;width=80\" alt=\"\">\\n            </a>\\n        </td>\\n        <td valign=\"top\">\\n            <div class=\"details_1\">\\n                <div class=\"author\">Н. М. Ершов</div>\\n                <a href=\"/search/catalog/details/10852290\" class=\"name\">Практическое введение в решение дифференциальных уравнений в Python</a>\\n                   \\n                \\n                    <div class=\"title_data green\">\\n                        В наличии\\n                    </div>\\n                \\n                    <div class=\"placement\"><b>Расположение в торговом зале:</b> <br>Уровень 1, зал № 07, секция 08, шкаф 76, полка 05</div>\\n                \\n                <div class=\"title_data price\">Цена: <span>2619,00</span> руб.</div>\\n\\t\\t\\n\\n            </div>\\n        </td>\\n        <td valign=\"top\" width=\"270\">\\n        \\n            <a class=\"place\" target=\"_blank\" href=\"http://www.biblio-globus.ru/content.aspx?page_id=103\">Посмотреть место в зале</a>\\n        \\n            <a class=\"im\" target=\"_blank\" href=\"https://www.bgshop.ru/catalog/getfulldescription?id=10852290\">Заказать в интернет-магазине</a>\\n        \\n        </td>\\n        </tr>\\n        <tr>\\n            <td colspan=\"3\">\\n                <div class=\"divider\"></div>\\n            </td>\\n        </tr>\\n        \\n        <tr>\\n        <td width=\"100\" valign=\"top\">\\n        <div class=\"type\">Книга</div>\\n            <a href=\"/search/catalog/details/10859249\" class=\"preview_image\">\\n                \\n                    <div class=\"new\">Новинка</div>\\n                \\n\\n                <img src=\"http://static.biblio-globus.ru/images/ImageHandler.ashx?fileName=10859249.jpg&amp;width=80\" alt=\"\">\\n            </a>\\n        </td>\\n        <td valign=\"top\">\\n            <div class=\"details_1\">\\n                <div class=\"author\">Э. Свейгарт</div>\\n                <a href=\"/search/catalog/details/10859249\" class=\"name\">Python. Чистый код для продолжающих</a>\\n                   \\n                \\n                    <div class=\"title_data green\">\\n                        В наличии\\n                    </div>\\n                \\n                <div class=\"title_data price\">Цена: <span>2239,00</span> руб.</div>\\n\\t\\t\\n\\n            </div>\\n        </td>\\n        <td valign=\"top\" width=\"270\">\\n        \\n            <a class=\"place\" target=\"_blank\" href=\"http://www.biblio-globus.ru/content.aspx?page_id=103\">Посмотреть место в зале</a>\\n        \\n            <a class=\"im\" target=\"_blank\" href=\"https://www.bgshop.ru/catalog/getfulldescription?id=10859249\">Заказать в интернет-магазине</a>\\n        \\n        </td>\\n        </tr>\\n        <tr>\\n            <td colspan=\"3\">\\n                <div class=\"divider\"></div>\\n            </td>\\n        </tr>\\n        \\n        <tr>\\n        <td width=\"100\" valign=\"top\">\\n        <div class=\"type\">Книга</div>\\n            <a href=\"/search/catalog/details/10855271\" class=\"preview_image\">\\n                \\n                    <div class=\"new\">Новинка</div>\\n                \\n\\n                <img src=\"http://static.biblio-globus.ru/images/ImageHandler.ashx?fileName=10855271.jpg&amp;width=80\" alt=\"\">\\n            </a>\\n        </td>\\n        <td valign=\"top\">\\n            <div class=\"details_1\">\\n                <div class=\"author\">Н. Нисчал</div>\\n                <a href=\"/search/catalog/details/10855271\" class=\"name\">Python - это просто. Пошаговое руководство по программированию и анализу данных</a>\\n                   \\n                \\n                    <div class=\"title_data green\">\\n                        В наличии\\n                    </div>\\n                \\n                    <div class=\"placement\"><b>Расположение в торговом зале:</b> <br>Уровень 1, зал № 07, секция 08, шкаф 76, полка 06</div>\\n                \\n                <div class=\"title_data price\">Цена: <span>1189,00</span> руб.</div>\\n\\t\\t\\n\\n            </div>\\n        </td>\\n        <td valign=\"top\" width=\"270\">\\n        \\n            <a class=\"place\" target=\"_blank\" href=\"http://www.biblio-globus.ru/content.aspx?page_id=103\">Посмотреть место в зале</a>\\n        \\n            <a class=\"im\" target=\"_blank\" href=\"https://www.bgshop.ru/catalog/getfulldescription?id=10855271\">Заказать в интернет-магазине</a>\\n        \\n        </td>\\n        </tr>\\n        <tr>\\n            <td colspan=\"3\">\\n                <div class=\"divider\"></div>\\n            </td>\\n        </tr>\\n        \\n        <tr>\\n        <td width=\"100\" valign=\"top\">\\n        <div class=\"type\">Книга</div>\\n            <a href=\"/search/catalog/details/10854863\" class=\"preview_image\">\\n                \\n                    <div class=\"new\">Новинка</div>\\n                \\n\\n                <img src=\"http://static.biblio-globus.ru/images/ImageHandler.ashx?fileName=10854863.jpg&amp;width=80\" alt=\"\">\\n            </a>\\n        </td>\\n        <td valign=\"top\">\\n            <div class=\"details_1\">\\n                <div class=\"author\">Д. М. Кольцов </div>\\n                <a href=\"/search/catalog/details/10854863\" class=\"name\">Python.Создаем программы и игры</a>\\n                   \\n                \\n                    <div class=\"title_data green\">\\n                        В наличии\\n                    </div>\\n                \\n                    <div class=\"placement\"><b>Расположение в торговом зале:</b> <br>Уровень 1, зал № 07, секция 08, шкаф 76, полка 03</div>\\n                \\n                <div class=\"title_data price\">Цена: <span>679,00</span> руб.</div>\\n\\t\\t\\n\\n            </div>\\n        </td>\\n        <td valign=\"top\" width=\"270\">\\n        \\n            <a class=\"place\" target=\"_blank\" href=\"http://www.biblio-globus.ru/content.aspx?page_id=103\">Посмотреть место в зале</a>\\n        \\n            <a class=\"im\" target=\"_blank\" href=\"https://www.bgshop.ru/catalog/getfulldescription?id=10854863\">Заказать в интернет-магазине</a>\\n        \\n        </td>\\n        </tr>\\n        <tr>\\n            <td colspan=\"3\">\\n                <div class=\"divider\"></div>\\n            </td>\\n        </tr>\\n        \\n        <tr>\\n        <td width=\"100\" valign=\"top\">\\n        <div class=\"type\">Книга</div>\\n            <a href=\"/search/catalog/details/10849456\" class=\"preview_image\">\\n                \\n                    <div class=\"new\">Новинка</div>\\n                \\n\\n                <img src=\"http://static.biblio-globus.ru/images/ImageHandler.ashx?fileName=10849456.jpg&amp;width=80\" alt=\"\">\\n            </a>\\n        </td>\\n        <td valign=\"top\">\\n            <div class=\"details_1\">\\n                <div class=\"author\">А. В. Протодьяконов, П. А. Пылов, В. Е. Садовников</div>\\n                <a href=\"/search/catalog/details/10849456\" class=\"name\">Алгоритмы Data Science и их практическая реализация на Python</a>\\n                   \\n                \\n                    <div class=\"title_data green\">\\n                        В наличии\\n                    </div>\\n                \\n                    <div class=\"placement\"><b>Расположение в торговом зале:</b> <br>Уровень 1, зал № 07, секция 08, шкаф 90, полка 06</div>\\n                \\n                <div class=\"title_data price\">Цена: <span>3459,00</span> руб.</div>\\n\\t\\t\\n\\n            </div>\\n        </td>\\n        <td valign=\"top\" width=\"270\">\\n        \\n            <a class=\"place\" target=\"_blank\" href=\"http://www.biblio-globus.ru/content.aspx?page_id=103\">Посмотреть место в зале</a>\\n        \\n            <a class=\"im\" target=\"_blank\" href=\"https://www.bgshop.ru/catalog/getfulldescription?id=10849456\">Заказать в интернет-магазине</a>\\n        \\n        </td>\\n        </tr>\\n        <tr>\\n            <td colspan=\"3\">\\n                <div class=\"divider\"></div>\\n            </td>\\n        </tr>\\n        \\n        <tr>\\n        <td width=\"100\" valign=\"top\">\\n        <div class=\"type\">Книга</div>\\n            <a href=\"/search/catalog/details/10569801\" class=\"preview_image\">\\n                \\n                    <div class=\"bestseller\">Лидер продаж</div>\\n                \\n\\n                <img src=\"http://static.biblio-globus.ru/images/ImageHandler.ashx?fileName=10569801.jpg&amp;width=80\" alt=\"\">\\n            </a>\\n        </td>\\n        <td valign=\"top\">\\n            <div class=\"details_1\">\\n                <div class=\"author\">М. Доусон</div>\\n                <a href=\"/search/catalog/details/10569801\" class=\"name\">Программируем на Python</a>\\n                   \\n                \\n                    <div class=\"title_data green\">\\n                        В наличии\\n                    </div>\\n                \\n                    <div class=\"placement\"><b>Расположение в торговом зале:</b> <br>Уровень 1, зал № 07, секция 08, шкаф 76, полка 04</div>\\n                \\n                <div class=\"title_data price\">Цена: <span>1359,00</span> руб.</div>\\n\\t\\t\\n\\n            </div>\\n        </td>\\n        <td valign=\"top\" width=\"270\">\\n        \\n            <a class=\"place\" target=\"_blank\" href=\"http://www.biblio-globus.ru/content.aspx?page_id=103\">Посмотреть место в зале</a>\\n        \\n            <a class=\"im\" target=\"_blank\" href=\"https://www.bgshop.ru/catalog/getfulldescription?id=10569801\">Заказать в интернет-магазине</a>\\n        \\n        </td>\\n        </tr>\\n        <tr>\\n            <td colspan=\"3\">\\n                <div class=\"divider\"></div>\\n            </td>\\n        </tr>\\n        \\n        <tr>\\n        <td width=\"100\" valign=\"top\">\\n        <div class=\"type\">Книга</div>\\n            <a href=\"/search/catalog/details/10375126\" class=\"preview_image\">\\n                \\n                    <div class=\"bestseller\">Лидер продаж</div>\\n                \\n\\n                <img src=\"http://static.biblio-globus.ru/images/ImageHandler.ashx?fileName=10375126.jpg&amp;width=80\" alt=\"\">\\n            </a>\\n        </td>\\n        <td valign=\"top\">\\n            <div class=\"details_1\">\\n                <div class=\"author\">Дж. Бриггс</div>\\n                <a href=\"/search/catalog/details/10375126\" class=\"name\">Python для детей : самоучитель по программированию</a>\\n                   \\n                \\n                    <div class=\"title_data green\">\\n                        В наличии\\n                    </div>\\n                \\n                    <div class=\"placement\"><b>Расположение в торговом зале:</b> <br>Уровень 1, зал № 07, секция 08, шкаф 87, полка 06</div>\\n                \\n                <div class=\"title_data price\">Цена: <span>1569,00</span> руб.</div>\\n\\t\\t\\n\\n            </div>\\n        </td>\\n        <td valign=\"top\" width=\"270\">\\n        \\n            <a class=\"place\" target=\"_blank\" href=\"http://www.biblio-globus.ru/content.aspx?page_id=103\">Посмотреть место в зале</a>\\n        \\n            <a class=\"im\" target=\"_blank\" href=\"https://www.bgshop.ru/catalog/getfulldescription?id=10375126\">Заказать в интернет-магазине</a>\\n        \\n        </td>\\n        </tr>\\n        <tr>\\n            <td colspan=\"3\">\\n                <div class=\"divider\"></div>\\n            </td>\\n        </tr>\\n        \\n        <tr>\\n        <td width=\"100\" valign=\"top\">\\n        <div class=\"type\">Книга</div>\\n            <a href=\"/search/catalog/details/10849439\" class=\"preview_image\">\\n                \\n                    <div class=\"bestseller\">Лидер продаж</div>\\n                \\n\\n                <img src=\"http://static.biblio-globus.ru/images/ImageHandler.ashx?fileName=10849439.jpg&amp;width=80\" alt=\"\">\\n            </a>\\n        </td>\\n        <td valign=\"top\">\\n            <div class=\"details_1\">\\n                <div class=\"author\">Т. Гэддис </div>\\n                <a href=\"/search/catalog/details/10849439\" class=\"name\">Начинаем программировать на Python</a>\\n                   \\n                \\n                    <div class=\"title_data green\">\\n                        В наличии\\n                    </div>\\n                \\n                    <div class=\"placement\"><b>Расположение в торговом зале:</b> <br>Уровень 1, зал № 07, секция 08, шкаф 76, полка 04</div>\\n                \\n                <div class=\"title_data price\">Цена: <span>2619,00</span> руб.</div>\\n\\t\\t\\n\\n            </div>\\n        </td>\\n        <td valign=\"top\" width=\"270\">\\n        \\n            <a class=\"place\" target=\"_blank\" href=\"http://www.biblio-globus.ru/content.aspx?page_id=103\">Посмотреть место в зале</a>\\n        \\n            <a class=\"im\" target=\"_blank\" href=\"https://www.bgshop.ru/catalog/getfulldescription?id=10849439\">Заказать в интернет-магазине</a>\\n        \\n        </td>\\n        </tr>\\n        <tr>\\n            <td colspan=\"3\">\\n                <div class=\"divider\"></div>\\n            </td>\\n        </tr>\\n        \\n        <tr>\\n        <td width=\"100\" valign=\"top\">\\n        <div class=\"type\">Книга</div>\\n            <a href=\"/search/catalog/details/10655163\" class=\"preview_image\">\\n                \\n                    <div class=\"bestseller\">Лидер продаж</div>\\n                \\n\\n                <img src=\"http://static.biblio-globus.ru/images/ImageHandler.ashx?fileName=10655163.jpg&amp;width=80\" alt=\"\">\\n            </a>\\n        </td>\\n        <td valign=\"top\">\\n            <div class=\"details_1\">\\n                <div class=\"author\">М. Харрисон</div>\\n                <a href=\"/search/catalog/details/10655163\" class=\"name\">Машинное обучение: карманный справочник. Краткое руководство по методам структурированного машинного обучения на Python</a>\\n                   \\n                \\n                    <div class=\"title_data green\">\\n                        В наличии\\n                    </div>\\n                \\n                    <div class=\"placement\"><b>Расположение в торговом зале:</b> <br>Уровень 1, зал № 07, секция 08, шкаф 85, полка 04</div>\\n                \\n                <div class=\"title_data price\">Цена: <span>939,00</span> руб.</div>\\n\\t\\t\\n\\n            </div>\\n        </td>\\n        <td valign=\"top\" width=\"270\">\\n        \\n            <a class=\"place\" target=\"_blank\" href=\"http://www.biblio-globus.ru/content.aspx?page_id=103\">Посмотреть место в зале</a>\\n        \\n            <a class=\"im\" target=\"_blank\" href=\"https://www.bgshop.ru/catalog/getfulldescription?id=10655163\">Заказать в интернет-магазине</a>\\n        \\n        </td>\\n        </tr>\\n        <tr>\\n            <td colspan=\"3\">\\n                <div class=\"divider\"></div>\\n            </td>\\n        </tr>\\n        \\n        <tr>\\n        <td width=\"100\" valign=\"top\">\\n        <div class=\"type\">Книга</div>\\n            <a href=\"/search/catalog/details/10410028\" class=\"preview_image\">\\n                \\n                    <div class=\"bestseller\">Лидер продаж</div>\\n                \\n\\n                <img src=\"http://static.biblio-globus.ru/images/ImageHandler.ashx?fileName=10410028.jpg&amp;width=80\" alt=\"\">\\n            </a>\\n        </td>\\n        <td valign=\"top\">\\n            <div class=\"details_1\">\\n                <div class=\"author\">П. Бэрри</div>\\n                <a href=\"/search/catalog/details/10410028\" class=\"name\">Изучаем программирование на Python</a>\\n                   \\n                \\n                    <div class=\"title_data green\">\\n                        В наличии\\n                    </div>\\n                \\n                    <div class=\"placement\"><b>Расположение в торговом зале:</b> <br>Уровень 1, зал № 07, секция 08, шкаф 76, полка 01</div>\\n                \\n                <div class=\"title_data price\">Цена: <span>1859,00</span> руб.</div>\\n\\t\\t\\n\\n            </div>\\n        </td>\\n        <td valign=\"top\" width=\"270\">\\n        \\n            <a class=\"place\" target=\"_blank\" href=\"http://www.biblio-globus.ru/content.aspx?page_id=103\">Посмотреть место в зале</a>\\n        \\n            <a class=\"im\" target=\"_blank\" href=\"https://www.bgshop.ru/catalog/getfulldescription?id=10410028\">Заказать в интернет-магазине</a>\\n        \\n        </td>\\n        </tr>\\n        <tr>\\n            <td colspan=\"3\">\\n                <div class=\"divider\"></div>\\n            </td>\\n        </tr>\\n        \\n        </tbody></table>\\n        <ul class=\"pagination\"><div class=\"current_page\">1<span class=\"left_corner\"></span></div><a class=\"page\" href=\"products?query=Python&amp;page=2\">2<span class=\"left_corner\"></span></a><a class=\"page\" href=\"products?query=Python&amp;page=3\">3<span class=\"left_corner\"></span></a><a class=\"next_page\" href=\"products?query=Python&amp;page=2\">Следующая</a><a class=\"next_page\" href=\"products?query=Python&amp;page=16\">Последняя</a> </ul>\\n        \\n    </div>\\n\\n            <div class=\"clearer\"></div>\\n        </div>\\n    </td>\\n</tr>\\n<tr>\\n    <!-- footer -->\\n    \\n    <td colspan=\"2\">\\n        <table class=\"footer\">\\n            <tbody><tr>\\n                <td width=\"217\" valign=\"top\">\\n&nbsp;\\n                </td>\\n                <td valign=\"top\">\\n                    <div class=\"footer_part_1\">\\n                        2022 OOO Торговый Дом «БИБЛИО-ГЛОБУС»\\n                        <br><br>\\n                        телефон: (495) 781-1900<br>\\n                        e-mail: <a href=\"mailto:web.logist@bgshop.ru\">mail@biblio-globus.ru</a>\\n                        <br><br>\\n                        Адрес: Мясницкая ул., д. 6/3, стр. 1.<br>\\n                        Проезд до станций метро: \"Лубянка\",<br>\\n                        \"Кузнецкий мост\", \"Китай-город\".\\n                        <br><br>\\n                        <!-- <a href=\"http://www.biblio-globus.ru/content.aspx?page_id=40\">карта проезда</a> -->\\n                        \\n                    </div>\\n                </td>\\n                <td valign=\"top\">\\n                    <div class=\"footer_part_2\">\\n                        Часы работы:\\n                        <br><br>\\n                        Будни: 9.00 - 21.00<br>\\n                        Выходные: 10.00 - 21.00<br>\\n                        Без перерыва.\\n                        <br><br>\\n                        <a href=\"http://www.biblio-globus.ru/content.aspx?page_id=103\">карта магазина</a>\\n                    </div>\\n                </td>\\n                <td valign=\"top\">\\n                    <div class=\"footer_part_3\">\\n                        Справки о наличии книг:\\n                        <br><br>\\n                        7 (495) 781-19-00<br>\\n                        7 (495) 624-46-80<br>\\n                        <br><br>\\n                        Интернет-магазин:<br>\\n                        <a href=\"http://www.bgshop.ru/\" target=\"_blank\">www.bgshop.ru</a><br>\\n\\t\\t\\t\\t\\t\\t<!--\\n\\t\\t\\t\\t\\t\\tПрием заказов на курьерскую доставку и самовывоз<br />\\n\\t\\t\\t\\t\\t\\tС 10.00-19.00<br />\\n\\t\\t\\t\\t\\t\\tтелефон Call-центра интернет-магазина:<br />(495)&nbsp;781-19-12&nbsp;доб.&nbsp;(2307;&nbsp;2348)\\n\\t\\t\\t\\t\\t\\t-->\\n\\t\\t\\t\\t\\t\\t\\n                    </div>\\n                </td>\\n            </tr>\\n        </tbody></table>\\n    </td>\\n    <!-- footer -->\\n</tr>\\n</tbody></table>\\n\\n\\n\\n</body></html>'"
      ]
     },
     "execution_count": 16,
     "metadata": {},
     "output_type": "execute_result"
    }
   ],
   "source": [
    "page1"
   ]
  },
  {
   "cell_type": "markdown",
   "metadata": {},
   "source": [
    "Теперь обработаем эту страницу через `BeautifulSoup`:"
   ]
  },
  {
   "cell_type": "code",
   "execution_count": 18,
   "metadata": {},
   "outputs": [],
   "source": [
    "from bs4 import BeautifulSoup"
   ]
  },
  {
   "cell_type": "code",
   "execution_count": 19,
   "metadata": {},
   "outputs": [],
   "source": [
    "soup1 = BeautifulSoup(page1, 'lxml') #library XML"
   ]
  },
  {
   "cell_type": "markdown",
   "metadata": {},
   "source": [
    "Найдем все названия книг на этой странице. По исходному коду можно увидеть, что они имеют тэг `a` с атрибутом `class`, равным `name`:"
   ]
  },
  {
   "cell_type": "code",
   "execution_count": 25,
   "metadata": {},
   "outputs": [
    {
     "data": {
      "text/plain": [
       "[<a class=\"name\" href=\"/search/catalog/details/10852290\">Практическое введение в решение дифференциальных уравнений в Python</a>,\n",
       " <a class=\"name\" href=\"/search/catalog/details/10859249\">Python. Чистый код для продолжающих</a>,\n",
       " <a class=\"name\" href=\"/search/catalog/details/10855271\">Python - это просто. Пошаговое руководство по программированию и анализу данных</a>,\n",
       " <a class=\"name\" href=\"/search/catalog/details/10854863\">Python.Создаем программы и игры</a>,\n",
       " <a class=\"name\" href=\"/search/catalog/details/10849456\">Алгоритмы Data Science и их практическая реализация на Python</a>,\n",
       " <a class=\"name\" href=\"/search/catalog/details/10569801\">Программируем на Python</a>,\n",
       " <a class=\"name\" href=\"/search/catalog/details/10375126\">Python для детей : самоучитель по программированию</a>,\n",
       " <a class=\"name\" href=\"/search/catalog/details/10849439\">Начинаем программировать на Python</a>,\n",
       " <a class=\"name\" href=\"/search/catalog/details/10655163\">Машинное обучение: карманный справочник. Краткое руководство по методам структурированного машинного обучения на Python</a>,\n",
       " <a class=\"name\" href=\"/search/catalog/details/10410028\">Изучаем программирование на Python</a>]"
      ]
     },
     "execution_count": 25,
     "metadata": {},
     "output_type": "execute_result"
    }
   ],
   "source": [
    "soup1.find_all('a', {'class':'name'})"
   ]
  },
  {
   "cell_type": "code",
   "execution_count": 28,
   "metadata": {},
   "outputs": [
    {
     "name": "stdout",
     "output_type": "stream",
     "text": [
      "Практическое введение в решение дифференциальных уравнений в Python\n",
      "Python. Чистый код для продолжающих\n",
      "Python - это просто. Пошаговое руководство по программированию и анализу данных\n",
      "Python.Создаем программы и игры\n",
      "Алгоритмы Data Science и их практическая реализация на Python\n",
      "Программируем на Python\n",
      "Python для детей : самоучитель по программированию\n",
      "Начинаем программировать на Python\n",
      "Машинное обучение: карманный справочник. Краткое руководство по методам структурированного машинного обучения на Python\n",
      "Изучаем программирование на Python\n"
     ]
    }
   ],
   "source": [
    "for i in soup1.find_all('div', {'class' : \"details_1\"}):\n",
    "    print(i.find('a', {'class':'name'}).text)"
   ]
  },
  {
   "cell_type": "markdown",
   "metadata": {},
   "source": [
    "С помощью списковых включений выберем из ссылок с тэгом `<a>` текст (так мы уже делали, и не раз)."
   ]
  },
  {
   "cell_type": "code",
   "execution_count": 29,
   "metadata": {},
   "outputs": [],
   "source": [
    "books1 = [b.text for b in soup1.find_all('a', {'class':'name'})]"
   ]
  },
  {
   "cell_type": "code",
   "execution_count": 30,
   "metadata": {},
   "outputs": [
    {
     "data": {
      "text/plain": [
       "['Практическое введение в решение дифференциальных уравнений в Python',\n",
       " 'Python. Чистый код для продолжающих',\n",
       " 'Python - это просто. Пошаговое руководство по программированию и анализу данных',\n",
       " 'Python.Создаем программы и игры',\n",
       " 'Алгоритмы Data Science и их практическая реализация на Python',\n",
       " 'Программируем на Python',\n",
       " 'Python для детей : самоучитель по программированию',\n",
       " 'Начинаем программировать на Python',\n",
       " 'Машинное обучение: карманный справочник. Краткое руководство по методам структурированного машинного обучения на Python',\n",
       " 'Изучаем программирование на Python']"
      ]
     },
     "execution_count": 30,
     "metadata": {},
     "output_type": "execute_result"
    }
   ],
   "source": [
    "books1"
   ]
  },
  {
   "cell_type": "markdown",
   "metadata": {},
   "source": [
    "Теперь аналогичным образом сгрузим информацию об авторах:"
   ]
  },
  {
   "cell_type": "code",
   "execution_count": 31,
   "metadata": {},
   "outputs": [],
   "source": [
    "# [a.text for a in soup1.find_all('div', {'class': 'author'})]\n",
    "# то же самое что и\n",
    "authors1 = []\n",
    "for a in soup1.find_all('div', {'class': 'author'}):\n",
    "    authors1.append(a.text)"
   ]
  },
  {
   "cell_type": "code",
   "execution_count": 36,
   "metadata": {},
   "outputs": [
    {
     "data": {
      "text/plain": [
       "[<div class=\"author\">Н. М. Ершов</div>,\n",
       " <div class=\"author\">Э. Свейгарт</div>,\n",
       " <div class=\"author\">Н. Нисчал</div>,\n",
       " <div class=\"author\">Д. М. Кольцов </div>,\n",
       " <div class=\"author\">А. В. Протодьяконов, П. А. Пылов, В. Е. Садовников</div>,\n",
       " <div class=\"author\">М. Доусон</div>,\n",
       " <div class=\"author\">Дж. Бриггс</div>,\n",
       " <div class=\"author\">Т. Гэддис </div>,\n",
       " <div class=\"author\">М. Харрисон</div>,\n",
       " <div class=\"author\">П. Бэрри</div>]"
      ]
     },
     "execution_count": 36,
     "metadata": {},
     "output_type": "execute_result"
    }
   ],
   "source": [
    "soup1.find_all('div', {'class': 'author'})"
   ]
  },
  {
   "cell_type": "code",
   "execution_count": 32,
   "metadata": {},
   "outputs": [
    {
     "data": {
      "text/plain": [
       "['Н. М. Ершов',\n",
       " 'Э. Свейгарт',\n",
       " 'Н. Нисчал',\n",
       " 'Д. М. Кольцов ',\n",
       " 'А. В. Протодьяконов, П. А. Пылов, В. Е. Садовников',\n",
       " 'М. Доусон',\n",
       " 'Дж. Бриггс',\n",
       " 'Т. Гэддис ',\n",
       " 'М. Харрисон',\n",
       " 'П. Бэрри']"
      ]
     },
     "execution_count": 32,
     "metadata": {},
     "output_type": "execute_result"
    }
   ],
   "source": [
    "authors1"
   ]
  },
  {
   "cell_type": "code",
   "execution_count": 37,
   "metadata": {},
   "outputs": [],
   "source": [
    "authors1 = [a.text for a in soup1.find_all('div', {'class': 'author'})]"
   ]
  },
  {
   "cell_type": "markdown",
   "metadata": {},
   "source": [
    "Сгрузим расположение:"
   ]
  },
  {
   "cell_type": "code",
   "execution_count": 38,
   "metadata": {},
   "outputs": [],
   "source": [
    "#place1 = [p.text for p in soup1.find_all('div', {'class':'placement'})]\n",
    "\n",
    "place1 = []\n",
    "for p in soup1.find_all('div', {'class': 'details_1'}):\n",
    "    if 'Расположение' in p.text:\n",
    "        place1.append(p.find('div', {'class': 'placement'}).text)\n",
    "        #place1 = p.find('div', {'class': 'placement'}).append(p.text)\n",
    "    else:\n",
    "        place1.append(None)"
   ]
  },
  {
   "cell_type": "code",
   "execution_count": 39,
   "metadata": {},
   "outputs": [
    {
     "data": {
      "text/plain": [
       "['Расположение в торговом зале: Уровень 1, зал № 07, секция 08, шкаф 76, полка 05',\n",
       " None,\n",
       " 'Расположение в торговом зале: Уровень 1, зал № 07, секция 08, шкаф 76, полка 06',\n",
       " 'Расположение в торговом зале: Уровень 1, зал № 07, секция 08, шкаф 76, полка 03',\n",
       " 'Расположение в торговом зале: Уровень 1, зал № 07, секция 08, шкаф 90, полка 06',\n",
       " 'Расположение в торговом зале: Уровень 1, зал № 07, секция 08, шкаф 76, полка 04',\n",
       " 'Расположение в торговом зале: Уровень 1, зал № 07, секция 08, шкаф 87, полка 06',\n",
       " 'Расположение в торговом зале: Уровень 1, зал № 07, секция 08, шкаф 76, полка 04',\n",
       " 'Расположение в торговом зале: Уровень 1, зал № 07, секция 08, шкаф 85, полка 04',\n",
       " 'Расположение в торговом зале: Уровень 1, зал № 07, секция 08, шкаф 76, полка 01']"
      ]
     },
     "execution_count": 39,
     "metadata": {},
     "output_type": "execute_result"
    }
   ],
   "source": [
    "place1"
   ]
  },
  {
   "cell_type": "markdown",
   "metadata": {},
   "source": [
    "И, конечно, цену:"
   ]
  },
  {
   "cell_type": "code",
   "execution_count": 40,
   "metadata": {},
   "outputs": [],
   "source": [
    "price1 = [p.text for p in soup1.find_all('div', \n",
    "                                         {'class':'title_data price'})]"
   ]
  },
  {
   "cell_type": "code",
   "execution_count": 41,
   "metadata": {},
   "outputs": [
    {
     "data": {
      "text/plain": [
       "['Цена: 2619,00 руб.',\n",
       " 'Цена: 2239,00 руб.',\n",
       " 'Цена: 1189,00 руб.',\n",
       " 'Цена: 679,00 руб.',\n",
       " 'Цена: 3459,00 руб.',\n",
       " 'Цена: 1359,00 руб.',\n",
       " 'Цена: 1569,00 руб.',\n",
       " 'Цена: 2619,00 руб.',\n",
       " 'Цена: 939,00 руб.',\n",
       " 'Цена: 1859,00 руб.']"
      ]
     },
     "execution_count": 41,
     "metadata": {},
     "output_type": "execute_result"
    }
   ],
   "source": [
    "price1"
   ]
  },
  {
   "cell_type": "markdown",
   "metadata": {},
   "source": [
    "Осталось пройтись по всем страницам, которые были выданы в результате поиска. Для примера перейдем на страницу 2 и на этом остановимся."
   ]
  },
  {
   "cell_type": "code",
   "execution_count": 47,
   "metadata": {},
   "outputs": [],
   "source": [
    "next_p = br.find_element(By.CSS_SELECTOR, '.next_page')"
   ]
  },
  {
   "cell_type": "code",
   "execution_count": 48,
   "metadata": {},
   "outputs": [],
   "source": [
    "next_p.click()"
   ]
  },
  {
   "cell_type": "markdown",
   "metadata": {},
   "source": [
    "Проделаем то же самое, что и с первой страницей. По-хорошему нужно написать функцию, которая будет искать на странице названия книг, их расположение и цену. Но оставим это в качестве задания читателю :)"
   ]
  },
  {
   "cell_type": "code",
   "execution_count": 54,
   "metadata": {},
   "outputs": [],
   "source": [
    "page2 = br.page_source\n",
    "soup2 = BeautifulSoup(page2, 'lxml')\n",
    "books2 = [b.text for b in soup2.find_all('a', {'class':'name'})]\n",
    "author2 = [a.text for a in soup2.find_all('div', {'class': 'author'})]\n",
    "place2 = [p.text for p in soup2.find_all('div', {'class':'placement'})]\n",
    "price2 = [p.text for p in soup2.find_all('div', {'class':'title_data price'})]"
   ]
  },
  {
   "cell_type": "markdown",
   "metadata": {},
   "source": [
    "Расширим списки результатов с первой страницы данными, полученными со второй страницы, используя метод `.extend()`."
   ]
  },
  {
   "cell_type": "code",
   "execution_count": 55,
   "metadata": {},
   "outputs": [],
   "source": [
    "books1.extend(books2) # books1 + books2\n",
    "authors1.extend(books2)\n",
    "place1.extend(place2)\n",
    "price1.extend(price2)"
   ]
  },
  {
   "cell_type": "markdown",
   "metadata": {},
   "source": [
    "Осталось импортировать библиотеку `pandas` и создать датафрейм."
   ]
  },
  {
   "cell_type": "code",
   "execution_count": 49,
   "metadata": {},
   "outputs": [],
   "source": [
    "import pandas as pd"
   ]
  },
  {
   "cell_type": "code",
   "execution_count": 56,
   "metadata": {},
   "outputs": [
    {
     "data": {
      "text/plain": [
       "20"
      ]
     },
     "execution_count": 56,
     "metadata": {},
     "output_type": "execute_result"
    }
   ],
   "source": [
    "len(books1)"
   ]
  },
  {
   "cell_type": "code",
   "execution_count": 57,
   "metadata": {},
   "outputs": [
    {
     "data": {
      "text/plain": [
       "20"
      ]
     },
     "execution_count": 57,
     "metadata": {},
     "output_type": "execute_result"
    }
   ],
   "source": [
    "len(authors1)"
   ]
  },
  {
   "cell_type": "code",
   "execution_count": 58,
   "metadata": {},
   "outputs": [
    {
     "data": {
      "text/plain": [
       "20"
      ]
     },
     "execution_count": 58,
     "metadata": {},
     "output_type": "execute_result"
    }
   ],
   "source": [
    "len(place1)"
   ]
  },
  {
   "cell_type": "code",
   "execution_count": 59,
   "metadata": {},
   "outputs": [
    {
     "data": {
      "text/plain": [
       "20"
      ]
     },
     "execution_count": 59,
     "metadata": {},
     "output_type": "execute_result"
    }
   ],
   "source": [
    "len(price1)"
   ]
  },
  {
   "cell_type": "markdown",
   "metadata": {},
   "source": [
    "Для разнообразия создадим датафрейм не из списка списков, а из словаря. Ключами словаря будут названия столбцов в таблице, а значениями – списки с сохраненной информацией (названия книг, цены и проч.)."
   ]
  },
  {
   "cell_type": "code",
   "execution_count": 60,
   "metadata": {},
   "outputs": [],
   "source": [
    "df = pd.DataFrame({'book': books1, 'author': authors1,\n",
    "                   'placement': place1, 'price': price1})"
   ]
  },
  {
   "cell_type": "code",
   "execution_count": 61,
   "metadata": {},
   "outputs": [
    {
     "data": {
      "text/html": [
       "<div>\n",
       "<style scoped>\n",
       "    .dataframe tbody tr th:only-of-type {\n",
       "        vertical-align: middle;\n",
       "    }\n",
       "\n",
       "    .dataframe tbody tr th {\n",
       "        vertical-align: top;\n",
       "    }\n",
       "\n",
       "    .dataframe thead th {\n",
       "        text-align: right;\n",
       "    }\n",
       "</style>\n",
       "<table border=\"1\" class=\"dataframe\">\n",
       "  <thead>\n",
       "    <tr style=\"text-align: right;\">\n",
       "      <th></th>\n",
       "      <th>book</th>\n",
       "      <th>author</th>\n",
       "      <th>placement</th>\n",
       "      <th>price</th>\n",
       "    </tr>\n",
       "  </thead>\n",
       "  <tbody>\n",
       "    <tr>\n",
       "      <th>0</th>\n",
       "      <td>Практическое введение в решение дифференциальн...</td>\n",
       "      <td>Н. М. Ершов</td>\n",
       "      <td>Расположение в торговом зале: Уровень 1, зал №...</td>\n",
       "      <td>Цена: 2619,00 руб.</td>\n",
       "    </tr>\n",
       "    <tr>\n",
       "      <th>1</th>\n",
       "      <td>Python. Чистый код для продолжающих</td>\n",
       "      <td>Э. Свейгарт</td>\n",
       "      <td>None</td>\n",
       "      <td>Цена: 2239,00 руб.</td>\n",
       "    </tr>\n",
       "    <tr>\n",
       "      <th>2</th>\n",
       "      <td>Python - это просто. Пошаговое руководство по ...</td>\n",
       "      <td>Н. Нисчал</td>\n",
       "      <td>Расположение в торговом зале: Уровень 1, зал №...</td>\n",
       "      <td>Цена: 1189,00 руб.</td>\n",
       "    </tr>\n",
       "    <tr>\n",
       "      <th>3</th>\n",
       "      <td>Python.Создаем программы и игры</td>\n",
       "      <td>Д. М. Кольцов</td>\n",
       "      <td>Расположение в торговом зале: Уровень 1, зал №...</td>\n",
       "      <td>Цена: 679,00 руб.</td>\n",
       "    </tr>\n",
       "    <tr>\n",
       "      <th>4</th>\n",
       "      <td>Алгоритмы Data Science и их практическая реали...</td>\n",
       "      <td>А. В. Протодьяконов, П. А. Пылов, В. Е. Садовн...</td>\n",
       "      <td>Расположение в торговом зале: Уровень 1, зал №...</td>\n",
       "      <td>Цена: 3459,00 руб.</td>\n",
       "    </tr>\n",
       "    <tr>\n",
       "      <th>5</th>\n",
       "      <td>Программируем на Python</td>\n",
       "      <td>М. Доусон</td>\n",
       "      <td>Расположение в торговом зале: Уровень 1, зал №...</td>\n",
       "      <td>Цена: 1359,00 руб.</td>\n",
       "    </tr>\n",
       "    <tr>\n",
       "      <th>6</th>\n",
       "      <td>Python для детей : самоучитель по программиров...</td>\n",
       "      <td>Дж. Бриггс</td>\n",
       "      <td>Расположение в торговом зале: Уровень 1, зал №...</td>\n",
       "      <td>Цена: 1569,00 руб.</td>\n",
       "    </tr>\n",
       "    <tr>\n",
       "      <th>7</th>\n",
       "      <td>Начинаем программировать на Python</td>\n",
       "      <td>Т. Гэддис</td>\n",
       "      <td>Расположение в торговом зале: Уровень 1, зал №...</td>\n",
       "      <td>Цена: 2619,00 руб.</td>\n",
       "    </tr>\n",
       "    <tr>\n",
       "      <th>8</th>\n",
       "      <td>Машинное обучение: карманный справочник. Кратк...</td>\n",
       "      <td>М. Харрисон</td>\n",
       "      <td>Расположение в торговом зале: Уровень 1, зал №...</td>\n",
       "      <td>Цена: 939,00 руб.</td>\n",
       "    </tr>\n",
       "    <tr>\n",
       "      <th>9</th>\n",
       "      <td>Изучаем программирование на Python</td>\n",
       "      <td>П. Бэрри</td>\n",
       "      <td>Расположение в торговом зале: Уровень 1, зал №...</td>\n",
       "      <td>Цена: 1859,00 руб.</td>\n",
       "    </tr>\n",
       "  </tbody>\n",
       "</table>\n",
       "</div>"
      ],
      "text/plain": [
       "                                                book  \\\n",
       "0  Практическое введение в решение дифференциальн...   \n",
       "1                Python. Чистый код для продолжающих   \n",
       "2  Python - это просто. Пошаговое руководство по ...   \n",
       "3                    Python.Создаем программы и игры   \n",
       "4  Алгоритмы Data Science и их практическая реали...   \n",
       "5                            Программируем на Python   \n",
       "6  Python для детей : самоучитель по программиров...   \n",
       "7                 Начинаем программировать на Python   \n",
       "8  Машинное обучение: карманный справочник. Кратк...   \n",
       "9                 Изучаем программирование на Python   \n",
       "\n",
       "                                              author  \\\n",
       "0                                        Н. М. Ершов   \n",
       "1                                        Э. Свейгарт   \n",
       "2                                          Н. Нисчал   \n",
       "3                                     Д. М. Кольцов    \n",
       "4  А. В. Протодьяконов, П. А. Пылов, В. Е. Садовн...   \n",
       "5                                          М. Доусон   \n",
       "6                                         Дж. Бриггс   \n",
       "7                                         Т. Гэддис    \n",
       "8                                        М. Харрисон   \n",
       "9                                           П. Бэрри   \n",
       "\n",
       "                                           placement               price  \n",
       "0  Расположение в торговом зале: Уровень 1, зал №...  Цена: 2619,00 руб.  \n",
       "1                                               None  Цена: 2239,00 руб.  \n",
       "2  Расположение в торговом зале: Уровень 1, зал №...  Цена: 1189,00 руб.  \n",
       "3  Расположение в торговом зале: Уровень 1, зал №...   Цена: 679,00 руб.  \n",
       "4  Расположение в торговом зале: Уровень 1, зал №...  Цена: 3459,00 руб.  \n",
       "5  Расположение в торговом зале: Уровень 1, зал №...  Цена: 1359,00 руб.  \n",
       "6  Расположение в торговом зале: Уровень 1, зал №...  Цена: 1569,00 руб.  \n",
       "7  Расположение в торговом зале: Уровень 1, зал №...  Цена: 2619,00 руб.  \n",
       "8  Расположение в торговом зале: Уровень 1, зал №...   Цена: 939,00 руб.  \n",
       "9  Расположение в торговом зале: Уровень 1, зал №...  Цена: 1859,00 руб.  "
      ]
     },
     "execution_count": 61,
     "metadata": {},
     "output_type": "execute_result"
    }
   ],
   "source": [
    "df.head(10)"
   ]
  },
  {
   "cell_type": "code",
   "execution_count": 62,
   "metadata": {},
   "outputs": [
    {
     "name": "stdout",
     "output_type": "stream",
     "text": [
      "<class 'pandas.core.frame.DataFrame'>\n",
      "RangeIndex: 20 entries, 0 to 19\n",
      "Data columns (total 4 columns):\n",
      " #   Column     Non-Null Count  Dtype \n",
      "---  ------     --------------  ----- \n",
      " 0   book       20 non-null     object\n",
      " 1   author     20 non-null     object\n",
      " 2   placement  19 non-null     object\n",
      " 3   price      20 non-null     object\n",
      "dtypes: object(4)\n",
      "memory usage: 768.0+ bytes\n"
     ]
    }
   ],
   "source": [
    "df.info() #object ~ string"
   ]
  },
  {
   "cell_type": "markdown",
   "metadata": {},
   "source": [
    "Давайте приведем столбец с ценой к числовому типу. Уберем слова *Цена* и *руб*, а потом сконвертируем строки в числа с плавающей точкой. Напишем функцию `get_price()`,"
   ]
  },
  {
   "cell_type": "code",
   "execution_count": null,
   "metadata": {},
   "outputs": [],
   "source": [
    "#iloc = index location"
   ]
  },
  {
   "cell_type": "code",
   "execution_count": 74,
   "metadata": {},
   "outputs": [
    {
     "data": {
      "text/html": [
       "<div>\n",
       "<style scoped>\n",
       "    .dataframe tbody tr th:only-of-type {\n",
       "        vertical-align: middle;\n",
       "    }\n",
       "\n",
       "    .dataframe tbody tr th {\n",
       "        vertical-align: top;\n",
       "    }\n",
       "\n",
       "    .dataframe thead th {\n",
       "        text-align: right;\n",
       "    }\n",
       "</style>\n",
       "<table border=\"1\" class=\"dataframe\">\n",
       "  <thead>\n",
       "    <tr style=\"text-align: right;\">\n",
       "      <th></th>\n",
       "      <th>book</th>\n",
       "      <th>author</th>\n",
       "      <th>placement</th>\n",
       "      <th>price</th>\n",
       "    </tr>\n",
       "  </thead>\n",
       "  <tbody>\n",
       "    <tr>\n",
       "      <th>1</th>\n",
       "      <td>Python. Чистый код для продолжающих</td>\n",
       "      <td>Э. Свейгарт</td>\n",
       "      <td>None</td>\n",
       "      <td>Цена: 2239,00 руб.</td>\n",
       "    </tr>\n",
       "    <tr>\n",
       "      <th>2</th>\n",
       "      <td>Python - это просто. Пошаговое руководство по ...</td>\n",
       "      <td>Н. Нисчал</td>\n",
       "      <td>Расположение в торговом зале: Уровень 1, зал №...</td>\n",
       "      <td>Цена: 1189,00 руб.</td>\n",
       "    </tr>\n",
       "    <tr>\n",
       "      <th>3</th>\n",
       "      <td>Python.Создаем программы и игры</td>\n",
       "      <td>Д. М. Кольцов</td>\n",
       "      <td>Расположение в торговом зале: Уровень 1, зал №...</td>\n",
       "      <td>Цена: 679,00 руб.</td>\n",
       "    </tr>\n",
       "  </tbody>\n",
       "</table>\n",
       "</div>"
      ],
      "text/plain": [
       "                                                book          author  \\\n",
       "1                Python. Чистый код для продолжающих     Э. Свейгарт   \n",
       "2  Python - это просто. Пошаговое руководство по ...       Н. Нисчал   \n",
       "3                    Python.Создаем программы и игры  Д. М. Кольцов    \n",
       "\n",
       "                                           placement               price  \n",
       "1                                               None  Цена: 2239,00 руб.  \n",
       "2  Расположение в торговом зале: Уровень 1, зал №...  Цена: 1189,00 руб.  \n",
       "3  Расположение в торговом зале: Уровень 1, зал №...   Цена: 679,00 руб.  "
      ]
     },
     "execution_count": 74,
     "metadata": {},
     "output_type": "execute_result"
    }
   ],
   "source": [
    "df.iloc[1:4]"
   ]
  },
  {
   "cell_type": "code",
   "execution_count": 73,
   "metadata": {},
   "outputs": [
    {
     "data": {
      "text/plain": [
       "1    Цена: 2239,00 руб.\n",
       "2    Цена: 1189,00 руб.\n",
       "3     Цена: 679,00 руб.\n",
       "Name: price, dtype: object"
      ]
     },
     "execution_count": 73,
     "metadata": {},
     "output_type": "execute_result"
    }
   ],
   "source": [
    "df.iloc[1:4, 3]"
   ]
  },
  {
   "cell_type": "code",
   "execution_count": 64,
   "metadata": {},
   "outputs": [
    {
     "data": {
      "text/plain": [
       "'Цена: 2239,00 руб.'"
      ]
     },
     "execution_count": 64,
     "metadata": {},
     "output_type": "execute_result"
    }
   ],
   "source": [
    "df.iloc[1, -1] #срез - первое значение номер строки \n",
    "        #по конкретному индесу, 2е – номер колонки"
   ]
  },
  {
   "cell_type": "code",
   "execution_count": 66,
   "metadata": {},
   "outputs": [
    {
     "data": {
      "text/plain": [
       "['Цена:', '2239,00', 'руб.']"
      ]
     },
     "execution_count": 66,
     "metadata": {},
     "output_type": "execute_result"
    }
   ],
   "source": [
    "df.iloc[1, 3].split()"
   ]
  },
  {
   "cell_type": "code",
   "execution_count": 67,
   "metadata": {},
   "outputs": [
    {
     "data": {
      "text/plain": [
       "'2239,00'"
      ]
     },
     "execution_count": 67,
     "metadata": {},
     "output_type": "execute_result"
    }
   ],
   "source": [
    "df.iloc[1, 3].split()[1]"
   ]
  },
  {
   "cell_type": "code",
   "execution_count": 68,
   "metadata": {},
   "outputs": [
    {
     "data": {
      "text/plain": [
       "'2239.00'"
      ]
     },
     "execution_count": 68,
     "metadata": {},
     "output_type": "execute_result"
    }
   ],
   "source": [
    "df.iloc[1, 3].split()[1].replace(',','.')"
   ]
  },
  {
   "cell_type": "code",
   "execution_count": 75,
   "metadata": {},
   "outputs": [
    {
     "data": {
      "text/plain": [
       "2239.0"
      ]
     },
     "execution_count": 75,
     "metadata": {},
     "output_type": "execute_result"
    }
   ],
   "source": [
    "float(df.iloc[1, 3].split()[1].replace(',', '.'))"
   ]
  },
  {
   "cell_type": "code",
   "execution_count": 76,
   "metadata": {},
   "outputs": [],
   "source": [
    "import re"
   ]
  },
  {
   "cell_type": "code",
   "execution_count": 79,
   "metadata": {},
   "outputs": [
    {
     "data": {
      "text/plain": [
       "'2239.00'"
      ]
     },
     "execution_count": 79,
     "metadata": {},
     "output_type": "execute_result"
    }
   ],
   "source": [
    "'.'.join(re.findall(r'\\d+', df.iloc[1, 3]))"
   ]
  },
  {
   "cell_type": "code",
   "execution_count": 80,
   "metadata": {},
   "outputs": [
    {
     "data": {
      "text/plain": [
       "2239.0"
      ]
     },
     "execution_count": 80,
     "metadata": {},
     "output_type": "execute_result"
    }
   ],
   "source": [
    "float('.'.join(re.findall(r'\\d+', df.iloc[1, 3])))"
   ]
  },
  {
   "cell_type": "code",
   "execution_count": null,
   "metadata": {},
   "outputs": [],
   "source": [
    "re.findall(r'\\d+', df.iloc[1, 3])"
   ]
  },
  {
   "cell_type": "code",
   "execution_count": null,
   "metadata": {},
   "outputs": [],
   "source": [
    "float(df.iloc[1, 3].split()[1].replace(',', '.'))"
   ]
  },
  {
   "cell_type": "code",
   "execution_count": 81,
   "metadata": {},
   "outputs": [],
   "source": [
    "def get_price(price):\n",
    "    book_price = price.split(' ')[1]  # разобьем строку по пробелу и возьмем второй элемент\n",
    "    book_price = book_price.replace(',', '.')  # заменим запятую на точку\n",
    "    price_num = float(book_price)  # сконвертируем в float\n",
    "    return price_num"
   ]
  },
  {
   "cell_type": "code",
   "execution_count": 82,
   "metadata": {},
   "outputs": [],
   "source": [
    "def price(x):\n",
    "    return float('.'.join(re.findall(r'\\d+',x)))"
   ]
  },
  {
   "cell_type": "code",
   "execution_count": 83,
   "metadata": {},
   "outputs": [
    {
     "data": {
      "text/plain": [
       "2619.0"
      ]
     },
     "execution_count": 83,
     "metadata": {},
     "output_type": "execute_result"
    }
   ],
   "source": [
    "# проверка\n",
    "get_price(df.price[0])"
   ]
  },
  {
   "cell_type": "code",
   "execution_count": 84,
   "metadata": {},
   "outputs": [
    {
     "data": {
      "text/plain": [
       "2619.0"
      ]
     },
     "execution_count": 84,
     "metadata": {},
     "output_type": "execute_result"
    }
   ],
   "source": [
    "price(df.price[0])"
   ]
  },
  {
   "cell_type": "markdown",
   "metadata": {},
   "source": [
    "Всё отлично работает! Применим функцию к столбцу *price* и создадим новый столбец *nprice*."
   ]
  },
  {
   "cell_type": "code",
   "execution_count": 85,
   "metadata": {},
   "outputs": [
    {
     "data": {
      "text/html": [
       "<div>\n",
       "<style scoped>\n",
       "    .dataframe tbody tr th:only-of-type {\n",
       "        vertical-align: middle;\n",
       "    }\n",
       "\n",
       "    .dataframe tbody tr th {\n",
       "        vertical-align: top;\n",
       "    }\n",
       "\n",
       "    .dataframe thead th {\n",
       "        text-align: right;\n",
       "    }\n",
       "</style>\n",
       "<table border=\"1\" class=\"dataframe\">\n",
       "  <thead>\n",
       "    <tr style=\"text-align: right;\">\n",
       "      <th></th>\n",
       "      <th>book</th>\n",
       "      <th>author</th>\n",
       "      <th>placement</th>\n",
       "      <th>price</th>\n",
       "    </tr>\n",
       "  </thead>\n",
       "  <tbody>\n",
       "    <tr>\n",
       "      <th>0</th>\n",
       "      <td>Практическое введение в решение дифференциальн...</td>\n",
       "      <td>Н. М. Ершов</td>\n",
       "      <td>Расположение в торговом зале: Уровень 1, зал №...</td>\n",
       "      <td>Цена: 2619,00 руб.</td>\n",
       "    </tr>\n",
       "    <tr>\n",
       "      <th>1</th>\n",
       "      <td>Python. Чистый код для продолжающих</td>\n",
       "      <td>Э. Свейгарт</td>\n",
       "      <td>None</td>\n",
       "      <td>Цена: 2239,00 руб.</td>\n",
       "    </tr>\n",
       "  </tbody>\n",
       "</table>\n",
       "</div>"
      ],
      "text/plain": [
       "                                                book       author  \\\n",
       "0  Практическое введение в решение дифференциальн...  Н. М. Ершов   \n",
       "1                Python. Чистый код для продолжающих  Э. Свейгарт   \n",
       "\n",
       "                                           placement               price  \n",
       "0  Расположение в торговом зале: Уровень 1, зал №...  Цена: 2619,00 руб.  \n",
       "1                                               None  Цена: 2239,00 руб.  "
      ]
     },
     "execution_count": 85,
     "metadata": {},
     "output_type": "execute_result"
    }
   ],
   "source": [
    "df.head(2)"
   ]
  },
  {
   "cell_type": "code",
   "execution_count": 88,
   "metadata": {},
   "outputs": [],
   "source": [
    "df['nprice'] = df.price.apply(get_price)"
   ]
  },
  {
   "cell_type": "code",
   "execution_count": 89,
   "metadata": {},
   "outputs": [
    {
     "data": {
      "text/html": [
       "<div>\n",
       "<style scoped>\n",
       "    .dataframe tbody tr th:only-of-type {\n",
       "        vertical-align: middle;\n",
       "    }\n",
       "\n",
       "    .dataframe tbody tr th {\n",
       "        vertical-align: top;\n",
       "    }\n",
       "\n",
       "    .dataframe thead th {\n",
       "        text-align: right;\n",
       "    }\n",
       "</style>\n",
       "<table border=\"1\" class=\"dataframe\">\n",
       "  <thead>\n",
       "    <tr style=\"text-align: right;\">\n",
       "      <th></th>\n",
       "      <th>book</th>\n",
       "      <th>author</th>\n",
       "      <th>placement</th>\n",
       "      <th>price</th>\n",
       "      <th>nprice</th>\n",
       "    </tr>\n",
       "  </thead>\n",
       "  <tbody>\n",
       "    <tr>\n",
       "      <th>0</th>\n",
       "      <td>Практическое введение в решение дифференциальн...</td>\n",
       "      <td>Н. М. Ершов</td>\n",
       "      <td>Расположение в торговом зале: Уровень 1, зал №...</td>\n",
       "      <td>Цена: 2619,00 руб.</td>\n",
       "      <td>2619.0</td>\n",
       "    </tr>\n",
       "    <tr>\n",
       "      <th>1</th>\n",
       "      <td>Python. Чистый код для продолжающих</td>\n",
       "      <td>Э. Свейгарт</td>\n",
       "      <td>None</td>\n",
       "      <td>Цена: 2239,00 руб.</td>\n",
       "      <td>2239.0</td>\n",
       "    </tr>\n",
       "    <tr>\n",
       "      <th>2</th>\n",
       "      <td>Python - это просто. Пошаговое руководство по ...</td>\n",
       "      <td>Н. Нисчал</td>\n",
       "      <td>Расположение в торговом зале: Уровень 1, зал №...</td>\n",
       "      <td>Цена: 1189,00 руб.</td>\n",
       "      <td>1189.0</td>\n",
       "    </tr>\n",
       "    <tr>\n",
       "      <th>3</th>\n",
       "      <td>Python.Создаем программы и игры</td>\n",
       "      <td>Д. М. Кольцов</td>\n",
       "      <td>Расположение в торговом зале: Уровень 1, зал №...</td>\n",
       "      <td>Цена: 679,00 руб.</td>\n",
       "      <td>679.0</td>\n",
       "    </tr>\n",
       "    <tr>\n",
       "      <th>4</th>\n",
       "      <td>Алгоритмы Data Science и их практическая реали...</td>\n",
       "      <td>А. В. Протодьяконов, П. А. Пылов, В. Е. Садовн...</td>\n",
       "      <td>Расположение в торговом зале: Уровень 1, зал №...</td>\n",
       "      <td>Цена: 3459,00 руб.</td>\n",
       "      <td>3459.0</td>\n",
       "    </tr>\n",
       "  </tbody>\n",
       "</table>\n",
       "</div>"
      ],
      "text/plain": [
       "                                                book  \\\n",
       "0  Практическое введение в решение дифференциальн...   \n",
       "1                Python. Чистый код для продолжающих   \n",
       "2  Python - это просто. Пошаговое руководство по ...   \n",
       "3                    Python.Создаем программы и игры   \n",
       "4  Алгоритмы Data Science и их практическая реали...   \n",
       "\n",
       "                                              author  \\\n",
       "0                                        Н. М. Ершов   \n",
       "1                                        Э. Свейгарт   \n",
       "2                                          Н. Нисчал   \n",
       "3                                     Д. М. Кольцов    \n",
       "4  А. В. Протодьяконов, П. А. Пылов, В. Е. Садовн...   \n",
       "\n",
       "                                           placement               price  \\\n",
       "0  Расположение в торговом зале: Уровень 1, зал №...  Цена: 2619,00 руб.   \n",
       "1                                               None  Цена: 2239,00 руб.   \n",
       "2  Расположение в торговом зале: Уровень 1, зал №...  Цена: 1189,00 руб.   \n",
       "3  Расположение в торговом зале: Уровень 1, зал №...   Цена: 679,00 руб.   \n",
       "4  Расположение в торговом зале: Уровень 1, зал №...  Цена: 3459,00 руб.   \n",
       "\n",
       "   nprice  \n",
       "0  2619.0  \n",
       "1  2239.0  \n",
       "2  1189.0  \n",
       "3   679.0  \n",
       "4  3459.0  "
      ]
     },
     "execution_count": 89,
     "metadata": {},
     "output_type": "execute_result"
    }
   ],
   "source": [
    "df.head()"
   ]
  },
  {
   "cell_type": "code",
   "execution_count": 90,
   "metadata": {},
   "outputs": [
    {
     "name": "stdout",
     "output_type": "stream",
     "text": [
      "<class 'pandas.core.frame.DataFrame'>\n",
      "RangeIndex: 20 entries, 0 to 19\n",
      "Data columns (total 5 columns):\n",
      " #   Column     Non-Null Count  Dtype  \n",
      "---  ------     --------------  -----  \n",
      " 0   book       20 non-null     object \n",
      " 1   author     20 non-null     object \n",
      " 2   placement  19 non-null     object \n",
      " 3   price      20 non-null     object \n",
      " 4   nprice     20 non-null     float64\n",
      "dtypes: float64(1), object(4)\n",
      "memory usage: 928.0+ bytes\n"
     ]
    }
   ],
   "source": [
    "df.info()"
   ]
  },
  {
   "cell_type": "code",
   "execution_count": 91,
   "metadata": {},
   "outputs": [
    {
     "data": {
      "text/html": [
       "<div>\n",
       "<style scoped>\n",
       "    .dataframe tbody tr th:only-of-type {\n",
       "        vertical-align: middle;\n",
       "    }\n",
       "\n",
       "    .dataframe tbody tr th {\n",
       "        vertical-align: top;\n",
       "    }\n",
       "\n",
       "    .dataframe thead th {\n",
       "        text-align: right;\n",
       "    }\n",
       "</style>\n",
       "<table border=\"1\" class=\"dataframe\">\n",
       "  <thead>\n",
       "    <tr style=\"text-align: right;\">\n",
       "      <th></th>\n",
       "      <th>nprice</th>\n",
       "    </tr>\n",
       "  </thead>\n",
       "  <tbody>\n",
       "    <tr>\n",
       "      <th>count</th>\n",
       "      <td>20.000000</td>\n",
       "    </tr>\n",
       "    <tr>\n",
       "      <th>mean</th>\n",
       "      <td>1846.500000</td>\n",
       "    </tr>\n",
       "    <tr>\n",
       "      <th>std</th>\n",
       "      <td>1113.561735</td>\n",
       "    </tr>\n",
       "    <tr>\n",
       "      <th>min</th>\n",
       "      <td>499.000000</td>\n",
       "    </tr>\n",
       "    <tr>\n",
       "      <th>25%</th>\n",
       "      <td>1046.500000</td>\n",
       "    </tr>\n",
       "    <tr>\n",
       "      <th>50%</th>\n",
       "      <td>1514.000000</td>\n",
       "    </tr>\n",
       "    <tr>\n",
       "      <th>75%</th>\n",
       "      <td>2334.000000</td>\n",
       "    </tr>\n",
       "    <tr>\n",
       "      <th>max</th>\n",
       "      <td>4459.000000</td>\n",
       "    </tr>\n",
       "  </tbody>\n",
       "</table>\n",
       "</div>"
      ],
      "text/plain": [
       "            nprice\n",
       "count    20.000000\n",
       "mean   1846.500000\n",
       "std    1113.561735\n",
       "min     499.000000\n",
       "25%    1046.500000\n",
       "50%    1514.000000\n",
       "75%    2334.000000\n",
       "max    4459.000000"
      ]
     },
     "execution_count": 91,
     "metadata": {},
     "output_type": "execute_result"
    }
   ],
   "source": [
    "df.describe() #для количеств признаков возвращает статистики"
   ]
  },
  {
   "cell_type": "markdown",
   "metadata": {},
   "source": [
    "Теперь можем расположить книги по цене в порядке возрастания:"
   ]
  },
  {
   "cell_type": "code",
   "execution_count": 93,
   "metadata": {},
   "outputs": [
    {
     "data": {
      "text/html": [
       "<div>\n",
       "<style scoped>\n",
       "    .dataframe tbody tr th:only-of-type {\n",
       "        vertical-align: middle;\n",
       "    }\n",
       "\n",
       "    .dataframe tbody tr th {\n",
       "        vertical-align: top;\n",
       "    }\n",
       "\n",
       "    .dataframe thead th {\n",
       "        text-align: right;\n",
       "    }\n",
       "</style>\n",
       "<table border=\"1\" class=\"dataframe\">\n",
       "  <thead>\n",
       "    <tr style=\"text-align: right;\">\n",
       "      <th></th>\n",
       "      <th>book</th>\n",
       "      <th>author</th>\n",
       "      <th>placement</th>\n",
       "      <th>price</th>\n",
       "      <th>nprice</th>\n",
       "    </tr>\n",
       "  </thead>\n",
       "  <tbody>\n",
       "    <tr>\n",
       "      <th>14</th>\n",
       "      <td>Изучаем Python, том 1</td>\n",
       "      <td>Изучаем Python, том 1</td>\n",
       "      <td>Расположение в торговом зале: Уровень 1, зал №...</td>\n",
       "      <td>Цена: 4459,00 руб.</td>\n",
       "      <td>4459.0</td>\n",
       "    </tr>\n",
       "    <tr>\n",
       "      <th>17</th>\n",
       "      <td>Стандартная библиотека Python 3</td>\n",
       "      <td>Стандартная библиотека Python 3</td>\n",
       "      <td>Расположение в торговом зале: Уровень 1, зал №...</td>\n",
       "      <td>Цена: 4109,00 руб.</td>\n",
       "      <td>4109.0</td>\n",
       "    </tr>\n",
       "    <tr>\n",
       "      <th>4</th>\n",
       "      <td>Алгоритмы Data Science и их практическая реали...</td>\n",
       "      <td>А. В. Протодьяконов, П. А. Пылов, В. Е. Садовн...</td>\n",
       "      <td>Расположение в торговом зале: Уровень 1, зал №...</td>\n",
       "      <td>Цена: 3459,00 руб.</td>\n",
       "      <td>3459.0</td>\n",
       "    </tr>\n",
       "    <tr>\n",
       "      <th>0</th>\n",
       "      <td>Практическое введение в решение дифференциальн...</td>\n",
       "      <td>Н. М. Ершов</td>\n",
       "      <td>Расположение в торговом зале: Уровень 1, зал №...</td>\n",
       "      <td>Цена: 2619,00 руб.</td>\n",
       "      <td>2619.0</td>\n",
       "    </tr>\n",
       "    <tr>\n",
       "      <th>7</th>\n",
       "      <td>Начинаем программировать на Python</td>\n",
       "      <td>Т. Гэддис</td>\n",
       "      <td>Расположение в торговом зале: Уровень 1, зал №...</td>\n",
       "      <td>Цена: 2619,00 руб.</td>\n",
       "      <td>2619.0</td>\n",
       "    </tr>\n",
       "    <tr>\n",
       "      <th>1</th>\n",
       "      <td>Python. Чистый код для продолжающих</td>\n",
       "      <td>Э. Свейгарт</td>\n",
       "      <td>None</td>\n",
       "      <td>Цена: 2239,00 руб.</td>\n",
       "      <td>2239.0</td>\n",
       "    </tr>\n",
       "    <tr>\n",
       "      <th>13</th>\n",
       "      <td>Простой Python. Современный стиль программиров...</td>\n",
       "      <td>Простой Python. Современный стиль программиров...</td>\n",
       "      <td>Расположение в торговом зале: Уровень 1, зал №...</td>\n",
       "      <td>Цена: 2019,00 руб.</td>\n",
       "      <td>2019.0</td>\n",
       "    </tr>\n",
       "    <tr>\n",
       "      <th>9</th>\n",
       "      <td>Изучаем программирование на Python</td>\n",
       "      <td>П. Бэрри</td>\n",
       "      <td>Расположение в торговом зале: Уровень 1, зал №...</td>\n",
       "      <td>Цена: 1859,00 руб.</td>\n",
       "      <td>1859.0</td>\n",
       "    </tr>\n",
       "    <tr>\n",
       "      <th>19</th>\n",
       "      <td>Большая книга проектов Python</td>\n",
       "      <td>Большая книга проектов Python</td>\n",
       "      <td>Расположение в торговом зале: Уровень 1, зал №...</td>\n",
       "      <td>Цена: 1669,00 руб.</td>\n",
       "      <td>1669.0</td>\n",
       "    </tr>\n",
       "    <tr>\n",
       "      <th>6</th>\n",
       "      <td>Python для детей : самоучитель по программиров...</td>\n",
       "      <td>Дж. Бриггс</td>\n",
       "      <td>Расположение в торговом зале: Уровень 1, зал №...</td>\n",
       "      <td>Цена: 1569,00 руб.</td>\n",
       "      <td>1569.0</td>\n",
       "    </tr>\n",
       "    <tr>\n",
       "      <th>16</th>\n",
       "      <td>Чистый Python. Тонкости программирования для п...</td>\n",
       "      <td>Чистый Python. Тонкости программирования для п...</td>\n",
       "      <td>Расположение в торговом зале: Уровень 1, зал №...</td>\n",
       "      <td>Цена: 1459,00 руб.</td>\n",
       "      <td>1459.0</td>\n",
       "    </tr>\n",
       "    <tr>\n",
       "      <th>5</th>\n",
       "      <td>Программируем на Python</td>\n",
       "      <td>М. Доусон</td>\n",
       "      <td>Расположение в торговом зале: Уровень 1, зал №...</td>\n",
       "      <td>Цена: 1359,00 руб.</td>\n",
       "      <td>1359.0</td>\n",
       "    </tr>\n",
       "    <tr>\n",
       "      <th>15</th>\n",
       "      <td>Python 3   Самое необходимое</td>\n",
       "      <td>Python 3   Самое необходимое</td>\n",
       "      <td>Расположение в торговом зале: Уровень 1, зал №...</td>\n",
       "      <td>Цена: 1329,00 руб.</td>\n",
       "      <td>1329.0</td>\n",
       "    </tr>\n",
       "    <tr>\n",
       "      <th>2</th>\n",
       "      <td>Python - это просто. Пошаговое руководство по ...</td>\n",
       "      <td>Н. Нисчал</td>\n",
       "      <td>Расположение в торговом зале: Уровень 1, зал №...</td>\n",
       "      <td>Цена: 1189,00 руб.</td>\n",
       "      <td>1189.0</td>\n",
       "    </tr>\n",
       "    <tr>\n",
       "      <th>10</th>\n",
       "      <td>Python для юных программистов</td>\n",
       "      <td>Python для юных программистов</td>\n",
       "      <td>Расположение в торговом зале: Уровень 1, зал №...</td>\n",
       "      <td>Цена: 1059,00 руб.</td>\n",
       "      <td>1059.0</td>\n",
       "    </tr>\n",
       "    <tr>\n",
       "      <th>12</th>\n",
       "      <td>Python: быстрый старт</td>\n",
       "      <td>Python: быстрый старт</td>\n",
       "      <td>Расположение в торговом зале: Уровень 1, зал №...</td>\n",
       "      <td>Цена: 1009,00 руб.</td>\n",
       "      <td>1009.0</td>\n",
       "    </tr>\n",
       "    <tr>\n",
       "      <th>8</th>\n",
       "      <td>Машинное обучение: карманный справочник. Кратк...</td>\n",
       "      <td>М. Харрисон</td>\n",
       "      <td>Расположение в торговом зале: Уровень 1, зал №...</td>\n",
       "      <td>Цена: 939,00 руб.</td>\n",
       "      <td>939.0</td>\n",
       "    </tr>\n",
       "    <tr>\n",
       "      <th>18</th>\n",
       "      <td>Программирование на Python для начинающих</td>\n",
       "      <td>Программирование на Python для начинающих</td>\n",
       "      <td>Расположение в торговом зале: Уровень 1, зал №...</td>\n",
       "      <td>Цена: 789,00 руб.</td>\n",
       "      <td>789.0</td>\n",
       "    </tr>\n",
       "    <tr>\n",
       "      <th>3</th>\n",
       "      <td>Python.Создаем программы и игры</td>\n",
       "      <td>Д. М. Кольцов</td>\n",
       "      <td>Расположение в торговом зале: Уровень 1, зал №...</td>\n",
       "      <td>Цена: 679,00 руб.</td>\n",
       "      <td>679.0</td>\n",
       "    </tr>\n",
       "    <tr>\n",
       "      <th>11</th>\n",
       "      <td>Справочник PYTHON.  Кратко, быстро, под рукой</td>\n",
       "      <td>Справочник PYTHON.  Кратко, быстро, под рукой</td>\n",
       "      <td>Расположение в торговом зале: Уровень 1, зал №...</td>\n",
       "      <td>Цена: 499,00 руб.</td>\n",
       "      <td>499.0</td>\n",
       "    </tr>\n",
       "  </tbody>\n",
       "</table>\n",
       "</div>"
      ],
      "text/plain": [
       "                                                 book  \\\n",
       "14                              Изучаем Python, том 1   \n",
       "17                    Стандартная библиотека Python 3   \n",
       "4   Алгоритмы Data Science и их практическая реали...   \n",
       "0   Практическое введение в решение дифференциальн...   \n",
       "7                  Начинаем программировать на Python   \n",
       "1                 Python. Чистый код для продолжающих   \n",
       "13  Простой Python. Современный стиль программиров...   \n",
       "9                  Изучаем программирование на Python   \n",
       "19                      Большая книга проектов Python   \n",
       "6   Python для детей : самоучитель по программиров...   \n",
       "16  Чистый Python. Тонкости программирования для п...   \n",
       "5                             Программируем на Python   \n",
       "15                      Python 3   Самое необходимое    \n",
       "2   Python - это просто. Пошаговое руководство по ...   \n",
       "10                      Python для юных программистов   \n",
       "12                              Python: быстрый старт   \n",
       "8   Машинное обучение: карманный справочник. Кратк...   \n",
       "18          Программирование на Python для начинающих   \n",
       "3                     Python.Создаем программы и игры   \n",
       "11      Справочник PYTHON.  Кратко, быстро, под рукой   \n",
       "\n",
       "                                               author  \\\n",
       "14                              Изучаем Python, том 1   \n",
       "17                    Стандартная библиотека Python 3   \n",
       "4   А. В. Протодьяконов, П. А. Пылов, В. Е. Садовн...   \n",
       "0                                         Н. М. Ершов   \n",
       "7                                          Т. Гэддис    \n",
       "1                                         Э. Свейгарт   \n",
       "13  Простой Python. Современный стиль программиров...   \n",
       "9                                            П. Бэрри   \n",
       "19                      Большая книга проектов Python   \n",
       "6                                          Дж. Бриггс   \n",
       "16  Чистый Python. Тонкости программирования для п...   \n",
       "5                                           М. Доусон   \n",
       "15                      Python 3   Самое необходимое    \n",
       "2                                           Н. Нисчал   \n",
       "10                      Python для юных программистов   \n",
       "12                              Python: быстрый старт   \n",
       "8                                         М. Харрисон   \n",
       "18          Программирование на Python для начинающих   \n",
       "3                                      Д. М. Кольцов    \n",
       "11      Справочник PYTHON.  Кратко, быстро, под рукой   \n",
       "\n",
       "                                            placement               price  \\\n",
       "14  Расположение в торговом зале: Уровень 1, зал №...  Цена: 4459,00 руб.   \n",
       "17  Расположение в торговом зале: Уровень 1, зал №...  Цена: 4109,00 руб.   \n",
       "4   Расположение в торговом зале: Уровень 1, зал №...  Цена: 3459,00 руб.   \n",
       "0   Расположение в торговом зале: Уровень 1, зал №...  Цена: 2619,00 руб.   \n",
       "7   Расположение в торговом зале: Уровень 1, зал №...  Цена: 2619,00 руб.   \n",
       "1                                                None  Цена: 2239,00 руб.   \n",
       "13  Расположение в торговом зале: Уровень 1, зал №...  Цена: 2019,00 руб.   \n",
       "9   Расположение в торговом зале: Уровень 1, зал №...  Цена: 1859,00 руб.   \n",
       "19  Расположение в торговом зале: Уровень 1, зал №...  Цена: 1669,00 руб.   \n",
       "6   Расположение в торговом зале: Уровень 1, зал №...  Цена: 1569,00 руб.   \n",
       "16  Расположение в торговом зале: Уровень 1, зал №...  Цена: 1459,00 руб.   \n",
       "5   Расположение в торговом зале: Уровень 1, зал №...  Цена: 1359,00 руб.   \n",
       "15  Расположение в торговом зале: Уровень 1, зал №...  Цена: 1329,00 руб.   \n",
       "2   Расположение в торговом зале: Уровень 1, зал №...  Цена: 1189,00 руб.   \n",
       "10  Расположение в торговом зале: Уровень 1, зал №...  Цена: 1059,00 руб.   \n",
       "12  Расположение в торговом зале: Уровень 1, зал №...  Цена: 1009,00 руб.   \n",
       "8   Расположение в торговом зале: Уровень 1, зал №...   Цена: 939,00 руб.   \n",
       "18  Расположение в торговом зале: Уровень 1, зал №...   Цена: 789,00 руб.   \n",
       "3   Расположение в торговом зале: Уровень 1, зал №...   Цена: 679,00 руб.   \n",
       "11  Расположение в торговом зале: Уровень 1, зал №...   Цена: 499,00 руб.   \n",
       "\n",
       "    nprice  \n",
       "14  4459.0  \n",
       "17  4109.0  \n",
       "4   3459.0  \n",
       "0   2619.0  \n",
       "7   2619.0  \n",
       "1   2239.0  \n",
       "13  2019.0  \n",
       "9   1859.0  \n",
       "19  1669.0  \n",
       "6   1569.0  \n",
       "16  1459.0  \n",
       "5   1359.0  \n",
       "15  1329.0  \n",
       "2   1189.0  \n",
       "10  1059.0  \n",
       "12  1009.0  \n",
       "8    939.0  \n",
       "18   789.0  \n",
       "3    679.0  \n",
       "11   499.0  "
      ]
     },
     "execution_count": 93,
     "metadata": {},
     "output_type": "execute_result"
    }
   ],
   "source": [
    "df.sort_values('nprice', ascending=False)"
   ]
  },
  {
   "cell_type": "markdown",
   "metadata": {},
   "source": [
    "И сохраним всю таблицу в csv-файл:"
   ]
  },
  {
   "cell_type": "code",
   "execution_count": 94,
   "metadata": {},
   "outputs": [],
   "source": [
    "df.to_csv(\"books.csv\", index=False)"
   ]
  },
  {
   "cell_type": "code",
   "execution_count": 95,
   "metadata": {},
   "outputs": [],
   "source": [
    "df.to_excel(\"books.xlsx\", index=False)"
   ]
  },
  {
   "cell_type": "code",
   "execution_count": 96,
   "metadata": {},
   "outputs": [],
   "source": [
    "br.close()"
   ]
  },
  {
   "cell_type": "code",
   "execution_count": null,
   "metadata": {},
   "outputs": [],
   "source": []
  },
  {
   "cell_type": "code",
   "execution_count": null,
   "metadata": {
    "scrolled": true
   },
   "outputs": [],
   "source": [
    "from selenium import webdriver\n",
    "from webdriver_manager.chrome import ChromeDriverManager\n",
    "\n",
    "br = webdriver.Chrome(ChromeDriverManager().install())\n",
    "\n",
    "# открываем страницу в Chrome в автоматическом режиме\n",
    "br.get(\"http://www.biblio-globus.ru/\")"
   ]
  },
  {
   "cell_type": "code",
   "execution_count": null,
   "metadata": {},
   "outputs": [],
   "source": [
    "books = '//*[@id=\"TableMRight\"]/tbody/tr/td/table/tbody/tr[2]/td[2]/a'"
   ]
  },
  {
   "cell_type": "code",
   "execution_count": null,
   "metadata": {},
   "outputs": [],
   "source": [
    "books_el = br.find_element_by_xpath(books)"
   ]
  },
  {
   "cell_type": "code",
   "execution_count": null,
   "metadata": {},
   "outputs": [],
   "source": [
    "books_el.click()"
   ]
  },
  {
   "cell_type": "code",
   "execution_count": null,
   "metadata": {},
   "outputs": [],
   "source": [
    "det_css = 'body > table > tbody > tr:nth-child(2) > td.column_right > div > div.card-columns > div:nth-child(1) > div > ul > li > ul > li:nth-child(2) > ul > li:nth-child(2) > a'"
   ]
  },
  {
   "cell_type": "code",
   "execution_count": null,
   "metadata": {},
   "outputs": [],
   "source": [
    "det_el = br.find_element_by_css_selector(det_css)"
   ]
  },
  {
   "cell_type": "code",
   "execution_count": null,
   "metadata": {},
   "outputs": [],
   "source": [
    "det_el.click()"
   ]
  },
  {
   "cell_type": "code",
   "execution_count": null,
   "metadata": {},
   "outputs": [],
   "source": [
    "page1 = BeautifulSoup(br.page_source)"
   ]
  },
  {
   "cell_type": "code",
   "execution_count": null,
   "metadata": {},
   "outputs": [],
   "source": [
    "books_p1 = page1.find_all('div', {'class': 'details_1'})"
   ]
  },
  {
   "cell_type": "code",
   "execution_count": null,
   "metadata": {},
   "outputs": [],
   "source": [
    "len(books_p1)"
   ]
  },
  {
   "cell_type": "code",
   "execution_count": null,
   "metadata": {},
   "outputs": [],
   "source": [
    "books_p1[0]"
   ]
  },
  {
   "cell_type": "code",
   "execution_count": null,
   "metadata": {},
   "outputs": [],
   "source": [
    "books_p1[0].div is not None"
   ]
  },
  {
   "cell_type": "code",
   "execution_count": null,
   "metadata": {},
   "outputs": [],
   "source": [
    "books_p1[0].find('div', {'class': 'author'}).text"
   ]
  },
  {
   "cell_type": "code",
   "execution_count": null,
   "metadata": {},
   "outputs": [],
   "source": [
    "books_p1[0].a.text"
   ]
  },
  {
   "cell_type": "code",
   "execution_count": null,
   "metadata": {},
   "outputs": [],
   "source": [
    "books_p1[0].find('div', {'class': 'placement'}).text"
   ]
  },
  {
   "cell_type": "code",
   "execution_count": null,
   "metadata": {},
   "outputs": [],
   "source": [
    "books_p1[0].find('div', {'class': 'title_data price'}).text"
   ]
  },
  {
   "cell_type": "code",
   "execution_count": null,
   "metadata": {},
   "outputs": [],
   "source": [
    "books_p1[0].find('div', {'class': 'title_data pricee'}) is None"
   ]
  },
  {
   "cell_type": "code",
   "execution_count": null,
   "metadata": {},
   "outputs": [],
   "source": [
    "titles = []\n",
    "authors = []\n",
    "places = []\n",
    "prices = []\n",
    "for book in books_p1:\n",
    "    if book.find('div', {'class': 'author'}) is not None:\n",
    "        authors.append(book.find('div', {'class': 'author'}).text)\n",
    "    else:\n",
    "        authors.append('')\n",
    "        \n",
    "    if book.a is not None:\n",
    "        titles.append(book.a.text)\n",
    "    else:\n",
    "        titles.append('')\n",
    "        \n",
    "    if book.find('div', {'class': 'placement'}) is not None:\n",
    "        places.append(book.find('div', {'class': 'placement'}).text)\n",
    "    else:\n",
    "        places.append('')\n",
    "        \n",
    "    if book.find('div', {'class': 'title_data price'}) is not None:\n",
    "        prices.append(book.find('div', {'class': 'title_data price'}).text)\n",
    "    else:\n",
    "        prices.append('')"
   ]
  },
  {
   "cell_type": "code",
   "execution_count": null,
   "metadata": {
    "scrolled": false
   },
   "outputs": [],
   "source": [
    "titles"
   ]
  },
  {
   "cell_type": "code",
   "execution_count": null,
   "metadata": {},
   "outputs": [],
   "source": [
    "def get_page_info(books_p):\n",
    "    titles = []\n",
    "    authors = []\n",
    "    places = []\n",
    "    prices = []\n",
    "    for book in books_p:\n",
    "        if book.div is not None:\n",
    "            authors.append(book.div.text)\n",
    "        else:\n",
    "            authors.append('')\n",
    "\n",
    "        if book.a is not None:\n",
    "            titles.append(book.a.text)\n",
    "        else:\n",
    "            titles.append('')\n",
    "\n",
    "        if book.find('div', {'class': 'placement'}) is not None:\n",
    "            places.append(book.find('div', {'class': 'placement'}).text)\n",
    "        else:\n",
    "            places.append('')\n",
    "\n",
    "        if book.find('div', {'class': 'title_data price'}) is not None:\n",
    "            prices.append(book.find('div', {'class': 'title_data price'}).text)\n",
    "        else:\n",
    "            prices.append('')\n",
    "            \n",
    "    return titles, authors, places, prices"
   ]
  },
  {
   "cell_type": "code",
   "execution_count": null,
   "metadata": {},
   "outputs": [],
   "source": [
    "next_page = '//*[@id=\"main_wrapper\"]/ul/li[4]/a'"
   ]
  },
  {
   "cell_type": "code",
   "execution_count": null,
   "metadata": {},
   "outputs": [],
   "source": [
    "page2 = br.find_element_by_xpath(next_page)"
   ]
  },
  {
   "cell_type": "code",
   "execution_count": null,
   "metadata": {},
   "outputs": [],
   "source": [
    "page2.click()"
   ]
  },
  {
   "cell_type": "code",
   "execution_count": null,
   "metadata": {},
   "outputs": [],
   "source": [
    "# next_page_2 = '//*[@id=\"main_wrapper\"]/ul/li[8]/a'\n",
    "# next_page_2 = br.find_element_by_xpath(next_page_2)\n",
    "# next_page_2.click()"
   ]
  },
  {
   "cell_type": "code",
   "execution_count": null,
   "metadata": {},
   "outputs": [],
   "source": [
    "from time import sleep"
   ]
  },
  {
   "cell_type": "code",
   "execution_count": null,
   "metadata": {},
   "outputs": [],
   "source": [
    "np_xpath = '//*[@id=\"main_wrapper\"]/ul/li[8]/a/span[1]'"
   ]
  },
  {
   "cell_type": "code",
   "execution_count": null,
   "metadata": {},
   "outputs": [],
   "source": [
    "for _ in range(3):\n",
    "    try:\n",
    "        page = BeautifulSoup(br.page_source)\n",
    "        books = page.find_all('div', {'class': 'details_1'})\n",
    "        t, a, pl, pr = get_page_info(books)\n",
    "        titles.extend(t)\n",
    "        authors.extend(a)\n",
    "        places.extend(pl)\n",
    "        prices.extend(pr)\n",
    "        np = br.find_element_by_xpath(np_xpath)\n",
    "        sleep(3)\n",
    "        np.click()\n",
    "    except:\n",
    "        print('all pages parsed')\n",
    "        break"
   ]
  },
  {
   "cell_type": "code",
   "execution_count": null,
   "metadata": {},
   "outputs": [],
   "source": [
    "df = pd.DataFrame({'book': titles, 'author': authors,\n",
    "                   'placement': places, 'price': prices})"
   ]
  },
  {
   "cell_type": "code",
   "execution_count": null,
   "metadata": {},
   "outputs": [],
   "source": [
    "df.head()"
   ]
  },
  {
   "cell_type": "code",
   "execution_count": null,
   "metadata": {},
   "outputs": [],
   "source": [
    "df.shape"
   ]
  },
  {
   "cell_type": "code",
   "execution_count": null,
   "metadata": {},
   "outputs": [],
   "source": [
    "br.close()"
   ]
  },
  {
   "cell_type": "code",
   "execution_count": null,
   "metadata": {},
   "outputs": [],
   "source": []
  }
 ],
 "metadata": {
  "kernelspec": {
   "display_name": "Python 3",
   "language": "python",
   "name": "python3"
  },
  "language_info": {
   "codemirror_mode": {
    "name": "ipython",
    "version": 3
   },
   "file_extension": ".py",
   "mimetype": "text/x-python",
   "name": "python",
   "nbconvert_exporter": "python",
   "pygments_lexer": "ipython3",
   "version": "3.8.5"
  },
  "toc": {
   "base_numbering": 1,
   "nav_menu": {},
   "number_sections": true,
   "sideBar": true,
   "skip_h1_title": false,
   "title_cell": "Table of Contents",
   "title_sidebar": "Contents",
   "toc_cell": false,
   "toc_position": {},
   "toc_section_display": true,
   "toc_window_display": false
  },
  "varInspector": {
   "cols": {
    "lenName": 16,
    "lenType": 16,
    "lenVar": 40
   },
   "kernels_config": {
    "python": {
     "delete_cmd_postfix": "",
     "delete_cmd_prefix": "del ",
     "library": "var_list.py",
     "varRefreshCmd": "print(var_dic_list())"
    },
    "r": {
     "delete_cmd_postfix": ") ",
     "delete_cmd_prefix": "rm(",
     "library": "var_list.r",
     "varRefreshCmd": "cat(var_dic_list()) "
    }
   },
   "types_to_exclude": [
    "module",
    "function",
    "builtin_function_or_method",
    "instance",
    "_Feature"
   ],
   "window_display": false
  }
 },
 "nbformat": 4,
 "nbformat_minor": 2
}
