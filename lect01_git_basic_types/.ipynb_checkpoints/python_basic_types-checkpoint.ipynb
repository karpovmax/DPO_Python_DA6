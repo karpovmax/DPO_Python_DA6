{
 "cells": [
  {
   "cell_type": "markdown",
   "id": "0025c64f",
   "metadata": {},
   "source": [
    "# Code style\n",
    "## Heading 2\n",
    "\n",
    "**Text**\n",
    "\n",
    "*italic*\n",
    "\n",
    "- point 1\n",
    "\n",
    "- point 2\n",
    "\n",
    "$$c^2 = a^2 + b^2$$"
   ]
  },
  {
   "cell_type": "code",
   "execution_count": 13,
   "id": "f28eac26",
   "metadata": {},
   "outputs": [
    {
     "name": "stdout",
     "output_type": "stream",
     "text": [
      "Hello, world!\n",
      "hello, world!\n"
     ]
    }
   ],
   "source": [
    "# In - input\n",
    "# В - ввод\n",
    "\n",
    "# print the string\n",
    "print('Hello, world!')\n",
    "\n",
    "print('hello, world!')"
   ]
  },
  {
   "cell_type": "code",
   "execution_count": 8,
   "id": "074b1b77",
   "metadata": {},
   "outputs": [
    {
     "data": {
      "text/plain": [
       "'Hello, world!'"
      ]
     },
     "execution_count": 8,
     "metadata": {},
     "output_type": "execute_result"
    }
   ],
   "source": [
    "'Hello, world!'\n",
    "# Out - output\n",
    "# ВВ - вывод"
   ]
  },
  {
   "cell_type": "code",
   "execution_count": 9,
   "id": "e3127c0f",
   "metadata": {},
   "outputs": [
    {
     "data": {
      "text/plain": [
       "'\\n\\n\\n\\ndsfhsfdhafhgl\\n\\nadfakgdagn\\n\\n\\n'"
      ]
     },
     "execution_count": 9,
     "metadata": {},
     "output_type": "execute_result"
    }
   ],
   "source": [
    "'''\n",
    "\n",
    "\n",
    "\n",
    "dsfhsfdhafhgl\n",
    "\n",
    "adfakgdagn\n",
    "\n",
    "\n",
    "'''"
   ]
  },
  {
   "cell_type": "code",
   "execution_count": 10,
   "id": "cfb50df1",
   "metadata": {},
   "outputs": [],
   "source": [
    "# comment\n",
    "\n",
    "# ctrl/cmd + S save - notebook\n",
    "\n",
    "# shift + enter - run the cell\n",
    "\n",
    "# B - below\n",
    "\n",
    "# A - above\n",
    "\n",
    "# X - delete\n",
    "\n",
    "# Z - undo last delete\n",
    "\n",
    "# M - markdown"
   ]
  },
  {
   "cell_type": "code",
   "execution_count": 18,
   "id": "802844fa",
   "metadata": {},
   "outputs": [
    {
     "name": "stdout",
     "output_type": "stream",
     "text": [
      "Hello,World!\n"
     ]
    }
   ],
   "source": [
    "print(\"Hello,\", \"World!\", sep='') #separator - разделитель (параметр\n",
    "                                    # функции print())"
   ]
  },
  {
   "cell_type": "code",
   "execution_count": 17,
   "id": "7672a34b",
   "metadata": {},
   "outputs": [
    {
     "name": "stdout",
     "output_type": "stream",
     "text": [
      "Hello, World!\n"
     ]
    }
   ],
   "source": [
    "print(\"Hello,\", \"World!\")"
   ]
  },
  {
   "cell_type": "code",
   "execution_count": 23,
   "id": "e688509d",
   "metadata": {},
   "outputs": [
    {
     "name": "stdout",
     "output_type": "stream",
     "text": [
      "Аня\n",
      "Петя\n",
      "Привет, Петя 4\n"
     ]
    }
   ],
   "source": [
    "name = 'Аня' # переменная - именованная область памяти, \n",
    "            # в которой присвоено некоторое значение\n",
    "print(name)\n",
    "\n",
    "name = 'Петя' # оператор = присваивает значение\n",
    "print(name)\n",
    "print('Привет,', name, 4) #можно вводить строки, числа и др. типы данных \n",
    "                        #и переменные внутри print"
   ]
  },
  {
   "cell_type": "code",
   "execution_count": 24,
   "id": "eaa6fcbb",
   "metadata": {},
   "outputs": [
    {
     "name": "stdout",
     "output_type": "stream",
     "text": [
      "Hello, world!\n"
     ]
    }
   ],
   "source": [
    "name = input() #вводит значение переменной с клавиатуры и сохраняет \n",
    "            # в объявленную переменную"
   ]
  },
  {
   "cell_type": "code",
   "execution_count": 25,
   "id": "98261eca",
   "metadata": {},
   "outputs": [
    {
     "name": "stdout",
     "output_type": "stream",
     "text": [
      "Hello,World!\n"
     ]
    },
    {
     "data": {
      "text/plain": [
       "'Hello,World!'"
      ]
     },
     "execution_count": 25,
     "metadata": {},
     "output_type": "execute_result"
    }
   ],
   "source": [
    "input()"
   ]
  },
  {
   "cell_type": "code",
   "execution_count": 26,
   "id": "fd0f0372",
   "metadata": {},
   "outputs": [
    {
     "data": {
      "text/plain": [
       "str"
      ]
     },
     "execution_count": 26,
     "metadata": {},
     "output_type": "execute_result"
    }
   ],
   "source": [
    "text = 'Текст'\n",
    "type(text) #string - строка (тип данных)"
   ]
  },
  {
   "cell_type": "code",
   "execution_count": 33,
   "id": "3f9e720c",
   "metadata": {},
   "outputs": [
    {
     "data": {
      "text/plain": [
       "int"
      ]
     },
     "execution_count": 33,
     "metadata": {},
     "output_type": "execute_result"
    }
   ],
   "source": [
    "type(4 + 4) # int - integer (целое число)"
   ]
  },
  {
   "cell_type": "code",
   "execution_count": 28,
   "id": "0659d6d6",
   "metadata": {},
   "outputs": [
    {
     "data": {
      "text/plain": [
       "2"
      ]
     },
     "execution_count": 28,
     "metadata": {},
     "output_type": "execute_result"
    }
   ],
   "source": [
    "4 - 2"
   ]
  },
  {
   "cell_type": "code",
   "execution_count": 34,
   "id": "a0b51a77",
   "metadata": {},
   "outputs": [
    {
     "name": "stdout",
     "output_type": "stream",
     "text": [
      "2.0\n"
     ]
    },
    {
     "data": {
      "text/plain": [
       "float"
      ]
     },
     "execution_count": 34,
     "metadata": {},
     "output_type": "execute_result"
    }
   ],
   "source": [
    "print(4 / 2) # float - вещественное число, floating number \n",
    "# (число с плавающей точке)\n",
    "type(4 / 2)"
   ]
  },
  {
   "cell_type": "code",
   "execution_count": 31,
   "id": "aa3beb9c",
   "metadata": {},
   "outputs": [
    {
     "name": "stdout",
     "output_type": "stream",
     "text": [
      "24\n",
      "1.3333333333333333\n"
     ]
    }
   ],
   "source": [
    "print(4 * 6)\n",
    "print(4 / 3)"
   ]
  },
  {
   "cell_type": "code",
   "execution_count": 39,
   "id": "e728366b",
   "metadata": {},
   "outputs": [
    {
     "name": "stdout",
     "output_type": "stream",
     "text": [
      "1.3333333333333333\n",
      "2\n",
      "1\n",
      "2\n"
     ]
    }
   ],
   "source": [
    "4 * 6\n",
    "\n",
    "print(4 / 3) #вещественное деление\n",
    "print(5 // 2) #целочисленное деление\n",
    "print(5 % 2) #остаток от деления\n",
    "\n",
    "print(11 % 3)"
   ]
  },
  {
   "cell_type": "code",
   "execution_count": 35,
   "id": "34def229",
   "metadata": {},
   "outputs": [
    {
     "data": {
      "text/plain": [
       "4"
      ]
     },
     "execution_count": 35,
     "metadata": {},
     "output_type": "execute_result"
    }
   ],
   "source": [
    "2 ** 2"
   ]
  },
  {
   "cell_type": "code",
   "execution_count": 40,
   "id": "20f490c4",
   "metadata": {},
   "outputs": [
    {
     "data": {
      "text/plain": [
       "0.5"
      ]
     },
     "execution_count": 40,
     "metadata": {},
     "output_type": "execute_result"
    }
   ],
   "source": [
    "0.5 "
   ]
  },
  {
   "cell_type": "code",
   "execution_count": 41,
   "id": "b7ae6693",
   "metadata": {},
   "outputs": [
    {
     "data": {
      "text/plain": [
       "(0, 5)"
      ]
     },
     "execution_count": 41,
     "metadata": {},
     "output_type": "execute_result"
    }
   ],
   "source": [
    "0,5"
   ]
  },
  {
   "cell_type": "code",
   "execution_count": 42,
   "id": "0c6b77eb",
   "metadata": {},
   "outputs": [
    {
     "ename": "ZeroDivisionError",
     "evalue": "division by zero",
     "output_type": "error",
     "traceback": [
      "\u001b[0;31m---------------------------------------------------------------------------\u001b[0m",
      "\u001b[0;31mZeroDivisionError\u001b[0m                         Traceback (most recent call last)",
      "\u001b[0;32m<ipython-input-42-e1965806ec03>\u001b[0m in \u001b[0;36m<module>\u001b[0;34m\u001b[0m\n\u001b[0;32m----> 1\u001b[0;31m \u001b[0;36m3\u001b[0m \u001b[0;34m/\u001b[0m \u001b[0;36m0\u001b[0m\u001b[0;34m\u001b[0m\u001b[0;34m\u001b[0m\u001b[0m\n\u001b[0m",
      "\u001b[0;31mZeroDivisionError\u001b[0m: division by zero"
     ]
    }
   ],
   "source": [
    "3 / 0"
   ]
  },
  {
   "cell_type": "code",
   "execution_count": 44,
   "id": "c9274b9e",
   "metadata": {},
   "outputs": [
    {
     "data": {
      "text/plain": [
       "'hello   world'"
      ]
     },
     "execution_count": 44,
     "metadata": {},
     "output_type": "execute_result"
    }
   ],
   "source": [
    "\"hello\" + '   world'"
   ]
  },
  {
   "cell_type": "code",
   "execution_count": 45,
   "id": "0a62b4f5",
   "metadata": {},
   "outputs": [
    {
     "data": {
      "text/plain": [
       "'hellohellohello'"
      ]
     },
     "execution_count": 45,
     "metadata": {},
     "output_type": "execute_result"
    }
   ],
   "source": [
    "\"hello\" * 3"
   ]
  },
  {
   "cell_type": "code",
   "execution_count": 52,
   "id": "52dedfc5",
   "metadata": {},
   "outputs": [
    {
     "name": "stdout",
     "output_type": "stream",
     "text": [
      "Длина строки: 13\n",
      "Hello, world!\n"
     ]
    }
   ],
   "source": [
    "print('Длина строки:', len(name)) #len - length\n",
    "print(name)"
   ]
  },
  {
   "cell_type": "code",
   "execution_count": 56,
   "id": "2f4f92f2",
   "metadata": {},
   "outputs": [
    {
     "data": {
      "text/plain": [
       "'!'"
      ]
     },
     "execution_count": 56,
     "metadata": {},
     "output_type": "execute_result"
    }
   ],
   "source": [
    "name[len(name)-1]"
   ]
  },
  {
   "cell_type": "code",
   "execution_count": 51,
   "id": "715cc415",
   "metadata": {},
   "outputs": [
    {
     "data": {
      "text/plain": [
       "4"
      ]
     },
     "execution_count": 51,
     "metadata": {},
     "output_type": "execute_result"
    }
   ],
   "source": [
    "len('132 ')"
   ]
  },
  {
   "cell_type": "code",
   "execution_count": 53,
   "id": "714964bf",
   "metadata": {},
   "outputs": [
    {
     "data": {
      "text/plain": [
       "'!'"
      ]
     },
     "execution_count": 53,
     "metadata": {},
     "output_type": "execute_result"
    }
   ],
   "source": [
    "'Hello, world!'[-1]"
   ]
  },
  {
   "cell_type": "code",
   "execution_count": 54,
   "id": "75aa2e4e",
   "metadata": {},
   "outputs": [
    {
     "data": {
      "text/plain": [
       "'d'"
      ]
     },
     "execution_count": 54,
     "metadata": {},
     "output_type": "execute_result"
    }
   ],
   "source": [
    "'Hello, world!'[-2]"
   ]
  },
  {
   "cell_type": "code",
   "execution_count": 57,
   "id": "42a9d9a6",
   "metadata": {},
   "outputs": [
    {
     "data": {
      "text/plain": [
       "-2"
      ]
     },
     "execution_count": 57,
     "metadata": {},
     "output_type": "execute_result"
    }
   ],
   "source": [
    "4 % -3"
   ]
  },
  {
   "cell_type": "code",
   "execution_count": 58,
   "id": "3db2b3ca",
   "metadata": {},
   "outputs": [
    {
     "data": {
      "text/plain": [
       "2.0"
      ]
     },
     "execution_count": 58,
     "metadata": {},
     "output_type": "execute_result"
    }
   ],
   "source": [
    "4 / 2"
   ]
  },
  {
   "cell_type": "code",
   "execution_count": 61,
   "id": "3b65aed4",
   "metadata": {},
   "outputs": [
    {
     "name": "stdout",
     "output_type": "stream",
     "text": [
      "[10]\n",
      "[10, 12]\n"
     ]
    }
   ],
   "source": [
    "a = [10]\n",
    "b = a\n",
    "b = a.copy()\n",
    "b.append(12)\n",
    "print(a)\n",
    "print(b)"
   ]
  },
  {
   "cell_type": "code",
   "execution_count": 62,
   "id": "254c4368",
   "metadata": {},
   "outputs": [
    {
     "name": "stdout",
     "output_type": "stream",
     "text": [
      "[10, 12]\n",
      "[10, 12]\n"
     ]
    }
   ],
   "source": [
    "a = [10]\n",
    "b = a\n",
    "b = a\n",
    "b.append(12)\n",
    "print(a)\n",
    "print(b)"
   ]
  },
  {
   "cell_type": "code",
   "execution_count": 64,
   "id": "a5ae364e",
   "metadata": {},
   "outputs": [
    {
     "name": "stdout",
     "output_type": "stream",
     "text": [
      "Введите Ваше имя: Максим\n"
     ]
    }
   ],
   "source": [
    "name = input('Введите Ваше имя: ')"
   ]
  },
  {
   "cell_type": "code",
   "execution_count": 65,
   "id": "43c5f8c8",
   "metadata": {},
   "outputs": [
    {
     "name": "stdout",
     "output_type": "stream",
     "text": [
      "Максим\n"
     ]
    }
   ],
   "source": [
    "print(name)"
   ]
  },
  {
   "cell_type": "code",
   "execution_count": 67,
   "id": "74e997b7",
   "metadata": {},
   "outputs": [
    {
     "name": "stdout",
     "output_type": "stream",
     "text": [
      "Привет, Максим\n"
     ]
    }
   ],
   "source": [
    "print('Привет,', name)"
   ]
  },
  {
   "cell_type": "code",
   "execution_count": 68,
   "id": "f7aed194",
   "metadata": {
    "scrolled": true
   },
   "outputs": [
    {
     "name": "stdout",
     "output_type": "stream",
     "text": [
      "Привет, Максим\n"
     ]
    }
   ],
   "source": [
    "print(f'Привет, {name}') #f-string = красивый вывод строки с переменными\n",
    "                                # в одном аргументе"
   ]
  },
  {
   "cell_type": "code",
   "execution_count": 2,
   "id": "10ebdf5d",
   "metadata": {},
   "outputs": [
    {
     "data": {
      "text/plain": [
       "'123'"
      ]
     },
     "execution_count": 2,
     "metadata": {},
     "output_type": "execute_result"
    }
   ],
   "source": [
    "str(123)"
   ]
  },
  {
   "cell_type": "code",
   "execution_count": 4,
   "id": "88974c7f",
   "metadata": {},
   "outputs": [
    {
     "data": {
      "text/plain": [
       "123"
      ]
     },
     "execution_count": 4,
     "metadata": {},
     "output_type": "execute_result"
    }
   ],
   "source": [
    "int('123  ')\n",
    "int"
   ]
  },
  {
   "cell_type": "code",
   "execution_count": null,
   "id": "2751401b",
   "metadata": {},
   "outputs": [],
   "source": [
    "number = int(input())\n",
    "\n",
    "#int(), float(), str()"
   ]
  }
 ],
 "metadata": {
  "kernelspec": {
   "display_name": "Python 3",
   "language": "python",
   "name": "python3"
  },
  "language_info": {
   "codemirror_mode": {
    "name": "ipython",
    "version": 3
   },
   "file_extension": ".py",
   "mimetype": "text/x-python",
   "name": "python",
   "nbconvert_exporter": "python",
   "pygments_lexer": "ipython3",
   "version": "3.8.5"
  }
 },
 "nbformat": 4,
 "nbformat_minor": 5
}
