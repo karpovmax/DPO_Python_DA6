{
 "cells": [
  {
   "cell_type": "code",
   "execution_count": null,
   "id": "3620ffe3",
   "metadata": {},
   "outputs": [],
   "source": [
    "# План проекта\n",
    "#1) Выбрать сайт (несколько сайтов) для скрейпинга\n",
    "#2) При помощи requets достучаться до сайта, забрать оттуда \"сырой\" html\n",
    "#3) Нужно написать парсер для прохода по гиперссылкам нес-их страниц сайта\n",
    "#4) Сохранить собранную инфу в \n",
    "#pd.DataFrame({'price' : price, 'title' : title, ...}) #7 коло\n",
    "# price = [], title = [], reviews = []"
   ]
  },
  {
   "cell_type": "code",
   "execution_count": null,
   "id": "8f549729",
   "metadata": {},
   "outputs": [],
   "source": [
    "# API - Application Programming Interface\n",
    "#сайт ВК, Youtube, Wikipedia, ..."
   ]
  },
  {
   "cell_type": "code",
   "execution_count": null,
   "id": "ba084de3",
   "metadata": {},
   "outputs": [],
   "source": []
  }
 ],
 "metadata": {
  "kernelspec": {
   "display_name": "Python 3",
   "language": "python",
   "name": "python3"
  },
  "language_info": {
   "codemirror_mode": {
    "name": "ipython",
    "version": 3
   },
   "file_extension": ".py",
   "mimetype": "text/x-python",
   "name": "python",
   "nbconvert_exporter": "python",
   "pygments_lexer": "ipython3",
   "version": "3.8.5"
  }
 },
 "nbformat": 4,
 "nbformat_minor": 5
}
