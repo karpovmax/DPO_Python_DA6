{
 "cells": [
  {
   "cell_type": "markdown",
   "metadata": {},
   "source": [
    "# API VK\n",
    "\n",
    "__API (Application Programming Interface__ — это уже готовый код, который можно всунуть в свой код! Многие сервисы, в том числе Google и Вконтакте, предоставляют свои уже готовые решения для вашей разработки.\n",
    "\n",
    "Примеры: \n",
    "\n",
    "* [Контактовский API](https://vk.com/dev/methods)\n",
    "* [API twitter](https://developer.twitter.com/en/docs.html) - nope\n",
    "* [API youtube](https://developers.google.com/youtube/v3/) \n",
    "* [API google maps](https://developers.google.com/maps/documentation/) \n",
    "* [Aviasales](https://www.aviasales.ru/API)\n",
    "* [Yandex Translate](https://yandex.ru/dev/translate/)\n",
    "\n",
    "Оно есть почти везде! На этом семинаре мы посмотрим API контакта."
   ]
  },
  {
   "cell_type": "markdown",
   "metadata": {},
   "source": [
    "## 3.1 API vk\n",
    "\n",
    "Зачем может понадобиться доступ к API контакта, думаю, объяснять не надо. Социальная сетка — это тонны различной полезной информации, которую можно заиспользовать для своих целей. [В документации](https://vk.com/dev/manuals) очень подробно описано как можно работать с API контакта и к чему это приводит. \n",
    "\n",
    "Но для начала к API нужно получить доступ. Для этого придётся пройти пару бюрократических процедур (о, боже, эти два предложения были так бюрократически сформулированы, что мне захотелось отстоять в очереди).\n",
    "\n",
    "Первая такая процедура заключается в создании своего приложения. Для этого переходим по [ссылке](http://vk.com/editapp?act=create) и проходимся по необходимым шагам:\n",
    "\n",
    "<img align=\"center\" src=\"https://raw.githubusercontent.com/hse-econ-data-science/eds_spring_2020/master/sem05_parsing/image/app_creation_1.png\" width=\"500\">\n",
    "\n",
    "После подтверждения своей личности по номеру телефона, попадаем на страницу свежесозданного приложения\n",
    "\n",
    "<img align=\"center\" src=\"https://raw.githubusercontent.com/hse-econ-data-science/eds_spring_2020/master/sem05_parsing/image/app_creation_2.png\" width=\"500\">\n",
    "\n",
    "Слева нам будем доступна вкладка с настройками, перейдя в неё мы увидим все необходимые нам для работы с приложением параметры:\n",
    "<img align=\"center\" src=\"https://raw.githubusercontent.com/hse-econ-data-science/eds_spring_2020/master/sem05_parsing/image/app_creation_3.png\" width=\"500\">\n",
    "\n",
    "Отсюда в качестве токена можно забрать сервисный ключ доступа. Для работы с частью методов API этого вполне достаточно (обычно в заголовке такого метода стоит соответствующая пометка). Иногда нужны дополнительные доступы. Для того, чтобы получить их, необходимо сделать ещё пару странных манипуляций:\n",
    "\n",
    "Переходим по ссылке вида (на месте звездочек должен стоять ID созданного вами приложения):\n",
    "\n",
    "> https://oauth.vk.com/authorize?client_id=**********&scope=8198&redirect_uri=https://oauth.vk.com/blank.html&display=page&v=5.16&response_type=token\n",
    "\n",
    "В итоге по этому запросу будет сформирована ссылка следующего вида:\n",
    "> https://oauth.vk.com/blank.html#access_token=25b636116ef40e0718fe4d9f382544fc28&expires_in=86400&user_id=*******\n",
    "\n",
    "Первый набор знаков — `access token`, т.е. маркер доступа. Вторая цифра (`expires_in=`) время работы маркера доступа в секундах (одни сутки). По истечению суток нужно будет получить новый маркер доступа. Последняя цифра (`user_id=`) ваш ID Вконтакте. Нам в дальнейшем понадобится маркер доступа. Для удобства сохраним его в отдельном файле или экспортируем в глобальную область видимости. В целях безопасности ваших данных не стоит нигде светить токенами и тем более выкладывать их в открытый доступ. __Так можно и аккаунта случайно лишиться.__ Берегите токен смолоду. \n",
    "\n",
    "Обратите внимание на ссылку, по которой мы делали запрос на предоставление токена. Внутри неё находится странный параметр `scope=8198.` Это мы просим доступ к конкретным разделам. Подробнее познакомиться с взаимно-однозначным соответствием между числами и правами можно [в документации.](https://vk.com/dev/permissions) Например, если мы хотим получить доступ к друзьям, фото и стенам, мы подставим в scope цифру 2+4++8192=8198."
   ]
  },
  {
   "cell_type": "code",
   "execution_count": 1,
   "metadata": {},
   "outputs": [],
   "source": [
    "import requests"
   ]
  },
  {
   "cell_type": "code",
   "execution_count": null,
   "metadata": {},
   "outputs": [],
   "source": [
    "https://oauth.vk.com/blank.html#access_token=vk1.a.vBFF_Ep-KNmXXMg-nQVc-UntI_znWlX82W1tlDMcv13gKQWlsph0NpYmzL_tH6JTgz8CN04UHEdb--CAp33A28YwRdJMvnR-Wu_NkKql-NQY4YyDobY-yEY_3FM8habxylWItAtra2DGdeyBO4PbxZUFo-7RtvNsIDwinkhZ_wzHqABUrHKqCTuYa4uFDtT9&expires_in=86400&user_id=3082394"
   ]
  },
  {
   "cell_type": "code",
   "execution_count": 2,
   "metadata": {},
   "outputs": [],
   "source": [
    "# мой номер странички\n",
    "myid = '3082394'  # вставить номер странички\n",
    "\n",
    "# версия используемого API\n",
    "version = '5.131' \n",
    "token = 'vk1.a.vBFF_Ep-KNmXXMg-nQVc-UntI_znWlX82W1tlDMcv13gKQWlsph0NpYmzL_tH6JTgz8CN04UHEdb--CAp33A28YwRdJMvnR-Wu_NkKql-NQY4YyDobY-yEY_3FM8habxylWItAtra2DGdeyBO4PbxZUFo-7RtvNsIDwinkhZ_wzHqABUrHKqCTuYa4uFDtT9'\n"
   ]
  },
  {
   "cell_type": "code",
   "execution_count": 3,
   "metadata": {},
   "outputs": [
    {
     "data": {
      "text/plain": [
       "{'response': [{'id': 3082394,\n",
       "   'first_name': 'Максим',\n",
       "   'last_name': 'Карпов',\n",
       "   'can_access_closed': True,\n",
       "   'is_closed': False}]}"
      ]
     },
     "execution_count": 3,
     "metadata": {},
     "output_type": "execute_result"
    }
   ],
   "source": [
    "requests.get(f'https://api.vk.com/method/users.get?user_id=3082394&v={version}&access_token={token}').json()"
   ]
  },
  {
   "cell_type": "markdown",
   "metadata": {},
   "source": [
    "Чтобы скачать что-то из контакта, надо сделать ссылку и сходить по ней пакетом `requests`. Ссылка должна будет включать в себя метод (что мы просим у вк) и параметры (насколько много и как именно). Мы будем просто заменять эти две штуки и выкачивать разные вещи. "
   ]
  },
  {
   "cell_type": "code",
   "execution_count": 4,
   "metadata": {},
   "outputs": [
    {
     "data": {
      "text/plain": [
       "{'response': [{'id': 3082394,\n",
       "   'first_name': 'Максим',\n",
       "   'last_name': 'Карпов',\n",
       "   'can_access_closed': True,\n",
       "   'is_closed': False}]}"
      ]
     },
     "execution_count": 4,
     "metadata": {},
     "output_type": "execute_result"
    }
   ],
   "source": [
    "method = 'users.get'\n",
    "parameters = 'user_ids=3082394'\n",
    "\n",
    "url = 'https://api.vk.com/method/' + method + '?' + parameters + '&v=' + version + '&access_token=' + token\n",
    "\n",
    "response = requests.get(url) \n",
    "response.json()"
   ]
  },
  {
   "cell_type": "markdown",
   "metadata": {},
   "source": [
    "В ответ на наш запрос vk выкидывает JSON с информацией. JSON очень похож на питонячие словарики. Смысл квадратных и фигурных скобок такой же. Правда, есть и отличия: например, в Python одинарные и двойные кавычки ничем не отличаются, а в JSON можно использовать только двойные. \n",
    "\n",
    "Мы видим, что полученный нами JSON представляет собой словарь, значения которого — строки или числа, а также списки или словари, значения которых в свою очередь также могут быть строками, числами, списками, словарями и т.д. То есть получается такая довольно сложная структура данных, из которой можно вытащить всё то, что нас интересует. "
   ]
  },
  {
   "cell_type": "code",
   "execution_count": 7,
   "metadata": {},
   "outputs": [
    {
     "data": {
      "text/plain": [
       "'Максим'"
      ]
     },
     "execution_count": 7,
     "metadata": {},
     "output_type": "execute_result"
    }
   ],
   "source": [
    "response.json()['response'][0]['first_name']"
   ]
  },
  {
   "cell_type": "markdown",
   "metadata": {},
   "source": [
    "[В документации](https://vk.com/dev/manuals) очень подробно описано какие есть методы и какие у них бывают параметры.  Давайте завернём код выше в функцию и попробуем что-нибудь скачать."
   ]
  },
  {
   "cell_type": "code",
   "execution_count": 9,
   "metadata": {},
   "outputs": [],
   "source": [
    "def vk_download(method, parameters):\n",
    "    \n",
    "    url = 'https://api.vk.com/method/' + method + '?' + parameters + '&access_token=' + token + '&v=' + version\n",
    "    response = requests.get(url) \n",
    "    infa = response.json()\n",
    "    return infa"
   ]
  },
  {
   "cell_type": "code",
   "execution_count": null,
   "metadata": {},
   "outputs": [],
   "source": [
    "#https://vk.com/cshse?z=photo-69306530_457242325%2Fwall-69306530_6941"
   ]
  },
  {
   "cell_type": "markdown",
   "metadata": {},
   "source": [
    "Например, все лайки с [хайер скул оф мемс.](https://vk.com/hsemem)\n",
    "Как найти адрес страницы [тут](https://vk.com/faq18062)"
   ]
  },
  {
   "cell_type": "code",
   "execution_count": 8,
   "metadata": {},
   "outputs": [],
   "source": [
    "group_id = '-69306530'"
   ]
  },
  {
   "cell_type": "code",
   "execution_count": 8,
   "metadata": {},
   "outputs": [],
   "source": [
    "group_id = '-139105204'  # взяли из ссылки на группу"
   ]
  },
  {
   "cell_type": "code",
   "execution_count": 35,
   "metadata": {},
   "outputs": [],
   "source": [
    "wall = vk_download('wall.get', 'owner_id={}&count=100'.format(group_id))\n",
    "wall = wall['response']"
   ]
  },
  {
   "cell_type": "code",
   "execution_count": 41,
   "metadata": {},
   "outputs": [
    {
     "data": {
      "text/plain": [
       "100"
      ]
     },
     "execution_count": 41,
     "metadata": {},
     "output_type": "execute_result"
    }
   ],
   "source": [
    "len(wall['items'])"
   ]
  },
  {
   "cell_type": "code",
   "execution_count": 37,
   "metadata": {},
   "outputs": [
    {
     "data": {
      "text/plain": [
       "{'id': 6928,\n",
       " 'from_id': -69306530,\n",
       " 'owner_id': -69306530,\n",
       " 'date': 1655654160,\n",
       " 'marked_as_ads': 0,\n",
       " 'is_favorite': False,\n",
       " 'post_type': 'post',\n",
       " 'text': 'Пришло время выложить последнее видео, записанное во время нашей международной зимней школы по программной инженерии (International Winter School on Software Engineering) 🙂\\n\\n🗣Спикер: Алексей Лисица, lecturer in Computer Science, University of Liverpool\\n💬Тема: Abstract State Machines: a modelling method for complex systems\\n\\nhttps://www.youtube.com/watch?v=2PqKBD0yUCc',\n",
       " 'attachments': [{'type': 'video',\n",
       "   'video': {'access_key': 'ecc31cf656c3e471a0',\n",
       "    'can_comment': 1,\n",
       "    'can_like': 1,\n",
       "    'can_repost': 1,\n",
       "    'can_subscribe': 1,\n",
       "    'can_add_to_faves': 1,\n",
       "    'can_add': 1,\n",
       "    'comments': 0,\n",
       "    'date': 1655650221,\n",
       "    'description': 'Day 4 of the International Winter School on Software Engineering, 14-18 February 2022, Faculty of Computer Science, HSE University.\\n\\nSpeaker: Alexei Lisitsa, Lecturer in Computer Science, University of Liverpool.\\n\\n17 February 2022\\n\\nInternational Winter School on Software Engineering: https://cs.hse.ru/wsse\\n\\nFaculty of Computer Science: https://cs.hse.ru/en/\\nFollow us: https://www.facebook.com/hsefcs; https://twitter.com/CS_HSE',\n",
       "    'duration': 5524,\n",
       "    'image': [{'url': 'https://sun1-55.userapi.com/e2PWkU_e90BEzGuUk2Xy3vce7IoUaaEVJgthgg/6Xyqi4QBJRk.jpg',\n",
       "      'width': 130,\n",
       "      'height': 96,\n",
       "      'with_padding': 1},\n",
       "     {'url': 'https://sun1-17.userapi.com/8j5UgLM1X9vHOQukd7v6DsUKNKdJZEqNqZsA6A/QhxzxsaMYoI.jpg',\n",
       "      'width': 160,\n",
       "      'height': 120,\n",
       "      'with_padding': 1},\n",
       "     {'url': 'https://sun1-28.userapi.com/2dNdjT-PqFNlH5zFcZ1LpmyPm-hS4W_hvqUg1w/HOSJ7kDV3s8.jpg',\n",
       "      'width': 320,\n",
       "      'height': 240,\n",
       "      'with_padding': 1},\n",
       "     {'url': 'https://sun1-27.userapi.com/L2QxjTFqdy8HtoxGYOa3B6p0t56x-a23yAmQHg/mPje1fhioWw.jpg',\n",
       "      'width': 800,\n",
       "      'height': 450,\n",
       "      'with_padding': 1}],\n",
       "    'id': 456239535,\n",
       "    'owner_id': -69306530,\n",
       "    'title': 'Abstract State Machines: a modelling method for complex systems, Alexei Lisitsa',\n",
       "    'is_favorite': False,\n",
       "    'track_code': 'video_8daf7a54E0veg511d6cA9jDwkXE7l0-mV8grRyZhiEYBVsBr_-ghbsaGlBlxqAf9AK-lRA2lfJ9i-x5DUQA',\n",
       "    'type': 'video',\n",
       "    'views': 8,\n",
       "    'local_views': 8,\n",
       "    'platform': 'YouTube'}}],\n",
       " 'post_source': {'type': 'vk'},\n",
       " 'comments': {'can_post': 1, 'count': 0, 'groups_can_post': True},\n",
       " 'likes': {'can_like': 1, 'count': 7, 'user_likes': 0, 'can_publish': 1},\n",
       " 'reposts': {'count': 3, 'user_reposted': 0},\n",
       " 'views': {'count': 1399},\n",
       " 'donut': {'is_donut': False},\n",
       " 'short_text_rate': 0.8,\n",
       " 'hash': 'OgyGuo904n_bC6hiX7udVCHi9A'}"
      ]
     },
     "execution_count": 37,
     "metadata": {},
     "output_type": "execute_result"
    }
   ],
   "source": [
    "wall['items'][5]"
   ]
  },
  {
   "cell_type": "code",
   "execution_count": 14,
   "metadata": {},
   "outputs": [],
   "source": [
    "post = vk_download('wall.getComments', 'owner_id={}&post_id=6928'.format(group_id))"
   ]
  },
  {
   "cell_type": "code",
   "execution_count": 15,
   "metadata": {},
   "outputs": [
    {
     "data": {
      "text/plain": [
       "{'response': {'count': 0,\n",
       "  'items': [],\n",
       "  'current_level_count': 0,\n",
       "  'can_post': True,\n",
       "  'show_reply_button': True,\n",
       "  'groups_can_post': True}}"
      ]
     },
     "execution_count": 15,
     "metadata": {},
     "output_type": "execute_result"
    }
   ],
   "source": [
    "post"
   ]
  },
  {
   "cell_type": "code",
   "execution_count": 16,
   "metadata": {},
   "outputs": [
    {
     "data": {
      "text/plain": [
       "{'count': 0,\n",
       " 'items': [],\n",
       " 'current_level_count': 0,\n",
       " 'can_post': True,\n",
       " 'show_reply_button': True,\n",
       " 'groups_can_post': True}"
      ]
     },
     "execution_count": 16,
     "metadata": {},
     "output_type": "execute_result"
    }
   ],
   "source": [
    "post['response']"
   ]
  },
  {
   "cell_type": "code",
   "execution_count": 17,
   "metadata": {},
   "outputs": [
    {
     "data": {
      "text/plain": [
       "{'response': {'count': 0,\n",
       "  'items': [],\n",
       "  'current_level_count': 0,\n",
       "  'can_post': True,\n",
       "  'show_reply_button': True,\n",
       "  'groups_can_post': True}}"
      ]
     },
     "execution_count": 17,
     "metadata": {},
     "output_type": "execute_result"
    }
   ],
   "source": [
    "post"
   ]
  },
  {
   "cell_type": "code",
   "execution_count": 18,
   "metadata": {},
   "outputs": [
    {
     "data": {
      "text/plain": [
       "{'id': 6926,\n",
       " 'from_id': -69306530,\n",
       " 'owner_id': -69306530,\n",
       " 'date': 1655630100,\n",
       " 'marked_as_ads': 0,\n",
       " 'is_favorite': False,\n",
       " 'post_type': 'post',\n",
       " 'text': 'Сегодня вновь делимся с вами рубрикой «2 абзаца», где наши эксперты кратко и емко отвечают на казалось бы простые вопросы по своей теме. Наш сегодняшний герой — Петр Лукьянченко, старший преподаватель департамента больших данных и информационного поиска.\\n\\n❓Можно ли придумать алгоритм, который победит биржу? \\n \\n❗Во всех сферах своей деятельности люди стремятся придумать самое лучшее — самое быстрое, самое эффективное, самое надежное. Поэтому когда математики, data scientist’ы и программисты начинают работать на финансовых рынках или торговать на биржевых рынках, у них появляется желание создать самый эффективный алгоритм, который принесет наибольшую доходность — «победит» биржу. Кажется, что можно сравнивать, какой алгоритм позволил заработать больше по сравнению, например, с доходностью самих инструментов. Однако это неправильно — торгуя, любой алгоритм берет на себя самые разные риски. Таким образом, разработка торгового алгоритма — это всегда компромисс между риском, который готов взять на себя участник торгов и доходности, которую он хотел бы получить. \\n \\nБиржа — это совокупность тех, кто хочет что-то купить и тех, кто хочет это продать. Сама она не торгует, а предоставляет возможность торговать. Когда мы говорим «сравняться с доходностью биржи», мы на самом деле предполагаем некоего абстрактного участника торгов, который покупает в начале дня и продает в конце по биржевой цене. При такой стратегии (она называется buy and hold) у участников совсем другой риск, нежели в стратегиях, которые придумывают современные data scientist’ы, специалисты по машинному обучению и кванты. Не нужно «побеждать» биржу, ведь она не враг и не соперник. Мы стремимся разработать такой алгоритм, который при минимальном риске обеспечивает максимальную доходность; этот процесс будет длиться еще очень долго. Радует то, что еще никто не придумал самый безрисковый и самый прибыльный алгоритм. \\n \\nКстати, подписывайтесь на телеграм-канал Петра Лукьянченко: https://t.me/datastreet',\n",
       " 'attachments': [{'type': 'photo',\n",
       "   'photo': {'album_id': -7,\n",
       "    'date': 1655586180,\n",
       "    'id': 457242320,\n",
       "    'owner_id': -69306530,\n",
       "    'access_key': '4f533dd60dd8071fe3',\n",
       "    'post_id': 6925,\n",
       "    'sizes': [{'height': 42,\n",
       "      'url': 'https://sun1-20.userapi.com/impf/nh_6xDSOMnOlXFUsOO6UDVGGHMcaTobFVLBdTg/pIZvFEHYAec.jpg?size=75x42&quality=95&sign=51d8c64da2d4fe85f3cb5c42feb50e78&c_uniq_tag=hZK_9dbxPJ8sxmtfLTU_ZhD3k8iC0EV5csQJWh2oEUg&type=album',\n",
       "      'type': 's',\n",
       "      'width': 75},\n",
       "     {'height': 72,\n",
       "      'url': 'https://sun1-20.userapi.com/impf/nh_6xDSOMnOlXFUsOO6UDVGGHMcaTobFVLBdTg/pIZvFEHYAec.jpg?size=130x72&quality=95&sign=bbf088482c22484461aa3319d8d3c9cb&c_uniq_tag=rCG94YdEm5Z8NkimlJ80Wes7Ryp3L0btmTe1_5X3y-w&type=album',\n",
       "      'type': 'm',\n",
       "      'width': 130},\n",
       "     {'height': 337,\n",
       "      'url': 'https://sun1-20.userapi.com/impf/nh_6xDSOMnOlXFUsOO6UDVGGHMcaTobFVLBdTg/pIZvFEHYAec.jpg?size=604x337&quality=95&sign=68075c5686058d84ffac9a6a6a21a2f0&c_uniq_tag=duob9XdWmVDdnT2vsIqDF5rcBqbP2ORruQ5HNy9OSW4&type=album',\n",
       "      'type': 'x',\n",
       "      'width': 604},\n",
       "     {'height': 450,\n",
       "      'url': 'https://sun1-20.userapi.com/impf/nh_6xDSOMnOlXFUsOO6UDVGGHMcaTobFVLBdTg/pIZvFEHYAec.jpg?size=807x450&quality=95&sign=7dc0731e71d821497de2d3fb43e892e2&c_uniq_tag=ITV2B7L4UnP13KbDrhJtPbIzVpbeVjzQ-DTaZtgmDEI&type=album',\n",
       "      'type': 'y',\n",
       "      'width': 807},\n",
       "     {'height': 501,\n",
       "      'url': 'https://sun1-20.userapi.com/impf/nh_6xDSOMnOlXFUsOO6UDVGGHMcaTobFVLBdTg/pIZvFEHYAec.jpg?size=899x501&quality=95&sign=7536bbd5675ebcb5392d8410cbf3c538&c_uniq_tag=HnIij-55YXFYZqAD6_IHPN6p0E0iJB5t0Raf07VfOgU&type=album',\n",
       "      'type': 'z',\n",
       "      'width': 899},\n",
       "     {'height': 87,\n",
       "      'url': 'https://sun1-20.userapi.com/impf/nh_6xDSOMnOlXFUsOO6UDVGGHMcaTobFVLBdTg/pIZvFEHYAec.jpg?size=130x87&quality=95&crop=75,0,749,501&sign=533b72009fd8566e0d07f7184ea10eba&c_uniq_tag=7hUZLGkMzHIJCfljambi8V6uK2npZwmXZhV-flkU0HA&type=album',\n",
       "      'type': 'o',\n",
       "      'width': 130},\n",
       "     {'height': 133,\n",
       "      'url': 'https://sun1-20.userapi.com/impf/nh_6xDSOMnOlXFUsOO6UDVGGHMcaTobFVLBdTg/pIZvFEHYAec.jpg?size=200x133&quality=95&crop=73,0,753,501&sign=66a4a87fd64f97802f507f97c3af1df6&c_uniq_tag=VlLjhgBEBl9OPdcmgIwHqPBT7utkSCFLqQhaHCD1hfY&type=album',\n",
       "      'type': 'p',\n",
       "      'width': 200},\n",
       "     {'height': 213,\n",
       "      'url': 'https://sun1-20.userapi.com/impf/nh_6xDSOMnOlXFUsOO6UDVGGHMcaTobFVLBdTg/pIZvFEHYAec.jpg?size=320x213&quality=95&crop=73,0,753,501&sign=67be1baa8c7d67ab8e2e74f7c51f3604&c_uniq_tag=iLfQs7_wcfYbnAtfXpvyHX0IhGmCEbALnnL6n-NvqjY&type=album',\n",
       "      'type': 'q',\n",
       "      'width': 320},\n",
       "     {'height': 340,\n",
       "      'url': 'https://sun1-20.userapi.com/impf/nh_6xDSOMnOlXFUsOO6UDVGGHMcaTobFVLBdTg/pIZvFEHYAec.jpg?size=510x340&quality=95&crop=74,0,751,501&sign=3f9d6976771134932f64b44f99dcfffa&c_uniq_tag=GJUz3puasDK_eaSijDK-O-eSwicDyUgNLs4Jr8WSak0&type=album',\n",
       "      'type': 'r',\n",
       "      'width': 510}],\n",
       "    'text': '',\n",
       "    'user_id': 100,\n",
       "    'has_tags': False}}],\n",
       " 'post_source': {'platform': 'android', 'type': 'api'},\n",
       " 'comments': {'can_post': 1, 'count': 0, 'groups_can_post': True},\n",
       " 'likes': {'can_like': 1, 'count': 4, 'user_likes': 0, 'can_publish': 1},\n",
       " 'reposts': {'count': 3, 'user_reposted': 0},\n",
       " 'views': {'count': 2794},\n",
       " 'donut': {'is_donut': False},\n",
       " 'short_text_rate': 0.8,\n",
       " 'hash': 'eEGSZ-3LdBUBrGpZHdu1D2yKNg'}"
      ]
     },
     "execution_count": 18,
     "metadata": {},
     "output_type": "execute_result"
    }
   ],
   "source": [
    "wall['items'][6]"
   ]
  },
  {
   "cell_type": "code",
   "execution_count": 19,
   "metadata": {},
   "outputs": [
    {
     "data": {
      "text/plain": [
       "{'id': 6926,\n",
       " 'from_id': -69306530,\n",
       " 'owner_id': -69306530,\n",
       " 'date': 1655630100,\n",
       " 'marked_as_ads': 0,\n",
       " 'is_favorite': False,\n",
       " 'post_type': 'post',\n",
       " 'text': 'Сегодня вновь делимся с вами рубрикой «2 абзаца», где наши эксперты кратко и емко отвечают на казалось бы простые вопросы по своей теме. Наш сегодняшний герой — Петр Лукьянченко, старший преподаватель департамента больших данных и информационного поиска.\\n\\n❓Можно ли придумать алгоритм, который победит биржу? \\n \\n❗Во всех сферах своей деятельности люди стремятся придумать самое лучшее — самое быстрое, самое эффективное, самое надежное. Поэтому когда математики, data scientist’ы и программисты начинают работать на финансовых рынках или торговать на биржевых рынках, у них появляется желание создать самый эффективный алгоритм, который принесет наибольшую доходность — «победит» биржу. Кажется, что можно сравнивать, какой алгоритм позволил заработать больше по сравнению, например, с доходностью самих инструментов. Однако это неправильно — торгуя, любой алгоритм берет на себя самые разные риски. Таким образом, разработка торгового алгоритма — это всегда компромисс между риском, который готов взять на себя участник торгов и доходности, которую он хотел бы получить. \\n \\nБиржа — это совокупность тех, кто хочет что-то купить и тех, кто хочет это продать. Сама она не торгует, а предоставляет возможность торговать. Когда мы говорим «сравняться с доходностью биржи», мы на самом деле предполагаем некоего абстрактного участника торгов, который покупает в начале дня и продает в конце по биржевой цене. При такой стратегии (она называется buy and hold) у участников совсем другой риск, нежели в стратегиях, которые придумывают современные data scientist’ы, специалисты по машинному обучению и кванты. Не нужно «побеждать» биржу, ведь она не враг и не соперник. Мы стремимся разработать такой алгоритм, который при минимальном риске обеспечивает максимальную доходность; этот процесс будет длиться еще очень долго. Радует то, что еще никто не придумал самый безрисковый и самый прибыльный алгоритм. \\n \\nКстати, подписывайтесь на телеграм-канал Петра Лукьянченко: https://t.me/datastreet',\n",
       " 'attachments': [{'type': 'photo',\n",
       "   'photo': {'album_id': -7,\n",
       "    'date': 1655586180,\n",
       "    'id': 457242320,\n",
       "    'owner_id': -69306530,\n",
       "    'access_key': '4f533dd60dd8071fe3',\n",
       "    'post_id': 6925,\n",
       "    'sizes': [{'height': 42,\n",
       "      'url': 'https://sun1-20.userapi.com/impf/nh_6xDSOMnOlXFUsOO6UDVGGHMcaTobFVLBdTg/pIZvFEHYAec.jpg?size=75x42&quality=95&sign=51d8c64da2d4fe85f3cb5c42feb50e78&c_uniq_tag=hZK_9dbxPJ8sxmtfLTU_ZhD3k8iC0EV5csQJWh2oEUg&type=album',\n",
       "      'type': 's',\n",
       "      'width': 75},\n",
       "     {'height': 72,\n",
       "      'url': 'https://sun1-20.userapi.com/impf/nh_6xDSOMnOlXFUsOO6UDVGGHMcaTobFVLBdTg/pIZvFEHYAec.jpg?size=130x72&quality=95&sign=bbf088482c22484461aa3319d8d3c9cb&c_uniq_tag=rCG94YdEm5Z8NkimlJ80Wes7Ryp3L0btmTe1_5X3y-w&type=album',\n",
       "      'type': 'm',\n",
       "      'width': 130},\n",
       "     {'height': 337,\n",
       "      'url': 'https://sun1-20.userapi.com/impf/nh_6xDSOMnOlXFUsOO6UDVGGHMcaTobFVLBdTg/pIZvFEHYAec.jpg?size=604x337&quality=95&sign=68075c5686058d84ffac9a6a6a21a2f0&c_uniq_tag=duob9XdWmVDdnT2vsIqDF5rcBqbP2ORruQ5HNy9OSW4&type=album',\n",
       "      'type': 'x',\n",
       "      'width': 604},\n",
       "     {'height': 450,\n",
       "      'url': 'https://sun1-20.userapi.com/impf/nh_6xDSOMnOlXFUsOO6UDVGGHMcaTobFVLBdTg/pIZvFEHYAec.jpg?size=807x450&quality=95&sign=7dc0731e71d821497de2d3fb43e892e2&c_uniq_tag=ITV2B7L4UnP13KbDrhJtPbIzVpbeVjzQ-DTaZtgmDEI&type=album',\n",
       "      'type': 'y',\n",
       "      'width': 807},\n",
       "     {'height': 501,\n",
       "      'url': 'https://sun1-20.userapi.com/impf/nh_6xDSOMnOlXFUsOO6UDVGGHMcaTobFVLBdTg/pIZvFEHYAec.jpg?size=899x501&quality=95&sign=7536bbd5675ebcb5392d8410cbf3c538&c_uniq_tag=HnIij-55YXFYZqAD6_IHPN6p0E0iJB5t0Raf07VfOgU&type=album',\n",
       "      'type': 'z',\n",
       "      'width': 899},\n",
       "     {'height': 87,\n",
       "      'url': 'https://sun1-20.userapi.com/impf/nh_6xDSOMnOlXFUsOO6UDVGGHMcaTobFVLBdTg/pIZvFEHYAec.jpg?size=130x87&quality=95&crop=75,0,749,501&sign=533b72009fd8566e0d07f7184ea10eba&c_uniq_tag=7hUZLGkMzHIJCfljambi8V6uK2npZwmXZhV-flkU0HA&type=album',\n",
       "      'type': 'o',\n",
       "      'width': 130},\n",
       "     {'height': 133,\n",
       "      'url': 'https://sun1-20.userapi.com/impf/nh_6xDSOMnOlXFUsOO6UDVGGHMcaTobFVLBdTg/pIZvFEHYAec.jpg?size=200x133&quality=95&crop=73,0,753,501&sign=66a4a87fd64f97802f507f97c3af1df6&c_uniq_tag=VlLjhgBEBl9OPdcmgIwHqPBT7utkSCFLqQhaHCD1hfY&type=album',\n",
       "      'type': 'p',\n",
       "      'width': 200},\n",
       "     {'height': 213,\n",
       "      'url': 'https://sun1-20.userapi.com/impf/nh_6xDSOMnOlXFUsOO6UDVGGHMcaTobFVLBdTg/pIZvFEHYAec.jpg?size=320x213&quality=95&crop=73,0,753,501&sign=67be1baa8c7d67ab8e2e74f7c51f3604&c_uniq_tag=iLfQs7_wcfYbnAtfXpvyHX0IhGmCEbALnnL6n-NvqjY&type=album',\n",
       "      'type': 'q',\n",
       "      'width': 320},\n",
       "     {'height': 340,\n",
       "      'url': 'https://sun1-20.userapi.com/impf/nh_6xDSOMnOlXFUsOO6UDVGGHMcaTobFVLBdTg/pIZvFEHYAec.jpg?size=510x340&quality=95&crop=74,0,751,501&sign=3f9d6976771134932f64b44f99dcfffa&c_uniq_tag=GJUz3puasDK_eaSijDK-O-eSwicDyUgNLs4Jr8WSak0&type=album',\n",
       "      'type': 'r',\n",
       "      'width': 510}],\n",
       "    'text': '',\n",
       "    'user_id': 100,\n",
       "    'has_tags': False}}],\n",
       " 'post_source': {'platform': 'android', 'type': 'api'},\n",
       " 'comments': {'can_post': 1, 'count': 0, 'groups_can_post': True},\n",
       " 'likes': {'can_like': 1, 'count': 4, 'user_likes': 0, 'can_publish': 1},\n",
       " 'reposts': {'count': 3, 'user_reposted': 0},\n",
       " 'views': {'count': 2794},\n",
       " 'donut': {'is_donut': False},\n",
       " 'short_text_rate': 0.8,\n",
       " 'hash': 'eEGSZ-3LdBUBrGpZHdu1D2yKNg'}"
      ]
     },
     "execution_count": 19,
     "metadata": {},
     "output_type": "execute_result"
    }
   ],
   "source": [
    "wall['items'][6]"
   ]
  },
  {
   "cell_type": "code",
   "execution_count": 20,
   "metadata": {
    "scrolled": true
   },
   "outputs": [
    {
     "data": {
      "text/plain": [
       "dict_keys(['id', 'from_id', 'owner_id', 'date', 'marked_as_ads', 'is_favorite', 'post_type', 'text', 'attachments', 'post_source', 'comments', 'likes', 'reposts', 'views', 'donut', 'short_text_rate', 'carousel_offset', 'hash'])"
      ]
     },
     "execution_count": 20,
     "metadata": {},
     "output_type": "execute_result"
    }
   ],
   "source": [
    "wall['items'][0].keys()"
   ]
  },
  {
   "cell_type": "code",
   "execution_count": 22,
   "metadata": {},
   "outputs": [
    {
     "data": {
      "text/plain": [
       "-69306530"
      ]
     },
     "execution_count": 22,
     "metadata": {},
     "output_type": "execute_result"
    }
   ],
   "source": [
    "wall['items'][0]['from_id']"
   ]
  },
  {
   "cell_type": "code",
   "execution_count": 23,
   "metadata": {},
   "outputs": [
    {
     "data": {
      "text/plain": [
       "5"
      ]
     },
     "execution_count": 23,
     "metadata": {},
     "output_type": "execute_result"
    }
   ],
   "source": [
    "wall['items'][0]['likes']['count']"
   ]
  },
  {
   "cell_type": "code",
   "execution_count": 24,
   "metadata": {},
   "outputs": [
    {
     "data": {
      "text/plain": [
       "[5, 2, 8, 18, 6, 7, 4, 8, 24, 12]"
      ]
     },
     "execution_count": 24,
     "metadata": {},
     "output_type": "execute_result"
    }
   ],
   "source": [
    "likes = [item['likes']['count'] for item in wall['items']]\n",
    "likes[:10]"
   ]
  },
  {
   "cell_type": "markdown",
   "metadata": {},
   "source": [
    "За один запрос скачалось всего-лишь $100$ постов с лайками. В паблике их целых"
   ]
  },
  {
   "cell_type": "code",
   "execution_count": 25,
   "metadata": {},
   "outputs": [
    {
     "data": {
      "text/plain": [
       "3293"
      ]
     },
     "execution_count": 25,
     "metadata": {},
     "output_type": "execute_result"
    }
   ],
   "source": [
    "wall['count']"
   ]
  },
  {
   "cell_type": "markdown",
   "metadata": {},
   "source": [
    "[Документация](https://vk.com/dev/manuals) говорит, что есть параметр `offset`, с помощью которого можно указать какие именно посты из группы нужно скачать. Например, если мы укажем `offset = 100`, скачается вторая сотня. Наше дело за малым: написать цикл. "
   ]
  },
  {
   "cell_type": "code",
   "execution_count": 26,
   "metadata": {},
   "outputs": [],
   "source": [
    "likes = []\n",
    "\n",
    "from tqdm import tqdm"
   ]
  },
  {
   "cell_type": "code",
   "execution_count": 27,
   "metadata": {},
   "outputs": [
    {
     "name": "stderr",
     "output_type": "stream",
     "text": [
      "100%|██████████| 48/48 [00:45<00:00,  1.05it/s]\n"
     ]
    }
   ],
   "source": [
    "import time\n",
    "\n",
    "likes = [ ] # сюда буду сохранять лайки\n",
    "\n",
    "for offset in tqdm(range(0, 4800, 100)):\n",
    "    \n",
    "    time.sleep(0.4) # вк согласен работать 3 раза в секунду, \n",
    "                    # между запросами python спит 0.4 секунды\n",
    "    \n",
    "    wall = vk_download('wall.get', 'owner_id={}&count=100&offset={}'.format(group_id, offset))\n",
    "    \n",
    "    likes.extend([item['likes']['count'] for item in wall['response']['items']])"
   ]
  },
  {
   "cell_type": "markdown",
   "metadata": {},
   "source": [
    "Лайки в наших руках. Можем даже посмотреть на их распределение и попробовать что-то с ними сделать. "
   ]
  },
  {
   "cell_type": "code",
   "execution_count": 28,
   "metadata": {},
   "outputs": [
    {
     "data": {
      "text/plain": [
       "3293"
      ]
     },
     "execution_count": 28,
     "metadata": {},
     "output_type": "execute_result"
    }
   ],
   "source": [
    "len(likes)"
   ]
  },
  {
   "cell_type": "code",
   "execution_count": 29,
   "metadata": {},
   "outputs": [
    {
     "data": {
      "image/png": "[encoded data removed]",
      "text/plain": [
       "<Figure size 432x288 with 1 Axes>"
      ]
     },
     "metadata": {
      "needs_background": "light"
     },
     "output_type": "display_data"
    }
   ],
   "source": [
    "import matplotlib.pyplot as plt \n",
    "\n",
    "plt.hist(likes);"
   ]
  },
  {
   "cell_type": "markdown",
   "metadata": {},
   "source": [
    "В принципе похожим образом можно скачать что угодно."
   ]
  },
  {
   "cell_type": "code",
   "execution_count": 33,
   "metadata": {},
   "outputs": [
    {
     "ename": "KeyError",
     "evalue": "'items'",
     "output_type": "error",
     "traceback": [
      "\u001b[0;31m---------------------------------------------------------------------------\u001b[0m",
      "\u001b[0;31mKeyError\u001b[0m                                  Traceback (most recent call last)",
      "\u001b[0;32m<ipython-input-33-3a715944c7a4>\u001b[0m in \u001b[0;36m<module>\u001b[0;34m\u001b[0m\n\u001b[0;32m----> 1\u001b[0;31m \u001b[0mwall\u001b[0m\u001b[0;34m[\u001b[0m\u001b[0;34m'items'\u001b[0m\u001b[0;34m]\u001b[0m\u001b[0;34m[\u001b[0m\u001b[0;36m0\u001b[0m\u001b[0;34m]\u001b[0m\u001b[0;34m\u001b[0m\u001b[0;34m\u001b[0m\u001b[0m\n\u001b[0m",
      "\u001b[0;31mKeyError\u001b[0m: 'items'"
     ]
    }
   ],
   "source": [
    "wall['items'][0]"
   ]
  },
  {
   "cell_type": "code",
   "execution_count": 44,
   "metadata": {},
   "outputs": [
    {
     "data": {
      "text/plain": [
       "'В июне делегация Клуба предпринимателей ФКН и МИЭМ НИУ ВШЭ приехала в столицу Казахстана Нур-Султан, чтобы представить студенческие стартапы ИТ-сообществу. Поездка была организована в рамках программы по развитию предпринимательства среди студентов и аспирантов факультета компьютерных наук Высшей школы экономики.\\n\\nИз более чем 40 студенческих IT-проектов коллеги из АО «Астана Innovations» выбрали и пригласили два стартапа на очные презентации в Нур-Султане. Этими двумя проектами стали GM (Богдан Чечин, 2 курс ПМИ) и AI Diagnostic (Василий Вьялков 3 курс ПМИ и Кирилл Лопатин 4 курс ПМ МИЭМ).\\n\\nВо время поездки делегация Вышки познакомилась с IT-сообществом Нур-Султана и обсудила внедрение студенческих стартапов в IT-решения города.\\n\\nПодробности по ссылке https://www.hse.ru/news/life/663104533.html'"
      ]
     },
     "execution_count": 44,
     "metadata": {},
     "output_type": "execute_result"
    }
   ],
   "source": [
    "wall['items'][0]['text']"
   ]
  },
  {
   "cell_type": "code",
   "execution_count": 71,
   "metadata": {},
   "outputs": [
    {
     "data": {
      "text/plain": [
       "5"
      ]
     },
     "execution_count": 71,
     "metadata": {},
     "output_type": "execute_result"
    }
   ],
   "source": [
    "wall['items'][0]['likes']['count']"
   ]
  },
  {
   "cell_type": "code",
   "execution_count": 76,
   "metadata": {},
   "outputs": [],
   "source": [
    "text = []\n",
    "for i in wall['items']:\n",
    "    text.append(i['text'])"
   ]
  },
  {
   "cell_type": "code",
   "execution_count": 77,
   "metadata": {},
   "outputs": [],
   "source": [
    "likes = []\n",
    "for i in wall['items']:\n",
    "    likes.append(i['likes']['count'])"
   ]
  },
  {
   "cell_type": "code",
   "execution_count": 78,
   "metadata": {},
   "outputs": [
    {
     "data": {
      "text/plain": [
       "100"
      ]
     },
     "execution_count": 78,
     "metadata": {},
     "output_type": "execute_result"
    }
   ],
   "source": [
    "len(text)"
   ]
  },
  {
   "cell_type": "code",
   "execution_count": 79,
   "metadata": {},
   "outputs": [
    {
     "data": {
      "text/plain": [
       "100"
      ]
     },
     "execution_count": 79,
     "metadata": {},
     "output_type": "execute_result"
    }
   ],
   "source": [
    "len(likes)"
   ]
  },
  {
   "cell_type": "code",
   "execution_count": 80,
   "metadata": {},
   "outputs": [],
   "source": [
    "import pandas as pd"
   ]
  },
  {
   "cell_type": "code",
   "execution_count": 81,
   "metadata": {},
   "outputs": [],
   "source": [
    "data = pd.DataFrame({'text' : text, 'likes' : likes})"
   ]
  },
  {
   "cell_type": "code",
   "execution_count": 54,
   "metadata": {},
   "outputs": [],
   "source": [
    "data.columns = ['text']"
   ]
  },
  {
   "cell_type": "code",
   "execution_count": 82,
   "metadata": {},
   "outputs": [
    {
     "data": {
      "text/html": [
       "<div>\n",
       "<style scoped>\n",
       "    .dataframe tbody tr th:only-of-type {\n",
       "        vertical-align: middle;\n",
       "    }\n",
       "\n",
       "    .dataframe tbody tr th {\n",
       "        vertical-align: top;\n",
       "    }\n",
       "\n",
       "    .dataframe thead th {\n",
       "        text-align: right;\n",
       "    }\n",
       "</style>\n",
       "<table border=\"1\" class=\"dataframe\">\n",
       "  <thead>\n",
       "    <tr style=\"text-align: right;\">\n",
       "      <th></th>\n",
       "      <th>text</th>\n",
       "      <th>likes</th>\n",
       "    </tr>\n",
       "  </thead>\n",
       "  <tbody>\n",
       "    <tr>\n",
       "      <th>0</th>\n",
       "      <td>В июне делегация Клуба предпринимателей ФКН и ...</td>\n",
       "      <td>5</td>\n",
       "    </tr>\n",
       "    <tr>\n",
       "      <th>1</th>\n",
       "      <td>Всем, кто поступает в магистратуру! Сегодня ст...</td>\n",
       "      <td>3</td>\n",
       "    </tr>\n",
       "    <tr>\n",
       "      <th>2</th>\n",
       "      <td>Денис Деркач, старший научный сотрудник лабора...</td>\n",
       "      <td>8</td>\n",
       "    </tr>\n",
       "    <tr>\n",
       "      <th>3</th>\n",
       "      <td>НИУ ВШЭ и 1С подписали соглашение о расширении...</td>\n",
       "      <td>18</td>\n",
       "    </tr>\n",
       "    <tr>\n",
       "      <th>4</th>\n",
       "      <td>Приемная кампания начинается уже сегодня 🥳\\n\\n...</td>\n",
       "      <td>6</td>\n",
       "    </tr>\n",
       "    <tr>\n",
       "      <th>...</th>\n",
       "      <td>...</td>\n",
       "      <td>...</td>\n",
       "    </tr>\n",
       "    <tr>\n",
       "      <th>95</th>\n",
       "      <td>И мы возвращаемся к вам с кроссвордами 🙂 \\n \\n...</td>\n",
       "      <td>5</td>\n",
       "    </tr>\n",
       "    <tr>\n",
       "      <th>96</th>\n",
       "      <td>Ботать высшую математику по учебникам может бы...</td>\n",
       "      <td>8</td>\n",
       "    </tr>\n",
       "    <tr>\n",
       "      <th>97</th>\n",
       "      <td>Факультет компьютерных наук ВШЭ приглашает все...</td>\n",
       "      <td>26</td>\n",
       "    </tr>\n",
       "    <tr>\n",
       "      <th>98</th>\n",
       "      <td>Уже завтра состоится ИТ-лекторий на тему \"Обзо...</td>\n",
       "      <td>7</td>\n",
       "    </tr>\n",
       "    <tr>\n",
       "      <th>99</th>\n",
       "      <td>Этой весной мы проводили не только очные встре...</td>\n",
       "      <td>15</td>\n",
       "    </tr>\n",
       "  </tbody>\n",
       "</table>\n",
       "<p>100 rows × 2 columns</p>\n",
       "</div>"
      ],
      "text/plain": [
       "                                                 text  likes\n",
       "0   В июне делегация Клуба предпринимателей ФКН и ...      5\n",
       "1   Всем, кто поступает в магистратуру! Сегодня ст...      3\n",
       "2   Денис Деркач, старший научный сотрудник лабора...      8\n",
       "3   НИУ ВШЭ и 1С подписали соглашение о расширении...     18\n",
       "4   Приемная кампания начинается уже сегодня 🥳\\n\\n...      6\n",
       "..                                                ...    ...\n",
       "95  И мы возвращаемся к вам с кроссвордами 🙂 \\n \\n...      5\n",
       "96  Ботать высшую математику по учебникам может бы...      8\n",
       "97  Факультет компьютерных наук ВШЭ приглашает все...     26\n",
       "98  Уже завтра состоится ИТ-лекторий на тему \"Обзо...      7\n",
       "99  Этой весной мы проводили не только очные встре...     15\n",
       "\n",
       "[100 rows x 2 columns]"
      ]
     },
     "execution_count": 82,
     "metadata": {},
     "output_type": "execute_result"
    }
   ],
   "source": [
    "data"
   ]
  },
  {
   "cell_type": "code",
   "execution_count": null,
   "metadata": {},
   "outputs": [],
   "source": []
  },
  {
   "cell_type": "markdown",
   "metadata": {},
   "source": [
    "# Хитрости: \n",
    "\n",
    "### Хитрость 1:  Не стесняйтесь пользоваться `try-except`\n",
    "\n",
    "Эта конструкция позволяет питону в случае ошибки сделать что-нибудь другое либо проигнорировать её. Например, мы хотим найти логарифм от всех чисел из списка: "
   ]
  },
  {
   "cell_type": "code",
   "execution_count": 133,
   "metadata": {},
   "outputs": [
    {
     "name": "stdout",
     "output_type": "stream",
     "text": [
      "0.0\n",
      "0.6931471805599453\n",
      "1.0986122886681098\n"
     ]
    },
    {
     "ename": "ValueError",
     "evalue": "math domain error",
     "output_type": "error",
     "traceback": [
      "\u001b[1;31m---------------------------------------------------------------------------\u001b[0m",
      "\u001b[1;31mValueError\u001b[0m                                Traceback (most recent call last)",
      "\u001b[1;32m~\\AppData\\Local\\Temp/ipykernel_41104/3254436914.py\u001b[0m in \u001b[0;36m<module>\u001b[1;34m\u001b[0m\n\u001b[0;32m      4\u001b[0m \u001b[1;33m\u001b[0m\u001b[0m\n\u001b[0;32m      5\u001b[0m \u001b[1;32mfor\u001b[0m \u001b[0mitem\u001b[0m \u001b[1;32min\u001b[0m \u001b[0ma\u001b[0m\u001b[1;33m:\u001b[0m\u001b[1;33m\u001b[0m\u001b[1;33m\u001b[0m\u001b[0m\n\u001b[1;32m----> 6\u001b[1;33m     \u001b[0mprint\u001b[0m\u001b[1;33m(\u001b[0m\u001b[0mlog\u001b[0m\u001b[1;33m(\u001b[0m\u001b[0mitem\u001b[0m\u001b[1;33m)\u001b[0m\u001b[1;33m)\u001b[0m\u001b[1;33m\u001b[0m\u001b[1;33m\u001b[0m\u001b[0m\n\u001b[0m",
      "\u001b[1;31mValueError\u001b[0m: math domain error"
     ]
    }
   ],
   "source": [
    "from math import log \n",
    "\n",
    "a = [1,2,3,-1,-5,10,3]\n",
    "\n",
    "for item in a:\n",
    "    print(log(item))"
   ]
  },
  {
   "cell_type": "markdown",
   "metadata": {},
   "source": [
    "У нас не выходит, так как логарифм от отрицательных чисел не берётся. Чтобы код не падал при возникновении ошибки, мы можем его немного изменить: "
   ]
  },
  {
   "cell_type": "code",
   "execution_count": 134,
   "metadata": {},
   "outputs": [
    {
     "name": "stdout",
     "output_type": "stream",
     "text": [
      "0.0\n",
      "0.6931471805599453\n",
      "1.0986122886681098\n",
      "я не смог\n",
      "я не смог\n",
      "2.302585092994046\n",
      "1.0986122886681098\n"
     ]
    }
   ],
   "source": [
    "from math import log \n",
    "\n",
    "a = [1,2,3,-1,-5,10,3]\n",
    "\n",
    "for item in a:\n",
    "    try:\n",
    "        print(log(item))  # попробуй взять логарифм\n",
    "    except:\n",
    "        print('я не смог') # если не вышло, сознайся и работай дальше"
   ]
  },
  {
   "cell_type": "markdown",
   "metadata": {},
   "source": [
    "__Как это использовать при парсинге?__  Интернет создаёт человек. У многих людей руки очень кривые. Предположим, что мы на ночь поставили парсер скачивать цены, он отработал час и упал из-за того, что на како-нибудь одной странице были криво проставлены теги, либо вылезло какое-то редкое поле, либо вылезли какие-то артефакты от старой версии сайта, которые не были учтены в нашем парсере. Гораздо лучше, чтобы код проигнорировал эту ошибку и продолжил работать дальше. "
   ]
  },
  {
   "cell_type": "markdown",
   "metadata": {},
   "source": [
    "### Хитрость 2:  pd.read_html\n",
    "\n",
    "Если на странице, которую вы спарсили, среди тэгов `<tr>` и `<td>` прячется таблица, чаще всего можно забрать её себе без написания цикла, который будет перебирать все стобцы и строки. Поможет в этом `pd.read_html`. Например, вот так можно забрать себе [табличку с сайта ЦБ](https://cbr.ru/currency_base/daily/) "
   ]
  },
  {
   "cell_type": "code",
   "execution_count": 136,
   "metadata": {},
   "outputs": [
    {
     "data": {
      "text/html": [
       "<div>\n",
       "<style scoped>\n",
       "    .dataframe tbody tr th:only-of-type {\n",
       "        vertical-align: middle;\n",
       "    }\n",
       "\n",
       "    .dataframe tbody tr th {\n",
       "        vertical-align: top;\n",
       "    }\n",
       "\n",
       "    .dataframe thead th {\n",
       "        text-align: right;\n",
       "    }\n",
       "</style>\n",
       "<table border=\"1\" class=\"dataframe\">\n",
       "  <thead>\n",
       "    <tr style=\"text-align: right;\">\n",
       "      <th></th>\n",
       "      <th>Цифр. код</th>\n",
       "      <th>Букв. код</th>\n",
       "      <th>Единиц</th>\n",
       "      <th>Валюта</th>\n",
       "      <th>Курс</th>\n",
       "    </tr>\n",
       "  </thead>\n",
       "  <tbody>\n",
       "    <tr>\n",
       "      <th>0</th>\n",
       "      <td>36</td>\n",
       "      <td>AUD</td>\n",
       "      <td>1</td>\n",
       "      <td>Австралийский доллар</td>\n",
       "      <td>437485</td>\n",
       "    </tr>\n",
       "    <tr>\n",
       "      <th>1</th>\n",
       "      <td>944</td>\n",
       "      <td>AZN</td>\n",
       "      <td>1</td>\n",
       "      <td>Азербайджанский манат</td>\n",
       "      <td>358568</td>\n",
       "    </tr>\n",
       "    <tr>\n",
       "      <th>2</th>\n",
       "      <td>51</td>\n",
       "      <td>AMD</td>\n",
       "      <td>100</td>\n",
       "      <td>Армянских драмов</td>\n",
       "      <td>140495</td>\n",
       "    </tr>\n",
       "    <tr>\n",
       "      <th>3</th>\n",
       "      <td>933</td>\n",
       "      <td>BYN</td>\n",
       "      <td>1</td>\n",
       "      <td>Белорусский рубль</td>\n",
       "      <td>234088</td>\n",
       "    </tr>\n",
       "    <tr>\n",
       "      <th>4</th>\n",
       "      <td>975</td>\n",
       "      <td>BGN</td>\n",
       "      <td>1</td>\n",
       "      <td>Болгарский лев</td>\n",
       "      <td>334283</td>\n",
       "    </tr>\n",
       "  </tbody>\n",
       "</table>\n",
       "</div>"
      ],
      "text/plain": [
       "   Цифр. код Букв. код  Единиц                 Валюта    Курс\n",
       "0         36       AUD       1   Австралийский доллар  437485\n",
       "1        944       AZN       1  Азербайджанский манат  358568\n",
       "2         51       AMD     100       Армянских драмов  140495\n",
       "3        933       BYN       1      Белорусский рубль  234088\n",
       "4        975       BGN       1         Болгарский лев  334283"
      ]
     },
     "execution_count": 136,
     "metadata": {},
     "output_type": "execute_result"
    }
   ],
   "source": [
    "import pandas as pd\n",
    "\n",
    "df = pd.read_html('https://cbr.ru/currency_base/daily/')[0]\n",
    "df.head()"
   ]
  },
  {
   "cell_type": "markdown",
   "metadata": {},
   "source": [
    "Команда пытается собрать в массив все таблички c веб-страницы. Если хочется, можно сначала через bs4 найти нужную таблицу, а потом уже распарсить её: "
   ]
  },
  {
   "cell_type": "code",
   "execution_count": 138,
   "metadata": {},
   "outputs": [
    {
     "data": {
      "text/html": [
       "<div>\n",
       "<style scoped>\n",
       "    .dataframe tbody tr th:only-of-type {\n",
       "        vertical-align: middle;\n",
       "    }\n",
       "\n",
       "    .dataframe tbody tr th {\n",
       "        vertical-align: top;\n",
       "    }\n",
       "\n",
       "    .dataframe thead th {\n",
       "        text-align: right;\n",
       "    }\n",
       "</style>\n",
       "<table border=\"1\" class=\"dataframe\">\n",
       "  <thead>\n",
       "    <tr style=\"text-align: right;\">\n",
       "      <th></th>\n",
       "      <th>Цифр. код</th>\n",
       "      <th>Букв. код</th>\n",
       "      <th>Единиц</th>\n",
       "      <th>Валюта</th>\n",
       "      <th>Курс</th>\n",
       "    </tr>\n",
       "  </thead>\n",
       "  <tbody>\n",
       "    <tr>\n",
       "      <th>0</th>\n",
       "      <td>36</td>\n",
       "      <td>AUD</td>\n",
       "      <td>1</td>\n",
       "      <td>Австралийский доллар</td>\n",
       "      <td>437485</td>\n",
       "    </tr>\n",
       "    <tr>\n",
       "      <th>1</th>\n",
       "      <td>944</td>\n",
       "      <td>AZN</td>\n",
       "      <td>1</td>\n",
       "      <td>Азербайджанский манат</td>\n",
       "      <td>358568</td>\n",
       "    </tr>\n",
       "    <tr>\n",
       "      <th>2</th>\n",
       "      <td>51</td>\n",
       "      <td>AMD</td>\n",
       "      <td>100</td>\n",
       "      <td>Армянских драмов</td>\n",
       "      <td>140495</td>\n",
       "    </tr>\n",
       "    <tr>\n",
       "      <th>3</th>\n",
       "      <td>933</td>\n",
       "      <td>BYN</td>\n",
       "      <td>1</td>\n",
       "      <td>Белорусский рубль</td>\n",
       "      <td>234088</td>\n",
       "    </tr>\n",
       "    <tr>\n",
       "      <th>4</th>\n",
       "      <td>975</td>\n",
       "      <td>BGN</td>\n",
       "      <td>1</td>\n",
       "      <td>Болгарский лев</td>\n",
       "      <td>334283</td>\n",
       "    </tr>\n",
       "  </tbody>\n",
       "</table>\n",
       "</div>"
      ],
      "text/plain": [
       "   Цифр. код Букв. код  Единиц                 Валюта    Курс\n",
       "0         36       AUD       1   Австралийский доллар  437485\n",
       "1        944       AZN       1  Азербайджанский манат  358568\n",
       "2         51       AMD     100       Армянских драмов  140495\n",
       "3        933       BYN       1      Белорусский рубль  234088\n",
       "4        975       BGN       1         Болгарский лев  334283"
      ]
     },
     "execution_count": 138,
     "metadata": {},
     "output_type": "execute_result"
    }
   ],
   "source": [
    "resp = requests.get('https://cbr.ru/currency_base/daily/')\n",
    "tree = BeautifulSoup(resp.content, 'html.parser')\n",
    "\n",
    "# нашли табличку\n",
    "table = tree.find_all('table', {'class' : 'data'})[0]\n",
    "\n",
    "# распарсили её\n",
    "df = pd.read_html(str(table))[0]\n",
    "df.head()"
   ]
  },
  {
   "cell_type": "markdown",
   "metadata": {},
   "source": [
    "### Хитрость 3:  используйте пакет tqdm\n",
    "\n",
    "> Код уже работает час. Я вообще без понятия когда он закончит работу. Было бы круто узнать, сколько ещё ждать... \n",
    "\n",
    "Если в вашей голове возникла такая мысль, пакет `tqdm` ваш лучший друг. Установите его: ```pip install tqdm```"
   ]
  },
  {
   "cell_type": "code",
   "execution_count": 139,
   "metadata": {},
   "outputs": [
    {
     "name": "stderr",
     "output_type": "stream",
     "text": [
      "C:\\Users\\meale\\AppData\\Local\\Temp/ipykernel_41104/2779082389.py:6: TqdmDeprecationWarning: This function will be removed in tqdm==5.0.0\n",
      "Please use `tqdm.notebook.tqdm` instead of `tqdm.tqdm_notebook`\n",
      "  for i in tqdm_notebook(a):\n"
     ]
    },
    {
     "data": {
      "application/vnd.jupyter.widget-view+json": {
       "model_id": "f0b36db82abf4bc09fc34f950c12503e",
       "version_major": 2,
       "version_minor": 0
      },
      "text/plain": [
       "  0%|          | 0/30 [00:00<?, ?it/s]"
      ]
     },
     "metadata": {},
     "output_type": "display_data"
    }
   ],
   "source": [
    "from tqdm import tqdm_notebook\n",
    "\n",
    "a = list(range(30))\n",
    "\n",
    "# 30 раз будем спать по секунде\n",
    "for i in tqdm_notebook(a):\n",
    "    time.sleep(1)"
   ]
  },
  {
   "cell_type": "markdown",
   "metadata": {},
   "source": [
    "   "
   ]
  }
 ],
 "metadata": {
  "kernelspec": {
   "display_name": "Python 3",
   "language": "python",
   "name": "python3"
  },
  "language_info": {
   "codemirror_mode": {
    "name": "ipython",
    "version": 3
   },
   "file_extension": ".py",
   "mimetype": "text/x-python",
   "name": "python",
   "nbconvert_exporter": "python",
   "pygments_lexer": "ipython3",
   "version": "3.8.5"
  }
 },
 "nbformat": 4,
 "nbformat_minor": 2
}
